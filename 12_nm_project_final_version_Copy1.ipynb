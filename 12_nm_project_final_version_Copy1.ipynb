{
  "cells": [
    {
      "cell_type": "markdown",
      "id": "932ddaaf",
      "metadata": {
        "id": "932ddaaf"
      },
      "source": [
        "# Определение стоимости автомобилей\n",
        "Заказчик (сервис по продаже автомобилей с пробегом) разрабатывает приложение для привлечения новых клиентов. В нём можно быстро узнать рыночную стоимость своего автомобиля. Заказчик предоставляет исторические данные: технические характеристики, комплектации и цены автомобилей. Нужно построить модель для определения стоимости. \n",
        "\n",
        "Заказчику важны:\n",
        "\n",
        "- качество предсказания;\n",
        "- скорость предсказания;\n",
        "- время обучения.\n",
        "\n",
        "\n",
        "\n",
        "**План работы:**\n",
        "1. Предобработка и исследовательский анализ данных.\n",
        "2. Подготовка признаков для моделей.\n",
        "3. Обучение моделей.\n",
        "4. Анализ моделей и выбор наиболее подходящей под требования заказчика."
      ]
    },
    {
      "cell_type": "markdown",
      "id": "c647965c",
      "metadata": {
        "id": "c647965c"
      },
      "source": [
        "## 1 Подготовка данных"
      ]
    },
    {
      "cell_type": "markdown",
      "id": "e1dba618",
      "metadata": {
        "id": "e1dba618"
      },
      "source": [
        "### 1.1 Знакомство с данными\n",
        "Импортируем все необходимые для работы библиотеки, откроем файл с данными и изучим общую информацию о них."
      ]
    },
    {
      "cell_type": "code",
      "execution_count": 1,
      "id": "d7e239af",
      "metadata": {
        "id": "d7e239af"
      },
      "outputs": [],
      "source": [
        "# импорт библиотек\n",
        "import matplotlib.pyplot as plt\n",
        "import numpy as np\n",
        "import pandas as pd\n",
        "\n",
        "# импорт структур, модулей, функций\n",
        "from catboost import CatBoostRegressor\n",
        "from lightgbm import LGBMRegressor\n",
        "from sklearn.ensemble import RandomForestRegressor\n",
        "from sklearn.linear_model import LinearRegression\n",
        "from sklearn.metrics import mean_squared_error\n",
        "from sklearn.model_selection import train_test_split, GridSearchCV\n",
        "from sklearn.preprocessing import StandardScaler, OrdinalEncoder\n",
        "from sklearn.tree import DecisionTreeRegressor\n",
        "import category_encoders as ce\n",
        "import time\n",
        "import warnings\n",
        "warnings.filterwarnings(\"ignore\")"
      ]
    },
    {
      "cell_type": "code",
      "execution_count": 2,
      "id": "81329216",
      "metadata": {
        "id": "81329216"
      },
      "outputs": [],
      "source": [
        "# константа, фиксирующая случайность\n",
        "rs = 12345"
      ]
    },
    {
      "cell_type": "code",
      "execution_count": 3,
      "id": "4ab0193e",
      "metadata": {
        "colab": {
          "base_uri": "https://localhost:8080/",
          "height": 357
        },
        "id": "4ab0193e",
        "outputId": "4910fcb1-731f-416e-a402-b74498872d86"
      },
      "outputs": [
        {
          "output_type": "execute_result",
          "data": {
            "text/plain": [
              "           DateCrawled  Price VehicleType  RegistrationYear Gearbox  Power  \\\n",
              "0  2016-03-24 11:52:17    480         NaN              1993  manual      0   \n",
              "1  2016-03-24 10:58:45  18300       coupe              2011  manual    190   \n",
              "2  2016-03-14 12:52:21   9800         suv              2004    auto    163   \n",
              "3  2016-03-17 16:54:04   1500       small              2001  manual     75   \n",
              "4  2016-03-31 17:25:20   3600       small              2008  manual     69   \n",
              "\n",
              "   Model  Kilometer  RegistrationMonth  FuelType       Brand NotRepaired  \\\n",
              "0   golf     150000                  0    petrol  volkswagen         NaN   \n",
              "1    NaN     125000                  5  gasoline        audi         yes   \n",
              "2  grand     125000                  8  gasoline        jeep         NaN   \n",
              "3   golf     150000                  6    petrol  volkswagen          no   \n",
              "4  fabia      90000                  7  gasoline       skoda          no   \n",
              "\n",
              "           DateCreated  NumberOfPictures  PostalCode             LastSeen  \n",
              "0  2016-03-24 00:00:00                 0       70435  2016-04-07 03:16:57  \n",
              "1  2016-03-24 00:00:00                 0       66954  2016-04-07 01:46:50  \n",
              "2  2016-03-14 00:00:00                 0       90480  2016-04-05 12:47:46  \n",
              "3  2016-03-17 00:00:00                 0       91074  2016-03-17 17:40:17  \n",
              "4  2016-03-31 00:00:00                 0       60437  2016-04-06 10:17:21  "
            ],
            "text/html": [
              "\n",
              "  <div id=\"df-0eacf309-18d0-49d7-833f-0498f0383093\">\n",
              "    <div class=\"colab-df-container\">\n",
              "      <div>\n",
              "<style scoped>\n",
              "    .dataframe tbody tr th:only-of-type {\n",
              "        vertical-align: middle;\n",
              "    }\n",
              "\n",
              "    .dataframe tbody tr th {\n",
              "        vertical-align: top;\n",
              "    }\n",
              "\n",
              "    .dataframe thead th {\n",
              "        text-align: right;\n",
              "    }\n",
              "</style>\n",
              "<table border=\"1\" class=\"dataframe\">\n",
              "  <thead>\n",
              "    <tr style=\"text-align: right;\">\n",
              "      <th></th>\n",
              "      <th>DateCrawled</th>\n",
              "      <th>Price</th>\n",
              "      <th>VehicleType</th>\n",
              "      <th>RegistrationYear</th>\n",
              "      <th>Gearbox</th>\n",
              "      <th>Power</th>\n",
              "      <th>Model</th>\n",
              "      <th>Kilometer</th>\n",
              "      <th>RegistrationMonth</th>\n",
              "      <th>FuelType</th>\n",
              "      <th>Brand</th>\n",
              "      <th>NotRepaired</th>\n",
              "      <th>DateCreated</th>\n",
              "      <th>NumberOfPictures</th>\n",
              "      <th>PostalCode</th>\n",
              "      <th>LastSeen</th>\n",
              "    </tr>\n",
              "  </thead>\n",
              "  <tbody>\n",
              "    <tr>\n",
              "      <th>0</th>\n",
              "      <td>2016-03-24 11:52:17</td>\n",
              "      <td>480</td>\n",
              "      <td>NaN</td>\n",
              "      <td>1993</td>\n",
              "      <td>manual</td>\n",
              "      <td>0</td>\n",
              "      <td>golf</td>\n",
              "      <td>150000</td>\n",
              "      <td>0</td>\n",
              "      <td>petrol</td>\n",
              "      <td>volkswagen</td>\n",
              "      <td>NaN</td>\n",
              "      <td>2016-03-24 00:00:00</td>\n",
              "      <td>0</td>\n",
              "      <td>70435</td>\n",
              "      <td>2016-04-07 03:16:57</td>\n",
              "    </tr>\n",
              "    <tr>\n",
              "      <th>1</th>\n",
              "      <td>2016-03-24 10:58:45</td>\n",
              "      <td>18300</td>\n",
              "      <td>coupe</td>\n",
              "      <td>2011</td>\n",
              "      <td>manual</td>\n",
              "      <td>190</td>\n",
              "      <td>NaN</td>\n",
              "      <td>125000</td>\n",
              "      <td>5</td>\n",
              "      <td>gasoline</td>\n",
              "      <td>audi</td>\n",
              "      <td>yes</td>\n",
              "      <td>2016-03-24 00:00:00</td>\n",
              "      <td>0</td>\n",
              "      <td>66954</td>\n",
              "      <td>2016-04-07 01:46:50</td>\n",
              "    </tr>\n",
              "    <tr>\n",
              "      <th>2</th>\n",
              "      <td>2016-03-14 12:52:21</td>\n",
              "      <td>9800</td>\n",
              "      <td>suv</td>\n",
              "      <td>2004</td>\n",
              "      <td>auto</td>\n",
              "      <td>163</td>\n",
              "      <td>grand</td>\n",
              "      <td>125000</td>\n",
              "      <td>8</td>\n",
              "      <td>gasoline</td>\n",
              "      <td>jeep</td>\n",
              "      <td>NaN</td>\n",
              "      <td>2016-03-14 00:00:00</td>\n",
              "      <td>0</td>\n",
              "      <td>90480</td>\n",
              "      <td>2016-04-05 12:47:46</td>\n",
              "    </tr>\n",
              "    <tr>\n",
              "      <th>3</th>\n",
              "      <td>2016-03-17 16:54:04</td>\n",
              "      <td>1500</td>\n",
              "      <td>small</td>\n",
              "      <td>2001</td>\n",
              "      <td>manual</td>\n",
              "      <td>75</td>\n",
              "      <td>golf</td>\n",
              "      <td>150000</td>\n",
              "      <td>6</td>\n",
              "      <td>petrol</td>\n",
              "      <td>volkswagen</td>\n",
              "      <td>no</td>\n",
              "      <td>2016-03-17 00:00:00</td>\n",
              "      <td>0</td>\n",
              "      <td>91074</td>\n",
              "      <td>2016-03-17 17:40:17</td>\n",
              "    </tr>\n",
              "    <tr>\n",
              "      <th>4</th>\n",
              "      <td>2016-03-31 17:25:20</td>\n",
              "      <td>3600</td>\n",
              "      <td>small</td>\n",
              "      <td>2008</td>\n",
              "      <td>manual</td>\n",
              "      <td>69</td>\n",
              "      <td>fabia</td>\n",
              "      <td>90000</td>\n",
              "      <td>7</td>\n",
              "      <td>gasoline</td>\n",
              "      <td>skoda</td>\n",
              "      <td>no</td>\n",
              "      <td>2016-03-31 00:00:00</td>\n",
              "      <td>0</td>\n",
              "      <td>60437</td>\n",
              "      <td>2016-04-06 10:17:21</td>\n",
              "    </tr>\n",
              "  </tbody>\n",
              "</table>\n",
              "</div>\n",
              "      <button class=\"colab-df-convert\" onclick=\"convertToInteractive('df-0eacf309-18d0-49d7-833f-0498f0383093')\"\n",
              "              title=\"Convert this dataframe to an interactive table.\"\n",
              "              style=\"display:none;\">\n",
              "        \n",
              "  <svg xmlns=\"http://www.w3.org/2000/svg\" height=\"24px\"viewBox=\"0 0 24 24\"\n",
              "       width=\"24px\">\n",
              "    <path d=\"M0 0h24v24H0V0z\" fill=\"none\"/>\n",
              "    <path d=\"M18.56 5.44l.94 2.06.94-2.06 2.06-.94-2.06-.94-.94-2.06-.94 2.06-2.06.94zm-11 1L8.5 8.5l.94-2.06 2.06-.94-2.06-.94L8.5 2.5l-.94 2.06-2.06.94zm10 10l.94 2.06.94-2.06 2.06-.94-2.06-.94-.94-2.06-.94 2.06-2.06.94z\"/><path d=\"M17.41 7.96l-1.37-1.37c-.4-.4-.92-.59-1.43-.59-.52 0-1.04.2-1.43.59L10.3 9.45l-7.72 7.72c-.78.78-.78 2.05 0 2.83L4 21.41c.39.39.9.59 1.41.59.51 0 1.02-.2 1.41-.59l7.78-7.78 2.81-2.81c.8-.78.8-2.07 0-2.86zM5.41 20L4 18.59l7.72-7.72 1.47 1.35L5.41 20z\"/>\n",
              "  </svg>\n",
              "      </button>\n",
              "      \n",
              "  <style>\n",
              "    .colab-df-container {\n",
              "      display:flex;\n",
              "      flex-wrap:wrap;\n",
              "      gap: 12px;\n",
              "    }\n",
              "\n",
              "    .colab-df-convert {\n",
              "      background-color: #E8F0FE;\n",
              "      border: none;\n",
              "      border-radius: 50%;\n",
              "      cursor: pointer;\n",
              "      display: none;\n",
              "      fill: #1967D2;\n",
              "      height: 32px;\n",
              "      padding: 0 0 0 0;\n",
              "      width: 32px;\n",
              "    }\n",
              "\n",
              "    .colab-df-convert:hover {\n",
              "      background-color: #E2EBFA;\n",
              "      box-shadow: 0px 1px 2px rgba(60, 64, 67, 0.3), 0px 1px 3px 1px rgba(60, 64, 67, 0.15);\n",
              "      fill: #174EA6;\n",
              "    }\n",
              "\n",
              "    [theme=dark] .colab-df-convert {\n",
              "      background-color: #3B4455;\n",
              "      fill: #D2E3FC;\n",
              "    }\n",
              "\n",
              "    [theme=dark] .colab-df-convert:hover {\n",
              "      background-color: #434B5C;\n",
              "      box-shadow: 0px 1px 3px 1px rgba(0, 0, 0, 0.15);\n",
              "      filter: drop-shadow(0px 1px 2px rgba(0, 0, 0, 0.3));\n",
              "      fill: #FFFFFF;\n",
              "    }\n",
              "  </style>\n",
              "\n",
              "      <script>\n",
              "        const buttonEl =\n",
              "          document.querySelector('#df-0eacf309-18d0-49d7-833f-0498f0383093 button.colab-df-convert');\n",
              "        buttonEl.style.display =\n",
              "          google.colab.kernel.accessAllowed ? 'block' : 'none';\n",
              "\n",
              "        async function convertToInteractive(key) {\n",
              "          const element = document.querySelector('#df-0eacf309-18d0-49d7-833f-0498f0383093');\n",
              "          const dataTable =\n",
              "            await google.colab.kernel.invokeFunction('convertToInteractive',\n",
              "                                                     [key], {});\n",
              "          if (!dataTable) return;\n",
              "\n",
              "          const docLinkHtml = 'Like what you see? Visit the ' +\n",
              "            '<a target=\"_blank\" href=https://colab.research.google.com/notebooks/data_table.ipynb>data table notebook</a>'\n",
              "            + ' to learn more about interactive tables.';\n",
              "          element.innerHTML = '';\n",
              "          dataTable['output_type'] = 'display_data';\n",
              "          await google.colab.output.renderOutput(dataTable, element);\n",
              "          const docLink = document.createElement('div');\n",
              "          docLink.innerHTML = docLinkHtml;\n",
              "          element.appendChild(docLink);\n",
              "        }\n",
              "      </script>\n",
              "    </div>\n",
              "  </div>\n",
              "  "
            ]
          },
          "metadata": {},
          "execution_count": 3
        }
      ],
      "source": [
        "# чтение файла с данными и сохранение в таблицу df\n",
        "df = pd.read_csv('/content/drive/MyDrive/Colab Notebooks/datasets/autos.csv')\n",
        "    \n",
        "# просмотр первых пяти строк полученной таблицы\n",
        "df.head()"
      ]
    },
    {
      "cell_type": "code",
      "execution_count": 4,
      "id": "202f945d",
      "metadata": {
        "colab": {
          "base_uri": "https://localhost:8080/"
        },
        "id": "202f945d",
        "outputId": "2f03f4d7-53dd-41c6-b002-57a3fc42fc02"
      },
      "outputs": [
        {
          "output_type": "stream",
          "name": "stdout",
          "text": [
            "<class 'pandas.core.frame.DataFrame'>\n",
            "RangeIndex: 354369 entries, 0 to 354368\n",
            "Data columns (total 16 columns):\n",
            " #   Column             Non-Null Count   Dtype \n",
            "---  ------             --------------   ----- \n",
            " 0   DateCrawled        354369 non-null  object\n",
            " 1   Price              354369 non-null  int64 \n",
            " 2   VehicleType        316879 non-null  object\n",
            " 3   RegistrationYear   354369 non-null  int64 \n",
            " 4   Gearbox            334536 non-null  object\n",
            " 5   Power              354369 non-null  int64 \n",
            " 6   Model              334664 non-null  object\n",
            " 7   Kilometer          354369 non-null  int64 \n",
            " 8   RegistrationMonth  354369 non-null  int64 \n",
            " 9   FuelType           321474 non-null  object\n",
            " 10  Brand              354369 non-null  object\n",
            " 11  NotRepaired        283215 non-null  object\n",
            " 12  DateCreated        354369 non-null  object\n",
            " 13  NumberOfPictures   354369 non-null  int64 \n",
            " 14  PostalCode         354369 non-null  int64 \n",
            " 15  LastSeen           354369 non-null  object\n",
            "dtypes: int64(7), object(9)\n",
            "memory usage: 43.3+ MB\n"
          ]
        }
      ],
      "source": [
        "# получение общей информации о данных\n",
        "df.info()"
      ]
    },
    {
      "cell_type": "code",
      "execution_count": 5,
      "id": "96be3e64",
      "metadata": {
        "colab": {
          "base_uri": "https://localhost:8080/",
          "height": 300
        },
        "id": "96be3e64",
        "outputId": "4c338e8b-7cf3-4a1d-b7e8-47b08dd7b17a",
        "scrolled": true
      },
      "outputs": [
        {
          "output_type": "execute_result",
          "data": {
            "text/plain": [
              "               Price  RegistrationYear          Power      Kilometer  \\\n",
              "count  354369.000000     354369.000000  354369.000000  354369.000000   \n",
              "mean     4416.656776       2004.234448     110.094337  128211.172535   \n",
              "std      4514.158514         90.227958     189.850405   37905.341530   \n",
              "min         0.000000       1000.000000       0.000000    5000.000000   \n",
              "25%      1050.000000       1999.000000      69.000000  125000.000000   \n",
              "50%      2700.000000       2003.000000     105.000000  150000.000000   \n",
              "75%      6400.000000       2008.000000     143.000000  150000.000000   \n",
              "max     20000.000000       9999.000000   20000.000000  150000.000000   \n",
              "\n",
              "       RegistrationMonth  NumberOfPictures     PostalCode  \n",
              "count      354369.000000          354369.0  354369.000000  \n",
              "mean            5.714645               0.0   50508.689087  \n",
              "std             3.726421               0.0   25783.096248  \n",
              "min             0.000000               0.0    1067.000000  \n",
              "25%             3.000000               0.0   30165.000000  \n",
              "50%             6.000000               0.0   49413.000000  \n",
              "75%             9.000000               0.0   71083.000000  \n",
              "max            12.000000               0.0   99998.000000  "
            ],
            "text/html": [
              "\n",
              "  <div id=\"df-108d7590-a924-430c-b812-e79375fd6f70\">\n",
              "    <div class=\"colab-df-container\">\n",
              "      <div>\n",
              "<style scoped>\n",
              "    .dataframe tbody tr th:only-of-type {\n",
              "        vertical-align: middle;\n",
              "    }\n",
              "\n",
              "    .dataframe tbody tr th {\n",
              "        vertical-align: top;\n",
              "    }\n",
              "\n",
              "    .dataframe thead th {\n",
              "        text-align: right;\n",
              "    }\n",
              "</style>\n",
              "<table border=\"1\" class=\"dataframe\">\n",
              "  <thead>\n",
              "    <tr style=\"text-align: right;\">\n",
              "      <th></th>\n",
              "      <th>Price</th>\n",
              "      <th>RegistrationYear</th>\n",
              "      <th>Power</th>\n",
              "      <th>Kilometer</th>\n",
              "      <th>RegistrationMonth</th>\n",
              "      <th>NumberOfPictures</th>\n",
              "      <th>PostalCode</th>\n",
              "    </tr>\n",
              "  </thead>\n",
              "  <tbody>\n",
              "    <tr>\n",
              "      <th>count</th>\n",
              "      <td>354369.000000</td>\n",
              "      <td>354369.000000</td>\n",
              "      <td>354369.000000</td>\n",
              "      <td>354369.000000</td>\n",
              "      <td>354369.000000</td>\n",
              "      <td>354369.0</td>\n",
              "      <td>354369.000000</td>\n",
              "    </tr>\n",
              "    <tr>\n",
              "      <th>mean</th>\n",
              "      <td>4416.656776</td>\n",
              "      <td>2004.234448</td>\n",
              "      <td>110.094337</td>\n",
              "      <td>128211.172535</td>\n",
              "      <td>5.714645</td>\n",
              "      <td>0.0</td>\n",
              "      <td>50508.689087</td>\n",
              "    </tr>\n",
              "    <tr>\n",
              "      <th>std</th>\n",
              "      <td>4514.158514</td>\n",
              "      <td>90.227958</td>\n",
              "      <td>189.850405</td>\n",
              "      <td>37905.341530</td>\n",
              "      <td>3.726421</td>\n",
              "      <td>0.0</td>\n",
              "      <td>25783.096248</td>\n",
              "    </tr>\n",
              "    <tr>\n",
              "      <th>min</th>\n",
              "      <td>0.000000</td>\n",
              "      <td>1000.000000</td>\n",
              "      <td>0.000000</td>\n",
              "      <td>5000.000000</td>\n",
              "      <td>0.000000</td>\n",
              "      <td>0.0</td>\n",
              "      <td>1067.000000</td>\n",
              "    </tr>\n",
              "    <tr>\n",
              "      <th>25%</th>\n",
              "      <td>1050.000000</td>\n",
              "      <td>1999.000000</td>\n",
              "      <td>69.000000</td>\n",
              "      <td>125000.000000</td>\n",
              "      <td>3.000000</td>\n",
              "      <td>0.0</td>\n",
              "      <td>30165.000000</td>\n",
              "    </tr>\n",
              "    <tr>\n",
              "      <th>50%</th>\n",
              "      <td>2700.000000</td>\n",
              "      <td>2003.000000</td>\n",
              "      <td>105.000000</td>\n",
              "      <td>150000.000000</td>\n",
              "      <td>6.000000</td>\n",
              "      <td>0.0</td>\n",
              "      <td>49413.000000</td>\n",
              "    </tr>\n",
              "    <tr>\n",
              "      <th>75%</th>\n",
              "      <td>6400.000000</td>\n",
              "      <td>2008.000000</td>\n",
              "      <td>143.000000</td>\n",
              "      <td>150000.000000</td>\n",
              "      <td>9.000000</td>\n",
              "      <td>0.0</td>\n",
              "      <td>71083.000000</td>\n",
              "    </tr>\n",
              "    <tr>\n",
              "      <th>max</th>\n",
              "      <td>20000.000000</td>\n",
              "      <td>9999.000000</td>\n",
              "      <td>20000.000000</td>\n",
              "      <td>150000.000000</td>\n",
              "      <td>12.000000</td>\n",
              "      <td>0.0</td>\n",
              "      <td>99998.000000</td>\n",
              "    </tr>\n",
              "  </tbody>\n",
              "</table>\n",
              "</div>\n",
              "      <button class=\"colab-df-convert\" onclick=\"convertToInteractive('df-108d7590-a924-430c-b812-e79375fd6f70')\"\n",
              "              title=\"Convert this dataframe to an interactive table.\"\n",
              "              style=\"display:none;\">\n",
              "        \n",
              "  <svg xmlns=\"http://www.w3.org/2000/svg\" height=\"24px\"viewBox=\"0 0 24 24\"\n",
              "       width=\"24px\">\n",
              "    <path d=\"M0 0h24v24H0V0z\" fill=\"none\"/>\n",
              "    <path d=\"M18.56 5.44l.94 2.06.94-2.06 2.06-.94-2.06-.94-.94-2.06-.94 2.06-2.06.94zm-11 1L8.5 8.5l.94-2.06 2.06-.94-2.06-.94L8.5 2.5l-.94 2.06-2.06.94zm10 10l.94 2.06.94-2.06 2.06-.94-2.06-.94-.94-2.06-.94 2.06-2.06.94z\"/><path d=\"M17.41 7.96l-1.37-1.37c-.4-.4-.92-.59-1.43-.59-.52 0-1.04.2-1.43.59L10.3 9.45l-7.72 7.72c-.78.78-.78 2.05 0 2.83L4 21.41c.39.39.9.59 1.41.59.51 0 1.02-.2 1.41-.59l7.78-7.78 2.81-2.81c.8-.78.8-2.07 0-2.86zM5.41 20L4 18.59l7.72-7.72 1.47 1.35L5.41 20z\"/>\n",
              "  </svg>\n",
              "      </button>\n",
              "      \n",
              "  <style>\n",
              "    .colab-df-container {\n",
              "      display:flex;\n",
              "      flex-wrap:wrap;\n",
              "      gap: 12px;\n",
              "    }\n",
              "\n",
              "    .colab-df-convert {\n",
              "      background-color: #E8F0FE;\n",
              "      border: none;\n",
              "      border-radius: 50%;\n",
              "      cursor: pointer;\n",
              "      display: none;\n",
              "      fill: #1967D2;\n",
              "      height: 32px;\n",
              "      padding: 0 0 0 0;\n",
              "      width: 32px;\n",
              "    }\n",
              "\n",
              "    .colab-df-convert:hover {\n",
              "      background-color: #E2EBFA;\n",
              "      box-shadow: 0px 1px 2px rgba(60, 64, 67, 0.3), 0px 1px 3px 1px rgba(60, 64, 67, 0.15);\n",
              "      fill: #174EA6;\n",
              "    }\n",
              "\n",
              "    [theme=dark] .colab-df-convert {\n",
              "      background-color: #3B4455;\n",
              "      fill: #D2E3FC;\n",
              "    }\n",
              "\n",
              "    [theme=dark] .colab-df-convert:hover {\n",
              "      background-color: #434B5C;\n",
              "      box-shadow: 0px 1px 3px 1px rgba(0, 0, 0, 0.15);\n",
              "      filter: drop-shadow(0px 1px 2px rgba(0, 0, 0, 0.3));\n",
              "      fill: #FFFFFF;\n",
              "    }\n",
              "  </style>\n",
              "\n",
              "      <script>\n",
              "        const buttonEl =\n",
              "          document.querySelector('#df-108d7590-a924-430c-b812-e79375fd6f70 button.colab-df-convert');\n",
              "        buttonEl.style.display =\n",
              "          google.colab.kernel.accessAllowed ? 'block' : 'none';\n",
              "\n",
              "        async function convertToInteractive(key) {\n",
              "          const element = document.querySelector('#df-108d7590-a924-430c-b812-e79375fd6f70');\n",
              "          const dataTable =\n",
              "            await google.colab.kernel.invokeFunction('convertToInteractive',\n",
              "                                                     [key], {});\n",
              "          if (!dataTable) return;\n",
              "\n",
              "          const docLinkHtml = 'Like what you see? Visit the ' +\n",
              "            '<a target=\"_blank\" href=https://colab.research.google.com/notebooks/data_table.ipynb>data table notebook</a>'\n",
              "            + ' to learn more about interactive tables.';\n",
              "          element.innerHTML = '';\n",
              "          dataTable['output_type'] = 'display_data';\n",
              "          await google.colab.output.renderOutput(dataTable, element);\n",
              "          const docLink = document.createElement('div');\n",
              "          docLink.innerHTML = docLinkHtml;\n",
              "          element.appendChild(docLink);\n",
              "        }\n",
              "      </script>\n",
              "    </div>\n",
              "  </div>\n",
              "  "
            ]
          },
          "metadata": {},
          "execution_count": 5
        }
      ],
      "source": [
        "# получение характерных значений количественных признаков\n",
        "df.describe()"
      ]
    },
    {
      "cell_type": "code",
      "execution_count": 6,
      "id": "e6a52770",
      "metadata": {
        "colab": {
          "base_uri": "https://localhost:8080/",
          "height": 175
        },
        "id": "e6a52770",
        "outputId": "6f43fb01-4078-4aef-ef39-0a0656e9ff1a",
        "scrolled": false
      },
      "outputs": [
        {
          "output_type": "execute_result",
          "data": {
            "text/plain": [
              "                DateCrawled VehicleType Gearbox   Model FuelType       Brand  \\\n",
              "count                354369      316879  334536  334664   321474      354369   \n",
              "unique               271174           8       2     250        7          40   \n",
              "top     2016-03-24 14:49:47       sedan  manual    golf   petrol  volkswagen   \n",
              "freq                      7       91457  268251   29232   216352       77013   \n",
              "\n",
              "       NotRepaired          DateCreated             LastSeen  \n",
              "count       283215               354369               354369  \n",
              "unique           2                  109               179150  \n",
              "top             no  2016-04-03 00:00:00  2016-04-06 13:45:54  \n",
              "freq        247161                13719                   17  "
            ],
            "text/html": [
              "\n",
              "  <div id=\"df-e9077f82-e5cf-42a0-84fc-95d17146eacd\">\n",
              "    <div class=\"colab-df-container\">\n",
              "      <div>\n",
              "<style scoped>\n",
              "    .dataframe tbody tr th:only-of-type {\n",
              "        vertical-align: middle;\n",
              "    }\n",
              "\n",
              "    .dataframe tbody tr th {\n",
              "        vertical-align: top;\n",
              "    }\n",
              "\n",
              "    .dataframe thead th {\n",
              "        text-align: right;\n",
              "    }\n",
              "</style>\n",
              "<table border=\"1\" class=\"dataframe\">\n",
              "  <thead>\n",
              "    <tr style=\"text-align: right;\">\n",
              "      <th></th>\n",
              "      <th>DateCrawled</th>\n",
              "      <th>VehicleType</th>\n",
              "      <th>Gearbox</th>\n",
              "      <th>Model</th>\n",
              "      <th>FuelType</th>\n",
              "      <th>Brand</th>\n",
              "      <th>NotRepaired</th>\n",
              "      <th>DateCreated</th>\n",
              "      <th>LastSeen</th>\n",
              "    </tr>\n",
              "  </thead>\n",
              "  <tbody>\n",
              "    <tr>\n",
              "      <th>count</th>\n",
              "      <td>354369</td>\n",
              "      <td>316879</td>\n",
              "      <td>334536</td>\n",
              "      <td>334664</td>\n",
              "      <td>321474</td>\n",
              "      <td>354369</td>\n",
              "      <td>283215</td>\n",
              "      <td>354369</td>\n",
              "      <td>354369</td>\n",
              "    </tr>\n",
              "    <tr>\n",
              "      <th>unique</th>\n",
              "      <td>271174</td>\n",
              "      <td>8</td>\n",
              "      <td>2</td>\n",
              "      <td>250</td>\n",
              "      <td>7</td>\n",
              "      <td>40</td>\n",
              "      <td>2</td>\n",
              "      <td>109</td>\n",
              "      <td>179150</td>\n",
              "    </tr>\n",
              "    <tr>\n",
              "      <th>top</th>\n",
              "      <td>2016-03-24 14:49:47</td>\n",
              "      <td>sedan</td>\n",
              "      <td>manual</td>\n",
              "      <td>golf</td>\n",
              "      <td>petrol</td>\n",
              "      <td>volkswagen</td>\n",
              "      <td>no</td>\n",
              "      <td>2016-04-03 00:00:00</td>\n",
              "      <td>2016-04-06 13:45:54</td>\n",
              "    </tr>\n",
              "    <tr>\n",
              "      <th>freq</th>\n",
              "      <td>7</td>\n",
              "      <td>91457</td>\n",
              "      <td>268251</td>\n",
              "      <td>29232</td>\n",
              "      <td>216352</td>\n",
              "      <td>77013</td>\n",
              "      <td>247161</td>\n",
              "      <td>13719</td>\n",
              "      <td>17</td>\n",
              "    </tr>\n",
              "  </tbody>\n",
              "</table>\n",
              "</div>\n",
              "      <button class=\"colab-df-convert\" onclick=\"convertToInteractive('df-e9077f82-e5cf-42a0-84fc-95d17146eacd')\"\n",
              "              title=\"Convert this dataframe to an interactive table.\"\n",
              "              style=\"display:none;\">\n",
              "        \n",
              "  <svg xmlns=\"http://www.w3.org/2000/svg\" height=\"24px\"viewBox=\"0 0 24 24\"\n",
              "       width=\"24px\">\n",
              "    <path d=\"M0 0h24v24H0V0z\" fill=\"none\"/>\n",
              "    <path d=\"M18.56 5.44l.94 2.06.94-2.06 2.06-.94-2.06-.94-.94-2.06-.94 2.06-2.06.94zm-11 1L8.5 8.5l.94-2.06 2.06-.94-2.06-.94L8.5 2.5l-.94 2.06-2.06.94zm10 10l.94 2.06.94-2.06 2.06-.94-2.06-.94-.94-2.06-.94 2.06-2.06.94z\"/><path d=\"M17.41 7.96l-1.37-1.37c-.4-.4-.92-.59-1.43-.59-.52 0-1.04.2-1.43.59L10.3 9.45l-7.72 7.72c-.78.78-.78 2.05 0 2.83L4 21.41c.39.39.9.59 1.41.59.51 0 1.02-.2 1.41-.59l7.78-7.78 2.81-2.81c.8-.78.8-2.07 0-2.86zM5.41 20L4 18.59l7.72-7.72 1.47 1.35L5.41 20z\"/>\n",
              "  </svg>\n",
              "      </button>\n",
              "      \n",
              "  <style>\n",
              "    .colab-df-container {\n",
              "      display:flex;\n",
              "      flex-wrap:wrap;\n",
              "      gap: 12px;\n",
              "    }\n",
              "\n",
              "    .colab-df-convert {\n",
              "      background-color: #E8F0FE;\n",
              "      border: none;\n",
              "      border-radius: 50%;\n",
              "      cursor: pointer;\n",
              "      display: none;\n",
              "      fill: #1967D2;\n",
              "      height: 32px;\n",
              "      padding: 0 0 0 0;\n",
              "      width: 32px;\n",
              "    }\n",
              "\n",
              "    .colab-df-convert:hover {\n",
              "      background-color: #E2EBFA;\n",
              "      box-shadow: 0px 1px 2px rgba(60, 64, 67, 0.3), 0px 1px 3px 1px rgba(60, 64, 67, 0.15);\n",
              "      fill: #174EA6;\n",
              "    }\n",
              "\n",
              "    [theme=dark] .colab-df-convert {\n",
              "      background-color: #3B4455;\n",
              "      fill: #D2E3FC;\n",
              "    }\n",
              "\n",
              "    [theme=dark] .colab-df-convert:hover {\n",
              "      background-color: #434B5C;\n",
              "      box-shadow: 0px 1px 3px 1px rgba(0, 0, 0, 0.15);\n",
              "      filter: drop-shadow(0px 1px 2px rgba(0, 0, 0, 0.3));\n",
              "      fill: #FFFFFF;\n",
              "    }\n",
              "  </style>\n",
              "\n",
              "      <script>\n",
              "        const buttonEl =\n",
              "          document.querySelector('#df-e9077f82-e5cf-42a0-84fc-95d17146eacd button.colab-df-convert');\n",
              "        buttonEl.style.display =\n",
              "          google.colab.kernel.accessAllowed ? 'block' : 'none';\n",
              "\n",
              "        async function convertToInteractive(key) {\n",
              "          const element = document.querySelector('#df-e9077f82-e5cf-42a0-84fc-95d17146eacd');\n",
              "          const dataTable =\n",
              "            await google.colab.kernel.invokeFunction('convertToInteractive',\n",
              "                                                     [key], {});\n",
              "          if (!dataTable) return;\n",
              "\n",
              "          const docLinkHtml = 'Like what you see? Visit the ' +\n",
              "            '<a target=\"_blank\" href=https://colab.research.google.com/notebooks/data_table.ipynb>data table notebook</a>'\n",
              "            + ' to learn more about interactive tables.';\n",
              "          element.innerHTML = '';\n",
              "          dataTable['output_type'] = 'display_data';\n",
              "          await google.colab.output.renderOutput(dataTable, element);\n",
              "          const docLink = document.createElement('div');\n",
              "          docLink.innerHTML = docLinkHtml;\n",
              "          element.appendChild(docLink);\n",
              "        }\n",
              "      </script>\n",
              "    </div>\n",
              "  </div>\n",
              "  "
            ]
          },
          "metadata": {},
          "execution_count": 6
        }
      ],
      "source": [
        "# получение характерных значений категориальных признаков\n",
        "df.describe(include=[object])"
      ]
    },
    {
      "cell_type": "markdown",
      "id": "a5171d38",
      "metadata": {
        "id": "a5171d38"
      },
      "source": [
        "1. В данных представлены 354369 записей о характеристиках и ценах автомобилей. Согласно документации:\n",
        "\n",
        "признаки:\n",
        "- `DateCrawled` — дата скачивания анкеты из базы;\n",
        "- `VehicleType` — тип автомобильного кузова;\n",
        "- `RegistrationYear` — год регистрации автомобиля;\n",
        "- `Gearbox` — тип коробки передач;\n",
        "- `Power` — мощность (л. с.);\n",
        "- `Model` — модель автомобиля;\n",
        "- `Kilometer` — пробег (км);\n",
        "- `RegistrationMonth` — месяц регистрации автомобиля;\n",
        "- `FuelType` — тип топлива;\n",
        "- `Brand` — марка автомобиля;\n",
        "- `NotRepaired` — была машина в ремонте или нет;\n",
        "- `DateCreated` — дата создания анкеты;\n",
        "- `NumberOfPictures` — количество фотографий автомобиля;\n",
        "- `PostalCode` — почтовый индекс владельца анкеты (пользователя)\n",
        "- `LastSeen` — дата последней активности пользователя;\n",
        "\n",
        "целевой признак:\n",
        "- `Price` — цена (евро).\n",
        "\n",
        "2. Названия признаков даны в верблюжьем регистре, надо исправить на змеиный.\n",
        "\n",
        "\n",
        "3. Из 16 признаков имеются пропуски в следующих 5:\n",
        "- `VehicleType` — тип автомобильного кузова;\n",
        "- `Gearbox` — тип коробки передач;\n",
        "- `Model` — модель автомобиля;\n",
        "- `FuelType` — тип топлива;\n",
        "- `NotRepaired` — была машина в ремонте или нет.\n",
        "\n",
        "Из перечисленных пропусков однозначно нельзя восстановить информацию о том, была машина в ремонте или нет. Факт ремонта никак не связан с имеющимися характеристиками автомобилей. Данные пропуски заменяем на третью категорию - `unknown`.\n",
        "\n",
        "Остальные пропуски хоть и находятся в признаках, имеющих некоторую связь, однако восстановить большинство из них всё же проблематично.\n",
        "\n",
        "В данных встречается разный тип кузова у автомобилей с одинаковыми характеристиками (модель, мощность, тип топлива и коробки передач). Значит, пропуски заполняем категорией `unknown`.\n",
        "\n",
        "Коробка передач бывает разной у автомобилей одинаковой модели, и этот признак не связан с остальными. Пропуски заполняем категорией `unknown`.\n",
        "\n",
        "Разные модели автомобилей могут иметь одинаковые характеристики, поэтому по остальным признакам пропуски не заполнить. Заполняем категорией `unknown`.\n",
        "\n",
        "Можно попробовать заменить пропуски в типе топлива, исходя из комбинации марки и мощности автомобиля (эти данные без пропусков) с моделью.\n",
        "\n",
        "4. Типы данных соответствуют по смыслу содержимому признаков и требованиям модели.\n",
        "\n",
        "\n",
        "5. По характерным значениям видно, что есть явные ошибки в заполнении некоторых признаков.\n",
        "- Минимальное значение цены - 0 евро, такого быть не может.\n",
        "- Минимальное и максимальное значения года регистрации не соответствуют действительности: 1000 и 9999.\n",
        "- Минимальное и максимальное значения мощности также сомнительны: 0 и 20000 л.с.\n",
        "\n",
        "Проанализируем позже эти ошибки и решим, что с ними делать.\n",
        "\n",
        "6. Также проверим значения категориальных признаков на предмет опечаток и скрытых дублей.\n",
        "\n",
        "\n",
        "7. Не все признаки важны для модели. Так, можно удалить следующие признаки:\n",
        "- `DateCrawled` — дата скачивания анкеты из базы;\n",
        "- `RegistrationMonth` - месяц регистрации автомобиля;\n",
        "- `DateCreated` — дата создания анкеты;\n",
        "- `NumberOfPictures` — количество фотографий автомобиля;\n",
        "- `PostalCode` — почтовый индекс владельца анкеты (пользователя);\n",
        "- `LastSeen` — дата последней активности пользователя."
      ]
    },
    {
      "cell_type": "markdown",
      "id": "4b6db993",
      "metadata": {
        "id": "4b6db993"
      },
      "source": [
        "### 1.2 Предобработка данных\n",
        "Сначала проверим данные на наличие явных дубликатов и удалим их при наличии."
      ]
    },
    {
      "cell_type": "markdown",
      "id": "26d8890f",
      "metadata": {
        "id": "26d8890f"
      },
      "source": [
        "**Работа с дубликатами и стилями**"
      ]
    },
    {
      "cell_type": "code",
      "execution_count": 7,
      "id": "d42e1dd2",
      "metadata": {
        "colab": {
          "base_uri": "https://localhost:8080/"
        },
        "id": "d42e1dd2",
        "outputId": "3a029466-807c-4447-dcab-7179dbd4db17"
      },
      "outputs": [
        {
          "output_type": "stream",
          "name": "stdout",
          "text": [
            "4\n",
            "(354365, 16)\n"
          ]
        }
      ],
      "source": [
        "# просмотр количества явных дубликатов\n",
        "print(df.duplicated().sum())\n",
        "# удаление строк-дубликатов с обновлением индексов\n",
        "# без создания столбца index\n",
        "df = df.drop_duplicates().reset_index(drop=True) \n",
        "# просмотр размера таблицы\n",
        "print(df.shape)"
      ]
    },
    {
      "cell_type": "markdown",
      "id": "17afb269",
      "metadata": {
        "id": "17afb269"
      },
      "source": [
        "Из таблицы удалены 4 явных дубликата."
      ]
    },
    {
      "cell_type": "markdown",
      "id": "fc51c0da",
      "metadata": {
        "id": "fc51c0da"
      },
      "source": [
        "Теперь удалим не нужные для обучения модели признаки, а названия остальных приведём к змеиному регистру.\n",
        "\n",
        "Дата скачивания и создания анкеты, количество фотографий, почтовый индекс владельца и дата последней активности никак не связаны с характеристиками и комплектацией автомобиля и, соответственно, не влияют на цену автомобиля. Также в данных есть признак \"Месяц регистрации автомобиля\". Теоретически, в связи с инфляцией цена одного и того же автомобиля в конце года может быть выше. Однако, ценообразование на автомобили несколько сложнее и подвержено влиянию других факторов. Поэтому данный признак также можно удалить."
      ]
    },
    {
      "cell_type": "code",
      "execution_count": 8,
      "id": "b8eeabd7",
      "metadata": {
        "colab": {
          "base_uri": "https://localhost:8080/"
        },
        "id": "b8eeabd7",
        "outputId": "80aa151c-ae17-4572-eefc-0da811d218db"
      },
      "outputs": [
        {
          "output_type": "execute_result",
          "data": {
            "text/plain": [
              "Index(['price', 'vehicle_type', 'registration_year', 'gearbox', 'power',\n",
              "       'model', 'kilometer', 'fuel_type', 'brand', 'not_repaired'],\n",
              "      dtype='object')"
            ]
          },
          "metadata": {},
          "execution_count": 8
        }
      ],
      "source": [
        "# удаление не нужных для обучения модели признаков\n",
        "df = df.drop(columns=['DateCrawled', 'RegistrationMonth', 'DateCreated',\n",
        "                      'NumberOfPictures', 'PostalCode', 'LastSeen'])\n",
        "# приведение названий признаков к змеиному регистру\n",
        "df = df.rename(columns={'VehicleType': 'vehicle_type',\n",
        "                       'RegistrationYear': 'registration_year',\n",
        "                       'Gearbox': 'gearbox',\n",
        "                       'Power': 'power',\n",
        "                       'Model': 'model',\n",
        "                       'Kilometer': 'kilometer',\n",
        "                       'FuelType': 'fuel_type',\n",
        "                       'Brand': 'brand',\n",
        "                       'NotRepaired': 'not_repaired',\n",
        "                       'Price': 'price'})\n",
        "# просмотр названий признаков\n",
        "df.columns"
      ]
    },
    {
      "cell_type": "markdown",
      "id": "d4a77d75",
      "metadata": {
        "id": "d4a77d75"
      },
      "source": [
        "Лишние признаки удалены, стиль названий исправлен."
      ]
    },
    {
      "cell_type": "markdown",
      "id": "7f5c82e7",
      "metadata": {
        "id": "7f5c82e7"
      },
      "source": [
        "Проверим категориальные признаки на предмет ошибок и скрытых дублей. "
      ]
    },
    {
      "cell_type": "code",
      "execution_count": 9,
      "id": "f73ebc55",
      "metadata": {
        "colab": {
          "base_uri": "https://localhost:8080/"
        },
        "id": "f73ebc55",
        "outputId": "f44c4dfd-e6b3-4afb-ca58-4de519a38553"
      },
      "outputs": [
        {
          "output_type": "stream",
          "name": "stdout",
          "text": [
            "[nan 'coupe' 'suv' 'small' 'sedan' 'convertible' 'bus' 'wagon' 'other']\n",
            "['manual' 'auto' nan]\n",
            "['petrol' 'gasoline' nan 'lpg' 'other' 'hybrid' 'cng' 'electric']\n",
            "[nan 'yes' 'no']\n"
          ]
        }
      ],
      "source": [
        "# просмотр уникальных значений признака vehicle_type\n",
        "print(df['vehicle_type'].unique())\n",
        "# просмотр уникальных значений признака gearbox\n",
        "print(df['gearbox'].unique())\n",
        "# просмотр уникальных значений признака fuel_type\n",
        "print(df['fuel_type'].unique())\n",
        "# просмотр уникальных значений признака not_repaired\n",
        "print(df['not_repaired'].unique())"
      ]
    },
    {
      "cell_type": "markdown",
      "id": "4092747e",
      "metadata": {
        "id": "4092747e"
      },
      "source": [
        "В типах кузова и коробки передач, а также в факте ремонта ошибок нет.\n",
        "\n",
        "В типе топлива есть скрытый дубликат: `petrol` и `gasoline` означают одно и то же топливо - бензин (`petrol` - британский термин, `gasoline` - американский). Заменим `gasoline` на `petrol`:"
      ]
    },
    {
      "cell_type": "code",
      "execution_count": 10,
      "id": "f5e8e246",
      "metadata": {
        "colab": {
          "base_uri": "https://localhost:8080/"
        },
        "id": "f5e8e246",
        "outputId": "2a291bc4-c741-45e6-a91a-c24aa5a89cfa"
      },
      "outputs": [
        {
          "output_type": "execute_result",
          "data": {
            "text/plain": [
              "array(['petrol', nan, 'lpg', 'other', 'hybrid', 'cng', 'electric'],\n",
              "      dtype=object)"
            ]
          },
          "metadata": {},
          "execution_count": 10
        }
      ],
      "source": [
        "# замена gasoline на petrol в признаке fuel_type\n",
        "df = df.replace({'fuel_type':{'gasoline':'petrol'}})\n",
        "# просмотр уникальных значений признака fuel_type\n",
        "df['fuel_type'].unique()"
      ]
    },
    {
      "cell_type": "code",
      "execution_count": 11,
      "id": "35a1033c",
      "metadata": {
        "colab": {
          "base_uri": "https://localhost:8080/"
        },
        "id": "35a1033c",
        "outputId": "8b59c9fb-92bd-4838-e885-f8ab0f8757ca",
        "scrolled": false
      },
      "outputs": [
        {
          "output_type": "stream",
          "name": "stdout",
          "text": [
            "['100' '145' '147' '156' '159' '1_reihe' '1er' '200' '2_reihe' '300c'\n",
            " '3_reihe' '3er' '4_reihe' '500' '5_reihe' '5er' '601' '6_reihe' '6er'\n",
            " '7er' '80' '850' '90' '900' '9000' '911' 'a1' 'a2' 'a3' 'a4' 'a5' 'a6'\n",
            " 'a8' 'a_klasse' 'accord' 'agila' 'alhambra' 'almera' 'altea' 'amarok'\n",
            " 'antara' 'arosa' 'astra' 'auris' 'avensis' 'aveo' 'aygo' 'b_klasse'\n",
            " 'b_max' 'beetle' 'berlingo' 'bora' 'boxster' 'bravo' 'c1' 'c2' 'c3' 'c4'\n",
            " 'c5' 'c_klasse' 'c_max' 'c_reihe' 'caddy' 'calibra' 'captiva' 'carisma'\n",
            " 'carnival' 'cayenne' 'cc' 'ceed' 'charade' 'cherokee' 'citigo' 'civic'\n",
            " 'cl' 'clio' 'clk' 'clubman' 'colt' 'combo' 'cooper' 'cordoba' 'corolla'\n",
            " 'corsa' 'cr_reihe' 'croma' 'crossfire' 'cuore' 'cx_reihe' 'defender'\n",
            " 'delta' 'discovery' 'doblo' 'ducato' 'duster' 'e_klasse' 'elefantino'\n",
            " 'eos' 'escort' 'espace' 'exeo' 'fabia' 'fiesta' 'focus' 'forester'\n",
            " 'forfour' 'fortwo' 'fox' 'freelander' 'fusion' 'g_klasse' 'galant'\n",
            " 'galaxy' 'getz' 'gl' 'glk' 'golf' 'grand' 'i3' 'i_reihe' 'ibiza'\n",
            " 'impreza' 'insignia' 'jazz' 'jetta' 'jimny' 'juke' 'justy' 'ka' 'kadett'\n",
            " 'kaefer' 'kalina' 'kalos' 'kangoo' 'kappa' 'kuga' 'laguna' 'lancer'\n",
            " 'lanos' 'legacy' 'leon' 'lodgy' 'logan' 'lupo' 'lybra' 'm_klasse'\n",
            " 'm_reihe' 'materia' 'matiz' 'megane' 'meriva' 'micra' 'mii' 'modus'\n",
            " 'mondeo' 'move' 'musa' 'mustang' 'mx_reihe' 'navara' 'niva' 'note'\n",
            " 'nubira' 'octavia' 'omega' 'one' 'other' 'outlander' 'pajero' 'panda'\n",
            " 'passat' 'phaeton' 'picanto' 'polo' 'primera' 'ptcruiser' 'punto' 'q3'\n",
            " 'q5' 'q7' 'qashqai' 'r19' 'range_rover' 'range_rover_evoque'\n",
            " 'range_rover_sport' 'rangerover' 'rav' 'rio' 'roadster' 'roomster'\n",
            " 'rx_reihe' 's60' 's_klasse' 's_max' 's_type' 'samara' 'sandero' 'santa'\n",
            " 'scenic' 'scirocco' 'seicento' 'serie_1' 'serie_2' 'serie_3' 'sharan'\n",
            " 'signum' 'sirion' 'sl' 'slk' 'sorento' 'spark' 'spider' 'sportage'\n",
            " 'sprinter' 'stilo' 'superb' 'swift' 'terios' 'tigra' 'tiguan' 'toledo'\n",
            " 'touareg' 'touran' 'transit' 'transporter' 'tt' 'tucson' 'twingo' 'up'\n",
            " 'v40' 'v50' 'v60' 'v70' 'v_klasse' 'vectra' 'verso' 'viano' 'vito'\n",
            " 'vivaro' 'voyager' 'wrangler' 'x_reihe' 'x_trail' 'x_type' 'xc_reihe'\n",
            " 'yaris' 'yeti' 'ypsilon' 'z_reihe' 'zafira' nan]\n"
          ]
        }
      ],
      "source": [
        "# просмотр уникальных значений признака model в алфавитном порядке\n",
        "print(pd.Series(df['model'].unique()).sort_values().values)"
      ]
    },
    {
      "cell_type": "markdown",
      "id": "2e54014b",
      "metadata": {
        "id": "2e54014b"
      },
      "source": [
        "В названиях моделей ошибок нет. Проверим марки автомобилей."
      ]
    },
    {
      "cell_type": "code",
      "execution_count": 12,
      "id": "47ecb40e",
      "metadata": {
        "colab": {
          "base_uri": "https://localhost:8080/"
        },
        "id": "47ecb40e",
        "outputId": "14ca5df0-d228-413b-a380-98cfacad8717",
        "scrolled": true
      },
      "outputs": [
        {
          "output_type": "execute_result",
          "data": {
            "text/plain": [
              "['alfa_romeo',\n",
              " 'audi',\n",
              " 'bmw',\n",
              " 'chevrolet',\n",
              " 'chrysler',\n",
              " 'citroen',\n",
              " 'dacia',\n",
              " 'daewoo',\n",
              " 'daihatsu',\n",
              " 'fiat',\n",
              " 'ford',\n",
              " 'honda',\n",
              " 'hyundai',\n",
              " 'jaguar',\n",
              " 'jeep',\n",
              " 'kia',\n",
              " 'lada',\n",
              " 'lancia',\n",
              " 'land_rover',\n",
              " 'mazda',\n",
              " 'mercedes_benz',\n",
              " 'mini',\n",
              " 'mitsubishi',\n",
              " 'nissan',\n",
              " 'opel',\n",
              " 'peugeot',\n",
              " 'porsche',\n",
              " 'renault',\n",
              " 'rover',\n",
              " 'saab',\n",
              " 'seat',\n",
              " 'skoda',\n",
              " 'smart',\n",
              " 'sonstige_autos',\n",
              " 'subaru',\n",
              " 'suzuki',\n",
              " 'toyota',\n",
              " 'trabant',\n",
              " 'volkswagen',\n",
              " 'volvo']"
            ]
          },
          "metadata": {},
          "execution_count": 12
        }
      ],
      "source": [
        "# просмотр уникальных значений признака fuel_type\n",
        "sorted(df['brand'].unique())"
      ]
    },
    {
      "cell_type": "markdown",
      "id": "27fe2427",
      "metadata": {
        "id": "27fe2427"
      },
      "source": [
        "В марках автомобилей ошибок также нет."
      ]
    },
    {
      "cell_type": "markdown",
      "id": "13d5c025",
      "metadata": {
        "id": "13d5c025"
      },
      "source": [
        "**Работа с пропусками**\n",
        "\n",
        "Теперь заполним пропуски в признаках `vehicle_type`, `gearbox`, `model`, `not_repaired` на `unknown`:"
      ]
    },
    {
      "cell_type": "code",
      "execution_count": 13,
      "id": "b756150b",
      "metadata": {
        "colab": {
          "base_uri": "https://localhost:8080/"
        },
        "id": "b756150b",
        "outputId": "4602d3ce-2fa3-4b1c-d034-40cbff84611c"
      },
      "outputs": [
        {
          "output_type": "execute_result",
          "data": {
            "text/plain": [
              "vehicle_type    0\n",
              "gearbox         0\n",
              "model           0\n",
              "not_repaired    0\n",
              "dtype: int64"
            ]
          },
          "metadata": {},
          "execution_count": 13
        }
      ],
      "source": [
        "# признаки с пропусками, которые надо заменить на unknown\n",
        "columns_nan = ['vehicle_type', 'gearbox', 'model', 'not_repaired']\n",
        "# заполнение пропусков в признаках vehicle_type, gearbox, model, not_repaired\n",
        "df[columns_nan] = df[columns_nan].fillna('unknown')\n",
        "# просмотр оставшихся пропусков\n",
        "df[columns_nan].isna().sum()"
      ]
    },
    {
      "cell_type": "markdown",
      "id": "423678af",
      "metadata": {
        "id": "423678af"
      },
      "source": [
        "Пропуски заполнены. Попробуем заполнить пропуски в типе топлива на основе совпадения марки, модели и мощности автомобиля. Оставшиеся пропуски заполним категорией `unknown`. До и после заполнения пропусков посмотрим на распределение количества объектов по типам топлива."
      ]
    },
    {
      "cell_type": "code",
      "execution_count": 14,
      "id": "f39684d0",
      "metadata": {
        "colab": {
          "base_uri": "https://localhost:8080/"
        },
        "id": "f39684d0",
        "outputId": "22a09e76-8b25-4da2-baed-b7601277468d",
        "scrolled": true
      },
      "outputs": [
        {
          "output_type": "execute_result",
          "data": {
            "text/plain": [
              "fuel_type\n",
              "cng            565\n",
              "electric        90\n",
              "hybrid         233\n",
              "lpg           5310\n",
              "other          204\n",
              "petrol      315068\n",
              "Name: fuel_type, dtype: int64"
            ]
          },
          "metadata": {},
          "execution_count": 14
        }
      ],
      "source": [
        "# подсчёт количества объектов по типам топлива\n",
        "df.groupby('fuel_type')['fuel_type'].count()"
      ]
    },
    {
      "cell_type": "code",
      "execution_count": 15,
      "id": "9cf82a1b",
      "metadata": {
        "colab": {
          "base_uri": "https://localhost:8080/"
        },
        "id": "9cf82a1b",
        "outputId": "9354bf23-5426-40c4-a276-6028c8f4e47d"
      },
      "outputs": [
        {
          "output_type": "stream",
          "name": "stdout",
          "text": [
            "32895\n",
            "867\n"
          ]
        }
      ],
      "source": [
        "# просмотр количества пропусков в признаке fuel_type\n",
        "# до заполнения пропусков\n",
        "print(df['fuel_type'].isna().sum())\n",
        "# заполнение пропусков в признаке fuel_type\n",
        "df['fuel_type'] = df['fuel_type'].fillna(\n",
        "    df.groupby(['brand', 'model', 'power'])['fuel_type'].transform('first'))\n",
        "# просмотр количества пропусков в признаке fuel_type\n",
        "# после заполнения пропусков\n",
        "print(df['fuel_type'].isna().sum())\n",
        "# заполнение оставшихся пропусков категорией unknown\n",
        "df['fuel_type'] = df['fuel_type'].fillna('unknown')"
      ]
    },
    {
      "cell_type": "code",
      "execution_count": 16,
      "id": "bd3d116b",
      "metadata": {
        "colab": {
          "base_uri": "https://localhost:8080/"
        },
        "id": "bd3d116b",
        "outputId": "2c6ba8f4-0977-4d4c-f3b0-07b88f5dd07f"
      },
      "outputs": [
        {
          "output_type": "stream",
          "name": "stdout",
          "text": [
            "<class 'pandas.core.frame.DataFrame'>\n",
            "RangeIndex: 354365 entries, 0 to 354364\n",
            "Data columns (total 10 columns):\n",
            " #   Column             Non-Null Count   Dtype \n",
            "---  ------             --------------   ----- \n",
            " 0   price              354365 non-null  int64 \n",
            " 1   vehicle_type       354365 non-null  object\n",
            " 2   registration_year  354365 non-null  int64 \n",
            " 3   gearbox            354365 non-null  object\n",
            " 4   power              354365 non-null  int64 \n",
            " 5   model              354365 non-null  object\n",
            " 6   kilometer          354365 non-null  int64 \n",
            " 7   fuel_type          354365 non-null  object\n",
            " 8   brand              354365 non-null  object\n",
            " 9   not_repaired       354365 non-null  object\n",
            "dtypes: int64(4), object(6)\n",
            "memory usage: 27.0+ MB\n"
          ]
        }
      ],
      "source": [
        "df.info()"
      ]
    },
    {
      "cell_type": "code",
      "execution_count": 17,
      "id": "fcb20973",
      "metadata": {
        "colab": {
          "base_uri": "https://localhost:8080/"
        },
        "id": "fcb20973",
        "outputId": "a62249e4-a7d7-4db9-f3bb-ba923494e56f"
      },
      "outputs": [
        {
          "output_type": "execute_result",
          "data": {
            "text/plain": [
              "fuel_type\n",
              "cng            586\n",
              "electric        95\n",
              "hybrid         236\n",
              "lpg           5695\n",
              "other          227\n",
              "petrol      346659\n",
              "unknown        867\n",
              "Name: fuel_type, dtype: int64"
            ]
          },
          "metadata": {},
          "execution_count": 17
        }
      ],
      "source": [
        "# подсчёт количества объектов по типам топлива\n",
        "df.groupby('fuel_type')['fuel_type'].count()"
      ]
    },
    {
      "cell_type": "markdown",
      "id": "4d4f5252",
      "metadata": {
        "id": "4d4f5252"
      },
      "source": [
        "Пропуски заполнены, распределение объектов по видам топлива сохранилось."
      ]
    },
    {
      "cell_type": "markdown",
      "id": "af28c3a4",
      "metadata": {
        "id": "af28c3a4"
      },
      "source": [
        "**Работа с ошибками. Цена**"
      ]
    },
    {
      "cell_type": "markdown",
      "id": "6d362f33",
      "metadata": {
        "id": "6d362f33"
      },
      "source": [
        "Посмотрим на ошибки в цене. Построим гистограмму по всем значениям."
      ]
    },
    {
      "cell_type": "code",
      "execution_count": 18,
      "id": "6ecf407c",
      "metadata": {
        "colab": {
          "base_uri": "https://localhost:8080/",
          "height": 279
        },
        "id": "6ecf407c",
        "outputId": "31621ef5-209b-47c4-a118-f80b5a20eb85",
        "scrolled": false
      },
      "outputs": [
        {
          "output_type": "display_data",
          "data": {
            "text/plain": [
              "<Figure size 432x288 with 1 Axes>"
            ],
            "image/png": "[encoded data removed]"
          },
          "metadata": {
            "needs_background": "light"
          }
        }
      ],
      "source": [
        "# построение гистограммы по цене\n",
        "df['price'].hist(bins=20)\n",
        "plt.xlabel('Цена, евро')\n",
        "plt.ylabel('Количество автомобилей')\n",
        "plt.show()"
      ]
    },
    {
      "cell_type": "markdown",
      "id": "d762a419",
      "metadata": {
        "id": "d762a419"
      },
      "source": [
        "По гистограмме видно, что частотность цен закономерно уменьшается при увеличении цены. Наибольшее количество объектов имеет цену от 0 до 2000 евро.\n",
        "\n",
        "Однако, автомобиль не может стоить 0 евро. Даже если принять, что автомобиль находится в полностью нерабочем состоянии, его можно оценить как металлолом. Произведём грубую оценку: легковой автомобиль в среднем имеет массу 1,5 т. 1 кг чёрного металла стоит порядка 20 руб. Значит, если не брать во внимание составляющие из цветных металлов, которые на порядок дороже чёрного металла, и другие материалы, то цена нерабочего автомобиля может составить 1500 * 20 / 75 = 400 евро. Таким образом, низкие цены являются, скорее всего, ошибочно введёнными данными.\n",
        "\n",
        "При этом, из жизни известно, что цена старых (10 лет и более) автомобилей может колебаться в диапазоне от 100 до 400 евро.\n",
        "\n",
        "В реальной задаче можно было бы уточнить у заказчика возможные причины появления низких цен, а также \"порог адекватности\" цены. Дальше, при условии, что заказчик работает с автомобилями состояния \"металлолом\", можно точнее составить формулу определения цены таких автомобилей.\n",
        "\n",
        "Поскольку дополнительными данными мы не располагаем, посмотрим на количество и распределение цен в диапазоне от 0 до 400 евро и примем решение, что делать с такими ценами."
      ]
    },
    {
      "cell_type": "code",
      "execution_count": 19,
      "id": "cf9b4479",
      "metadata": {
        "colab": {
          "base_uri": "https://localhost:8080/"
        },
        "id": "cf9b4479",
        "outputId": "6a7ca812-c6f0-49ed-8006-535284be7004"
      },
      "outputs": [
        {
          "output_type": "execute_result",
          "data": {
            "text/plain": [
              "30019"
            ]
          },
          "metadata": {},
          "execution_count": 19
        }
      ],
      "source": [
        "# подсчёт количества объектов с ценой ниже 400 евро\n",
        "df.query('price < 400')['price'].count()"
      ]
    },
    {
      "cell_type": "code",
      "execution_count": 20,
      "id": "19bed579",
      "metadata": {
        "colab": {
          "base_uri": "https://localhost:8080/",
          "height": 279
        },
        "id": "19bed579",
        "outputId": "0188a6c6-a11a-4257-8afe-16897037a2b5",
        "scrolled": false
      },
      "outputs": [
        {
          "output_type": "display_data",
          "data": {
            "text/plain": [
              "<Figure size 432x288 with 1 Axes>"
            ],
            "image/png": "[encoded data removed]"
          },
          "metadata": {
            "needs_background": "light"
          }
        }
      ],
      "source": [
        "# построение гистограммы по ценам ниже 400 евро\n",
        "df.query('price < 400')['price'].hist(bins=20)\n",
        "plt.xlabel('Цена, евро')\n",
        "plt.ylabel('Количество автомобилей')\n",
        "plt.show()"
      ]
    },
    {
      "cell_type": "markdown",
      "id": "06f614a4",
      "metadata": {
        "id": "06f614a4"
      },
      "source": [
        "В данных около 8,5% объектов имеют цену ниже 400 евро. Такое количество информации терять не хочется. По гистограмме видно, что есть большое количество нулевых и близких к ним (меньше 10 евро) цен. Это явные ошибочно введённые данные, которые не очень понятно, как можно исправить. В диапазоне от 10 до 100 евро не очень много данных, они явно тоже ошибочны. А далее наблюдаются всплески вокруг \"круглых\" значений, которые соответствуют правильным или похожим на правильные значениям."
      ]
    },
    {
      "cell_type": "code",
      "execution_count": 21,
      "id": "402f1337",
      "metadata": {
        "colab": {
          "base_uri": "https://localhost:8080/",
          "height": 279
        },
        "id": "402f1337",
        "outputId": "937ffdb8-de9d-4d13-a868-28adc70321b9"
      },
      "outputs": [
        {
          "output_type": "display_data",
          "data": {
            "text/plain": [
              "<Figure size 432x288 with 1 Axes>"
            ],
            "image/png": "[encoded data removed]"
          },
          "metadata": {
            "needs_background": "light"
          }
        }
      ],
      "source": [
        "# построение диаграммы размаха для цены\n",
        "plt.boxplot(df['price'], vert=0)\n",
        "plt.xlabel('Цена, евро')\n",
        "plt.show()"
      ]
    },
    {
      "cell_type": "code",
      "execution_count": 22,
      "id": "fd71b329",
      "metadata": {
        "colab": {
          "base_uri": "https://localhost:8080/"
        },
        "id": "fd71b329",
        "outputId": "378875fd-5b4a-48df-fadd-280ae192a948"
      },
      "outputs": [
        {
          "output_type": "stream",
          "name": "stdout",
          "text": [
            "-6975.0\n"
          ]
        }
      ],
      "source": [
        "# расчёт нижней границы нормального диапазона\n",
        "print(\n",
        "    2.5 * (np.percentile(df['price'], \\\n",
        "                         25 , \\\n",
        "                         interpolation = 'midpoint' )\n",
        "          )\n",
        "    - 1.5 * (np.percentile(df['price'], \\\n",
        "                           75 , \\\n",
        "                           interpolation = 'midpoint' )\n",
        "            )\n",
        ")"
      ]
    },
    {
      "cell_type": "markdown",
      "id": "0549d908",
      "metadata": {
        "id": "0549d908"
      },
      "source": [
        "По диаграмме размаха видно, что все низкие цены попадают в диапазон нормальных значений. Расчёт нижней границы это подтверждает. Однако, здесь математика противоречит здравому смыслу. Поэтому удаляем из данных автомобили с ценами ниже 100 евро, принимая, что остальные низкие цены имеют место быть для либо очень старых, либо в очень плохом состоянии автомобилей."
      ]
    },
    {
      "cell_type": "code",
      "execution_count": 23,
      "id": "d3afe4fb",
      "metadata": {
        "id": "d3afe4fb"
      },
      "outputs": [],
      "source": [
        "# удаление объектов с ценами ниже 100 евро\n",
        "df = df.loc[df['price'] >= 100]"
      ]
    },
    {
      "cell_type": "code",
      "execution_count": 24,
      "id": "0c37dee7",
      "metadata": {
        "colab": {
          "base_uri": "https://localhost:8080/"
        },
        "id": "0c37dee7",
        "outputId": "08a8a390-90fb-4036-ef5d-5ba24d969cf5"
      },
      "outputs": [
        {
          "output_type": "execute_result",
          "data": {
            "text/plain": [
              "(341051, 10)"
            ]
          },
          "metadata": {},
          "execution_count": 24
        }
      ],
      "source": [
        "# просмотр размера таблицы\n",
        "df.shape"
      ]
    },
    {
      "cell_type": "markdown",
      "id": "4208c7af",
      "metadata": {
        "id": "4208c7af"
      },
      "source": [
        "Удалено чуть меньше 4% данных."
      ]
    },
    {
      "cell_type": "markdown",
      "id": "c5c53647",
      "metadata": {
        "id": "c5c53647"
      },
      "source": [
        "**Работа с ошибками. Год регистрации**"
      ]
    },
    {
      "cell_type": "markdown",
      "id": "c9497956",
      "metadata": {
        "id": "c9497956"
      },
      "source": [
        "Следующий важный признак, в котором есть ошибки, это год регистрации автомобиля. Минимальное значение - 1000, максимальное - 9999, очевидно, не верные значения. Посмотрим, какие ещё есть значения этого признака, не соответствующие действительности."
      ]
    },
    {
      "cell_type": "code",
      "execution_count": 25,
      "id": "734e0422",
      "metadata": {
        "colab": {
          "base_uri": "https://localhost:8080/"
        },
        "id": "734e0422",
        "outputId": "7d44fe9f-4044-4c6c-8db8-85b4ccad30ea"
      },
      "outputs": [
        {
          "output_type": "execute_result",
          "data": {
            "text/plain": [
              "[1000,\n",
              " 1001,\n",
              " 1039,\n",
              " 1111,\n",
              " 1234,\n",
              " 1255,\n",
              " 1300,\n",
              " 1400,\n",
              " 1500,\n",
              " 1600,\n",
              " 1602,\n",
              " 1800,\n",
              " 1910,\n",
              " 1923,\n",
              " 1925,\n",
              " 1927,\n",
              " 1928,\n",
              " 1929,\n",
              " 1930,\n",
              " 1931,\n",
              " 1932,\n",
              " 1933,\n",
              " 1934,\n",
              " 1935,\n",
              " 1936,\n",
              " 1937,\n",
              " 1938,\n",
              " 1940,\n",
              " 1941,\n",
              " 1942,\n",
              " 1943,\n",
              " 1944,\n",
              " 1945,\n",
              " 1946,\n",
              " 1947,\n",
              " 1948,\n",
              " 1949,\n",
              " 1950,\n",
              " 1951,\n",
              " 1952,\n",
              " 1953,\n",
              " 1954,\n",
              " 1955,\n",
              " 1956,\n",
              " 1957,\n",
              " 1958,\n",
              " 1959,\n",
              " 1960,\n",
              " 1961,\n",
              " 1962,\n",
              " 1963,\n",
              " 1964,\n",
              " 1965,\n",
              " 1966,\n",
              " 1967,\n",
              " 1968,\n",
              " 1969,\n",
              " 1970,\n",
              " 1971,\n",
              " 1972,\n",
              " 1973,\n",
              " 1974,\n",
              " 1975,\n",
              " 1976,\n",
              " 1977,\n",
              " 1978,\n",
              " 1979,\n",
              " 1980,\n",
              " 1981,\n",
              " 1982,\n",
              " 1983,\n",
              " 1984,\n",
              " 1985,\n",
              " 1986,\n",
              " 1987,\n",
              " 1988,\n",
              " 1989,\n",
              " 1990,\n",
              " 1991,\n",
              " 1992,\n",
              " 1993,\n",
              " 1994,\n",
              " 1995,\n",
              " 1996,\n",
              " 1997,\n",
              " 1998,\n",
              " 1999,\n",
              " 2000,\n",
              " 2001,\n",
              " 2002,\n",
              " 2003,\n",
              " 2004,\n",
              " 2005,\n",
              " 2006,\n",
              " 2007,\n",
              " 2008,\n",
              " 2009,\n",
              " 2010,\n",
              " 2011,\n",
              " 2012,\n",
              " 2013,\n",
              " 2014,\n",
              " 2015,\n",
              " 2016,\n",
              " 2017,\n",
              " 2018,\n",
              " 2019,\n",
              " 2066,\n",
              " 2200,\n",
              " 2222,\n",
              " 2290,\n",
              " 2500,\n",
              " 2800,\n",
              " 2900,\n",
              " 3000,\n",
              " 3200,\n",
              " 3700,\n",
              " 3800,\n",
              " 4000,\n",
              " 4100,\n",
              " 4500,\n",
              " 4800,\n",
              " 5000,\n",
              " 5300,\n",
              " 5555,\n",
              " 5600,\n",
              " 5900,\n",
              " 5911,\n",
              " 6000,\n",
              " 7000,\n",
              " 7100,\n",
              " 7800,\n",
              " 8200,\n",
              " 8500,\n",
              " 8888,\n",
              " 9000,\n",
              " 9450,\n",
              " 9999]"
            ]
          },
          "metadata": {},
          "execution_count": 25
        }
      ],
      "source": [
        "# просмотр уникальных значений признака registration_year\n",
        "sorted(df['registration_year'].unique())"
      ]
    },
    {
      "cell_type": "markdown",
      "id": "e2f6e098",
      "metadata": {
        "id": "e2f6e098"
      },
      "source": [
        "Значения до 1910 года явно ошибочны, т.к. первый автомобиль с ДВС изобретён в 1885 году. Вместе с тем, маловероятны годы выпуска первой половины XX века. Проверим это по диаграмме размаха и гистограмме.\n",
        "\n",
        "Все годы после 2016 года также ошибочны, потому что автомобиль не может быть зарегистрирован позже, чем об этом указано в объявлении. А объявления датируются 2016 годом."
      ]
    },
    {
      "cell_type": "code",
      "execution_count": 26,
      "id": "51637170",
      "metadata": {
        "colab": {
          "base_uri": "https://localhost:8080/",
          "height": 279
        },
        "id": "51637170",
        "outputId": "5f6a0b04-b037-43f1-e1c5-5a20846f606c"
      },
      "outputs": [
        {
          "output_type": "display_data",
          "data": {
            "text/plain": [
              "<Figure size 432x288 with 1 Axes>"
            ],
            "image/png": "[encoded data removed]"
          },
          "metadata": {
            "needs_background": "light"
          }
        }
      ],
      "source": [
        "# построение диаграммы размаха для года регистрации\n",
        "plt.boxplot(df['registration_year'], vert=0)\n",
        "plt.xlim(1910, 2022)\n",
        "plt.xlabel('Год регистрации')\n",
        "plt.show()"
      ]
    },
    {
      "cell_type": "code",
      "execution_count": 27,
      "id": "3c11fea3",
      "metadata": {
        "colab": {
          "base_uri": "https://localhost:8080/",
          "height": 279
        },
        "id": "3c11fea3",
        "outputId": "3bc36c42-175a-485a-d875-fa853796b2f9",
        "scrolled": true
      },
      "outputs": [
        {
          "output_type": "display_data",
          "data": {
            "text/plain": [
              "<Figure size 432x288 with 1 Axes>"
            ],
            "image/png": "[encoded data removed]"
          },
          "metadata": {
            "needs_background": "light"
          }
        }
      ],
      "source": [
        "# построение гистограммы по году регистрации\n",
        "df['registration_year'].hist(range=(1940, 1985), bins=20)\n",
        "plt.xlabel('Год регистрации')\n",
        "plt.ylabel('Количество автомобилей')\n",
        "plt.show()"
      ]
    },
    {
      "cell_type": "markdown",
      "id": "459446f8",
      "metadata": {
        "id": "459446f8"
      },
      "source": [
        "По диаграмме размаха все года раньше 1985 являются выбросами. Однако, по гистограмме видно, что где-то до 1950 года автомобили не единичны. Поэтому оставляем в данных годы выпуска с 1950-го. Посмотрим на диапазон более поздних годов."
      ]
    },
    {
      "cell_type": "code",
      "execution_count": 28,
      "id": "d94a1949",
      "metadata": {
        "colab": {
          "base_uri": "https://localhost:8080/",
          "height": 279
        },
        "id": "d94a1949",
        "outputId": "5e21e0f0-b151-42fc-cf8f-f9873563981c"
      },
      "outputs": [
        {
          "output_type": "display_data",
          "data": {
            "text/plain": [
              "<Figure size 432x288 with 1 Axes>"
            ],
            "image/png": "[encoded data removed]"
          },
          "metadata": {
            "needs_background": "light"
          }
        }
      ],
      "source": [
        "# построение гистограммы по году регистрации\n",
        "df['registration_year'].hist(range=(1985, 2019), bins=34)\n",
        "plt.xlabel('Год регистрации')\n",
        "plt.ylabel('Количество автомобилей')\n",
        "plt.show()"
      ]
    },
    {
      "cell_type": "markdown",
      "id": "8c7c4eb4",
      "metadata": {
        "id": "8c7c4eb4"
      },
      "source": [
        "На диаграмме виден странный всплеск в 2017 году - чуть меньше 10 тыс. автомобилей. В реальной задаче опять же можно было бы узнать у заказчика, как может быть указан год регистрации 2017 г. при том, что анкета создана и выгружена из базы в 2016 году.\n",
        "Поскольку возможности уточнения нет, необъяснимые данные убираем.\n",
        "\n",
        "Итак, оставляем в данных объекты с годами регистрации с 1950 по 2016 гг."
      ]
    },
    {
      "cell_type": "code",
      "execution_count": 29,
      "id": "834f5640",
      "metadata": {
        "colab": {
          "base_uri": "https://localhost:8080/"
        },
        "id": "834f5640",
        "outputId": "42c519ed-f59b-4906-81dc-1e281229f06c",
        "scrolled": false
      },
      "outputs": [
        {
          "output_type": "execute_result",
          "data": {
            "text/plain": [
              "(327219, 10)"
            ]
          },
          "metadata": {},
          "execution_count": 29
        }
      ],
      "source": [
        "# удаление объектов с годами регистрации ранее 1950 г. и позднее 2016 г.\n",
        "df = df.loc[(df['registration_year'] >= 1950) & (df['registration_year'] <= 2016)]\n",
        "# просмотр размера таблицы\n",
        "df.shape"
      ]
    },
    {
      "cell_type": "markdown",
      "id": "4b110068",
      "metadata": {
        "id": "4b110068"
      },
      "source": [
        "Объекты с ошибочными годами регистрации удалены; осталось 92,3% исходных данных."
      ]
    },
    {
      "cell_type": "markdown",
      "id": "f3df06bd",
      "metadata": {
        "id": "f3df06bd"
      },
      "source": [
        "**Работа с ошибками. Мощность**"
      ]
    },
    {
      "cell_type": "markdown",
      "id": "51877294",
      "metadata": {
        "id": "51877294"
      },
      "source": [
        "Остались ошибки в мощности автомобилей. Минимальное - 0 л.с. - и максимальное - 20000 л.с. - значения не правдоподобны. Посмотрим, какие и в каком количестве есть значения этого признака."
      ]
    },
    {
      "cell_type": "code",
      "execution_count": 30,
      "id": "0ead6a44",
      "metadata": {
        "colab": {
          "base_uri": "https://localhost:8080/",
          "height": 279
        },
        "id": "0ead6a44",
        "outputId": "9a92476e-7557-4e16-d1a8-ef1676563ab4",
        "scrolled": true
      },
      "outputs": [
        {
          "output_type": "display_data",
          "data": {
            "text/plain": [
              "<Figure size 432x288 with 1 Axes>"
            ],
            "image/png": "[encoded data removed]"
          },
          "metadata": {
            "needs_background": "light"
          }
        }
      ],
      "source": [
        "# построение диаграммы размаха для мощности\n",
        "plt.boxplot(df['power'], vert=0)\n",
        "plt.xlim(0, 1000)\n",
        "plt.xlabel('Мощность, л.с.')\n",
        "plt.show()"
      ]
    },
    {
      "cell_type": "code",
      "execution_count": 31,
      "id": "a87db06b",
      "metadata": {
        "colab": {
          "base_uri": "https://localhost:8080/",
          "height": 279
        },
        "id": "a87db06b",
        "outputId": "9081c14d-0129-4c24-a781-fea4a7c8c79e"
      },
      "outputs": [
        {
          "output_type": "display_data",
          "data": {
            "text/plain": [
              "<Figure size 432x288 with 1 Axes>"
            ],
            "image/png": "[encoded data removed]"
          },
          "metadata": {
            "needs_background": "light"
          }
        }
      ],
      "source": [
        "# построение гистограммы по мощности\n",
        "df['power'].hist(range=(0, 600))\n",
        "plt.xlabel('Мощность, л.с.')\n",
        "plt.ylabel('Количество автомобилей')\n",
        "plt.show()"
      ]
    },
    {
      "cell_type": "code",
      "execution_count": 32,
      "id": "ab955df4",
      "metadata": {
        "colab": {
          "base_uri": "https://localhost:8080/"
        },
        "id": "ab955df4",
        "outputId": "e5e403c4-fd74-4e70-b3b2-4cfc9aba9226"
      },
      "outputs": [
        {
          "output_type": "execute_result",
          "data": {
            "text/plain": [
              "324"
            ]
          },
          "metadata": {},
          "execution_count": 32
        }
      ],
      "source": [
        "# просмотр количества объектов с мощностью выше 600 л.с.\n",
        "df.query('power > 600')['power'].count()"
      ]
    },
    {
      "cell_type": "markdown",
      "id": "b774859b",
      "metadata": {
        "id": "b774859b"
      },
      "source": [
        "Значения мощности выше 600 л.с. - крайне неправдоподобны; их мало. По диаграмме размаха значения выше 250 л.с. можно считать выбросами. Также по диаграмме размаха видно, что в диапазоне от 250 л.с. до 600 л.с. значений довольно много.\n",
        "Посмотрим на список моделей автомобилей в этом мощностном диапазоне. "
      ]
    },
    {
      "cell_type": "code",
      "execution_count": 33,
      "id": "18740644",
      "metadata": {
        "colab": {
          "base_uri": "https://localhost:8080/"
        },
        "id": "18740644",
        "outputId": "9426f8a8-2155-42f1-9c65-495a5dcc1eda"
      },
      "outputs": [
        {
          "output_type": "execute_result",
          "data": {
            "text/plain": [
              "['100',\n",
              " '159',\n",
              " '1_reihe',\n",
              " '1er',\n",
              " '200',\n",
              " '300c',\n",
              " '3_reihe',\n",
              " '3er',\n",
              " '5er',\n",
              " '6_reihe',\n",
              " '6er',\n",
              " '7er',\n",
              " '80',\n",
              " '911',\n",
              " 'a3',\n",
              " 'a4',\n",
              " 'a5',\n",
              " 'a6',\n",
              " 'a8',\n",
              " 'accord',\n",
              " 'astra',\n",
              " 'beetle',\n",
              " 'boxster',\n",
              " 'bravo',\n",
              " 'c_klasse',\n",
              " 'calibra',\n",
              " 'captiva',\n",
              " 'cayenne',\n",
              " 'cc',\n",
              " 'cherokee',\n",
              " 'civic',\n",
              " 'cl',\n",
              " 'clio',\n",
              " 'clk',\n",
              " 'cooper',\n",
              " 'corsa',\n",
              " 'crossfire',\n",
              " 'cuore',\n",
              " 'cx_reihe',\n",
              " 'discovery',\n",
              " 'e_klasse',\n",
              " 'focus',\n",
              " 'g_klasse',\n",
              " 'galant',\n",
              " 'galaxy',\n",
              " 'gl',\n",
              " 'glk',\n",
              " 'golf',\n",
              " 'grand',\n",
              " 'impreza',\n",
              " 'insignia',\n",
              " 'juke',\n",
              " 'kadett',\n",
              " 'lancer',\n",
              " 'legacy',\n",
              " 'leon',\n",
              " 'm_klasse',\n",
              " 'm_reihe',\n",
              " 'matiz',\n",
              " 'megane',\n",
              " 'mustang',\n",
              " 'octavia',\n",
              " 'omega',\n",
              " 'other',\n",
              " 'passat',\n",
              " 'phaeton',\n",
              " 'polo',\n",
              " 'q5',\n",
              " 'q7',\n",
              " 'range_rover',\n",
              " 'range_rover_evoque',\n",
              " 'range_rover_sport',\n",
              " 'rx_reihe',\n",
              " 's_klasse',\n",
              " 's_max',\n",
              " 's_type',\n",
              " 'santa',\n",
              " 'scirocco',\n",
              " 'sl',\n",
              " 'slk',\n",
              " 'spider',\n",
              " 'superb',\n",
              " 'touareg',\n",
              " 'tt',\n",
              " 'twingo',\n",
              " 'unknown',\n",
              " 'v60',\n",
              " 'v70',\n",
              " 'vectra',\n",
              " 'viano',\n",
              " 'x_reihe',\n",
              " 'x_type',\n",
              " 'xc_reihe',\n",
              " 'z_reihe',\n",
              " 'zafira']"
            ]
          },
          "metadata": {},
          "execution_count": 33
        }
      ],
      "source": [
        "sorted(df.query('power > 250 and power <= 600')['model'].unique())"
      ]
    },
    {
      "cell_type": "markdown",
      "id": "20e56ae6",
      "metadata": {
        "id": "20e56ae6"
      },
      "source": [
        "В списке присутствуют как действительно мощные автомобили (например, Ford Mustang - до 500 л.с.; Mercedes-Benz E-class - до 600 л.с.), так и не очень правдоподобные значения(к примеру, Сhevrolet Matiz - менее 100 л.с., Skoda Octavia - менее 200 л.с.). Возможно, это тюнингованные автомобили? По гистрограмме видно, что где-то после 400 л.с. автомобилей совсем мало. Примем это значение верхней границей и удалим все объекты с большей мощностью."
      ]
    },
    {
      "cell_type": "code",
      "execution_count": 34,
      "id": "79eaf267",
      "metadata": {
        "colab": {
          "base_uri": "https://localhost:8080/"
        },
        "id": "79eaf267",
        "outputId": "5c2f7380-8081-48fc-a99f-1202f10c3ad4"
      },
      "outputs": [
        {
          "output_type": "execute_result",
          "data": {
            "text/plain": [
              "650"
            ]
          },
          "metadata": {},
          "execution_count": 34
        }
      ],
      "source": [
        "# просмотр количества объектов с мощностью выше 400 л.с.\n",
        "df.query('power > 400')['power'].count()"
      ]
    },
    {
      "cell_type": "markdown",
      "id": "52ee06b1",
      "metadata": {
        "id": "52ee06b1"
      },
      "source": [
        "Теперь посмотрим на область низких значений."
      ]
    },
    {
      "cell_type": "code",
      "execution_count": 35,
      "id": "c660f61d",
      "metadata": {
        "colab": {
          "base_uri": "https://localhost:8080/",
          "height": 279
        },
        "id": "c660f61d",
        "outputId": "395df587-c250-47c6-dae2-6df00dd22156"
      },
      "outputs": [
        {
          "output_type": "display_data",
          "data": {
            "text/plain": [
              "<Figure size 432x288 with 1 Axes>"
            ],
            "image/png": "[encoded data removed]"
          },
          "metadata": {
            "needs_background": "light"
          }
        }
      ],
      "source": [
        "# построение гистограммы по мощности\n",
        "df['power'].hist(range=(0, 100))\n",
        "plt.xlabel('Мощность, л.с.')\n",
        "plt.ylabel('Количество автомобилей')\n",
        "plt.show()"
      ]
    },
    {
      "cell_type": "code",
      "execution_count": 36,
      "id": "e9f8e28f",
      "metadata": {
        "colab": {
          "base_uri": "https://localhost:8080/"
        },
        "id": "e9f8e28f",
        "outputId": "ec8e3480-6ca6-42fe-db54-c59b380a44a6"
      },
      "outputs": [
        {
          "output_type": "execute_result",
          "data": {
            "text/plain": [
              "31555"
            ]
          },
          "metadata": {},
          "execution_count": 36
        }
      ],
      "source": [
        "# просмотр количества объектов с мощностью 0 л.с.\n",
        "df.query('power == 0')['power'].count()"
      ]
    },
    {
      "cell_type": "markdown",
      "id": "a783ab75",
      "metadata": {
        "id": "a783ab75"
      },
      "source": [
        "Очень большое количество объектов (около 10%) имеют нулевую мощность, чего быть не может. Либо её не знали при заполнении анкеты, либо ошиблись при вводе, либо произошёл сбой, и данные не сохранились. Удалять эти объекты не стоит, но и оставлять с нулёвой мощностью не правильно. Можно попробовать заполнить эти значения медианой по сочетанию марки, модели, типа топлива и типа кузова. А оставшиеся значения можно будет удалить.\n",
        "\n",
        "Объекты с мощностью 20 л.с. и менее также удаляем, их мало, и такие значения неправдоподобны. "
      ]
    },
    {
      "cell_type": "markdown",
      "id": "c491fce9",
      "metadata": {
        "id": "c491fce9"
      },
      "source": [
        "Для современного мира мощность автомобиля 20...40 л.с. является неправдоподобно низкой. Однако, в данных мы оставили автомобили с годом регистрации, начиная с 1950 г. И старые автомобили как раз могут иметь такую мощность. Посмотрим на распределение количества автомобилей по маркам с мощностями от 20 до 40 л.с."
      ]
    },
    {
      "cell_type": "code",
      "execution_count": 37,
      "id": "c8c3a7f0",
      "metadata": {
        "colab": {
          "base_uri": "https://localhost:8080/"
        },
        "id": "c8c3a7f0",
        "outputId": "12cf0689-3053-461e-8c97-7868c86afd5a"
      },
      "outputs": [
        {
          "output_type": "execute_result",
          "data": {
            "text/plain": [
              "model\n",
              "1_reihe       4\n",
              "500          29\n",
              "601         218\n",
              "a6            1\n",
              "arosa         6\n",
              "astra         1\n",
              "c2            1\n",
              "c_klasse      1\n",
              "cooper        1\n",
              "corsa        22\n",
              "cuore         3\n",
              "fiesta        6\n",
              "fortwo       17\n",
              "ka            3\n",
              "kadett        2\n",
              "kaefer      127\n",
              "lupo         12\n",
              "matiz         2\n",
              "micra         2\n",
              "move          1\n",
              "other       250\n",
              "panda         9\n",
              "polo         24\n",
              "roadster      1\n",
              "seicento     47\n",
              "sharan        1\n",
              "sorento       1\n",
              "swift         6\n",
              "twingo        1\n",
              "unknown      85\n",
              "Name: model, dtype: int64"
            ]
          },
          "metadata": {},
          "execution_count": 37
        }
      ],
      "source": [
        "# просмотр количества объектов по маркам с мощностью от 20 до 40 л.с.\n",
        "df.query('power > 20 and power < 40').groupby('model')['model'].count()"
      ]
    },
    {
      "cell_type": "code",
      "execution_count": 38,
      "id": "eb286253",
      "metadata": {
        "colab": {
          "base_uri": "https://localhost:8080/"
        },
        "id": "eb286253",
        "outputId": "f55ae9bd-804f-4cdb-a659-da4f68c9ff13"
      },
      "outputs": [
        {
          "output_type": "execute_result",
          "data": {
            "text/plain": [
              "registration_year\n",
              "1950     1\n",
              "1951     1\n",
              "1952     2\n",
              "1954     1\n",
              "1955     2\n",
              "1958     1\n",
              "1959     3\n",
              "1960     8\n",
              "1961     3\n",
              "1962     4\n",
              "1963     2\n",
              "1965     5\n",
              "1966     3\n",
              "1967     2\n",
              "1968     3\n",
              "1969     2\n",
              "1970     4\n",
              "1971     3\n",
              "1972     4\n",
              "1974     7\n",
              "1975     2\n",
              "1976     1\n",
              "1977     1\n",
              "1978    12\n",
              "1979     1\n",
              "1980     5\n",
              "1981     6\n",
              "1982     5\n",
              "1983     3\n",
              "1984    11\n",
              "1985    15\n",
              "1986    16\n",
              "1987    10\n",
              "1988    14\n",
              "1989    14\n",
              "1990     6\n",
              "1991     3\n",
              "1992     5\n",
              "1993     9\n",
              "1994     9\n",
              "1995     4\n",
              "1996    17\n",
              "1997    10\n",
              "1998     2\n",
              "1999     2\n",
              "2000     2\n",
              "2001     2\n",
              "2016     2\n",
              "Name: registration_year, dtype: int64"
            ]
          },
          "metadata": {},
          "execution_count": 38
        }
      ],
      "source": [
        "# просмотр количества объектов по маркам с мощностью от 20 до 40 л.с. и маркой other\n",
        "df.query('power > 20 and power < 40 and model ==\"other\"').groupby('registration_year')['registration_year'].count()"
      ]
    },
    {
      "cell_type": "markdown",
      "id": "7e838ae6",
      "metadata": {
        "id": "7e838ae6"
      },
      "source": [
        "В данной мощностной группе больше всего автомобилей марки 'other'. Возможно, модель этих автомобилей не указывалась, либо её не было в выпадающем списке (если анкета так устроена). Это действительно, в основном старые автомобили.\n",
        "\n",
        "Следующая по многочисленности группа (218 штук) - это автомобиль марки 601. Это *Trabant*, выпускавшийся с 1957 г. в ГДР. Его мощность - 26 л.с. (А изначально - вообще 18 л.с.)\n",
        "\n",
        "Далее идёт *Volkswagen Kaefer* (127 штук), выпускавшийся с 1946 г. Диапазон мощностей - от 25 до 50 л.с.\n",
        "\n",
        "Ещё один пример - *Fiat Seicento* (47 штук). Выпускался с 1997 г. Мощность - от 39 до 55 л.с.\n",
        "\n",
        "Несмотря на то, что приведённые автомобили составляют небольшой процент в данных, но всё же они есть на рынке и не являются ошибками, поэтому удалять их не правильно."
      ]
    },
    {
      "cell_type": "code",
      "execution_count": 39,
      "id": "30261f07",
      "metadata": {
        "colab": {
          "base_uri": "https://localhost:8080/"
        },
        "id": "30261f07",
        "outputId": "b23483ed-f075-4760-80fe-f8ff9bbca95e"
      },
      "outputs": [
        {
          "output_type": "stream",
          "name": "stdout",
          "text": [
            "31555\n",
            "323\n",
            "(325858, 10)\n"
          ]
        }
      ],
      "source": [
        "# замена нулевых мощностей на пропуски\n",
        "df.loc[(df['power'] == 0), 'power'] = np.nan\n",
        "# удаление объектов с мощнотью 20 л.с. и менее или более 400 л.с.\n",
        "df = df.loc[(df['power'] > 20) & (df['power'] <= 400) | np.isnan(df['power'])]\n",
        "# просмотр количества пропусков в признаке power\n",
        "# до заполнения пропусков\n",
        "print(df['power'].isna().sum())\n",
        "# заполнение пропусков в признаке power\n",
        "df['power'] = df['power'].fillna(\n",
        "    df.groupby(['brand', 'model', 'fuel_type', 'vehicle_type'])['power'].transform('median'))\n",
        "# просмотр количества пропусков в признаке power\n",
        "# после заполнения пропусков\n",
        "print(df['power'].isna().sum())\n",
        "# удаление объектов с оставшимися пропусками\n",
        "df = df.dropna(subset=['power'])\n",
        "# замена типа данных признака power\n",
        "df['power'] = df['power'].astype('int64')\n",
        "# просмотр размера таблицы\n",
        "print(df.shape)"
      ]
    },
    {
      "cell_type": "code",
      "execution_count": 40,
      "id": "ce7f14e9",
      "metadata": {
        "colab": {
          "base_uri": "https://localhost:8080/",
          "height": 279
        },
        "id": "ce7f14e9",
        "outputId": "49b7892b-4a2e-41a7-c2ed-e673f508b1b0",
        "scrolled": true
      },
      "outputs": [
        {
          "output_type": "display_data",
          "data": {
            "text/plain": [
              "<Figure size 432x288 with 1 Axes>"
            ],
            "image/png": "[encoded data removed]"
          },
          "metadata": {
            "needs_background": "light"
          }
        }
      ],
      "source": [
        "# построение гистограммы по мощности 0...100 л.с.\n",
        "df['power'].hist(range=(0, 100))\n",
        "plt.xlabel('Мощность, л.с.')\n",
        "plt.ylabel('Количество автомобилей')\n",
        "plt.show()"
      ]
    },
    {
      "cell_type": "code",
      "execution_count": 41,
      "id": "cc3723af",
      "metadata": {
        "colab": {
          "base_uri": "https://localhost:8080/",
          "height": 279
        },
        "id": "cc3723af",
        "outputId": "3d58154f-a580-417a-e348-5e0319814b1d"
      },
      "outputs": [
        {
          "output_type": "display_data",
          "data": {
            "text/plain": [
              "<Figure size 432x288 with 1 Axes>"
            ],
            "image/png": "[encoded data removed]"
          },
          "metadata": {
            "needs_background": "light"
          }
        }
      ],
      "source": [
        "# построение гистограммы по мощности 0...600 л.с.\n",
        "df['power'].hist(range=(0, 600))\n",
        "plt.xlabel('Мощность, л.с.')\n",
        "plt.ylabel('Количество автомобилей')\n",
        "plt.show()"
      ]
    },
    {
      "cell_type": "markdown",
      "id": "f53cdfd7",
      "metadata": {
        "id": "f53cdfd7"
      },
      "source": [
        "Нулевые значения мощности заменены; значения, которые не удалось заменить, удалены. Общий характер гистограммы не изменился. Осталось 92% исходных данных."
      ]
    },
    {
      "cell_type": "markdown",
      "id": "87ee0e2c",
      "metadata": {
        "id": "87ee0e2c"
      },
      "source": [
        "**Работа с ошибками. Итоговый осмотр данных**"
      ]
    },
    {
      "cell_type": "markdown",
      "id": "ee3b9d91",
      "metadata": {
        "id": "ee3b9d91"
      },
      "source": [
        "После всех преобразований проверим, что типы данных остались корректными и что характерные значения признаков адекватны."
      ]
    },
    {
      "cell_type": "code",
      "execution_count": 42,
      "id": "bb880a0f",
      "metadata": {
        "colab": {
          "base_uri": "https://localhost:8080/"
        },
        "id": "bb880a0f",
        "outputId": "c9503681-e135-4812-f863-291b0a8f9b61"
      },
      "outputs": [
        {
          "output_type": "execute_result",
          "data": {
            "text/plain": [
              "price                 int64\n",
              "vehicle_type         object\n",
              "registration_year     int64\n",
              "gearbox              object\n",
              "power                 int64\n",
              "model                object\n",
              "kilometer             int64\n",
              "fuel_type            object\n",
              "brand                object\n",
              "not_repaired         object\n",
              "dtype: object"
            ]
          },
          "metadata": {},
          "execution_count": 42
        }
      ],
      "source": [
        "# просмотр типов данных\n",
        "df.dtypes"
      ]
    },
    {
      "cell_type": "code",
      "execution_count": 43,
      "id": "6f332493",
      "metadata": {
        "colab": {
          "base_uri": "https://localhost:8080/",
          "height": 300
        },
        "id": "6f332493",
        "outputId": "b4f362d1-2609-4094-c530-67064d6c0e7d",
        "scrolled": true
      },
      "outputs": [
        {
          "output_type": "execute_result",
          "data": {
            "text/plain": [
              "               price  registration_year          power      kilometer\n",
              "count  325858.000000      325858.000000  325858.000000  325858.000000\n",
              "mean     4634.660199        2002.656568     118.937197  128476.959289\n",
              "std      4537.496332           6.699390      51.715167   37099.539430\n",
              "min       100.000000        1950.000000      21.000000    5000.000000\n",
              "25%      1200.000000        1999.000000      75.000000  125000.000000\n",
              "50%      2950.000000        2003.000000     110.000000  150000.000000\n",
              "75%      6700.000000        2007.000000     145.000000  150000.000000\n",
              "max     20000.000000        2016.000000     400.000000  150000.000000"
            ],
            "text/html": [
              "\n",
              "  <div id=\"df-04f5e189-716b-4eb2-b0fe-72188f3aefd1\">\n",
              "    <div class=\"colab-df-container\">\n",
              "      <div>\n",
              "<style scoped>\n",
              "    .dataframe tbody tr th:only-of-type {\n",
              "        vertical-align: middle;\n",
              "    }\n",
              "\n",
              "    .dataframe tbody tr th {\n",
              "        vertical-align: top;\n",
              "    }\n",
              "\n",
              "    .dataframe thead th {\n",
              "        text-align: right;\n",
              "    }\n",
              "</style>\n",
              "<table border=\"1\" class=\"dataframe\">\n",
              "  <thead>\n",
              "    <tr style=\"text-align: right;\">\n",
              "      <th></th>\n",
              "      <th>price</th>\n",
              "      <th>registration_year</th>\n",
              "      <th>power</th>\n",
              "      <th>kilometer</th>\n",
              "    </tr>\n",
              "  </thead>\n",
              "  <tbody>\n",
              "    <tr>\n",
              "      <th>count</th>\n",
              "      <td>325858.000000</td>\n",
              "      <td>325858.000000</td>\n",
              "      <td>325858.000000</td>\n",
              "      <td>325858.000000</td>\n",
              "    </tr>\n",
              "    <tr>\n",
              "      <th>mean</th>\n",
              "      <td>4634.660199</td>\n",
              "      <td>2002.656568</td>\n",
              "      <td>118.937197</td>\n",
              "      <td>128476.959289</td>\n",
              "    </tr>\n",
              "    <tr>\n",
              "      <th>std</th>\n",
              "      <td>4537.496332</td>\n",
              "      <td>6.699390</td>\n",
              "      <td>51.715167</td>\n",
              "      <td>37099.539430</td>\n",
              "    </tr>\n",
              "    <tr>\n",
              "      <th>min</th>\n",
              "      <td>100.000000</td>\n",
              "      <td>1950.000000</td>\n",
              "      <td>21.000000</td>\n",
              "      <td>5000.000000</td>\n",
              "    </tr>\n",
              "    <tr>\n",
              "      <th>25%</th>\n",
              "      <td>1200.000000</td>\n",
              "      <td>1999.000000</td>\n",
              "      <td>75.000000</td>\n",
              "      <td>125000.000000</td>\n",
              "    </tr>\n",
              "    <tr>\n",
              "      <th>50%</th>\n",
              "      <td>2950.000000</td>\n",
              "      <td>2003.000000</td>\n",
              "      <td>110.000000</td>\n",
              "      <td>150000.000000</td>\n",
              "    </tr>\n",
              "    <tr>\n",
              "      <th>75%</th>\n",
              "      <td>6700.000000</td>\n",
              "      <td>2007.000000</td>\n",
              "      <td>145.000000</td>\n",
              "      <td>150000.000000</td>\n",
              "    </tr>\n",
              "    <tr>\n",
              "      <th>max</th>\n",
              "      <td>20000.000000</td>\n",
              "      <td>2016.000000</td>\n",
              "      <td>400.000000</td>\n",
              "      <td>150000.000000</td>\n",
              "    </tr>\n",
              "  </tbody>\n",
              "</table>\n",
              "</div>\n",
              "      <button class=\"colab-df-convert\" onclick=\"convertToInteractive('df-04f5e189-716b-4eb2-b0fe-72188f3aefd1')\"\n",
              "              title=\"Convert this dataframe to an interactive table.\"\n",
              "              style=\"display:none;\">\n",
              "        \n",
              "  <svg xmlns=\"http://www.w3.org/2000/svg\" height=\"24px\"viewBox=\"0 0 24 24\"\n",
              "       width=\"24px\">\n",
              "    <path d=\"M0 0h24v24H0V0z\" fill=\"none\"/>\n",
              "    <path d=\"M18.56 5.44l.94 2.06.94-2.06 2.06-.94-2.06-.94-.94-2.06-.94 2.06-2.06.94zm-11 1L8.5 8.5l.94-2.06 2.06-.94-2.06-.94L8.5 2.5l-.94 2.06-2.06.94zm10 10l.94 2.06.94-2.06 2.06-.94-2.06-.94-.94-2.06-.94 2.06-2.06.94z\"/><path d=\"M17.41 7.96l-1.37-1.37c-.4-.4-.92-.59-1.43-.59-.52 0-1.04.2-1.43.59L10.3 9.45l-7.72 7.72c-.78.78-.78 2.05 0 2.83L4 21.41c.39.39.9.59 1.41.59.51 0 1.02-.2 1.41-.59l7.78-7.78 2.81-2.81c.8-.78.8-2.07 0-2.86zM5.41 20L4 18.59l7.72-7.72 1.47 1.35L5.41 20z\"/>\n",
              "  </svg>\n",
              "      </button>\n",
              "      \n",
              "  <style>\n",
              "    .colab-df-container {\n",
              "      display:flex;\n",
              "      flex-wrap:wrap;\n",
              "      gap: 12px;\n",
              "    }\n",
              "\n",
              "    .colab-df-convert {\n",
              "      background-color: #E8F0FE;\n",
              "      border: none;\n",
              "      border-radius: 50%;\n",
              "      cursor: pointer;\n",
              "      display: none;\n",
              "      fill: #1967D2;\n",
              "      height: 32px;\n",
              "      padding: 0 0 0 0;\n",
              "      width: 32px;\n",
              "    }\n",
              "\n",
              "    .colab-df-convert:hover {\n",
              "      background-color: #E2EBFA;\n",
              "      box-shadow: 0px 1px 2px rgba(60, 64, 67, 0.3), 0px 1px 3px 1px rgba(60, 64, 67, 0.15);\n",
              "      fill: #174EA6;\n",
              "    }\n",
              "\n",
              "    [theme=dark] .colab-df-convert {\n",
              "      background-color: #3B4455;\n",
              "      fill: #D2E3FC;\n",
              "    }\n",
              "\n",
              "    [theme=dark] .colab-df-convert:hover {\n",
              "      background-color: #434B5C;\n",
              "      box-shadow: 0px 1px 3px 1px rgba(0, 0, 0, 0.15);\n",
              "      filter: drop-shadow(0px 1px 2px rgba(0, 0, 0, 0.3));\n",
              "      fill: #FFFFFF;\n",
              "    }\n",
              "  </style>\n",
              "\n",
              "      <script>\n",
              "        const buttonEl =\n",
              "          document.querySelector('#df-04f5e189-716b-4eb2-b0fe-72188f3aefd1 button.colab-df-convert');\n",
              "        buttonEl.style.display =\n",
              "          google.colab.kernel.accessAllowed ? 'block' : 'none';\n",
              "\n",
              "        async function convertToInteractive(key) {\n",
              "          const element = document.querySelector('#df-04f5e189-716b-4eb2-b0fe-72188f3aefd1');\n",
              "          const dataTable =\n",
              "            await google.colab.kernel.invokeFunction('convertToInteractive',\n",
              "                                                     [key], {});\n",
              "          if (!dataTable) return;\n",
              "\n",
              "          const docLinkHtml = 'Like what you see? Visit the ' +\n",
              "            '<a target=\"_blank\" href=https://colab.research.google.com/notebooks/data_table.ipynb>data table notebook</a>'\n",
              "            + ' to learn more about interactive tables.';\n",
              "          element.innerHTML = '';\n",
              "          dataTable['output_type'] = 'display_data';\n",
              "          await google.colab.output.renderOutput(dataTable, element);\n",
              "          const docLink = document.createElement('div');\n",
              "          docLink.innerHTML = docLinkHtml;\n",
              "          element.appendChild(docLink);\n",
              "        }\n",
              "      </script>\n",
              "    </div>\n",
              "  </div>\n",
              "  "
            ]
          },
          "metadata": {},
          "execution_count": 43
        }
      ],
      "source": [
        "# получение характерных значений количественных признаков\n",
        "df.describe()"
      ]
    },
    {
      "cell_type": "code",
      "execution_count": 44,
      "id": "77f21cde",
      "metadata": {
        "colab": {
          "base_uri": "https://localhost:8080/",
          "height": 175
        },
        "id": "77f21cde",
        "outputId": "6f2b2449-1b5b-4fb7-9fed-9f6a05441597"
      },
      "outputs": [
        {
          "output_type": "execute_result",
          "data": {
            "text/plain": [
              "       vehicle_type gearbox   model fuel_type       brand not_repaired\n",
              "count        325858  325858  325858    325858      325858       325858\n",
              "unique            9       3     250         7          40            3\n",
              "top           sedan  manual    golf    petrol  volkswagen           no\n",
              "freq          88791  249241   26546    319212       70212       235701"
            ],
            "text/html": [
              "\n",
              "  <div id=\"df-82248cc1-2b8d-4c0a-b85c-a1449278638e\">\n",
              "    <div class=\"colab-df-container\">\n",
              "      <div>\n",
              "<style scoped>\n",
              "    .dataframe tbody tr th:only-of-type {\n",
              "        vertical-align: middle;\n",
              "    }\n",
              "\n",
              "    .dataframe tbody tr th {\n",
              "        vertical-align: top;\n",
              "    }\n",
              "\n",
              "    .dataframe thead th {\n",
              "        text-align: right;\n",
              "    }\n",
              "</style>\n",
              "<table border=\"1\" class=\"dataframe\">\n",
              "  <thead>\n",
              "    <tr style=\"text-align: right;\">\n",
              "      <th></th>\n",
              "      <th>vehicle_type</th>\n",
              "      <th>gearbox</th>\n",
              "      <th>model</th>\n",
              "      <th>fuel_type</th>\n",
              "      <th>brand</th>\n",
              "      <th>not_repaired</th>\n",
              "    </tr>\n",
              "  </thead>\n",
              "  <tbody>\n",
              "    <tr>\n",
              "      <th>count</th>\n",
              "      <td>325858</td>\n",
              "      <td>325858</td>\n",
              "      <td>325858</td>\n",
              "      <td>325858</td>\n",
              "      <td>325858</td>\n",
              "      <td>325858</td>\n",
              "    </tr>\n",
              "    <tr>\n",
              "      <th>unique</th>\n",
              "      <td>9</td>\n",
              "      <td>3</td>\n",
              "      <td>250</td>\n",
              "      <td>7</td>\n",
              "      <td>40</td>\n",
              "      <td>3</td>\n",
              "    </tr>\n",
              "    <tr>\n",
              "      <th>top</th>\n",
              "      <td>sedan</td>\n",
              "      <td>manual</td>\n",
              "      <td>golf</td>\n",
              "      <td>petrol</td>\n",
              "      <td>volkswagen</td>\n",
              "      <td>no</td>\n",
              "    </tr>\n",
              "    <tr>\n",
              "      <th>freq</th>\n",
              "      <td>88791</td>\n",
              "      <td>249241</td>\n",
              "      <td>26546</td>\n",
              "      <td>319212</td>\n",
              "      <td>70212</td>\n",
              "      <td>235701</td>\n",
              "    </tr>\n",
              "  </tbody>\n",
              "</table>\n",
              "</div>\n",
              "      <button class=\"colab-df-convert\" onclick=\"convertToInteractive('df-82248cc1-2b8d-4c0a-b85c-a1449278638e')\"\n",
              "              title=\"Convert this dataframe to an interactive table.\"\n",
              "              style=\"display:none;\">\n",
              "        \n",
              "  <svg xmlns=\"http://www.w3.org/2000/svg\" height=\"24px\"viewBox=\"0 0 24 24\"\n",
              "       width=\"24px\">\n",
              "    <path d=\"M0 0h24v24H0V0z\" fill=\"none\"/>\n",
              "    <path d=\"M18.56 5.44l.94 2.06.94-2.06 2.06-.94-2.06-.94-.94-2.06-.94 2.06-2.06.94zm-11 1L8.5 8.5l.94-2.06 2.06-.94-2.06-.94L8.5 2.5l-.94 2.06-2.06.94zm10 10l.94 2.06.94-2.06 2.06-.94-2.06-.94-.94-2.06-.94 2.06-2.06.94z\"/><path d=\"M17.41 7.96l-1.37-1.37c-.4-.4-.92-.59-1.43-.59-.52 0-1.04.2-1.43.59L10.3 9.45l-7.72 7.72c-.78.78-.78 2.05 0 2.83L4 21.41c.39.39.9.59 1.41.59.51 0 1.02-.2 1.41-.59l7.78-7.78 2.81-2.81c.8-.78.8-2.07 0-2.86zM5.41 20L4 18.59l7.72-7.72 1.47 1.35L5.41 20z\"/>\n",
              "  </svg>\n",
              "      </button>\n",
              "      \n",
              "  <style>\n",
              "    .colab-df-container {\n",
              "      display:flex;\n",
              "      flex-wrap:wrap;\n",
              "      gap: 12px;\n",
              "    }\n",
              "\n",
              "    .colab-df-convert {\n",
              "      background-color: #E8F0FE;\n",
              "      border: none;\n",
              "      border-radius: 50%;\n",
              "      cursor: pointer;\n",
              "      display: none;\n",
              "      fill: #1967D2;\n",
              "      height: 32px;\n",
              "      padding: 0 0 0 0;\n",
              "      width: 32px;\n",
              "    }\n",
              "\n",
              "    .colab-df-convert:hover {\n",
              "      background-color: #E2EBFA;\n",
              "      box-shadow: 0px 1px 2px rgba(60, 64, 67, 0.3), 0px 1px 3px 1px rgba(60, 64, 67, 0.15);\n",
              "      fill: #174EA6;\n",
              "    }\n",
              "\n",
              "    [theme=dark] .colab-df-convert {\n",
              "      background-color: #3B4455;\n",
              "      fill: #D2E3FC;\n",
              "    }\n",
              "\n",
              "    [theme=dark] .colab-df-convert:hover {\n",
              "      background-color: #434B5C;\n",
              "      box-shadow: 0px 1px 3px 1px rgba(0, 0, 0, 0.15);\n",
              "      filter: drop-shadow(0px 1px 2px rgba(0, 0, 0, 0.3));\n",
              "      fill: #FFFFFF;\n",
              "    }\n",
              "  </style>\n",
              "\n",
              "      <script>\n",
              "        const buttonEl =\n",
              "          document.querySelector('#df-82248cc1-2b8d-4c0a-b85c-a1449278638e button.colab-df-convert');\n",
              "        buttonEl.style.display =\n",
              "          google.colab.kernel.accessAllowed ? 'block' : 'none';\n",
              "\n",
              "        async function convertToInteractive(key) {\n",
              "          const element = document.querySelector('#df-82248cc1-2b8d-4c0a-b85c-a1449278638e');\n",
              "          const dataTable =\n",
              "            await google.colab.kernel.invokeFunction('convertToInteractive',\n",
              "                                                     [key], {});\n",
              "          if (!dataTable) return;\n",
              "\n",
              "          const docLinkHtml = 'Like what you see? Visit the ' +\n",
              "            '<a target=\"_blank\" href=https://colab.research.google.com/notebooks/data_table.ipynb>data table notebook</a>'\n",
              "            + ' to learn more about interactive tables.';\n",
              "          element.innerHTML = '';\n",
              "          dataTable['output_type'] = 'display_data';\n",
              "          await google.colab.output.renderOutput(dataTable, element);\n",
              "          const docLink = document.createElement('div');\n",
              "          docLink.innerHTML = docLinkHtml;\n",
              "          element.appendChild(docLink);\n",
              "        }\n",
              "      </script>\n",
              "    </div>\n",
              "  </div>\n",
              "  "
            ]
          },
          "metadata": {},
          "execution_count": 44
        }
      ],
      "source": [
        "# получение характерных значений категориальных признаков\n",
        "df.describe(include=[object])"
      ]
    },
    {
      "cell_type": "markdown",
      "id": "38f0dca8",
      "metadata": {
        "id": "38f0dca8"
      },
      "source": [
        "Данные корректны и адекватны; значения характерных признаков почти не изменились (не считая изменённых нижних и верхних границ части признаков)."
      ]
    },
    {
      "cell_type": "markdown",
      "id": "a384d42a",
      "metadata": {
        "id": "a384d42a"
      },
      "source": [
        "### 1.3 Подготовка признаков для простых моделей"
      ]
    },
    {
      "cell_type": "markdown",
      "id": "75ba0d28",
      "metadata": {
        "id": "75ba0d28"
      },
      "source": [
        "В данных присутствуют категориальные признаки, их следует преобразовать в количественные.\n",
        "Для признаков `gearbox`, `fuel_type`, `not_repaired` можно применить прямое кодирование, т.к. значений этих признаков не очень много.\n",
        "\n",
        "А вот для признаков `model`, `brand` и `vehicle_type` следует применить порядковое кодирование, иначе мы получим огромное количество новых признаков (около 300). Для того, чтобы модель не считала одни значения более весомыми, чем другие, после порядкового кодирования следует применить двоичное."
      ]
    },
    {
      "cell_type": "markdown",
      "id": "68b5ad4f",
      "metadata": {
        "id": "68b5ad4f"
      },
      "source": [
        "**Подготовка признаков для линейной регрессии**"
      ]
    },
    {
      "cell_type": "markdown",
      "id": "5ff7839d",
      "metadata": {
        "id": "5ff7839d"
      },
      "source": [
        "Для начала подготовим признаки для линейной регрессии. Ивлечём признаки в переменную `features` и целевой признак `price` в переменную `target`, после чего разделим исходные данные на обучающую и тестовую в соотношении 75:25."
      ]
    },
    {
      "cell_type": "code",
      "execution_count": 45,
      "id": "b4470df2",
      "metadata": {
        "colab": {
          "base_uri": "https://localhost:8080/"
        },
        "id": "b4470df2",
        "outputId": "332f0113-a4bc-45ea-a7e9-acf0b38f4f7a"
      },
      "outputs": [
        {
          "output_type": "stream",
          "name": "stdout",
          "text": [
            "Размер признаков обучающей выборки: (244393, 9)\n",
            "Размер целевого признака обучающей выборки: (244393,)\n",
            "Размер признаков тестовой выборки: (81465, 9)\n",
            "Размер целевого признака тестовой выборки: (81465,)\n"
          ]
        }
      ],
      "source": [
        "# разделение на признаки и целевой признак и \n",
        "# отделение 25% исходных данных для тестовой выборки\n",
        "X_train_ohe, X_test_ohe, y_train_ohe, y_test_ohe = train_test_split(\n",
        "    df.drop(['price'], axis=1),\n",
        "    df.price, test_size=0.25, random_state=rs)\n",
        "\n",
        "# вывод на экран размеров признаков полученных выборок\n",
        "print(f'Размер признаков обучающей выборки: {X_train_ohe.shape}')\n",
        "print(f'Размер целевого признака обучающей выборки: {y_train_ohe.shape}')\n",
        "print(f'Размер признаков тестовой выборки: {X_test_ohe.shape}')\n",
        "print(f'Размер целевого признака тестовой выборки: {y_test_ohe.shape}')"
      ]
    },
    {
      "cell_type": "markdown",
      "id": "8dc3e3c5",
      "metadata": {
        "id": "8dc3e3c5"
      },
      "source": [
        "Разделение корректное."
      ]
    },
    {
      "cell_type": "markdown",
      "id": "d437efc6",
      "metadata": {
        "id": "d437efc6"
      },
      "source": [
        "Теперь применим прямое кодирование для признаков `gearbox`, `fuel_type`, `not_repaired` и порядковое и бинарное кодирование для признаков `model`, `brand` и `vehicle_type`."
      ]
    },
    {
      "cell_type": "code",
      "execution_count": 46,
      "id": "79ca91ad",
      "metadata": {
        "id": "79ca91ad"
      },
      "outputs": [],
      "source": [
        "def features_preparing_lr(Xtrain, Xtest, ohe, oe, num):\n",
        "  '''\n",
        "  функция для подготовки признаков для линейной регрессии.\n",
        "  Принимает на вход признаки обучающей и тестовой выборок,\n",
        "  список категориальных признаков для OHE и для OE,\n",
        "  список количественных признаков для масштабирования.\n",
        "  Возвращает закодированные признаки\n",
        "  '''\n",
        "  Xtrain = pd.get_dummies(Xtrain,\n",
        "                          columns = cols_ohe,\n",
        "                          drop_first=True)\n",
        "  Xtest = pd.get_dummies(Xtest,\n",
        "                          columns = cols_ohe,\n",
        "                          drop_first=True)\n",
        "  \n",
        "  enc_oe = OrdinalEncoder()\n",
        "  enc_oe.fit(X_train_ohe[oe])\n",
        "  \n",
        "  Xtrain[oe] = enc_oe.transform(Xtrain[oe])\n",
        "  Xtest[oe] = enc_oe.transform(Xtest[oe])\n",
        "\n",
        "  enc_bi = ce.BinaryEncoder(cols = oe)\n",
        "  enc_bi.fit(Xtrain)\n",
        "\n",
        "  Xtrain = enc_bi.transform(Xtrain)\n",
        "  Xtest = enc_bi.transform(Xtest)\n",
        "\n",
        "  scaler = StandardScaler()\n",
        "  scaler.fit(Xtrain[num]) \n",
        "\n",
        "  Xtrain[num] = scaler.transform(\n",
        "      Xtrain[num])\n",
        "  Xtest[num] = scaler.transform(\n",
        "      Xtest[num])\n",
        "\n",
        "  return Xtrain, Xtest "
      ]
    },
    {
      "cell_type": "code",
      "execution_count": 47,
      "id": "fede591a",
      "metadata": {
        "colab": {
          "base_uri": "https://localhost:8080/",
          "height": 393
        },
        "id": "fede591a",
        "outputId": "669ac0ea-1ea0-4cd9-b08c-2a36e6f882d3"
      },
      "outputs": [
        {
          "output_type": "display_data",
          "data": {
            "text/plain": [
              "        vehicle_type_0  vehicle_type_1  vehicle_type_2  vehicle_type_3  \\\n",
              "228421               0               0               0               1   \n",
              "79438                0               0               1               0   \n",
              "232910               0               0               1               1   \n",
              "\n",
              "        registration_year     power  model_0  model_1  model_2  model_3  ...  \\\n",
              "228421           0.200497 -0.327925        0        0        0        0  ...   \n",
              "79438            1.246560  0.464367        0        0        0        0  ...   \n",
              "232910           0.798247  0.503015        0        0        0        0  ...   \n",
              "\n",
              "        gearbox_manual  gearbox_unknown  fuel_type_electric  fuel_type_hybrid  \\\n",
              "228421               1                0                   0                 0   \n",
              "79438                1                0                   0                 0   \n",
              "232910               0                0                   0                 0   \n",
              "\n",
              "        fuel_type_lpg  fuel_type_other  fuel_type_petrol  fuel_type_unknown  \\\n",
              "228421              0                0                 1                  0   \n",
              "79438               0                0                 1                  0   \n",
              "232910              0                0                 1                  0   \n",
              "\n",
              "        not_repaired_unknown  not_repaired_yes  \n",
              "228421                     0                 0  \n",
              "79438                      0                 0  \n",
              "232910                     0                 0  \n",
              "\n",
              "[3 rows x 31 columns]"
            ],
            "text/html": [
              "\n",
              "  <div id=\"df-2c000162-3fe4-4e7e-9788-b37c610741f6\">\n",
              "    <div class=\"colab-df-container\">\n",
              "      <div>\n",
              "<style scoped>\n",
              "    .dataframe tbody tr th:only-of-type {\n",
              "        vertical-align: middle;\n",
              "    }\n",
              "\n",
              "    .dataframe tbody tr th {\n",
              "        vertical-align: top;\n",
              "    }\n",
              "\n",
              "    .dataframe thead th {\n",
              "        text-align: right;\n",
              "    }\n",
              "</style>\n",
              "<table border=\"1\" class=\"dataframe\">\n",
              "  <thead>\n",
              "    <tr style=\"text-align: right;\">\n",
              "      <th></th>\n",
              "      <th>vehicle_type_0</th>\n",
              "      <th>vehicle_type_1</th>\n",
              "      <th>vehicle_type_2</th>\n",
              "      <th>vehicle_type_3</th>\n",
              "      <th>registration_year</th>\n",
              "      <th>power</th>\n",
              "      <th>model_0</th>\n",
              "      <th>model_1</th>\n",
              "      <th>model_2</th>\n",
              "      <th>model_3</th>\n",
              "      <th>...</th>\n",
              "      <th>gearbox_manual</th>\n",
              "      <th>gearbox_unknown</th>\n",
              "      <th>fuel_type_electric</th>\n",
              "      <th>fuel_type_hybrid</th>\n",
              "      <th>fuel_type_lpg</th>\n",
              "      <th>fuel_type_other</th>\n",
              "      <th>fuel_type_petrol</th>\n",
              "      <th>fuel_type_unknown</th>\n",
              "      <th>not_repaired_unknown</th>\n",
              "      <th>not_repaired_yes</th>\n",
              "    </tr>\n",
              "  </thead>\n",
              "  <tbody>\n",
              "    <tr>\n",
              "      <th>228421</th>\n",
              "      <td>0</td>\n",
              "      <td>0</td>\n",
              "      <td>0</td>\n",
              "      <td>1</td>\n",
              "      <td>0.200497</td>\n",
              "      <td>-0.327925</td>\n",
              "      <td>0</td>\n",
              "      <td>0</td>\n",
              "      <td>0</td>\n",
              "      <td>0</td>\n",
              "      <td>...</td>\n",
              "      <td>1</td>\n",
              "      <td>0</td>\n",
              "      <td>0</td>\n",
              "      <td>0</td>\n",
              "      <td>0</td>\n",
              "      <td>0</td>\n",
              "      <td>1</td>\n",
              "      <td>0</td>\n",
              "      <td>0</td>\n",
              "      <td>0</td>\n",
              "    </tr>\n",
              "    <tr>\n",
              "      <th>79438</th>\n",
              "      <td>0</td>\n",
              "      <td>0</td>\n",
              "      <td>1</td>\n",
              "      <td>0</td>\n",
              "      <td>1.246560</td>\n",
              "      <td>0.464367</td>\n",
              "      <td>0</td>\n",
              "      <td>0</td>\n",
              "      <td>0</td>\n",
              "      <td>0</td>\n",
              "      <td>...</td>\n",
              "      <td>1</td>\n",
              "      <td>0</td>\n",
              "      <td>0</td>\n",
              "      <td>0</td>\n",
              "      <td>0</td>\n",
              "      <td>0</td>\n",
              "      <td>1</td>\n",
              "      <td>0</td>\n",
              "      <td>0</td>\n",
              "      <td>0</td>\n",
              "    </tr>\n",
              "    <tr>\n",
              "      <th>232910</th>\n",
              "      <td>0</td>\n",
              "      <td>0</td>\n",
              "      <td>1</td>\n",
              "      <td>1</td>\n",
              "      <td>0.798247</td>\n",
              "      <td>0.503015</td>\n",
              "      <td>0</td>\n",
              "      <td>0</td>\n",
              "      <td>0</td>\n",
              "      <td>0</td>\n",
              "      <td>...</td>\n",
              "      <td>0</td>\n",
              "      <td>0</td>\n",
              "      <td>0</td>\n",
              "      <td>0</td>\n",
              "      <td>0</td>\n",
              "      <td>0</td>\n",
              "      <td>1</td>\n",
              "      <td>0</td>\n",
              "      <td>0</td>\n",
              "      <td>0</td>\n",
              "    </tr>\n",
              "  </tbody>\n",
              "</table>\n",
              "<p>3 rows × 31 columns</p>\n",
              "</div>\n",
              "      <button class=\"colab-df-convert\" onclick=\"convertToInteractive('df-2c000162-3fe4-4e7e-9788-b37c610741f6')\"\n",
              "              title=\"Convert this dataframe to an interactive table.\"\n",
              "              style=\"display:none;\">\n",
              "        \n",
              "  <svg xmlns=\"http://www.w3.org/2000/svg\" height=\"24px\"viewBox=\"0 0 24 24\"\n",
              "       width=\"24px\">\n",
              "    <path d=\"M0 0h24v24H0V0z\" fill=\"none\"/>\n",
              "    <path d=\"M18.56 5.44l.94 2.06.94-2.06 2.06-.94-2.06-.94-.94-2.06-.94 2.06-2.06.94zm-11 1L8.5 8.5l.94-2.06 2.06-.94-2.06-.94L8.5 2.5l-.94 2.06-2.06.94zm10 10l.94 2.06.94-2.06 2.06-.94-2.06-.94-.94-2.06-.94 2.06-2.06.94z\"/><path d=\"M17.41 7.96l-1.37-1.37c-.4-.4-.92-.59-1.43-.59-.52 0-1.04.2-1.43.59L10.3 9.45l-7.72 7.72c-.78.78-.78 2.05 0 2.83L4 21.41c.39.39.9.59 1.41.59.51 0 1.02-.2 1.41-.59l7.78-7.78 2.81-2.81c.8-.78.8-2.07 0-2.86zM5.41 20L4 18.59l7.72-7.72 1.47 1.35L5.41 20z\"/>\n",
              "  </svg>\n",
              "      </button>\n",
              "      \n",
              "  <style>\n",
              "    .colab-df-container {\n",
              "      display:flex;\n",
              "      flex-wrap:wrap;\n",
              "      gap: 12px;\n",
              "    }\n",
              "\n",
              "    .colab-df-convert {\n",
              "      background-color: #E8F0FE;\n",
              "      border: none;\n",
              "      border-radius: 50%;\n",
              "      cursor: pointer;\n",
              "      display: none;\n",
              "      fill: #1967D2;\n",
              "      height: 32px;\n",
              "      padding: 0 0 0 0;\n",
              "      width: 32px;\n",
              "    }\n",
              "\n",
              "    .colab-df-convert:hover {\n",
              "      background-color: #E2EBFA;\n",
              "      box-shadow: 0px 1px 2px rgba(60, 64, 67, 0.3), 0px 1px 3px 1px rgba(60, 64, 67, 0.15);\n",
              "      fill: #174EA6;\n",
              "    }\n",
              "\n",
              "    [theme=dark] .colab-df-convert {\n",
              "      background-color: #3B4455;\n",
              "      fill: #D2E3FC;\n",
              "    }\n",
              "\n",
              "    [theme=dark] .colab-df-convert:hover {\n",
              "      background-color: #434B5C;\n",
              "      box-shadow: 0px 1px 3px 1px rgba(0, 0, 0, 0.15);\n",
              "      filter: drop-shadow(0px 1px 2px rgba(0, 0, 0, 0.3));\n",
              "      fill: #FFFFFF;\n",
              "    }\n",
              "  </style>\n",
              "\n",
              "      <script>\n",
              "        const buttonEl =\n",
              "          document.querySelector('#df-2c000162-3fe4-4e7e-9788-b37c610741f6 button.colab-df-convert');\n",
              "        buttonEl.style.display =\n",
              "          google.colab.kernel.accessAllowed ? 'block' : 'none';\n",
              "\n",
              "        async function convertToInteractive(key) {\n",
              "          const element = document.querySelector('#df-2c000162-3fe4-4e7e-9788-b37c610741f6');\n",
              "          const dataTable =\n",
              "            await google.colab.kernel.invokeFunction('convertToInteractive',\n",
              "                                                     [key], {});\n",
              "          if (!dataTable) return;\n",
              "\n",
              "          const docLinkHtml = 'Like what you see? Visit the ' +\n",
              "            '<a target=\"_blank\" href=https://colab.research.google.com/notebooks/data_table.ipynb>data table notebook</a>'\n",
              "            + ' to learn more about interactive tables.';\n",
              "          element.innerHTML = '';\n",
              "          dataTable['output_type'] = 'display_data';\n",
              "          await google.colab.output.renderOutput(dataTable, element);\n",
              "          const docLink = document.createElement('div');\n",
              "          docLink.innerHTML = docLinkHtml;\n",
              "          element.appendChild(docLink);\n",
              "        }\n",
              "      </script>\n",
              "    </div>\n",
              "  </div>\n",
              "  "
            ]
          },
          "metadata": {}
        },
        {
          "output_type": "display_data",
          "data": {
            "text/plain": [
              "        vehicle_type_0  vehicle_type_1  vehicle_type_2  vehicle_type_3  \\\n",
              "336365               1               0               0               1   \n",
              "215521               0               0               1               1   \n",
              "253822               0               1               0               0   \n",
              "\n",
              "        registration_year     power  model_0  model_1  model_2  model_3  ...  \\\n",
              "336365           1.993748 -0.347249        0        1        0        0  ...   \n",
              "215521          -0.098379  0.387070        0        0        0        0  ...   \n",
              "253822           0.648810  0.406394        0        0        0        0  ...   \n",
              "\n",
              "        gearbox_manual  gearbox_unknown  fuel_type_electric  fuel_type_hybrid  \\\n",
              "336365               1                0                   0                 0   \n",
              "215521               1                0                   0                 0   \n",
              "253822               1                0                   0                 0   \n",
              "\n",
              "        fuel_type_lpg  fuel_type_other  fuel_type_petrol  fuel_type_unknown  \\\n",
              "336365              0                0                 1                  0   \n",
              "215521              0                0                 1                  0   \n",
              "253822              0                0                 1                  0   \n",
              "\n",
              "        not_repaired_unknown  not_repaired_yes  \n",
              "336365                     0                 1  \n",
              "215521                     0                 0  \n",
              "253822                     0                 1  \n",
              "\n",
              "[3 rows x 31 columns]"
            ],
            "text/html": [
              "\n",
              "  <div id=\"df-12d8e8f6-0337-4036-8dd5-58dc02a54244\">\n",
              "    <div class=\"colab-df-container\">\n",
              "      <div>\n",
              "<style scoped>\n",
              "    .dataframe tbody tr th:only-of-type {\n",
              "        vertical-align: middle;\n",
              "    }\n",
              "\n",
              "    .dataframe tbody tr th {\n",
              "        vertical-align: top;\n",
              "    }\n",
              "\n",
              "    .dataframe thead th {\n",
              "        text-align: right;\n",
              "    }\n",
              "</style>\n",
              "<table border=\"1\" class=\"dataframe\">\n",
              "  <thead>\n",
              "    <tr style=\"text-align: right;\">\n",
              "      <th></th>\n",
              "      <th>vehicle_type_0</th>\n",
              "      <th>vehicle_type_1</th>\n",
              "      <th>vehicle_type_2</th>\n",
              "      <th>vehicle_type_3</th>\n",
              "      <th>registration_year</th>\n",
              "      <th>power</th>\n",
              "      <th>model_0</th>\n",
              "      <th>model_1</th>\n",
              "      <th>model_2</th>\n",
              "      <th>model_3</th>\n",
              "      <th>...</th>\n",
              "      <th>gearbox_manual</th>\n",
              "      <th>gearbox_unknown</th>\n",
              "      <th>fuel_type_electric</th>\n",
              "      <th>fuel_type_hybrid</th>\n",
              "      <th>fuel_type_lpg</th>\n",
              "      <th>fuel_type_other</th>\n",
              "      <th>fuel_type_petrol</th>\n",
              "      <th>fuel_type_unknown</th>\n",
              "      <th>not_repaired_unknown</th>\n",
              "      <th>not_repaired_yes</th>\n",
              "    </tr>\n",
              "  </thead>\n",
              "  <tbody>\n",
              "    <tr>\n",
              "      <th>336365</th>\n",
              "      <td>1</td>\n",
              "      <td>0</td>\n",
              "      <td>0</td>\n",
              "      <td>1</td>\n",
              "      <td>1.993748</td>\n",
              "      <td>-0.347249</td>\n",
              "      <td>0</td>\n",
              "      <td>1</td>\n",
              "      <td>0</td>\n",
              "      <td>0</td>\n",
              "      <td>...</td>\n",
              "      <td>1</td>\n",
              "      <td>0</td>\n",
              "      <td>0</td>\n",
              "      <td>0</td>\n",
              "      <td>0</td>\n",
              "      <td>0</td>\n",
              "      <td>1</td>\n",
              "      <td>0</td>\n",
              "      <td>0</td>\n",
              "      <td>1</td>\n",
              "    </tr>\n",
              "    <tr>\n",
              "      <th>215521</th>\n",
              "      <td>0</td>\n",
              "      <td>0</td>\n",
              "      <td>1</td>\n",
              "      <td>1</td>\n",
              "      <td>-0.098379</td>\n",
              "      <td>0.387070</td>\n",
              "      <td>0</td>\n",
              "      <td>0</td>\n",
              "      <td>0</td>\n",
              "      <td>0</td>\n",
              "      <td>...</td>\n",
              "      <td>1</td>\n",
              "      <td>0</td>\n",
              "      <td>0</td>\n",
              "      <td>0</td>\n",
              "      <td>0</td>\n",
              "      <td>0</td>\n",
              "      <td>1</td>\n",
              "      <td>0</td>\n",
              "      <td>0</td>\n",
              "      <td>0</td>\n",
              "    </tr>\n",
              "    <tr>\n",
              "      <th>253822</th>\n",
              "      <td>0</td>\n",
              "      <td>1</td>\n",
              "      <td>0</td>\n",
              "      <td>0</td>\n",
              "      <td>0.648810</td>\n",
              "      <td>0.406394</td>\n",
              "      <td>0</td>\n",
              "      <td>0</td>\n",
              "      <td>0</td>\n",
              "      <td>0</td>\n",
              "      <td>...</td>\n",
              "      <td>1</td>\n",
              "      <td>0</td>\n",
              "      <td>0</td>\n",
              "      <td>0</td>\n",
              "      <td>0</td>\n",
              "      <td>0</td>\n",
              "      <td>1</td>\n",
              "      <td>0</td>\n",
              "      <td>0</td>\n",
              "      <td>1</td>\n",
              "    </tr>\n",
              "  </tbody>\n",
              "</table>\n",
              "<p>3 rows × 31 columns</p>\n",
              "</div>\n",
              "      <button class=\"colab-df-convert\" onclick=\"convertToInteractive('df-12d8e8f6-0337-4036-8dd5-58dc02a54244')\"\n",
              "              title=\"Convert this dataframe to an interactive table.\"\n",
              "              style=\"display:none;\">\n",
              "        \n",
              "  <svg xmlns=\"http://www.w3.org/2000/svg\" height=\"24px\"viewBox=\"0 0 24 24\"\n",
              "       width=\"24px\">\n",
              "    <path d=\"M0 0h24v24H0V0z\" fill=\"none\"/>\n",
              "    <path d=\"M18.56 5.44l.94 2.06.94-2.06 2.06-.94-2.06-.94-.94-2.06-.94 2.06-2.06.94zm-11 1L8.5 8.5l.94-2.06 2.06-.94-2.06-.94L8.5 2.5l-.94 2.06-2.06.94zm10 10l.94 2.06.94-2.06 2.06-.94-2.06-.94-.94-2.06-.94 2.06-2.06.94z\"/><path d=\"M17.41 7.96l-1.37-1.37c-.4-.4-.92-.59-1.43-.59-.52 0-1.04.2-1.43.59L10.3 9.45l-7.72 7.72c-.78.78-.78 2.05 0 2.83L4 21.41c.39.39.9.59 1.41.59.51 0 1.02-.2 1.41-.59l7.78-7.78 2.81-2.81c.8-.78.8-2.07 0-2.86zM5.41 20L4 18.59l7.72-7.72 1.47 1.35L5.41 20z\"/>\n",
              "  </svg>\n",
              "      </button>\n",
              "      \n",
              "  <style>\n",
              "    .colab-df-container {\n",
              "      display:flex;\n",
              "      flex-wrap:wrap;\n",
              "      gap: 12px;\n",
              "    }\n",
              "\n",
              "    .colab-df-convert {\n",
              "      background-color: #E8F0FE;\n",
              "      border: none;\n",
              "      border-radius: 50%;\n",
              "      cursor: pointer;\n",
              "      display: none;\n",
              "      fill: #1967D2;\n",
              "      height: 32px;\n",
              "      padding: 0 0 0 0;\n",
              "      width: 32px;\n",
              "    }\n",
              "\n",
              "    .colab-df-convert:hover {\n",
              "      background-color: #E2EBFA;\n",
              "      box-shadow: 0px 1px 2px rgba(60, 64, 67, 0.3), 0px 1px 3px 1px rgba(60, 64, 67, 0.15);\n",
              "      fill: #174EA6;\n",
              "    }\n",
              "\n",
              "    [theme=dark] .colab-df-convert {\n",
              "      background-color: #3B4455;\n",
              "      fill: #D2E3FC;\n",
              "    }\n",
              "\n",
              "    [theme=dark] .colab-df-convert:hover {\n",
              "      background-color: #434B5C;\n",
              "      box-shadow: 0px 1px 3px 1px rgba(0, 0, 0, 0.15);\n",
              "      filter: drop-shadow(0px 1px 2px rgba(0, 0, 0, 0.3));\n",
              "      fill: #FFFFFF;\n",
              "    }\n",
              "  </style>\n",
              "\n",
              "      <script>\n",
              "        const buttonEl =\n",
              "          document.querySelector('#df-12d8e8f6-0337-4036-8dd5-58dc02a54244 button.colab-df-convert');\n",
              "        buttonEl.style.display =\n",
              "          google.colab.kernel.accessAllowed ? 'block' : 'none';\n",
              "\n",
              "        async function convertToInteractive(key) {\n",
              "          const element = document.querySelector('#df-12d8e8f6-0337-4036-8dd5-58dc02a54244');\n",
              "          const dataTable =\n",
              "            await google.colab.kernel.invokeFunction('convertToInteractive',\n",
              "                                                     [key], {});\n",
              "          if (!dataTable) return;\n",
              "\n",
              "          const docLinkHtml = 'Like what you see? Visit the ' +\n",
              "            '<a target=\"_blank\" href=https://colab.research.google.com/notebooks/data_table.ipynb>data table notebook</a>'\n",
              "            + ' to learn more about interactive tables.';\n",
              "          element.innerHTML = '';\n",
              "          dataTable['output_type'] = 'display_data';\n",
              "          await google.colab.output.renderOutput(dataTable, element);\n",
              "          const docLink = document.createElement('div');\n",
              "          docLink.innerHTML = docLinkHtml;\n",
              "          element.appendChild(docLink);\n",
              "        }\n",
              "      </script>\n",
              "    </div>\n",
              "  </div>\n",
              "  "
            ]
          },
          "metadata": {}
        }
      ],
      "source": [
        "cols_ohe = ['gearbox', 'fuel_type', 'not_repaired']\n",
        "cols_oe = ['vehicle_type', 'model', 'brand']\n",
        "numeric = ['registration_year', 'power', 'kilometer']\n",
        "\n",
        "X_train_ohe, X_test_ohe = features_preparing_lr(X_train_ohe, X_test_ohe, cols_ohe, cols_oe, numeric)\n",
        "display(X_train_ohe.head(3))\n",
        "display(X_test_ohe.head(3))"
      ]
    },
    {
      "cell_type": "markdown",
      "id": "f9be1384",
      "metadata": {
        "id": "f9be1384"
      },
      "source": [
        "Категориальные признаки закодированы. В таблице теперь 31 признак. \n",
        "\n",
        "Данные для линейной регрессии подготовлены."
      ]
    },
    {
      "cell_type": "markdown",
      "id": "ef6309b5",
      "metadata": {
        "id": "ef6309b5"
      },
      "source": [
        "**Подготовка признаков для дерева решений и случайного леса**"
      ]
    },
    {
      "cell_type": "markdown",
      "id": "b2fce991",
      "metadata": {
        "id": "b2fce991"
      },
      "source": [
        "Теперь подготовим данные для дерева решений и случайного леса: произведём порядковое кодирование всех категориальных признаков и сделаем разделение на обучающую и тестовую выборки."
      ]
    },
    {
      "cell_type": "code",
      "execution_count": 48,
      "id": "3d490ecd",
      "metadata": {
        "colab": {
          "base_uri": "https://localhost:8080/",
          "height": 143
        },
        "id": "3d490ecd",
        "outputId": "f1c58be9-0bd1-4a21-aaa7-2877d9462562"
      },
      "outputs": [
        {
          "output_type": "execute_result",
          "data": {
            "text/plain": [
              "   price  vehicle_type  registration_year  gearbox  power  model  kilometer  \\\n",
              "0    480           7.0               1993      1.0     90  116.0     150000   \n",
              "1  18300           2.0               2011      1.0    190  227.0     125000   \n",
              "2   9800           6.0               2004      0.0    163  117.0     125000   \n",
              "\n",
              "   fuel_type  brand  not_repaired  \n",
              "0        5.0   38.0           1.0  \n",
              "1        5.0    1.0           2.0  \n",
              "2        5.0   14.0           1.0  "
            ],
            "text/html": [
              "\n",
              "  <div id=\"df-9fdfab05-cf13-4649-96f1-59bd7e1021d6\">\n",
              "    <div class=\"colab-df-container\">\n",
              "      <div>\n",
              "<style scoped>\n",
              "    .dataframe tbody tr th:only-of-type {\n",
              "        vertical-align: middle;\n",
              "    }\n",
              "\n",
              "    .dataframe tbody tr th {\n",
              "        vertical-align: top;\n",
              "    }\n",
              "\n",
              "    .dataframe thead th {\n",
              "        text-align: right;\n",
              "    }\n",
              "</style>\n",
              "<table border=\"1\" class=\"dataframe\">\n",
              "  <thead>\n",
              "    <tr style=\"text-align: right;\">\n",
              "      <th></th>\n",
              "      <th>price</th>\n",
              "      <th>vehicle_type</th>\n",
              "      <th>registration_year</th>\n",
              "      <th>gearbox</th>\n",
              "      <th>power</th>\n",
              "      <th>model</th>\n",
              "      <th>kilometer</th>\n",
              "      <th>fuel_type</th>\n",
              "      <th>brand</th>\n",
              "      <th>not_repaired</th>\n",
              "    </tr>\n",
              "  </thead>\n",
              "  <tbody>\n",
              "    <tr>\n",
              "      <th>0</th>\n",
              "      <td>480</td>\n",
              "      <td>7.0</td>\n",
              "      <td>1993</td>\n",
              "      <td>1.0</td>\n",
              "      <td>90</td>\n",
              "      <td>116.0</td>\n",
              "      <td>150000</td>\n",
              "      <td>5.0</td>\n",
              "      <td>38.0</td>\n",
              "      <td>1.0</td>\n",
              "    </tr>\n",
              "    <tr>\n",
              "      <th>1</th>\n",
              "      <td>18300</td>\n",
              "      <td>2.0</td>\n",
              "      <td>2011</td>\n",
              "      <td>1.0</td>\n",
              "      <td>190</td>\n",
              "      <td>227.0</td>\n",
              "      <td>125000</td>\n",
              "      <td>5.0</td>\n",
              "      <td>1.0</td>\n",
              "      <td>2.0</td>\n",
              "    </tr>\n",
              "    <tr>\n",
              "      <th>2</th>\n",
              "      <td>9800</td>\n",
              "      <td>6.0</td>\n",
              "      <td>2004</td>\n",
              "      <td>0.0</td>\n",
              "      <td>163</td>\n",
              "      <td>117.0</td>\n",
              "      <td>125000</td>\n",
              "      <td>5.0</td>\n",
              "      <td>14.0</td>\n",
              "      <td>1.0</td>\n",
              "    </tr>\n",
              "  </tbody>\n",
              "</table>\n",
              "</div>\n",
              "      <button class=\"colab-df-convert\" onclick=\"convertToInteractive('df-9fdfab05-cf13-4649-96f1-59bd7e1021d6')\"\n",
              "              title=\"Convert this dataframe to an interactive table.\"\n",
              "              style=\"display:none;\">\n",
              "        \n",
              "  <svg xmlns=\"http://www.w3.org/2000/svg\" height=\"24px\"viewBox=\"0 0 24 24\"\n",
              "       width=\"24px\">\n",
              "    <path d=\"M0 0h24v24H0V0z\" fill=\"none\"/>\n",
              "    <path d=\"M18.56 5.44l.94 2.06.94-2.06 2.06-.94-2.06-.94-.94-2.06-.94 2.06-2.06.94zm-11 1L8.5 8.5l.94-2.06 2.06-.94-2.06-.94L8.5 2.5l-.94 2.06-2.06.94zm10 10l.94 2.06.94-2.06 2.06-.94-2.06-.94-.94-2.06-.94 2.06-2.06.94z\"/><path d=\"M17.41 7.96l-1.37-1.37c-.4-.4-.92-.59-1.43-.59-.52 0-1.04.2-1.43.59L10.3 9.45l-7.72 7.72c-.78.78-.78 2.05 0 2.83L4 21.41c.39.39.9.59 1.41.59.51 0 1.02-.2 1.41-.59l7.78-7.78 2.81-2.81c.8-.78.8-2.07 0-2.86zM5.41 20L4 18.59l7.72-7.72 1.47 1.35L5.41 20z\"/>\n",
              "  </svg>\n",
              "      </button>\n",
              "      \n",
              "  <style>\n",
              "    .colab-df-container {\n",
              "      display:flex;\n",
              "      flex-wrap:wrap;\n",
              "      gap: 12px;\n",
              "    }\n",
              "\n",
              "    .colab-df-convert {\n",
              "      background-color: #E8F0FE;\n",
              "      border: none;\n",
              "      border-radius: 50%;\n",
              "      cursor: pointer;\n",
              "      display: none;\n",
              "      fill: #1967D2;\n",
              "      height: 32px;\n",
              "      padding: 0 0 0 0;\n",
              "      width: 32px;\n",
              "    }\n",
              "\n",
              "    .colab-df-convert:hover {\n",
              "      background-color: #E2EBFA;\n",
              "      box-shadow: 0px 1px 2px rgba(60, 64, 67, 0.3), 0px 1px 3px 1px rgba(60, 64, 67, 0.15);\n",
              "      fill: #174EA6;\n",
              "    }\n",
              "\n",
              "    [theme=dark] .colab-df-convert {\n",
              "      background-color: #3B4455;\n",
              "      fill: #D2E3FC;\n",
              "    }\n",
              "\n",
              "    [theme=dark] .colab-df-convert:hover {\n",
              "      background-color: #434B5C;\n",
              "      box-shadow: 0px 1px 3px 1px rgba(0, 0, 0, 0.15);\n",
              "      filter: drop-shadow(0px 1px 2px rgba(0, 0, 0, 0.3));\n",
              "      fill: #FFFFFF;\n",
              "    }\n",
              "  </style>\n",
              "\n",
              "      <script>\n",
              "        const buttonEl =\n",
              "          document.querySelector('#df-9fdfab05-cf13-4649-96f1-59bd7e1021d6 button.colab-df-convert');\n",
              "        buttonEl.style.display =\n",
              "          google.colab.kernel.accessAllowed ? 'block' : 'none';\n",
              "\n",
              "        async function convertToInteractive(key) {\n",
              "          const element = document.querySelector('#df-9fdfab05-cf13-4649-96f1-59bd7e1021d6');\n",
              "          const dataTable =\n",
              "            await google.colab.kernel.invokeFunction('convertToInteractive',\n",
              "                                                     [key], {});\n",
              "          if (!dataTable) return;\n",
              "\n",
              "          const docLinkHtml = 'Like what you see? Visit the ' +\n",
              "            '<a target=\"_blank\" href=https://colab.research.google.com/notebooks/data_table.ipynb>data table notebook</a>'\n",
              "            + ' to learn more about interactive tables.';\n",
              "          element.innerHTML = '';\n",
              "          dataTable['output_type'] = 'display_data';\n",
              "          await google.colab.output.renderOutput(dataTable, element);\n",
              "          const docLink = document.createElement('div');\n",
              "          docLink.innerHTML = docLinkHtml;\n",
              "          element.appendChild(docLink);\n",
              "        }\n",
              "      </script>\n",
              "    </div>\n",
              "  </div>\n",
              "  "
            ]
          },
          "metadata": {},
          "execution_count": 48
        }
      ],
      "source": [
        "# создание копии данных\n",
        "df_oe = df.copy(deep=True)\n",
        "# переменная, содержащая названия категориальных признаков\n",
        "# для порядкового кодирования\n",
        "oe_2 = ['vehicle_type', 'gearbox', 'model', 'fuel_type', 'brand', 'not_repaired']\n",
        "\n",
        "# применение порядкового кодирования к категориальным признакам\n",
        "df_oe[oe_2] = OrdinalEncoder().fit_transform(df_oe[oe_2])\n",
        "# просмотр изменённой таблицы\n",
        "df_oe.head(3)"
      ]
    },
    {
      "cell_type": "code",
      "execution_count": 49,
      "id": "76ba2f05",
      "metadata": {
        "colab": {
          "base_uri": "https://localhost:8080/"
        },
        "id": "76ba2f05",
        "outputId": "f1de53b3-455c-4ff4-925c-e0b5809aea7c"
      },
      "outputs": [
        {
          "output_type": "stream",
          "name": "stdout",
          "text": [
            "Размер признаков обучающей выборки: (244393, 9)\n",
            "Размер целевого признака обучающей выборки: (244393,)\n",
            "Размер признаков тестовой выборки: (81465, 9)\n",
            "Размер целевого признака тестовой выборки: (81465,)\n"
          ]
        }
      ],
      "source": [
        "# разделение на признаки и целевой признак и \n",
        "# отделение 25% исходных данных для тестовой выборки\n",
        "X_train_oe, X_test_oe, y_train_oe, y_test_oe = train_test_split(\n",
        "    df_oe.drop(['price'], axis=1),\n",
        "    df_oe.price, test_size=0.25, random_state=rs)\n",
        "\n",
        "# вывод на экран размеров признаков полученных выборок\n",
        "print(f'Размер признаков обучающей выборки: {X_train_oe.shape}')\n",
        "print(f'Размер целевого признака обучающей выборки: {y_train_oe.shape}')\n",
        "print(f'Размер признаков тестовой выборки: {X_test_oe.shape}')\n",
        "print(f'Размер целевого признака тестовой выборки: {y_test_oe.shape}')"
      ]
    },
    {
      "cell_type": "markdown",
      "id": "2570e37b",
      "metadata": {
        "id": "2570e37b"
      },
      "source": [
        "Данные для дерева решений и случайного леса также подготовлены."
      ]
    },
    {
      "cell_type": "markdown",
      "id": "8b40f897",
      "metadata": {
        "id": "8b40f897"
      },
      "source": [
        "### 1.4 Вывод\n",
        "1. В исходных данных 354369 объектов, 16 признаков.\n",
        "\n",
        "Каждый объект в наборе данных — это исторические данные о технических характеристиках, комплектации и ценах автомобилей.\n",
        "\n",
        "2. Произведена предобработка признаков: \n",
        "- удалены не нужные для модели признаки (`DateCrawled`, `RegistrationMonth`, `DateCreated`, `NumberOfPictures`, `PostalCode`, `LastSeen`);\n",
        "- названия приведены к змеиному регистру;\n",
        "- удалены 4 явных дубликата;\n",
        "- в признаке `FuelType` обработан скрытый дубликат - petrol и gasoline, - понятия, обозначающие одно и то же топливо в Британии и США; значения объединены термином petrol;\n",
        "- в остальных признаках скрытых дублей и ошибок нет;\n",
        "- пропуски в категориальных признаках `VehicleType`, `Gearbox`, `Model`, `NotRepaired` заполнены категорией unknown;\n",
        "- пропуски в признаке `FuelType` заменены на аналогичные типы по группировке марки, модели и мощности автомобиля;\n",
        "- цены ниже 100 евро приняты ошибочными и не подлежащими восстановлению. Такие объекты из данных удалены;\n",
        "- в данных оставлены автомобили с годом регистрации от 1950 по 2016 года;\n",
        "- автомобили в мощностью 20 л.с. и менее и более 400 л.с. удалены из данных;\n",
        "- для автомобилей с нулевой мощностью произведена группировка по марке, модели, типу топлива и кузова и замена 0 на медианное значение мощности.\n",
        "\n",
        "3. Произведена подготовка признаков для простых моделей.\n",
        "\n",
        "Для линейной регрессии:\n",
        "- применено прямое кодирование для признаков `gearbox`, `fuel_type`, `not_repaired`;\n",
        "- применены последовательно порядковое и двоичное кодирование для признаков `vehicle_type`, `model`, `brand`;\n",
        "- произведено масштабирование для признаков `registration_year`, `power`, `kilometer`.\n",
        "\n",
        "Для дерева решений и случайного леса:\n",
        "- применено порядковое кодирование для признаков `vehicle_type`, `gearbox`, `model`, `fuel_type`, `brand`, `not_repaired`."
      ]
    },
    {
      "cell_type": "markdown",
      "id": "ee66f702",
      "metadata": {
        "id": "ee66f702"
      },
      "source": [
        "## 2 Обучение моделей"
      ]
    },
    {
      "cell_type": "markdown",
      "id": "34133caf",
      "metadata": {
        "id": "34133caf"
      },
      "source": [
        "Обучим разные модели и посмотрим, какое высшее качество сможем получить."
      ]
    },
    {
      "cell_type": "markdown",
      "id": "ef4a49b5",
      "metadata": {
        "id": "ef4a49b5"
      },
      "source": [
        "### 2.1 Простые модели\n",
        "**Линейная регрессия**"
      ]
    },
    {
      "cell_type": "code",
      "execution_count": 50,
      "id": "89c1948b",
      "metadata": {
        "id": "89c1948b"
      },
      "outputs": [],
      "source": [
        "# создание функции для расчёта RMSE линейной регрессии\n",
        "def lr(X, y):\n",
        "    '''\n",
        "    функция принимает на вход признаки и целевые признаки,\n",
        "    возвращает RMSE линейной регрессии, полученное кросс-валидацией\n",
        "    '''\n",
        "    model = LinearRegression()\n",
        "    parameters = {}\n",
        "    grid = GridSearchCV(model, parameters,\n",
        "                        scoring='neg_root_mean_squared_error',\n",
        "                        cv=3, n_jobs=-1)\n",
        "    grid.fit(X, y)\n",
        "    return grid.cv_results_['mean_test_score']"
      ]
    },
    {
      "cell_type": "code",
      "execution_count": 51,
      "id": "3acfdb63",
      "metadata": {
        "colab": {
          "base_uri": "https://localhost:8080/"
        },
        "id": "3acfdb63",
        "outputId": "a5bd71d4-e848-46f5-b1bc-1c7763ae741b"
      },
      "outputs": [
        {
          "output_type": "stream",
          "name": "stdout",
          "text": [
            "CPU times: user 603 ms, sys: 236 ms, total: 838 ms\n",
            "Wall time: 8.85 s\n"
          ]
        },
        {
          "output_type": "execute_result",
          "data": {
            "text/plain": [
              "array([-2918.17872308])"
            ]
          },
          "metadata": {},
          "execution_count": 51
        }
      ],
      "source": [
        "%%time\n",
        "# получение значения RMSE линейной регрессии\n",
        "lr(X_train_ohe, y_train_ohe)"
      ]
    },
    {
      "cell_type": "markdown",
      "id": "8a73692b",
      "metadata": {
        "id": "8a73692b"
      },
      "source": [
        "**Дерево решений**"
      ]
    },
    {
      "cell_type": "code",
      "execution_count": 52,
      "id": "59345b82",
      "metadata": {
        "id": "59345b82"
      },
      "outputs": [],
      "source": [
        "# создание функции для расчёта RMSE\n",
        "# и подбора гиперпараметров дерева решений\n",
        "def dt(X, y):\n",
        "    '''\n",
        "    функция принимает на вход признаки и целевые признаки,\n",
        "    возвращает RMSE и лучшие гиперпараметры дерева решений, \n",
        "    полученные с помощью GridSearch\n",
        "    '''\n",
        "    model = DecisionTreeRegressor(random_state=rs)\n",
        "    parameters = {'max_depth': range(11, 16)}\n",
        "    \n",
        "    grid = GridSearchCV(model, parameters,\n",
        "                        scoring='neg_root_mean_squared_error',\n",
        "                        cv=3, n_jobs=-1)\n",
        "    grid.fit(X, y)\n",
        "    \n",
        "    return grid.best_score_, grid.best_params_"
      ]
    },
    {
      "cell_type": "code",
      "execution_count": 53,
      "id": "8dc1571b",
      "metadata": {
        "colab": {
          "base_uri": "https://localhost:8080/"
        },
        "id": "8dc1571b",
        "outputId": "a7062dc7-8ced-4083-d15c-a7f21cc981f6"
      },
      "outputs": [
        {
          "output_type": "stream",
          "name": "stdout",
          "text": [
            "CPU times: user 1.42 s, sys: 78.4 ms, total: 1.5 s\n",
            "Wall time: 15.1 s\n"
          ]
        },
        {
          "output_type": "execute_result",
          "data": {
            "text/plain": [
              "(-1922.4396436476547, {'max_depth': 14})"
            ]
          },
          "metadata": {},
          "execution_count": 53
        }
      ],
      "source": [
        "%%time\n",
        "# получение значения RMSE и лучших гиперпараметров дерева решений \n",
        "dt(X_train_oe, y_train_oe)"
      ]
    },
    {
      "cell_type": "markdown",
      "id": "97ac01d2",
      "metadata": {
        "id": "97ac01d2"
      },
      "source": [
        "**Случайный лес**"
      ]
    },
    {
      "cell_type": "code",
      "execution_count": 54,
      "id": "5734a1ee",
      "metadata": {
        "id": "5734a1ee"
      },
      "outputs": [],
      "source": [
        "# создание функции для расчёта RMSE\n",
        "# и подбора гиперпараметров случайного леса\n",
        "def rf(X, y):\n",
        "    '''\n",
        "    функция принимает на вход признаки и целевые признаки,\n",
        "    возвращает RMSE и лучшие гиперпараметры случайного леса, \n",
        "    полученные с помощью GridSearch\n",
        "    '''\n",
        "    model = RandomForestRegressor(random_state=rs)\n",
        "    parameters = {'n_estimators': [90, 100],\n",
        "                  'max_depth': [16, 18]}\n",
        "\n",
        "\n",
        "    grid = GridSearchCV(model, parameters,\n",
        "                        scoring='neg_root_mean_squared_error',\n",
        "                        cv=3, n_jobs=-1)\n",
        "    grid.fit(X, y)\n",
        "    \n",
        "    return grid.best_score_, grid.best_params_"
      ]
    },
    {
      "cell_type": "code",
      "execution_count": 55,
      "id": "0956f335",
      "metadata": {
        "colab": {
          "base_uri": "https://localhost:8080/"
        },
        "id": "0956f335",
        "outputId": "a703d39c-9e8a-4596-f4d4-b9ff74085cdd"
      },
      "outputs": [
        {
          "output_type": "stream",
          "name": "stdout",
          "text": [
            "CPU times: user 1min 3s, sys: 760 ms, total: 1min 4s\n",
            "Wall time: 7min 22s\n"
          ]
        },
        {
          "output_type": "execute_result",
          "data": {
            "text/plain": [
              "(-1631.6710575887844, {'max_depth': 18, 'n_estimators': 100})"
            ]
          },
          "metadata": {},
          "execution_count": 55
        }
      ],
      "source": [
        "%%time\n",
        "# получение значения RMSE и лучших гиперпараметров случайного леса \n",
        "rf(X_train_oe, y_train_oe)"
      ]
    },
    {
      "cell_type": "markdown",
      "id": "be9aaa81",
      "metadata": {
        "id": "be9aaa81"
      },
      "source": [
        "Среди простых моделей лучшее значение <i>RMSE</i> (1631) получено для случайного леса со 100 деревьями и глубиной деревьев, равной 18. При этом лучшая метрика получается при максимальных значениях гиперпараметров, т.е. модель стремится к усложнению алгоритма и, соответственно, к замедлению работы.\n",
        "\n",
        "Теперь попробуем построить модели градиентного бустинга."
      ]
    },
    {
      "cell_type": "markdown",
      "id": "19886f1b",
      "metadata": {
        "id": "19886f1b"
      },
      "source": [
        "### 2.2 Модели градиентного бустинга"
      ]
    },
    {
      "cell_type": "markdown",
      "id": "11bccf68",
      "metadata": {
        "id": "11bccf68"
      },
      "source": [
        "<i>**CatBoostRegressor**</i>\n",
        "\n",
        "Данная модель работает напрямую с категориальными признаками, поэтому для неё заново извлечём признаки и целевые признаки из некодированной таблицы."
      ]
    },
    {
      "cell_type": "code",
      "execution_count": 56,
      "id": "94e06311",
      "metadata": {
        "id": "94e06311"
      },
      "outputs": [],
      "source": [
        "# разделение на признаки и целевой признак и \n",
        "# отделение 25% исходных данных для тестовой выборки\n",
        "X_train_cbr, X_test_cbr, y_train_b, y_test_b = train_test_split(\n",
        "    df.drop(['price'], axis=1),\n",
        "    df.price, test_size=0.25, random_state=rs)"
      ]
    },
    {
      "cell_type": "code",
      "execution_count": 57,
      "id": "1d457a67",
      "metadata": {
        "colab": {
          "base_uri": "https://localhost:8080/"
        },
        "id": "1d457a67",
        "outputId": "bedeb695-4fe7-4ca9-92a9-593d06a328fe"
      },
      "outputs": [
        {
          "output_type": "stream",
          "name": "stdout",
          "text": [
            "0:\tlearn: 3868.2967583\ttotal: 674ms\tremaining: 1m 6s\n",
            "10:\tlearn: 1826.5258480\ttotal: 12.1s\tremaining: 1m 37s\n",
            "20:\tlearn: 1593.4234562\ttotal: 23.2s\tremaining: 1m 27s\n",
            "30:\tlearn: 1519.4055716\ttotal: 34.3s\tremaining: 1m 16s\n",
            "40:\tlearn: 1474.6851720\ttotal: 44.3s\tremaining: 1m 3s\n",
            "50:\tlearn: 1437.7802612\ttotal: 54.3s\tremaining: 52.2s\n",
            "60:\tlearn: 1410.8619473\ttotal: 1m 4s\tremaining: 41.1s\n",
            "70:\tlearn: 1378.2355226\ttotal: 1m 15s\tremaining: 30.8s\n",
            "80:\tlearn: 1357.7119531\ttotal: 1m 24s\tremaining: 19.8s\n",
            "90:\tlearn: 1334.9404172\ttotal: 1m 35s\tremaining: 9.46s\n",
            "99:\tlearn: 1319.0735657\ttotal: 1m 45s\tremaining: 0us\n",
            "\n",
            " Лучшее значение RMSE:\n",
            " -1593.4854510690532\n",
            "\n",
            " Лучшие параметры:\n",
            " {'depth': 16, 'learning_rate': 0.2}\n",
            "CPU times: user 2min 39s, sys: 29.6 s, total: 3min 9s\n",
            "Wall time: 7min 2s\n"
          ]
        }
      ],
      "source": [
        "%%time\n",
        "# создание объекта для модели\n",
        "cbr = CatBoostRegressor(iterations=100, random_state=rs)\n",
        "\n",
        "# определение категориальных признаков\n",
        "X_cat = ['vehicle_type', 'gearbox', 'model',\n",
        "         'fuel_type', 'brand', 'not_repaired']\n",
        "\n",
        "# установка параметров\n",
        "param_cbr = {'depth': [16],\n",
        "             'learning_rate': [0.2]\n",
        "             }\n",
        "\n",
        "# поиск лучших параметров\n",
        "grid_cbr = GridSearchCV(estimator=cbr, param_grid=param_cbr,\n",
        "                        scoring='neg_root_mean_squared_error', cv=3, n_jobs=-1)\n",
        "\n",
        "# обучение модели\n",
        "grid_cbr.fit(X_train_cbr, y_train_b, cat_features=X_cat, verbose=10)\n",
        "\n",
        "print(\"\\n Лучшее значение RMSE:\\n\",grid_cbr.best_score_)\n",
        "print(\"\\n Лучшие параметры:\\n\",grid_cbr.best_params_)"
      ]
    },
    {
      "cell_type": "markdown",
      "id": "f3ef4df2",
      "metadata": {
        "id": "f3ef4df2"
      },
      "source": [
        "<i>**LGBMRegressor**</i>\n",
        "\n",
        "Данная модель также работает с категориальными признаками, но их надо преобразовать в тип `category`."
      ]
    },
    {
      "cell_type": "code",
      "execution_count": 58,
      "id": "bc05e517",
      "metadata": {
        "id": "bc05e517"
      },
      "outputs": [],
      "source": [
        "# преобразование категориальных признаков в тип category\n",
        "X_train_lgbm = X_train_cbr.copy(deep=True)\n",
        "X_test_lgbm = X_test_cbr.copy(deep=True)\n",
        "\n",
        "X_train_lgbm[X_cat] = X_train_lgbm[X_cat].astype('category')\n",
        "X_test_lgbm[X_cat] = X_test_lgbm[X_cat].astype('category')"
      ]
    },
    {
      "cell_type": "code",
      "execution_count": 59,
      "id": "02712766",
      "metadata": {
        "colab": {
          "base_uri": "https://localhost:8080/"
        },
        "id": "02712766",
        "outputId": "0f740ab2-d6a7-46af-af6f-cdc7ca9ede62"
      },
      "outputs": [
        {
          "output_type": "stream",
          "name": "stdout",
          "text": [
            "\n",
            " Лучшее значение RMSE:\n",
            " -1606.1881825549328\n",
            "\n",
            " Лучшие параметры:\n",
            " {'learning_rate': 0.3, 'max_depth': 9, 'n_estimators': 110}\n",
            "CPU times: user 3.08 s, sys: 173 ms, total: 3.25 s\n",
            "Wall time: 18 s\n"
          ]
        }
      ],
      "source": [
        "%%time\n",
        "# создание объекта модели\n",
        "lgbm = LGBMRegressor(random_state=rs)\n",
        "\n",
        "# установка параметров\n",
        "param_lgbm = {'max_depth': range(9, 11),\n",
        "              'n_estimators': [100, 110],\n",
        "              'learning_rate': [0.3]\n",
        "             }\n",
        "\n",
        "# поиск лучших параметров\n",
        "grid_lgbm = GridSearchCV(estimator=lgbm, param_grid=param_lgbm,\n",
        "                         scoring='neg_root_mean_squared_error', cv=3, n_jobs=-1)\n",
        "\n",
        "# обучение модели\n",
        "grid_lgbm.fit(X_train_lgbm, y_train_b, categorical_feature=X_cat)\n",
        "\n",
        "print(\"\\n Лучшее значение RMSE:\\n\",grid_lgbm.best_score_)\n",
        "print(\"\\n Лучшие параметры:\\n\",grid_lgbm.best_params_)"
      ]
    },
    {
      "cell_type": "markdown",
      "id": "13a71053",
      "metadata": {
        "id": "13a71053"
      },
      "source": [
        "Модели градиентного бустинга дают более низкое значение <i>RMSE</i> по сравнению с простыми моделями.\n",
        "\n",
        "<i>CatBoostRegressor</i> показала лучшее значение <i>RMSE</i> среди всех моделей - 1593. Однако, скорость работы ниже, чем у <i>LGBMRegressor</i>."
      ]
    },
    {
      "cell_type": "markdown",
      "id": "68d4eefb",
      "metadata": {
        "id": "68d4eefb"
      },
      "source": [
        "### 2.3 Вывод\n",
        "Обучено 5 моделей, 3 простых - линейная регрессия, дерево решений и случайный лес - и 2 градиентного бустинга - *CatBoostRegressor* и *LGBMRegressor*.\n",
        "\n",
        "Сравнение моделей произведено на обучающей выборке.\n",
        "\n",
        "Модели градиентного бустинга дают более низкое значение *RMSE* по сравнению с простыми моделями.\n",
        "\n",
        "Среди простых моделей лучшее значение *RMSE* получено случайным лесом, но и самое долгое обучение и предсказание.\n",
        "\n",
        "Из моделей градиентного бустинга лучшее значение *RMSE* получено *CatBoostRegressor*, и это значение также лучше, чем у случайного леса. Скорость работы *CatBoostRegressor* выше, чем у *LGBMRegressor*, но немного ниже, чем у случайного леса."
      ]
    },
    {
      "cell_type": "markdown",
      "id": "29314c08",
      "metadata": {
        "id": "29314c08"
      },
      "source": [
        "## 3 Анализ моделей"
      ]
    },
    {
      "cell_type": "markdown",
      "id": "58a8026f",
      "metadata": {
        "id": "58a8026f"
      },
      "source": [
        "Сделаем итоговое сравнение моделей: определим на обучающей выборке качество и скорость предсказания и время обучения всех рассмотренных моделей. "
      ]
    },
    {
      "cell_type": "code",
      "execution_count": 60,
      "id": "a8278cd7",
      "metadata": {
        "id": "a8278cd7"
      },
      "outputs": [],
      "source": [
        "# создание собственной функции для определения RMSE,\n",
        "# длительности обучения и предсказания\n",
        "def final_count(model, cat_feat, Xtrain, ytrain):\n",
        "  '''\n",
        "  функция для определения RMSE, длительности обучения и предсказания.\n",
        "  На вход принимает модель c заданными гиперпараметрами,\n",
        "  значения категориальных признаков, обучающую выборку.\n",
        "  Возвращает RMSE, длительности обучения и предсказания модели\n",
        "  '''\n",
        "  start_fit = time.time()\n",
        "  model = model\n",
        "  model.fit(Xtrain, ytrain, cat_feat)\n",
        "  stop_fit = time.time()\n",
        "  predict = model.predict(Xtrain)\n",
        "  stop_pred = time.time()\n",
        "  rmse = mean_squared_error(ytrain, predict, squared=False)\n",
        "  fit_time = stop_fit - start_fit\n",
        "  pred_time = stop_pred - stop_fit\n",
        "  \n",
        "  return rmse, fit_time, pred_time"
      ]
    },
    {
      "cell_type": "code",
      "execution_count": 61,
      "id": "2f42f87b",
      "metadata": {
        "id": "2f42f87b"
      },
      "outputs": [],
      "source": [
        "# определение показателей линейной регрессии\n",
        "model_lr = LinearRegression()\n",
        "cat_feat_lr = None\n",
        "rmse_lr, fit_time_lr, pred_time_lr = final_count(model_lr,\n",
        "                                                 cat_feat_lr,\n",
        "                                                 X_train_ohe, y_train_ohe)"
      ]
    },
    {
      "cell_type": "code",
      "execution_count": 62,
      "id": "1397c7f9",
      "metadata": {
        "id": "1397c7f9"
      },
      "outputs": [],
      "source": [
        "# определение показателей дерева решений\n",
        "model_dt = DecisionTreeRegressor(max_depth=14, random_state=rs)\n",
        "cat_feat_dt = None\n",
        "rmse_dt, fit_time_dt, pred_time_dt = final_count(model_dt,\n",
        "                                                 cat_feat_dt,\n",
        "                                                 X_train_oe, y_train_oe)"
      ]
    },
    {
      "cell_type": "code",
      "execution_count": 63,
      "id": "825f395a",
      "metadata": {
        "id": "825f395a"
      },
      "outputs": [],
      "source": [
        "# определение показателей случайного леса\n",
        "model_rf = RandomForestRegressor(max_depth=18, n_estimators=100,\n",
        "                                 random_state=rs)\n",
        "cat_feat_rf = None\n",
        "rmse_rf, fit_time_rf, pred_time_rf = final_count(model_rf,\n",
        "                                                 cat_feat_rf,\n",
        "                                                 X_train_oe, y_train_oe)"
      ]
    },
    {
      "cell_type": "code",
      "execution_count": 64,
      "id": "f8cee379",
      "metadata": {
        "colab": {
          "base_uri": "https://localhost:8080/"
        },
        "id": "f8cee379",
        "outputId": "0341354d-2f2a-4d51-ebbc-47f408bbbdd3"
      },
      "outputs": [
        {
          "output_type": "stream",
          "name": "stdout",
          "text": [
            "0:\tlearn: 3868.2967583\ttotal: 615ms\tremaining: 1m\n",
            "1:\tlearn: 3356.8766091\ttotal: 1.86s\tremaining: 1m 31s\n",
            "2:\tlearn: 2965.4711332\ttotal: 2.98s\tremaining: 1m 36s\n",
            "3:\tlearn: 2677.8835724\ttotal: 4.08s\tremaining: 1m 37s\n",
            "4:\tlearn: 2462.4491984\ttotal: 5.17s\tremaining: 1m 38s\n",
            "5:\tlearn: 2275.2659869\ttotal: 6.28s\tremaining: 1m 38s\n",
            "6:\tlearn: 2134.3803800\ttotal: 7.37s\tremaining: 1m 37s\n",
            "7:\tlearn: 2031.5620130\ttotal: 8.47s\tremaining: 1m 37s\n",
            "8:\tlearn: 1943.7327297\ttotal: 9.56s\tremaining: 1m 36s\n",
            "9:\tlearn: 1876.7277662\ttotal: 10.6s\tremaining: 1m 35s\n",
            "10:\tlearn: 1826.5258480\ttotal: 11.7s\tremaining: 1m 34s\n",
            "11:\tlearn: 1783.0736117\ttotal: 12.8s\tremaining: 1m 34s\n",
            "12:\tlearn: 1753.7024983\ttotal: 13.9s\tremaining: 1m 33s\n",
            "13:\tlearn: 1715.6095377\ttotal: 15.1s\tremaining: 1m 32s\n",
            "14:\tlearn: 1689.5175422\ttotal: 16.2s\tremaining: 1m 31s\n",
            "15:\tlearn: 1663.6744133\ttotal: 17.3s\tremaining: 1m 30s\n",
            "16:\tlearn: 1644.7860410\ttotal: 18.4s\tremaining: 1m 29s\n",
            "17:\tlearn: 1629.2500950\ttotal: 19.5s\tremaining: 1m 28s\n",
            "18:\tlearn: 1616.4388593\ttotal: 20.7s\tremaining: 1m 28s\n",
            "19:\tlearn: 1605.2906548\ttotal: 21.8s\tremaining: 1m 27s\n",
            "20:\tlearn: 1593.4234562\ttotal: 22.9s\tremaining: 1m 26s\n",
            "21:\tlearn: 1581.1642532\ttotal: 24s\tremaining: 1m 25s\n",
            "22:\tlearn: 1570.9526064\ttotal: 25.1s\tremaining: 1m 24s\n",
            "23:\tlearn: 1563.8076312\ttotal: 26.2s\tremaining: 1m 22s\n",
            "24:\tlearn: 1553.0273679\ttotal: 27.3s\tremaining: 1m 21s\n",
            "25:\tlearn: 1546.6677708\ttotal: 28.4s\tremaining: 1m 20s\n",
            "26:\tlearn: 1540.0106091\ttotal: 29.5s\tremaining: 1m 19s\n",
            "27:\tlearn: 1532.7496880\ttotal: 30.7s\tremaining: 1m 18s\n",
            "28:\tlearn: 1527.5305393\ttotal: 31.8s\tremaining: 1m 17s\n",
            "29:\tlearn: 1522.1033790\ttotal: 32.9s\tremaining: 1m 16s\n",
            "30:\tlearn: 1519.4055716\ttotal: 34s\tremaining: 1m 15s\n",
            "31:\tlearn: 1516.5082127\ttotal: 35.1s\tremaining: 1m 14s\n",
            "32:\tlearn: 1511.3214427\ttotal: 36.2s\tremaining: 1m 13s\n",
            "33:\tlearn: 1506.9293166\ttotal: 37.3s\tremaining: 1m 12s\n",
            "34:\tlearn: 1504.0179498\ttotal: 38.4s\tremaining: 1m 11s\n",
            "35:\tlearn: 1498.9321632\ttotal: 39.5s\tremaining: 1m 10s\n",
            "36:\tlearn: 1493.8732136\ttotal: 40.6s\tremaining: 1m 9s\n",
            "37:\tlearn: 1487.2168647\ttotal: 41.7s\tremaining: 1m 8s\n",
            "38:\tlearn: 1478.6694938\ttotal: 42.9s\tremaining: 1m 7s\n",
            "39:\tlearn: 1474.7898397\ttotal: 44s\tremaining: 1m 5s\n",
            "40:\tlearn: 1474.6851720\ttotal: 44s\tremaining: 1m 3s\n",
            "41:\tlearn: 1469.4136645\ttotal: 45.2s\tremaining: 1m 2s\n",
            "42:\tlearn: 1465.9695858\ttotal: 46.3s\tremaining: 1m 1s\n",
            "43:\tlearn: 1461.1995893\ttotal: 47.4s\tremaining: 1m\n",
            "44:\tlearn: 1457.6561974\ttotal: 48.5s\tremaining: 59.3s\n",
            "45:\tlearn: 1451.5409364\ttotal: 49.6s\tremaining: 58.3s\n",
            "46:\tlearn: 1446.6719767\ttotal: 50.7s\tremaining: 57.2s\n",
            "47:\tlearn: 1446.6716170\ttotal: 50.8s\tremaining: 55s\n",
            "48:\tlearn: 1442.7202637\ttotal: 51.9s\tremaining: 54s\n",
            "49:\tlearn: 1440.3294098\ttotal: 53s\tremaining: 53s\n",
            "50:\tlearn: 1437.7802612\ttotal: 54.1s\tremaining: 52s\n",
            "51:\tlearn: 1434.8214704\ttotal: 55.2s\tremaining: 51s\n",
            "52:\tlearn: 1432.7849143\ttotal: 56.3s\tremaining: 50s\n",
            "53:\tlearn: 1429.1730977\ttotal: 57.5s\tremaining: 49s\n",
            "54:\tlearn: 1426.5216999\ttotal: 58.6s\tremaining: 47.9s\n",
            "55:\tlearn: 1424.3425560\ttotal: 59.7s\tremaining: 46.9s\n",
            "56:\tlearn: 1424.3196520\ttotal: 59.7s\tremaining: 45.1s\n",
            "57:\tlearn: 1422.4466057\ttotal: 1m\tremaining: 44.1s\n",
            "58:\tlearn: 1417.4695694\ttotal: 1m 2s\tremaining: 43.1s\n",
            "59:\tlearn: 1414.2055891\ttotal: 1m 3s\tremaining: 42.1s\n",
            "60:\tlearn: 1410.8619473\ttotal: 1m 4s\tremaining: 41.1s\n",
            "61:\tlearn: 1408.1121612\ttotal: 1m 5s\tremaining: 40s\n",
            "62:\tlearn: 1403.7004559\ttotal: 1m 6s\tremaining: 39s\n",
            "63:\tlearn: 1400.8732386\ttotal: 1m 7s\tremaining: 38s\n",
            "64:\tlearn: 1396.9877896\ttotal: 1m 8s\tremaining: 37s\n",
            "65:\tlearn: 1393.7749253\ttotal: 1m 9s\tremaining: 36s\n",
            "66:\tlearn: 1390.9876765\ttotal: 1m 10s\tremaining: 34.9s\n",
            "67:\tlearn: 1387.0452036\ttotal: 1m 12s\tremaining: 33.9s\n",
            "68:\tlearn: 1384.0927150\ttotal: 1m 13s\tremaining: 32.9s\n",
            "69:\tlearn: 1381.6654357\ttotal: 1m 14s\tremaining: 31.8s\n",
            "70:\tlearn: 1378.2355226\ttotal: 1m 15s\tremaining: 30.8s\n",
            "71:\tlearn: 1376.3340108\ttotal: 1m 16s\tremaining: 29.7s\n",
            "72:\tlearn: 1375.9838424\ttotal: 1m 16s\tremaining: 28.3s\n",
            "73:\tlearn: 1373.2400461\ttotal: 1m 17s\tremaining: 27.3s\n",
            "74:\tlearn: 1370.4544339\ttotal: 1m 18s\tremaining: 26.3s\n",
            "75:\tlearn: 1367.8148763\ttotal: 1m 19s\tremaining: 25.2s\n",
            "76:\tlearn: 1364.6483366\ttotal: 1m 21s\tremaining: 24.2s\n",
            "77:\tlearn: 1364.6482296\ttotal: 1m 21s\tremaining: 22.9s\n",
            "78:\tlearn: 1363.1242041\ttotal: 1m 22s\tremaining: 21.9s\n",
            "79:\tlearn: 1360.8664552\ttotal: 1m 23s\tremaining: 20.9s\n",
            "80:\tlearn: 1357.7119531\ttotal: 1m 24s\tremaining: 19.8s\n",
            "81:\tlearn: 1353.6809662\ttotal: 1m 25s\tremaining: 18.8s\n",
            "82:\tlearn: 1350.7349952\ttotal: 1m 26s\tremaining: 17.8s\n",
            "83:\tlearn: 1349.0113229\ttotal: 1m 27s\tremaining: 16.7s\n",
            "84:\tlearn: 1347.6830328\ttotal: 1m 28s\tremaining: 15.7s\n",
            "85:\tlearn: 1345.7704115\ttotal: 1m 30s\tremaining: 14.7s\n",
            "86:\tlearn: 1344.1830100\ttotal: 1m 31s\tremaining: 13.6s\n",
            "87:\tlearn: 1341.4182663\ttotal: 1m 32s\tremaining: 12.6s\n",
            "88:\tlearn: 1339.1952423\ttotal: 1m 33s\tremaining: 11.5s\n",
            "89:\tlearn: 1338.0082745\ttotal: 1m 34s\tremaining: 10.5s\n",
            "90:\tlearn: 1334.9404172\ttotal: 1m 35s\tremaining: 9.46s\n",
            "91:\tlearn: 1333.7449387\ttotal: 1m 36s\tremaining: 8.41s\n",
            "92:\tlearn: 1332.3256035\ttotal: 1m 37s\tremaining: 7.37s\n",
            "93:\tlearn: 1330.1521489\ttotal: 1m 38s\tremaining: 6.32s\n",
            "94:\tlearn: 1328.9436800\ttotal: 1m 40s\tremaining: 5.27s\n",
            "95:\tlearn: 1327.0947738\ttotal: 1m 41s\tremaining: 4.21s\n",
            "96:\tlearn: 1325.2744531\ttotal: 1m 42s\tremaining: 3.16s\n",
            "97:\tlearn: 1323.0667607\ttotal: 1m 43s\tremaining: 2.11s\n",
            "98:\tlearn: 1321.0608848\ttotal: 1m 44s\tremaining: 1.05s\n",
            "99:\tlearn: 1319.0735657\ttotal: 1m 45s\tremaining: 0us\n"
          ]
        }
      ],
      "source": [
        "# определение показателей CatBoostRegressor\n",
        "model_cbr = CatBoostRegressor(iterations=100, learning_rate=0.2,\n",
        "                              depth=16, random_state=rs)\n",
        "cat_feat_cbr = X_cat\n",
        "rmse_cbr, fit_time_cbr, pred_time_cbr = final_count(model_cbr,\n",
        "                                                    cat_feat_cbr,\n",
        "                                                    X_train_cbr, y_train_b)"
      ]
    },
    {
      "cell_type": "code",
      "execution_count": 65,
      "id": "738f0e0f",
      "metadata": {
        "id": "738f0e0f"
      },
      "outputs": [],
      "source": [
        "# определение показателей LGBMRegressor\n",
        "model_lgbm = LGBMRegressor(max_depth=9, learning_rate=0.3,\n",
        "                           n_estimators=110, random_state=rs)\n",
        "cat_feat_lgbm = None\n",
        "rmse_lgbm, fit_time_lgbm, pred_time_lgbm = final_count(model_lgbm,\n",
        "                                                       cat_feat_lgbm,\n",
        "                                                       X_train_lgbm, y_train_b)"
      ]
    },
    {
      "cell_type": "code",
      "execution_count": 66,
      "id": "baf24730",
      "metadata": {
        "colab": {
          "base_uri": "https://localhost:8080/",
          "height": 206
        },
        "id": "baf24730",
        "outputId": "885e9b89-abf1-46f3-bc83-73380bd19d46"
      },
      "outputs": [
        {
          "output_type": "display_data",
          "data": {
            "text/plain": [
              "              Модель         RMSE  Время обучения, с  Скорость предсказания, с\n",
              "0   LinearRegression  2917.596519           0.391855                  0.036084\n",
              "1       DecisionTree  1490.129754           0.821498                  0.063925\n",
              "2       RandomForest  1099.753671          59.900126                  7.256652\n",
              "3  CatBoostRegressor  1345.289922         106.715170                  0.517030\n",
              "4      LGBMRegressor  1507.498012           2.065218                  2.487633"
            ],
            "text/html": [
              "\n",
              "  <div id=\"df-7eeaca8c-f3a9-4104-baa4-1167b49c3768\">\n",
              "    <div class=\"colab-df-container\">\n",
              "      <div>\n",
              "<style scoped>\n",
              "    .dataframe tbody tr th:only-of-type {\n",
              "        vertical-align: middle;\n",
              "    }\n",
              "\n",
              "    .dataframe tbody tr th {\n",
              "        vertical-align: top;\n",
              "    }\n",
              "\n",
              "    .dataframe thead th {\n",
              "        text-align: right;\n",
              "    }\n",
              "</style>\n",
              "<table border=\"1\" class=\"dataframe\">\n",
              "  <thead>\n",
              "    <tr style=\"text-align: right;\">\n",
              "      <th></th>\n",
              "      <th>Модель</th>\n",
              "      <th>RMSE</th>\n",
              "      <th>Время обучения, с</th>\n",
              "      <th>Скорость предсказания, с</th>\n",
              "    </tr>\n",
              "  </thead>\n",
              "  <tbody>\n",
              "    <tr>\n",
              "      <th>0</th>\n",
              "      <td>LinearRegression</td>\n",
              "      <td>2917.596519</td>\n",
              "      <td>0.391855</td>\n",
              "      <td>0.036084</td>\n",
              "    </tr>\n",
              "    <tr>\n",
              "      <th>1</th>\n",
              "      <td>DecisionTree</td>\n",
              "      <td>1490.129754</td>\n",
              "      <td>0.821498</td>\n",
              "      <td>0.063925</td>\n",
              "    </tr>\n",
              "    <tr>\n",
              "      <th>2</th>\n",
              "      <td>RandomForest</td>\n",
              "      <td>1099.753671</td>\n",
              "      <td>59.900126</td>\n",
              "      <td>7.256652</td>\n",
              "    </tr>\n",
              "    <tr>\n",
              "      <th>3</th>\n",
              "      <td>CatBoostRegressor</td>\n",
              "      <td>1345.289922</td>\n",
              "      <td>106.715170</td>\n",
              "      <td>0.517030</td>\n",
              "    </tr>\n",
              "    <tr>\n",
              "      <th>4</th>\n",
              "      <td>LGBMRegressor</td>\n",
              "      <td>1507.498012</td>\n",
              "      <td>2.065218</td>\n",
              "      <td>2.487633</td>\n",
              "    </tr>\n",
              "  </tbody>\n",
              "</table>\n",
              "</div>\n",
              "      <button class=\"colab-df-convert\" onclick=\"convertToInteractive('df-7eeaca8c-f3a9-4104-baa4-1167b49c3768')\"\n",
              "              title=\"Convert this dataframe to an interactive table.\"\n",
              "              style=\"display:none;\">\n",
              "        \n",
              "  <svg xmlns=\"http://www.w3.org/2000/svg\" height=\"24px\"viewBox=\"0 0 24 24\"\n",
              "       width=\"24px\">\n",
              "    <path d=\"M0 0h24v24H0V0z\" fill=\"none\"/>\n",
              "    <path d=\"M18.56 5.44l.94 2.06.94-2.06 2.06-.94-2.06-.94-.94-2.06-.94 2.06-2.06.94zm-11 1L8.5 8.5l.94-2.06 2.06-.94-2.06-.94L8.5 2.5l-.94 2.06-2.06.94zm10 10l.94 2.06.94-2.06 2.06-.94-2.06-.94-.94-2.06-.94 2.06-2.06.94z\"/><path d=\"M17.41 7.96l-1.37-1.37c-.4-.4-.92-.59-1.43-.59-.52 0-1.04.2-1.43.59L10.3 9.45l-7.72 7.72c-.78.78-.78 2.05 0 2.83L4 21.41c.39.39.9.59 1.41.59.51 0 1.02-.2 1.41-.59l7.78-7.78 2.81-2.81c.8-.78.8-2.07 0-2.86zM5.41 20L4 18.59l7.72-7.72 1.47 1.35L5.41 20z\"/>\n",
              "  </svg>\n",
              "      </button>\n",
              "      \n",
              "  <style>\n",
              "    .colab-df-container {\n",
              "      display:flex;\n",
              "      flex-wrap:wrap;\n",
              "      gap: 12px;\n",
              "    }\n",
              "\n",
              "    .colab-df-convert {\n",
              "      background-color: #E8F0FE;\n",
              "      border: none;\n",
              "      border-radius: 50%;\n",
              "      cursor: pointer;\n",
              "      display: none;\n",
              "      fill: #1967D2;\n",
              "      height: 32px;\n",
              "      padding: 0 0 0 0;\n",
              "      width: 32px;\n",
              "    }\n",
              "\n",
              "    .colab-df-convert:hover {\n",
              "      background-color: #E2EBFA;\n",
              "      box-shadow: 0px 1px 2px rgba(60, 64, 67, 0.3), 0px 1px 3px 1px rgba(60, 64, 67, 0.15);\n",
              "      fill: #174EA6;\n",
              "    }\n",
              "\n",
              "    [theme=dark] .colab-df-convert {\n",
              "      background-color: #3B4455;\n",
              "      fill: #D2E3FC;\n",
              "    }\n",
              "\n",
              "    [theme=dark] .colab-df-convert:hover {\n",
              "      background-color: #434B5C;\n",
              "      box-shadow: 0px 1px 3px 1px rgba(0, 0, 0, 0.15);\n",
              "      filter: drop-shadow(0px 1px 2px rgba(0, 0, 0, 0.3));\n",
              "      fill: #FFFFFF;\n",
              "    }\n",
              "  </style>\n",
              "\n",
              "      <script>\n",
              "        const buttonEl =\n",
              "          document.querySelector('#df-7eeaca8c-f3a9-4104-baa4-1167b49c3768 button.colab-df-convert');\n",
              "        buttonEl.style.display =\n",
              "          google.colab.kernel.accessAllowed ? 'block' : 'none';\n",
              "\n",
              "        async function convertToInteractive(key) {\n",
              "          const element = document.querySelector('#df-7eeaca8c-f3a9-4104-baa4-1167b49c3768');\n",
              "          const dataTable =\n",
              "            await google.colab.kernel.invokeFunction('convertToInteractive',\n",
              "                                                     [key], {});\n",
              "          if (!dataTable) return;\n",
              "\n",
              "          const docLinkHtml = 'Like what you see? Visit the ' +\n",
              "            '<a target=\"_blank\" href=https://colab.research.google.com/notebooks/data_table.ipynb>data table notebook</a>'\n",
              "            + ' to learn more about interactive tables.';\n",
              "          element.innerHTML = '';\n",
              "          dataTable['output_type'] = 'display_data';\n",
              "          await google.colab.output.renderOutput(dataTable, element);\n",
              "          const docLink = document.createElement('div');\n",
              "          docLink.innerHTML = docLinkHtml;\n",
              "          element.appendChild(docLink);\n",
              "        }\n",
              "      </script>\n",
              "    </div>\n",
              "  </div>\n",
              "  "
            ]
          },
          "metadata": {}
        }
      ],
      "source": [
        "# создание таблицы с показателями рассмотренных моделей\n",
        "result = pd.DataFrame(data=[['LinearRegression', rmse_lr, fit_time_lr, pred_time_lr],\n",
        "                            ['DecisionTree', rmse_dt, fit_time_dt, pred_time_dt],\n",
        "                            ['RandomForest', rmse_rf, fit_time_rf, pred_time_rf],\n",
        "                            ['CatBoostRegressor', rmse_cbr, fit_time_cbr, pred_time_cbr],\n",
        "                            ['LGBMRegressor', rmse_lgbm, fit_time_lgbm, pred_time_lgbm]],\n",
        "                      columns=['Модель', 'RMSE', 'Время обучения, с', 'Скорость предсказания, с'])\n",
        "display(result)"
      ]
    },
    {
      "cell_type": "markdown",
      "id": "356a2199",
      "metadata": {
        "id": "356a2199"
      },
      "source": [
        "На обучающей выборке лучшее значение метрики у случайного леса, но при этом довольно низкая скорость обучения и самая низкая скорость предсказания.\n",
        "\n",
        "Следующая модель по значению <i>RMSE</i> - <i>CatBoostRegressor</i>, но у неё самая низкая скорость обучения.\n",
        "\n",
        "Далее идёт дерево решений - неплохое значение <i>RMSE</i> при очень высоких скоростях обучения и предсказания.\n",
        "\n",
        "У <i>LGBMRegressor</i> значение <i>RMSE</i> чуть хуже, время обучения и предсказания дольше по сравнению с деревом решений. \n",
        "\n",
        "Проверим дерево решений и <i>LGBMRegressor</i> на тестовой выборке."
      ]
    },
    {
      "cell_type": "code",
      "execution_count": 67,
      "id": "cfd05897",
      "metadata": {
        "colab": {
          "base_uri": "https://localhost:8080/"
        },
        "id": "cfd05897",
        "outputId": "f52e6e96-ade9-4524-c1de-fd647e3af4a5"
      },
      "outputs": [
        {
          "output_type": "stream",
          "name": "stdout",
          "text": [
            "RMSE= 1872.251686997511\n",
            "Время обучения, с 1.0098986625671387\n",
            "Скорость предсказания, с 0.02652597427368164\n"
          ]
        }
      ],
      "source": [
        "# определение RMSE, длительности обучения и предсказания\n",
        "# для дерева решений\n",
        "start_fit_best = time.time()\n",
        "model_best = DecisionTreeRegressor(max_depth=14, random_state=rs)\n",
        "\n",
        "model_best.fit(X_train_oe, y_train_oe)\n",
        "stop_fit_best = time.time()\n",
        "\n",
        "predict_best = model_best.predict(X_test_oe)\n",
        "stop_pred_best = time.time()\n",
        "\n",
        "rmse_best = mean_squared_error(y_test_oe, predict_best, squared=False)\n",
        "\n",
        "fit_time_best = stop_fit_best - start_fit_best\n",
        "pred_time_best = stop_pred_best - stop_fit_best\n",
        "\n",
        "print('RMSE=', rmse_best)\n",
        "print('Время обучения, с', fit_time_best)\n",
        "print('Скорость предсказания, с', pred_time_best)"
      ]
    },
    {
      "cell_type": "code",
      "execution_count": 68,
      "id": "39d04459",
      "metadata": {
        "colab": {
          "base_uri": "https://localhost:8080/"
        },
        "id": "39d04459",
        "outputId": "c8fd415f-d562-421d-f2a8-2e7376577bc1"
      },
      "outputs": [
        {
          "output_type": "stream",
          "name": "stdout",
          "text": [
            "RMSE= 1608.4882099430108\n",
            "Время обучения, с 1.9521944522857666\n",
            "Скорость предсказания, с 0.42325758934020996\n"
          ]
        }
      ],
      "source": [
        "# определение RMSE, длительности обучения и предсказания\n",
        "# для LGBMRegressor\n",
        "start_fit_best_2 = time.time()\n",
        "model_best_2 = LGBMRegressor(max_depth=9, learning_rate=0.3,\n",
        "                           n_estimators=110, random_state=rs)\n",
        "\n",
        "model_best_2.fit(X_train_lgbm, y_train_b)\n",
        "stop_fit_best_2 = time.time()\n",
        "\n",
        "predict_best_2 = model_best_2.predict(X_test_lgbm)\n",
        "stop_pred_best_2 = time.time()\n",
        "\n",
        "rmse_best_2 = mean_squared_error(y_test_b, predict_best_2, squared=False)\n",
        "\n",
        "fit_time_best_2 = stop_fit_best_2 - start_fit_best_2\n",
        "pred_time_best_2 = stop_pred_best_2 - stop_fit_best_2\n",
        "\n",
        "print('RMSE=', rmse_best_2)\n",
        "print('Время обучения, с', fit_time_best_2)\n",
        "print('Скорость предсказания, с', pred_time_best_2)"
      ]
    },
    {
      "cell_type": "markdown",
      "id": "15d27e42",
      "metadata": {
        "id": "15d27e42"
      },
      "source": [
        "На тестовой выборке у дерева решений значение метрики сильно упало в отличие от <i>LGBMRegressor</i>, поэтому по сумме показателей лучшая модель - <i>LGBMRegressor</i>."
      ]
    },
    {
      "cell_type": "markdown",
      "id": "ebd9445c",
      "metadata": {
        "id": "ebd9445c"
      },
      "source": [
        "### 3.1 Вывод\n",
        "На обучающей выборке лучшее значение метрики у случайного леса, но при этом довольно низкая скорость обучения и самая низкая скорость предсказания.\n",
        "\n",
        "Следующая модель по значению <i>RMSE</i> - <i>CatBoostRegressor</i>, но у неё самая низкая скорость обучения.\n",
        "\n",
        "Далее идёт дерево решений - неплохое значение <i>RMSE</i> при очень высоких скоростях обучения и предсказания.\n",
        "\n",
        "У <i>LGBMRegressor</i> значение <i>RMSE</i> чуть хуже, скорость обучения и предсказания ниже по сравнению с деревом решений. \n",
        "\n",
        "На тестовой выборке у дерева решений значение метрики сильно упало в отличие от <i>LGBMRegressor</i>, поэтому по сумме показателей лучшая модель - <i>LGBMRegressor</i>."
      ]
    },
    {
      "cell_type": "markdown",
      "id": "117ead70",
      "metadata": {
        "id": "117ead70"
      },
      "source": [
        "## 4 Общий вывод\n",
        "1. В исходных данных 354369 объектов, 16 признаков.\n",
        "\n",
        "- Каждый объект в наборе данных — это исторические данные о технических характеристиках, комплектации и ценах автомобилей.\n",
        "\n",
        "2. Произведена предобработка признаков: \n",
        "- удалены не нужные для модели признаки (`DateCrawled`, `RegistrationMonth`, `DateCreated`, `NumberOfPictures`, `PostalCode`, `LastSeen`);\n",
        "- названия приведены к змеиному регистру;\n",
        "- удалены 4 явных дубликата;\n",
        "- в признаке `FuelType` обработан скрытый дубликат - petrol и gasoline, - понятия, обозначающие одно и то же топливо в Британии и США; значения объединены термином petrol;\n",
        "- в остальных признаках скрытых дублей и ошибок нет;\n",
        "- пропуски в категориальных признаках `VehicleType`, `Gearbox`, `Model`, `NotRepaired` заполнены категорией unknown;\n",
        "- пропуски в признаке `FuelType` заменены на аналогичные типы по группировке марки, модели и мощности автомобиля;\n",
        "- цены ниже 100 евро приняты ошибочными и не подлежащими восстановлению. Такие объекты из данных удалены;\n",
        "- в данных оставлены автомобили с годом регистрации от 1950 по 2016 года;\n",
        "- автомобили в мощностью 20 л.с. и менее и более 400 л.с. удалены из данных;\n",
        "- для автомобилей с нулевой мощностью произведена группировка по марке, модели, типу топлива и кузова и замена 0 на медианное значение мощности.\n",
        "\n",
        "3. Произведена подготовка признаков для простых моделей.\n",
        "\n",
        "Для линейной регрессии:\n",
        "- применено прямое кодирование для признаков `gearbox`, `fuel_type`, `not_repaired`;\n",
        "- применены последовательно порядковое и двоичное кодирование для признаков `vehicle_type`, `model`, `brand`;\n",
        "- произведено масштабирование для признаков `registration_year`, `power`, `kilometer`.\n",
        "\n",
        "Для дерева решений и случайного леса:\n",
        "- применено порядковое кодирование для признаков `vehicle_type`, `gearbox`, `model`, `fuel_type`, `brand`, `not_repaired`.\n",
        "\n",
        "\n",
        "4. Обучено 5 моделей, 3 простых - линейная регрессия, дерево решений и случайный лес - и 2 градиентного бустинга - *CatBoostRegressor* и *LGBMRegressor*.\n",
        "\n",
        "Сравнение моделей произведено на обучающей выборке.\n",
        "\n",
        "- Модели градиентного бустинга дают более низкое значение *RMSE* по сравнению с простыми моделями.\n",
        "\n",
        "- Среди простых моделей лучшее значение *RMSE* на обучающей выборке получено случайным лесом.\n",
        "\n",
        "- Из моделей градиентного бустинга лучшее значение *RMSE* на обучающей выборке получено *CatBoostRegressor*, и это значение также лучше, чем у случайного леса.\n",
        "\n",
        "5. Анализ моделей :\n",
        "- на обучающей выборке лучшее значение метрики у случайного леса, но при этом довольно низкая скорость обучения и самая низкая скорость предсказания.\n",
        "\n",
        "- Следующая модель по значению <i>RMSE</i> - <i>CatBoostRegressor</i>, но у неё самая низкая скорость обучения.\n",
        "\n",
        "- Далее идёт дерево решений - неплохое значение <i>RMSE</i> при очень высоких скоростях обучения и предсказания.\n",
        "\n",
        "- У <i>LGBMRegressor</i> значение <i>RMSE</i> чуть хуже, скорость обучения и предсказания ниже по сравнению с деревом решений. \n",
        "\n",
        "- На тестовой выборке у дерева решений значение метрики сильно упало в отличие от <i>LGBMRegressor</i>, поэтому по сумме показателей лучшая модель - <i>LGBMRegressor</i>."
      ]
    }
  ],
  "metadata": {
    "ExecuteTimeLog": [
      {
        "duration": 3165,
        "start_time": "2022-05-20T05:16:29.329Z"
      },
      {
        "duration": 2562,
        "start_time": "2022-05-20T05:16:32.497Z"
      },
      {
        "duration": 3175,
        "start_time": "2022-05-20T05:16:35.061Z"
      },
      {
        "duration": 1840,
        "start_time": "2022-05-20T05:16:38.239Z"
      },
      {
        "duration": 3,
        "start_time": "2022-05-20T05:16:40.082Z"
      },
      {
        "duration": 9,
        "start_time": "2022-05-20T05:16:40.086Z"
      },
      {
        "duration": 21,
        "start_time": "2022-05-20T05:16:40.096Z"
      },
      {
        "duration": 10,
        "start_time": "2022-05-20T05:16:40.118Z"
      },
      {
        "duration": 8,
        "start_time": "2022-05-20T05:16:40.129Z"
      },
      {
        "duration": 14,
        "start_time": "2022-05-20T05:16:40.139Z"
      },
      {
        "duration": 16,
        "start_time": "2022-05-20T05:16:40.155Z"
      },
      {
        "duration": 877,
        "start_time": "2022-05-20T05:16:40.173Z"
      },
      {
        "duration": 137,
        "start_time": "2022-05-20T05:16:41.051Z"
      },
      {
        "duration": 109,
        "start_time": "2022-05-20T05:16:41.191Z"
      },
      {
        "duration": 935,
        "start_time": "2022-05-20T05:16:41.301Z"
      },
      {
        "duration": 1064,
        "start_time": "2022-05-20T05:16:42.237Z"
      },
      {
        "duration": 76,
        "start_time": "2022-05-20T05:16:43.303Z"
      },
      {
        "duration": 87,
        "start_time": "2022-05-20T05:16:43.380Z"
      },
      {
        "duration": 68,
        "start_time": "2022-05-20T05:16:43.468Z"
      },
      {
        "duration": 21,
        "start_time": "2022-05-20T05:16:43.538Z"
      },
      {
        "duration": 25,
        "start_time": "2022-05-20T05:16:43.560Z"
      },
      {
        "duration": 3,
        "start_time": "2022-05-20T05:16:43.587Z"
      },
      {
        "duration": 155,
        "start_time": "2022-05-20T05:16:43.591Z"
      },
      {
        "duration": 52,
        "start_time": "2022-05-20T05:16:43.748Z"
      },
      {
        "duration": 181,
        "start_time": "2022-05-20T05:16:43.801Z"
      },
      {
        "duration": 54,
        "start_time": "2022-05-20T05:16:43.984Z"
      },
      {
        "duration": 205,
        "start_time": "2022-05-20T05:16:44.039Z"
      },
      {
        "duration": 14,
        "start_time": "2022-05-20T05:16:44.246Z"
      },
      {
        "duration": 193,
        "start_time": "2022-05-20T05:16:44.262Z"
      },
      {
        "duration": 228,
        "start_time": "2022-05-20T05:16:44.457Z"
      },
      {
        "duration": 4,
        "start_time": "2022-05-20T05:16:44.687Z"
      },
      {
        "duration": 11,
        "start_time": "2022-05-20T05:16:44.692Z"
      },
      {
        "duration": 124,
        "start_time": "2022-05-20T05:16:44.705Z"
      },
      {
        "duration": 156,
        "start_time": "2022-05-20T05:16:44.831Z"
      },
      {
        "duration": 207,
        "start_time": "2022-05-20T05:16:44.989Z"
      },
      {
        "duration": 39,
        "start_time": "2022-05-20T05:16:45.198Z"
      },
      {
        "duration": 198,
        "start_time": "2022-05-20T05:16:45.240Z"
      },
      {
        "duration": 165,
        "start_time": "2022-05-20T05:16:45.441Z"
      },
      {
        "duration": 29,
        "start_time": "2022-05-20T05:16:45.608Z"
      },
      {
        "duration": 145,
        "start_time": "2022-05-20T05:16:45.639Z"
      },
      {
        "duration": 13,
        "start_time": "2022-05-20T05:16:45.789Z"
      },
      {
        "duration": 200,
        "start_time": "2022-05-20T05:16:45.803Z"
      },
      {
        "duration": 168,
        "start_time": "2022-05-20T05:16:46.005Z"
      },
      {
        "duration": 175,
        "start_time": "2022-05-20T05:16:46.175Z"
      },
      {
        "duration": 6,
        "start_time": "2022-05-20T05:16:46.352Z"
      },
      {
        "duration": 93,
        "start_time": "2022-05-20T05:16:46.360Z"
      },
      {
        "duration": 266,
        "start_time": "2022-05-20T05:16:46.455Z"
      },
      {
        "duration": 113,
        "start_time": "2022-05-20T05:16:46.725Z"
      },
      {
        "duration": 483,
        "start_time": "2022-05-20T05:16:46.840Z"
      },
      {
        "duration": 1445,
        "start_time": "2022-05-20T05:16:47.325Z"
      },
      {
        "duration": 137,
        "start_time": "2022-05-20T05:16:48.771Z"
      },
      {
        "duration": 4,
        "start_time": "2022-05-20T05:16:48.910Z"
      },
      {
        "duration": 5721,
        "start_time": "2022-05-20T05:16:48.916Z"
      },
      {
        "duration": 85,
        "start_time": "2022-05-20T05:16:54.639Z"
      },
      {
        "duration": 14808,
        "start_time": "2022-05-20T05:16:54.729Z"
      },
      {
        "duration": 5,
        "start_time": "2022-05-20T05:17:09.539Z"
      },
      {
        "duration": 897123,
        "start_time": "2022-05-20T05:17:09.546Z"
      },
      {
        "duration": 89,
        "start_time": "2022-05-20T05:32:06.671Z"
      },
      {
        "duration": 525803,
        "start_time": "2022-05-20T05:32:06.762Z"
      },
      {
        "duration": 201,
        "start_time": "2022-05-20T05:40:52.568Z"
      },
      {
        "duration": 1910971,
        "start_time": "2022-05-20T05:40:52.771Z"
      },
      {
        "duration": 4,
        "start_time": "2022-05-20T06:12:43.743Z"
      },
      {
        "duration": 1081,
        "start_time": "2022-05-20T06:12:43.749Z"
      },
      {
        "duration": 1425,
        "start_time": "2022-05-20T06:12:44.832Z"
      },
      {
        "duration": 113585,
        "start_time": "2022-05-20T06:12:46.259Z"
      },
      {
        "duration": 137243,
        "start_time": "2022-05-20T06:14:39.846Z"
      },
      {
        "duration": 63653,
        "start_time": "2022-05-20T06:16:57.091Z"
      },
      {
        "duration": 11,
        "start_time": "2022-05-20T06:18:00.747Z"
      },
      {
        "duration": 2737,
        "start_time": "2022-05-20T07:20:41.472Z"
      },
      {
        "duration": 2189,
        "start_time": "2022-05-20T07:20:44.211Z"
      },
      {
        "duration": 2203,
        "start_time": "2022-05-20T07:20:46.402Z"
      },
      {
        "duration": 1415,
        "start_time": "2022-05-20T07:20:48.607Z"
      },
      {
        "duration": 2,
        "start_time": "2022-05-20T07:20:50.024Z"
      },
      {
        "duration": 8,
        "start_time": "2022-05-20T07:20:50.028Z"
      },
      {
        "duration": 7,
        "start_time": "2022-05-20T07:20:50.038Z"
      },
      {
        "duration": 14,
        "start_time": "2022-05-20T07:20:50.047Z"
      },
      {
        "duration": 7,
        "start_time": "2022-05-20T07:20:50.063Z"
      },
      {
        "duration": 9,
        "start_time": "2022-05-20T07:20:50.073Z"
      },
      {
        "duration": 6,
        "start_time": "2022-05-20T07:20:50.083Z"
      },
      {
        "duration": 2778,
        "start_time": "2022-05-20T07:20:50.090Z"
      },
      {
        "duration": 125,
        "start_time": "2022-05-20T07:20:52.870Z"
      },
      {
        "duration": 107,
        "start_time": "2022-05-20T07:20:52.997Z"
      },
      {
        "duration": 1323,
        "start_time": "2022-05-20T07:20:53.106Z"
      },
      {
        "duration": 1099,
        "start_time": "2022-05-20T07:20:54.431Z"
      },
      {
        "duration": 79,
        "start_time": "2022-05-20T07:20:55.532Z"
      },
      {
        "duration": 80,
        "start_time": "2022-05-20T07:20:55.613Z"
      },
      {
        "duration": 64,
        "start_time": "2022-05-20T07:20:55.695Z"
      },
      {
        "duration": 37,
        "start_time": "2022-05-20T07:20:55.761Z"
      },
      {
        "duration": 27,
        "start_time": "2022-05-20T07:20:55.800Z"
      },
      {
        "duration": 4,
        "start_time": "2022-05-20T07:20:55.829Z"
      },
      {
        "duration": 137,
        "start_time": "2022-05-20T07:20:55.835Z"
      },
      {
        "duration": 49,
        "start_time": "2022-05-20T07:20:55.974Z"
      },
      {
        "duration": 173,
        "start_time": "2022-05-20T07:20:56.025Z"
      },
      {
        "duration": 36,
        "start_time": "2022-05-20T07:20:56.199Z"
      },
      {
        "duration": 199,
        "start_time": "2022-05-20T07:20:56.237Z"
      },
      {
        "duration": 15,
        "start_time": "2022-05-20T07:20:56.441Z"
      },
      {
        "duration": 188,
        "start_time": "2022-05-20T07:20:56.458Z"
      },
      {
        "duration": 222,
        "start_time": "2022-05-20T07:20:56.648Z"
      },
      {
        "duration": 4,
        "start_time": "2022-05-20T07:20:56.872Z"
      },
      {
        "duration": 9,
        "start_time": "2022-05-20T07:20:56.883Z"
      },
      {
        "duration": 131,
        "start_time": "2022-05-20T07:20:56.893Z"
      },
      {
        "duration": 159,
        "start_time": "2022-05-20T07:20:57.026Z"
      },
      {
        "duration": 178,
        "start_time": "2022-05-20T07:20:57.187Z"
      },
      {
        "duration": 37,
        "start_time": "2022-05-20T07:20:57.367Z"
      },
      {
        "duration": 109,
        "start_time": "2022-05-20T07:20:57.405Z"
      },
      {
        "duration": 271,
        "start_time": "2022-05-20T07:20:57.516Z"
      },
      {
        "duration": 8,
        "start_time": "2022-05-20T07:20:57.789Z"
      },
      {
        "duration": 190,
        "start_time": "2022-05-20T07:20:57.799Z"
      },
      {
        "duration": 15,
        "start_time": "2022-05-20T07:20:57.992Z"
      },
      {
        "duration": 185,
        "start_time": "2022-05-20T07:20:58.010Z"
      },
      {
        "duration": 153,
        "start_time": "2022-05-20T07:20:58.196Z"
      },
      {
        "duration": 161,
        "start_time": "2022-05-20T07:20:58.351Z"
      },
      {
        "duration": 5,
        "start_time": "2022-05-20T07:20:58.514Z"
      },
      {
        "duration": 87,
        "start_time": "2022-05-20T07:20:58.521Z"
      },
      {
        "duration": 263,
        "start_time": "2022-05-20T07:20:58.609Z"
      },
      {
        "duration": 100,
        "start_time": "2022-05-20T07:20:58.874Z"
      },
      {
        "duration": 451,
        "start_time": "2022-05-20T07:20:58.976Z"
      },
      {
        "duration": 1322,
        "start_time": "2022-05-20T07:20:59.428Z"
      },
      {
        "duration": 139,
        "start_time": "2022-05-20T07:21:00.751Z"
      },
      {
        "duration": 3,
        "start_time": "2022-05-20T07:21:00.892Z"
      },
      {
        "duration": 4688,
        "start_time": "2022-05-20T07:21:00.897Z"
      },
      {
        "duration": 7,
        "start_time": "2022-05-20T07:21:05.587Z"
      },
      {
        "duration": 14688,
        "start_time": "2022-05-20T07:21:05.684Z"
      },
      {
        "duration": 10,
        "start_time": "2022-05-20T07:21:20.374Z"
      },
      {
        "duration": 895665,
        "start_time": "2022-05-20T07:21:20.386Z"
      },
      {
        "duration": 97,
        "start_time": "2022-05-20T07:36:16.053Z"
      },
      {
        "duration": 501313,
        "start_time": "2022-05-20T07:36:16.151Z"
      },
      {
        "duration": 160,
        "start_time": "2022-05-20T07:44:37.466Z"
      },
      {
        "duration": 68963,
        "start_time": "2022-05-20T07:44:37.627Z"
      },
      {
        "duration": 4,
        "start_time": "2022-05-20T07:45:46.592Z"
      },
      {
        "duration": 989,
        "start_time": "2022-05-20T07:45:46.598Z"
      },
      {
        "duration": 1464,
        "start_time": "2022-05-20T07:45:47.589Z"
      },
      {
        "duration": 108908,
        "start_time": "2022-05-20T07:45:49.055Z"
      },
      {
        "duration": 132921,
        "start_time": "2022-05-20T07:47:37.966Z"
      },
      {
        "duration": 8913,
        "start_time": "2022-05-20T07:49:50.889Z"
      },
      {
        "duration": 82,
        "start_time": "2022-05-20T07:49:59.804Z"
      },
      {
        "duration": 34,
        "start_time": "2022-05-20T08:08:49.799Z"
      },
      {
        "duration": 14,
        "start_time": "2022-05-20T08:41:14.345Z"
      },
      {
        "duration": 2632,
        "start_time": "2022-05-20T08:41:23.036Z"
      },
      {
        "duration": 2603,
        "start_time": "2022-05-20T08:41:25.671Z"
      },
      {
        "duration": 2575,
        "start_time": "2022-05-20T08:41:28.277Z"
      },
      {
        "duration": 1550,
        "start_time": "2022-05-20T08:41:30.856Z"
      },
      {
        "duration": 6,
        "start_time": "2022-05-20T08:41:32.408Z"
      },
      {
        "duration": 6,
        "start_time": "2022-05-20T08:41:32.416Z"
      },
      {
        "duration": 4,
        "start_time": "2022-05-20T08:41:32.425Z"
      },
      {
        "duration": 7,
        "start_time": "2022-05-20T08:41:32.431Z"
      },
      {
        "duration": 7,
        "start_time": "2022-05-20T08:41:32.440Z"
      },
      {
        "duration": 3,
        "start_time": "2022-05-20T08:41:32.450Z"
      },
      {
        "duration": 5,
        "start_time": "2022-05-20T08:41:32.455Z"
      },
      {
        "duration": 884,
        "start_time": "2022-05-20T08:41:32.461Z"
      },
      {
        "duration": 140,
        "start_time": "2022-05-20T08:41:33.347Z"
      },
      {
        "duration": 109,
        "start_time": "2022-05-20T08:41:33.489Z"
      },
      {
        "duration": 969,
        "start_time": "2022-05-20T08:41:33.600Z"
      },
      {
        "duration": 1190,
        "start_time": "2022-05-20T08:41:34.571Z"
      },
      {
        "duration": 82,
        "start_time": "2022-05-20T08:41:35.763Z"
      },
      {
        "duration": 85,
        "start_time": "2022-05-20T08:41:35.847Z"
      },
      {
        "duration": 69,
        "start_time": "2022-05-20T08:41:35.934Z"
      },
      {
        "duration": 24,
        "start_time": "2022-05-20T08:41:36.005Z"
      },
      {
        "duration": 51,
        "start_time": "2022-05-20T08:41:36.032Z"
      },
      {
        "duration": 10,
        "start_time": "2022-05-20T08:41:36.086Z"
      },
      {
        "duration": 161,
        "start_time": "2022-05-20T08:41:36.099Z"
      },
      {
        "duration": 12,
        "start_time": "2022-05-20T08:41:36.262Z"
      },
      {
        "duration": 54,
        "start_time": "2022-05-20T08:41:36.283Z"
      },
      {
        "duration": 192,
        "start_time": "2022-05-20T08:41:36.339Z"
      },
      {
        "duration": 37,
        "start_time": "2022-05-20T08:41:36.533Z"
      },
      {
        "duration": 239,
        "start_time": "2022-05-20T08:41:36.583Z"
      },
      {
        "duration": 16,
        "start_time": "2022-05-20T08:41:36.824Z"
      },
      {
        "duration": 233,
        "start_time": "2022-05-20T08:41:36.842Z"
      },
      {
        "duration": 214,
        "start_time": "2022-05-20T08:41:37.088Z"
      },
      {
        "duration": 5,
        "start_time": "2022-05-20T08:41:37.306Z"
      },
      {
        "duration": 12,
        "start_time": "2022-05-20T08:41:37.313Z"
      },
      {
        "duration": 135,
        "start_time": "2022-05-20T08:41:37.326Z"
      },
      {
        "duration": 216,
        "start_time": "2022-05-20T08:41:37.464Z"
      },
      {
        "duration": 212,
        "start_time": "2022-05-20T08:41:37.684Z"
      },
      {
        "duration": 44,
        "start_time": "2022-05-20T08:41:37.898Z"
      },
      {
        "duration": 157,
        "start_time": "2022-05-20T08:41:37.944Z"
      },
      {
        "duration": 319,
        "start_time": "2022-05-20T08:41:38.104Z"
      },
      {
        "duration": 15,
        "start_time": "2022-05-20T08:41:38.426Z"
      },
      {
        "duration": 190,
        "start_time": "2022-05-20T08:41:38.444Z"
      },
      {
        "duration": 15,
        "start_time": "2022-05-20T08:41:38.636Z"
      },
      {
        "duration": 205,
        "start_time": "2022-05-20T08:41:38.653Z"
      },
      {
        "duration": 177,
        "start_time": "2022-05-20T08:41:38.859Z"
      },
      {
        "duration": 188,
        "start_time": "2022-05-20T08:41:39.038Z"
      },
      {
        "duration": 6,
        "start_time": "2022-05-20T08:41:39.228Z"
      },
      {
        "duration": 108,
        "start_time": "2022-05-20T08:41:39.236Z"
      },
      {
        "duration": 281,
        "start_time": "2022-05-20T08:41:39.345Z"
      },
      {
        "duration": 126,
        "start_time": "2022-05-20T08:41:39.628Z"
      },
      {
        "duration": 530,
        "start_time": "2022-05-20T08:41:39.756Z"
      },
      {
        "duration": 1467,
        "start_time": "2022-05-20T08:41:40.293Z"
      },
      {
        "duration": 170,
        "start_time": "2022-05-20T08:41:41.762Z"
      },
      {
        "duration": 5,
        "start_time": "2022-05-20T08:41:41.934Z"
      },
      {
        "duration": 6652,
        "start_time": "2022-05-20T08:41:41.941Z"
      },
      {
        "duration": 9,
        "start_time": "2022-05-20T08:41:48.596Z"
      },
      {
        "duration": 16932,
        "start_time": "2022-05-20T08:41:48.685Z"
      },
      {
        "duration": 4,
        "start_time": "2022-05-20T08:42:05.619Z"
      },
      {
        "duration": 2602,
        "start_time": "2022-05-20T08:42:34.196Z"
      },
      {
        "duration": 2677,
        "start_time": "2022-05-20T08:42:36.802Z"
      },
      {
        "duration": 2493,
        "start_time": "2022-05-20T08:42:39.481Z"
      },
      {
        "duration": 1509,
        "start_time": "2022-05-20T08:42:41.977Z"
      },
      {
        "duration": 3,
        "start_time": "2022-05-20T08:42:43.489Z"
      },
      {
        "duration": 29,
        "start_time": "2022-05-20T08:42:43.494Z"
      },
      {
        "duration": 23,
        "start_time": "2022-05-20T08:42:43.525Z"
      },
      {
        "duration": 18,
        "start_time": "2022-05-20T08:42:43.549Z"
      },
      {
        "duration": 27,
        "start_time": "2022-05-20T08:42:43.569Z"
      },
      {
        "duration": 29,
        "start_time": "2022-05-20T08:42:43.599Z"
      },
      {
        "duration": 15,
        "start_time": "2022-05-20T08:42:43.630Z"
      },
      {
        "duration": 1082,
        "start_time": "2022-05-20T08:42:43.647Z"
      },
      {
        "duration": 146,
        "start_time": "2022-05-20T08:42:44.731Z"
      },
      {
        "duration": 125,
        "start_time": "2022-05-20T08:42:44.884Z"
      },
      {
        "duration": 1080,
        "start_time": "2022-05-20T08:42:45.011Z"
      },
      {
        "duration": 1368,
        "start_time": "2022-05-20T08:42:46.093Z"
      },
      {
        "duration": 95,
        "start_time": "2022-05-20T08:42:47.464Z"
      },
      {
        "duration": 88,
        "start_time": "2022-05-20T08:42:47.561Z"
      },
      {
        "duration": 98,
        "start_time": "2022-05-20T08:42:47.652Z"
      },
      {
        "duration": 33,
        "start_time": "2022-05-20T08:42:47.752Z"
      },
      {
        "duration": 35,
        "start_time": "2022-05-20T08:42:47.788Z"
      },
      {
        "duration": 4,
        "start_time": "2022-05-20T08:42:47.824Z"
      },
      {
        "duration": 231,
        "start_time": "2022-05-20T08:42:47.830Z"
      },
      {
        "duration": 29,
        "start_time": "2022-05-20T08:42:48.063Z"
      },
      {
        "duration": 56,
        "start_time": "2022-05-20T08:42:48.098Z"
      },
      {
        "duration": 233,
        "start_time": "2022-05-20T08:42:48.155Z"
      },
      {
        "duration": 50,
        "start_time": "2022-05-20T08:42:48.390Z"
      },
      {
        "duration": 233,
        "start_time": "2022-05-20T08:42:48.442Z"
      },
      {
        "duration": 26,
        "start_time": "2022-05-20T08:42:48.684Z"
      },
      {
        "duration": 214,
        "start_time": "2022-05-20T08:42:48.711Z"
      },
      {
        "duration": 239,
        "start_time": "2022-05-20T08:42:48.927Z"
      },
      {
        "duration": 3,
        "start_time": "2022-05-20T08:42:49.168Z"
      },
      {
        "duration": 21,
        "start_time": "2022-05-20T08:42:49.184Z"
      },
      {
        "duration": 144,
        "start_time": "2022-05-20T08:42:49.209Z"
      },
      {
        "duration": 185,
        "start_time": "2022-05-20T08:42:49.354Z"
      },
      {
        "duration": 204,
        "start_time": "2022-05-20T08:42:49.541Z"
      },
      {
        "duration": 60,
        "start_time": "2022-05-20T08:42:49.747Z"
      },
      {
        "duration": 130,
        "start_time": "2022-05-20T08:42:49.809Z"
      },
      {
        "duration": 306,
        "start_time": "2022-05-20T08:42:49.941Z"
      },
      {
        "duration": 9,
        "start_time": "2022-05-20T08:42:50.249Z"
      },
      {
        "duration": 163,
        "start_time": "2022-05-20T08:42:50.263Z"
      },
      {
        "duration": 14,
        "start_time": "2022-05-20T08:42:50.428Z"
      },
      {
        "duration": 207,
        "start_time": "2022-05-20T08:42:50.444Z"
      },
      {
        "duration": 203,
        "start_time": "2022-05-20T08:42:50.653Z"
      },
      {
        "duration": 185,
        "start_time": "2022-05-20T08:42:50.858Z"
      },
      {
        "duration": 6,
        "start_time": "2022-05-20T08:42:51.045Z"
      },
      {
        "duration": 95,
        "start_time": "2022-05-20T08:42:51.052Z"
      },
      {
        "duration": 261,
        "start_time": "2022-05-20T08:42:51.149Z"
      },
      {
        "duration": 117,
        "start_time": "2022-05-20T08:42:51.412Z"
      },
      {
        "duration": 503,
        "start_time": "2022-05-20T08:42:51.531Z"
      },
      {
        "duration": 1519,
        "start_time": "2022-05-20T08:42:52.036Z"
      },
      {
        "duration": 161,
        "start_time": "2022-05-20T08:42:53.557Z"
      },
      {
        "duration": 4,
        "start_time": "2022-05-20T08:42:53.720Z"
      },
      {
        "duration": 7081,
        "start_time": "2022-05-20T08:42:53.726Z"
      },
      {
        "duration": 9,
        "start_time": "2022-05-20T08:43:00.885Z"
      },
      {
        "duration": 16619,
        "start_time": "2022-05-20T08:43:00.897Z"
      },
      {
        "duration": 5,
        "start_time": "2022-05-20T08:43:17.518Z"
      },
      {
        "duration": 2536,
        "start_time": "2022-05-20T08:43:51.490Z"
      },
      {
        "duration": 2315,
        "start_time": "2022-05-20T08:43:54.029Z"
      },
      {
        "duration": 2593,
        "start_time": "2022-05-20T08:43:56.348Z"
      },
      {
        "duration": 1428,
        "start_time": "2022-05-20T08:43:58.944Z"
      },
      {
        "duration": 2,
        "start_time": "2022-05-20T08:44:00.374Z"
      },
      {
        "duration": 6,
        "start_time": "2022-05-20T08:44:00.383Z"
      },
      {
        "duration": 18,
        "start_time": "2022-05-20T08:44:00.392Z"
      },
      {
        "duration": 9,
        "start_time": "2022-05-20T08:44:00.413Z"
      },
      {
        "duration": 12,
        "start_time": "2022-05-20T08:44:00.423Z"
      },
      {
        "duration": 9,
        "start_time": "2022-05-20T08:44:00.437Z"
      },
      {
        "duration": 29,
        "start_time": "2022-05-20T08:44:00.447Z"
      },
      {
        "duration": 1072,
        "start_time": "2022-05-20T08:44:00.478Z"
      },
      {
        "duration": 174,
        "start_time": "2022-05-20T08:44:01.554Z"
      },
      {
        "duration": 162,
        "start_time": "2022-05-20T08:44:01.730Z"
      },
      {
        "duration": 1140,
        "start_time": "2022-05-20T08:44:01.894Z"
      },
      {
        "duration": 1212,
        "start_time": "2022-05-20T08:44:03.035Z"
      },
      {
        "duration": 87,
        "start_time": "2022-05-20T08:44:04.249Z"
      },
      {
        "duration": 107,
        "start_time": "2022-05-20T08:44:04.338Z"
      },
      {
        "duration": 79,
        "start_time": "2022-05-20T08:44:04.446Z"
      },
      {
        "duration": 26,
        "start_time": "2022-05-20T08:44:04.527Z"
      },
      {
        "duration": 57,
        "start_time": "2022-05-20T08:44:04.555Z"
      },
      {
        "duration": 4,
        "start_time": "2022-05-20T08:44:04.613Z"
      },
      {
        "duration": 165,
        "start_time": "2022-05-20T08:44:04.618Z"
      },
      {
        "duration": 178,
        "start_time": "2022-05-20T08:44:04.786Z"
      },
      {
        "duration": 0,
        "start_time": "2022-05-20T08:44:04.967Z"
      },
      {
        "duration": 0,
        "start_time": "2022-05-20T08:44:04.968Z"
      },
      {
        "duration": 0,
        "start_time": "2022-05-20T08:44:04.969Z"
      },
      {
        "duration": 0,
        "start_time": "2022-05-20T08:44:04.973Z"
      },
      {
        "duration": 0,
        "start_time": "2022-05-20T08:44:04.975Z"
      },
      {
        "duration": 0,
        "start_time": "2022-05-20T08:44:04.983Z"
      },
      {
        "duration": 0,
        "start_time": "2022-05-20T08:44:04.985Z"
      },
      {
        "duration": 0,
        "start_time": "2022-05-20T08:44:04.987Z"
      },
      {
        "duration": 0,
        "start_time": "2022-05-20T08:44:04.988Z"
      },
      {
        "duration": 0,
        "start_time": "2022-05-20T08:44:04.989Z"
      },
      {
        "duration": 0,
        "start_time": "2022-05-20T08:44:04.991Z"
      },
      {
        "duration": 0,
        "start_time": "2022-05-20T08:44:04.992Z"
      },
      {
        "duration": 0,
        "start_time": "2022-05-20T08:44:04.993Z"
      },
      {
        "duration": 0,
        "start_time": "2022-05-20T08:44:04.995Z"
      },
      {
        "duration": 0,
        "start_time": "2022-05-20T08:44:04.997Z"
      },
      {
        "duration": 0,
        "start_time": "2022-05-20T08:44:04.997Z"
      },
      {
        "duration": 0,
        "start_time": "2022-05-20T08:44:04.999Z"
      },
      {
        "duration": 0,
        "start_time": "2022-05-20T08:44:05.000Z"
      },
      {
        "duration": 1,
        "start_time": "2022-05-20T08:44:05.004Z"
      },
      {
        "duration": 0,
        "start_time": "2022-05-20T08:44:05.006Z"
      },
      {
        "duration": 0,
        "start_time": "2022-05-20T08:44:05.006Z"
      },
      {
        "duration": 0,
        "start_time": "2022-05-20T08:44:05.007Z"
      },
      {
        "duration": 0,
        "start_time": "2022-05-20T08:44:05.008Z"
      },
      {
        "duration": 0,
        "start_time": "2022-05-20T08:44:05.009Z"
      },
      {
        "duration": 0,
        "start_time": "2022-05-20T08:44:05.010Z"
      },
      {
        "duration": 0,
        "start_time": "2022-05-20T08:44:05.012Z"
      },
      {
        "duration": 0,
        "start_time": "2022-05-20T08:44:05.013Z"
      },
      {
        "duration": 0,
        "start_time": "2022-05-20T08:44:05.015Z"
      },
      {
        "duration": 0,
        "start_time": "2022-05-20T08:44:05.016Z"
      },
      {
        "duration": 0,
        "start_time": "2022-05-20T08:44:05.018Z"
      },
      {
        "duration": 0,
        "start_time": "2022-05-20T08:44:05.021Z"
      },
      {
        "duration": 1,
        "start_time": "2022-05-20T08:44:05.022Z"
      },
      {
        "duration": 0,
        "start_time": "2022-05-20T08:44:05.024Z"
      },
      {
        "duration": 0,
        "start_time": "2022-05-20T08:44:05.026Z"
      },
      {
        "duration": 0,
        "start_time": "2022-05-20T08:44:05.027Z"
      },
      {
        "duration": 0,
        "start_time": "2022-05-20T08:44:05.029Z"
      },
      {
        "duration": 0,
        "start_time": "2022-05-20T08:44:05.030Z"
      },
      {
        "duration": 0,
        "start_time": "2022-05-20T08:44:05.031Z"
      },
      {
        "duration": 0,
        "start_time": "2022-05-20T08:44:05.083Z"
      },
      {
        "duration": 0,
        "start_time": "2022-05-20T08:44:05.086Z"
      },
      {
        "duration": 0,
        "start_time": "2022-05-20T08:44:05.087Z"
      },
      {
        "duration": 0,
        "start_time": "2022-05-20T08:44:05.089Z"
      },
      {
        "duration": 0,
        "start_time": "2022-05-20T08:44:05.091Z"
      },
      {
        "duration": 0,
        "start_time": "2022-05-20T08:44:05.094Z"
      },
      {
        "duration": 0,
        "start_time": "2022-05-20T08:44:05.096Z"
      },
      {
        "duration": 18,
        "start_time": "2022-05-20T08:44:40.445Z"
      },
      {
        "duration": 39,
        "start_time": "2022-05-20T08:44:49.513Z"
      },
      {
        "duration": 2373,
        "start_time": "2022-05-20T08:51:24.430Z"
      },
      {
        "duration": 2551,
        "start_time": "2022-05-20T08:51:26.808Z"
      },
      {
        "duration": 2342,
        "start_time": "2022-05-20T08:51:29.361Z"
      },
      {
        "duration": 1508,
        "start_time": "2022-05-20T08:51:31.705Z"
      },
      {
        "duration": 2,
        "start_time": "2022-05-20T08:51:33.215Z"
      },
      {
        "duration": 15,
        "start_time": "2022-05-20T08:51:33.219Z"
      },
      {
        "duration": 18,
        "start_time": "2022-05-20T08:51:33.235Z"
      },
      {
        "duration": 17,
        "start_time": "2022-05-20T08:51:33.254Z"
      },
      {
        "duration": 13,
        "start_time": "2022-05-20T08:51:33.273Z"
      },
      {
        "duration": 14,
        "start_time": "2022-05-20T08:51:33.289Z"
      },
      {
        "duration": 14,
        "start_time": "2022-05-20T08:51:33.305Z"
      },
      {
        "duration": 950,
        "start_time": "2022-05-20T08:51:33.321Z"
      },
      {
        "duration": 158,
        "start_time": "2022-05-20T08:51:34.272Z"
      },
      {
        "duration": 123,
        "start_time": "2022-05-20T08:51:34.432Z"
      },
      {
        "duration": 1057,
        "start_time": "2022-05-20T08:51:34.557Z"
      },
      {
        "duration": 1134,
        "start_time": "2022-05-20T08:51:35.616Z"
      },
      {
        "duration": 84,
        "start_time": "2022-05-20T08:51:36.752Z"
      },
      {
        "duration": 101,
        "start_time": "2022-05-20T08:51:36.837Z"
      },
      {
        "duration": 85,
        "start_time": "2022-05-20T08:51:36.939Z"
      },
      {
        "duration": 24,
        "start_time": "2022-05-20T08:51:37.026Z"
      },
      {
        "duration": 47,
        "start_time": "2022-05-20T08:51:37.052Z"
      },
      {
        "duration": 8,
        "start_time": "2022-05-20T08:51:37.102Z"
      },
      {
        "duration": 144,
        "start_time": "2022-05-20T08:51:37.114Z"
      },
      {
        "duration": 61,
        "start_time": "2022-05-20T08:51:37.260Z"
      },
      {
        "duration": 194,
        "start_time": "2022-05-20T08:51:37.323Z"
      },
      {
        "duration": 102,
        "start_time": "2022-05-20T08:51:37.518Z"
      },
      {
        "duration": 49,
        "start_time": "2022-05-20T08:51:37.622Z"
      },
      {
        "duration": 244,
        "start_time": "2022-05-20T08:51:37.689Z"
      },
      {
        "duration": 18,
        "start_time": "2022-05-20T08:51:37.936Z"
      },
      {
        "duration": 269,
        "start_time": "2022-05-20T08:51:37.957Z"
      },
      {
        "duration": 239,
        "start_time": "2022-05-20T08:51:38.229Z"
      },
      {
        "duration": 15,
        "start_time": "2022-05-20T08:51:38.469Z"
      },
      {
        "duration": 10,
        "start_time": "2022-05-20T08:51:38.486Z"
      },
      {
        "duration": 145,
        "start_time": "2022-05-20T08:51:38.498Z"
      },
      {
        "duration": 223,
        "start_time": "2022-05-20T08:51:38.645Z"
      },
      {
        "duration": 214,
        "start_time": "2022-05-20T08:51:38.870Z"
      },
      {
        "duration": 40,
        "start_time": "2022-05-20T08:51:39.087Z"
      },
      {
        "duration": 144,
        "start_time": "2022-05-20T08:51:39.129Z"
      },
      {
        "duration": 327,
        "start_time": "2022-05-20T08:51:39.275Z"
      },
      {
        "duration": 11,
        "start_time": "2022-05-20T08:51:39.606Z"
      },
      {
        "duration": 196,
        "start_time": "2022-05-20T08:51:39.619Z"
      },
      {
        "duration": 15,
        "start_time": "2022-05-20T08:51:39.818Z"
      },
      {
        "duration": 206,
        "start_time": "2022-05-20T08:51:39.835Z"
      },
      {
        "duration": 182,
        "start_time": "2022-05-20T08:51:40.043Z"
      },
      {
        "duration": 205,
        "start_time": "2022-05-20T08:51:40.227Z"
      },
      {
        "duration": 9,
        "start_time": "2022-05-20T08:51:40.434Z"
      },
      {
        "duration": 96,
        "start_time": "2022-05-20T08:51:40.444Z"
      },
      {
        "duration": 312,
        "start_time": "2022-05-20T08:51:40.542Z"
      },
      {
        "duration": 130,
        "start_time": "2022-05-20T08:51:40.856Z"
      },
      {
        "duration": 518,
        "start_time": "2022-05-20T08:51:40.989Z"
      },
      {
        "duration": 1504,
        "start_time": "2022-05-20T08:51:41.509Z"
      },
      {
        "duration": 163,
        "start_time": "2022-05-20T08:51:43.015Z"
      },
      {
        "duration": 5,
        "start_time": "2022-05-20T08:51:43.183Z"
      },
      {
        "duration": 7028,
        "start_time": "2022-05-20T08:51:43.191Z"
      },
      {
        "duration": 69,
        "start_time": "2022-05-20T08:51:50.222Z"
      },
      {
        "duration": 17550,
        "start_time": "2022-05-20T08:51:50.298Z"
      },
      {
        "duration": 5,
        "start_time": "2022-05-20T08:52:07.849Z"
      },
      {
        "duration": 2602,
        "start_time": "2022-05-20T09:00:22.733Z"
      },
      {
        "duration": 2536,
        "start_time": "2022-05-20T09:00:25.337Z"
      },
      {
        "duration": 2587,
        "start_time": "2022-05-20T09:00:27.879Z"
      },
      {
        "duration": 1569,
        "start_time": "2022-05-20T09:00:30.468Z"
      },
      {
        "duration": 3,
        "start_time": "2022-05-20T09:00:32.039Z"
      },
      {
        "duration": 11,
        "start_time": "2022-05-20T09:00:32.043Z"
      },
      {
        "duration": 5,
        "start_time": "2022-05-20T09:00:32.056Z"
      },
      {
        "duration": 5,
        "start_time": "2022-05-20T09:00:32.063Z"
      },
      {
        "duration": 26,
        "start_time": "2022-05-20T09:00:32.070Z"
      },
      {
        "duration": 10,
        "start_time": "2022-05-20T09:00:32.103Z"
      },
      {
        "duration": 9,
        "start_time": "2022-05-20T09:00:32.115Z"
      },
      {
        "duration": 999,
        "start_time": "2022-05-20T09:00:32.126Z"
      },
      {
        "duration": 165,
        "start_time": "2022-05-20T09:00:33.126Z"
      },
      {
        "duration": 131,
        "start_time": "2022-05-20T09:00:33.299Z"
      },
      {
        "duration": 1070,
        "start_time": "2022-05-20T09:00:33.432Z"
      },
      {
        "duration": 1189,
        "start_time": "2022-05-20T09:00:34.504Z"
      },
      {
        "duration": 81,
        "start_time": "2022-05-20T09:00:35.695Z"
      },
      {
        "duration": 92,
        "start_time": "2022-05-20T09:00:35.778Z"
      },
      {
        "duration": 93,
        "start_time": "2022-05-20T09:00:35.872Z"
      },
      {
        "duration": 47,
        "start_time": "2022-05-20T09:00:35.967Z"
      },
      {
        "duration": 53,
        "start_time": "2022-05-20T09:00:36.017Z"
      },
      {
        "duration": 34,
        "start_time": "2022-05-20T09:00:36.072Z"
      },
      {
        "duration": 164,
        "start_time": "2022-05-20T09:00:36.113Z"
      },
      {
        "duration": 61,
        "start_time": "2022-05-20T09:00:36.279Z"
      },
      {
        "duration": 203,
        "start_time": "2022-05-20T09:00:36.342Z"
      },
      {
        "duration": 108,
        "start_time": "2022-05-20T09:00:36.546Z"
      },
      {
        "duration": 63,
        "start_time": "2022-05-20T09:00:36.656Z"
      },
      {
        "duration": 240,
        "start_time": "2022-05-20T09:00:36.725Z"
      },
      {
        "duration": 45,
        "start_time": "2022-05-20T09:00:36.967Z"
      },
      {
        "duration": 200,
        "start_time": "2022-05-20T09:00:37.022Z"
      },
      {
        "duration": 24,
        "start_time": "2022-05-20T09:00:37.224Z"
      },
      {
        "duration": 250,
        "start_time": "2022-05-20T09:00:37.249Z"
      },
      {
        "duration": 4,
        "start_time": "2022-05-20T09:00:37.504Z"
      },
      {
        "duration": 23,
        "start_time": "2022-05-20T09:00:37.510Z"
      },
      {
        "duration": 174,
        "start_time": "2022-05-20T09:00:37.535Z"
      },
      {
        "duration": 192,
        "start_time": "2022-05-20T09:00:37.713Z"
      },
      {
        "duration": 245,
        "start_time": "2022-05-20T09:00:37.907Z"
      },
      {
        "duration": 59,
        "start_time": "2022-05-20T09:00:38.155Z"
      },
      {
        "duration": 150,
        "start_time": "2022-05-20T09:00:38.221Z"
      },
      {
        "duration": 352,
        "start_time": "2022-05-20T09:00:38.373Z"
      },
      {
        "duration": 11,
        "start_time": "2022-05-20T09:00:38.728Z"
      },
      {
        "duration": 179,
        "start_time": "2022-05-20T09:00:38.740Z"
      },
      {
        "duration": 16,
        "start_time": "2022-05-20T09:00:38.921Z"
      },
      {
        "duration": 216,
        "start_time": "2022-05-20T09:00:38.938Z"
      },
      {
        "duration": 178,
        "start_time": "2022-05-20T09:00:39.156Z"
      },
      {
        "duration": 188,
        "start_time": "2022-05-20T09:00:39.336Z"
      },
      {
        "duration": 5,
        "start_time": "2022-05-20T09:00:39.526Z"
      },
      {
        "duration": 97,
        "start_time": "2022-05-20T09:00:39.533Z"
      },
      {
        "duration": 313,
        "start_time": "2022-05-20T09:00:39.632Z"
      },
      {
        "duration": 126,
        "start_time": "2022-05-20T09:00:39.947Z"
      },
      {
        "duration": 543,
        "start_time": "2022-05-20T09:00:40.075Z"
      },
      {
        "duration": 1601,
        "start_time": "2022-05-20T09:00:40.619Z"
      },
      {
        "duration": 157,
        "start_time": "2022-05-20T09:00:42.222Z"
      },
      {
        "duration": 9,
        "start_time": "2022-05-20T09:00:42.381Z"
      },
      {
        "duration": 6113,
        "start_time": "2022-05-20T09:00:42.392Z"
      },
      {
        "duration": 12,
        "start_time": "2022-05-20T09:00:48.587Z"
      },
      {
        "duration": 18614,
        "start_time": "2022-05-20T09:00:48.606Z"
      },
      {
        "duration": 4,
        "start_time": "2022-05-20T09:01:07.224Z"
      },
      {
        "duration": 972868,
        "start_time": "2022-05-20T09:01:07.230Z"
      },
      {
        "duration": 95,
        "start_time": "2022-05-20T09:17:20.100Z"
      },
      {
        "duration": 511861,
        "start_time": "2022-05-20T09:17:20.197Z"
      },
      {
        "duration": 164,
        "start_time": "2022-05-20T09:25:52.060Z"
      },
      {
        "duration": 82663,
        "start_time": "2022-05-20T09:25:52.225Z"
      },
      {
        "duration": 5,
        "start_time": "2022-05-20T09:27:14.890Z"
      },
      {
        "duration": 991,
        "start_time": "2022-05-20T09:27:14.896Z"
      },
      {
        "duration": 1441,
        "start_time": "2022-05-20T09:27:15.889Z"
      },
      {
        "duration": 111514,
        "start_time": "2022-05-20T09:27:17.331Z"
      },
      {
        "duration": 136058,
        "start_time": "2022-05-20T09:29:08.847Z"
      },
      {
        "duration": 6277,
        "start_time": "2022-05-20T09:31:24.907Z"
      },
      {
        "duration": 11,
        "start_time": "2022-05-20T09:31:31.186Z"
      },
      {
        "duration": 53,
        "start_time": "2022-05-20T21:19:24.647Z"
      },
      {
        "duration": 2437,
        "start_time": "2022-05-20T21:19:36.514Z"
      },
      {
        "duration": 2057,
        "start_time": "2022-05-20T21:19:38.954Z"
      },
      {
        "duration": 2072,
        "start_time": "2022-05-20T21:19:41.013Z"
      },
      {
        "duration": 1546,
        "start_time": "2022-05-20T21:19:43.087Z"
      },
      {
        "duration": 3,
        "start_time": "2022-05-20T21:19:44.634Z"
      },
      {
        "duration": 15,
        "start_time": "2022-05-20T21:19:44.638Z"
      },
      {
        "duration": 8,
        "start_time": "2022-05-20T21:19:44.655Z"
      },
      {
        "duration": 19,
        "start_time": "2022-05-20T21:19:44.665Z"
      },
      {
        "duration": 4,
        "start_time": "2022-05-20T21:19:44.685Z"
      },
      {
        "duration": 3,
        "start_time": "2022-05-20T21:19:44.692Z"
      },
      {
        "duration": 6,
        "start_time": "2022-05-20T21:19:44.697Z"
      },
      {
        "duration": 2593,
        "start_time": "2022-05-20T21:19:44.704Z"
      },
      {
        "duration": 120,
        "start_time": "2022-05-20T21:19:47.298Z"
      },
      {
        "duration": 94,
        "start_time": "2022-05-20T21:19:47.420Z"
      },
      {
        "duration": 787,
        "start_time": "2022-05-20T21:19:47.516Z"
      },
      {
        "duration": 899,
        "start_time": "2022-05-20T21:19:48.305Z"
      },
      {
        "duration": 76,
        "start_time": "2022-05-20T21:19:49.206Z"
      },
      {
        "duration": 63,
        "start_time": "2022-05-20T21:19:49.284Z"
      },
      {
        "duration": 71,
        "start_time": "2022-05-20T21:19:49.349Z"
      },
      {
        "duration": 20,
        "start_time": "2022-05-20T21:19:49.422Z"
      },
      {
        "duration": 40,
        "start_time": "2022-05-20T21:19:49.444Z"
      },
      {
        "duration": 3,
        "start_time": "2022-05-20T21:19:49.486Z"
      },
      {
        "duration": 122,
        "start_time": "2022-05-20T21:19:49.491Z"
      },
      {
        "duration": 38,
        "start_time": "2022-05-20T21:19:49.614Z"
      },
      {
        "duration": 158,
        "start_time": "2022-05-20T21:19:49.654Z"
      },
      {
        "duration": 91,
        "start_time": "2022-05-20T21:19:49.814Z"
      },
      {
        "duration": 37,
        "start_time": "2022-05-20T21:19:49.906Z"
      },
      {
        "duration": 189,
        "start_time": "2022-05-20T21:19:49.947Z"
      },
      {
        "duration": 13,
        "start_time": "2022-05-20T21:19:50.138Z"
      },
      {
        "duration": 165,
        "start_time": "2022-05-20T21:19:50.152Z"
      },
      {
        "duration": 188,
        "start_time": "2022-05-20T21:19:50.319Z"
      },
      {
        "duration": 4,
        "start_time": "2022-05-20T21:19:50.508Z"
      },
      {
        "duration": 10,
        "start_time": "2022-05-20T21:19:50.513Z"
      },
      {
        "duration": 110,
        "start_time": "2022-05-20T21:19:50.525Z"
      },
      {
        "duration": 144,
        "start_time": "2022-05-20T21:19:50.636Z"
      },
      {
        "duration": 162,
        "start_time": "2022-05-20T21:19:50.781Z"
      },
      {
        "duration": 38,
        "start_time": "2022-05-20T21:19:50.945Z"
      },
      {
        "duration": 176,
        "start_time": "2022-05-20T21:19:50.984Z"
      },
      {
        "duration": 145,
        "start_time": "2022-05-20T21:19:51.161Z"
      },
      {
        "duration": 8,
        "start_time": "2022-05-20T21:19:51.307Z"
      },
      {
        "duration": 140,
        "start_time": "2022-05-20T21:19:51.316Z"
      },
      {
        "duration": 19,
        "start_time": "2022-05-20T21:19:51.457Z"
      },
      {
        "duration": 146,
        "start_time": "2022-05-20T21:19:51.477Z"
      },
      {
        "duration": 127,
        "start_time": "2022-05-20T21:19:51.625Z"
      },
      {
        "duration": 145,
        "start_time": "2022-05-20T21:19:51.753Z"
      },
      {
        "duration": 4,
        "start_time": "2022-05-20T21:19:51.900Z"
      },
      {
        "duration": 79,
        "start_time": "2022-05-20T21:19:51.906Z"
      },
      {
        "duration": 220,
        "start_time": "2022-05-20T21:19:51.986Z"
      },
      {
        "duration": 8,
        "start_time": "2022-05-20T21:19:52.208Z"
      },
      {
        "duration": 112,
        "start_time": "2022-05-20T21:19:52.217Z"
      },
      {
        "duration": 405,
        "start_time": "2022-05-20T21:19:52.331Z"
      },
      {
        "duration": 1259,
        "start_time": "2022-05-20T21:19:52.738Z"
      },
      {
        "duration": 123,
        "start_time": "2022-05-20T21:19:53.998Z"
      },
      {
        "duration": 2,
        "start_time": "2022-05-20T21:19:54.123Z"
      },
      {
        "duration": 3949,
        "start_time": "2022-05-20T21:19:54.127Z"
      },
      {
        "duration": 7,
        "start_time": "2022-05-20T21:19:58.078Z"
      },
      {
        "duration": 12783,
        "start_time": "2022-05-20T21:19:58.088Z"
      },
      {
        "duration": 4,
        "start_time": "2022-05-20T21:20:10.872Z"
      },
      {
        "duration": 2098,
        "start_time": "2022-05-20T21:22:32.673Z"
      },
      {
        "duration": 2003,
        "start_time": "2022-05-20T21:22:34.773Z"
      },
      {
        "duration": 2114,
        "start_time": "2022-05-20T21:22:36.780Z"
      },
      {
        "duration": 1308,
        "start_time": "2022-05-20T21:22:38.896Z"
      },
      {
        "duration": 3,
        "start_time": "2022-05-20T21:22:40.206Z"
      },
      {
        "duration": 7,
        "start_time": "2022-05-20T21:22:40.210Z"
      },
      {
        "duration": 5,
        "start_time": "2022-05-20T21:22:40.219Z"
      },
      {
        "duration": 5,
        "start_time": "2022-05-20T21:22:40.225Z"
      },
      {
        "duration": 3,
        "start_time": "2022-05-20T21:22:40.232Z"
      },
      {
        "duration": 5,
        "start_time": "2022-05-20T21:22:40.236Z"
      },
      {
        "duration": 6,
        "start_time": "2022-05-20T21:22:40.242Z"
      },
      {
        "duration": 776,
        "start_time": "2022-05-20T21:22:40.249Z"
      },
      {
        "duration": 124,
        "start_time": "2022-05-20T21:22:41.026Z"
      },
      {
        "duration": 97,
        "start_time": "2022-05-20T21:22:41.152Z"
      },
      {
        "duration": 795,
        "start_time": "2022-05-20T21:22:41.250Z"
      },
      {
        "duration": 1053,
        "start_time": "2022-05-20T21:22:42.046Z"
      },
      {
        "duration": 64,
        "start_time": "2022-05-20T21:22:43.100Z"
      },
      {
        "duration": 68,
        "start_time": "2022-05-20T21:22:43.165Z"
      },
      {
        "duration": 71,
        "start_time": "2022-05-20T21:22:43.235Z"
      },
      {
        "duration": 20,
        "start_time": "2022-05-20T21:22:43.307Z"
      },
      {
        "duration": 24,
        "start_time": "2022-05-20T21:22:43.328Z"
      },
      {
        "duration": 3,
        "start_time": "2022-05-20T21:22:43.353Z"
      },
      {
        "duration": 129,
        "start_time": "2022-05-20T21:22:43.357Z"
      },
      {
        "duration": 36,
        "start_time": "2022-05-20T21:22:43.487Z"
      },
      {
        "duration": 152,
        "start_time": "2022-05-20T21:22:43.525Z"
      },
      {
        "duration": 77,
        "start_time": "2022-05-20T21:22:43.678Z"
      },
      {
        "duration": 44,
        "start_time": "2022-05-20T21:22:43.759Z"
      },
      {
        "duration": 181,
        "start_time": "2022-05-20T21:22:43.805Z"
      },
      {
        "duration": 13,
        "start_time": "2022-05-20T21:22:43.988Z"
      },
      {
        "duration": 158,
        "start_time": "2022-05-20T21:22:44.003Z"
      },
      {
        "duration": 187,
        "start_time": "2022-05-20T21:22:44.163Z"
      },
      {
        "duration": 3,
        "start_time": "2022-05-20T21:22:44.352Z"
      },
      {
        "duration": 11,
        "start_time": "2022-05-20T21:22:44.356Z"
      },
      {
        "duration": 103,
        "start_time": "2022-05-20T21:22:44.375Z"
      },
      {
        "duration": 141,
        "start_time": "2022-05-20T21:22:44.479Z"
      },
      {
        "duration": 169,
        "start_time": "2022-05-20T21:22:44.622Z"
      },
      {
        "duration": 24,
        "start_time": "2022-05-20T21:22:44.793Z"
      },
      {
        "duration": 109,
        "start_time": "2022-05-20T21:22:44.818Z"
      },
      {
        "duration": 232,
        "start_time": "2022-05-20T21:22:44.929Z"
      },
      {
        "duration": 13,
        "start_time": "2022-05-20T21:22:45.162Z"
      },
      {
        "duration": 123,
        "start_time": "2022-05-20T21:22:45.177Z"
      },
      {
        "duration": 12,
        "start_time": "2022-05-20T21:22:45.301Z"
      },
      {
        "duration": 149,
        "start_time": "2022-05-20T21:22:45.314Z"
      },
      {
        "duration": 128,
        "start_time": "2022-05-20T21:22:45.475Z"
      },
      {
        "duration": 141,
        "start_time": "2022-05-20T21:22:45.604Z"
      },
      {
        "duration": 5,
        "start_time": "2022-05-20T21:22:45.747Z"
      },
      {
        "duration": 78,
        "start_time": "2022-05-20T21:22:45.753Z"
      },
      {
        "duration": 229,
        "start_time": "2022-05-20T21:22:45.833Z"
      },
      {
        "duration": 12,
        "start_time": "2022-05-20T21:22:46.063Z"
      },
      {
        "duration": 93,
        "start_time": "2022-05-20T21:22:46.076Z"
      },
      {
        "duration": 396,
        "start_time": "2022-05-20T21:22:46.175Z"
      },
      {
        "duration": 1253,
        "start_time": "2022-05-20T21:22:46.574Z"
      },
      {
        "duration": 127,
        "start_time": "2022-05-20T21:22:47.828Z"
      },
      {
        "duration": 4,
        "start_time": "2022-05-20T21:22:47.957Z"
      },
      {
        "duration": 3915,
        "start_time": "2022-05-20T21:22:47.962Z"
      },
      {
        "duration": 6,
        "start_time": "2022-05-20T21:22:51.878Z"
      },
      {
        "duration": 12507,
        "start_time": "2022-05-20T21:22:51.887Z"
      },
      {
        "duration": 3,
        "start_time": "2022-05-20T21:23:04.395Z"
      },
      {
        "duration": 775490,
        "start_time": "2022-05-20T21:23:04.400Z"
      },
      {
        "duration": 83,
        "start_time": "2022-05-20T21:35:59.892Z"
      },
      {
        "duration": 482302,
        "start_time": "2022-05-20T21:35:59.976Z"
      },
      {
        "duration": 140,
        "start_time": "2022-05-20T21:44:02.280Z"
      },
      {
        "duration": 54757,
        "start_time": "2022-05-20T21:44:02.422Z"
      },
      {
        "duration": 4,
        "start_time": "2022-05-20T21:44:57.180Z"
      },
      {
        "duration": 799,
        "start_time": "2022-05-20T21:44:57.185Z"
      },
      {
        "duration": 1321,
        "start_time": "2022-05-20T21:44:57.986Z"
      },
      {
        "duration": 98782,
        "start_time": "2022-05-20T21:44:59.309Z"
      },
      {
        "duration": 127775,
        "start_time": "2022-05-20T21:46:38.092Z"
      },
      {
        "duration": 7106,
        "start_time": "2022-05-20T21:48:45.869Z"
      },
      {
        "duration": 10,
        "start_time": "2022-05-20T21:48:52.977Z"
      },
      {
        "duration": 2948,
        "start_time": "2022-05-23T08:48:12.871Z"
      },
      {
        "duration": 2249,
        "start_time": "2022-05-23T08:48:15.821Z"
      },
      {
        "duration": 3163,
        "start_time": "2022-05-23T08:48:18.072Z"
      },
      {
        "duration": 1535,
        "start_time": "2022-05-23T08:48:21.238Z"
      },
      {
        "duration": 2,
        "start_time": "2022-05-23T08:48:22.776Z"
      },
      {
        "duration": 24,
        "start_time": "2022-05-23T08:48:22.782Z"
      },
      {
        "duration": 8,
        "start_time": "2022-05-23T08:48:22.807Z"
      },
      {
        "duration": 9,
        "start_time": "2022-05-23T08:48:22.818Z"
      },
      {
        "duration": 11,
        "start_time": "2022-05-23T08:48:22.829Z"
      },
      {
        "duration": 8,
        "start_time": "2022-05-23T08:48:22.843Z"
      },
      {
        "duration": 7,
        "start_time": "2022-05-23T08:48:22.853Z"
      },
      {
        "duration": 2944,
        "start_time": "2022-05-23T08:48:22.861Z"
      },
      {
        "duration": 129,
        "start_time": "2022-05-23T08:48:25.806Z"
      },
      {
        "duration": 105,
        "start_time": "2022-05-23T08:48:25.936Z"
      },
      {
        "duration": 874,
        "start_time": "2022-05-23T08:48:26.043Z"
      },
      {
        "duration": 936,
        "start_time": "2022-05-23T08:48:26.919Z"
      },
      {
        "duration": 64,
        "start_time": "2022-05-23T08:48:27.857Z"
      },
      {
        "duration": 69,
        "start_time": "2022-05-23T08:48:27.922Z"
      },
      {
        "duration": 58,
        "start_time": "2022-05-23T08:48:27.993Z"
      },
      {
        "duration": 35,
        "start_time": "2022-05-23T08:48:28.052Z"
      },
      {
        "duration": 42,
        "start_time": "2022-05-23T08:48:28.089Z"
      },
      {
        "duration": 18,
        "start_time": "2022-05-23T08:48:28.133Z"
      },
      {
        "duration": 20,
        "start_time": "2022-05-23T08:48:28.152Z"
      },
      {
        "duration": 164,
        "start_time": "2022-05-23T08:48:28.174Z"
      },
      {
        "duration": 44,
        "start_time": "2022-05-23T08:48:28.339Z"
      },
      {
        "duration": 144,
        "start_time": "2022-05-23T08:48:28.385Z"
      },
      {
        "duration": 85,
        "start_time": "2022-05-23T08:48:28.530Z"
      },
      {
        "duration": 39,
        "start_time": "2022-05-23T08:48:28.619Z"
      },
      {
        "duration": 188,
        "start_time": "2022-05-23T08:48:28.660Z"
      },
      {
        "duration": 13,
        "start_time": "2022-05-23T08:48:28.850Z"
      },
      {
        "duration": 175,
        "start_time": "2022-05-23T08:48:28.864Z"
      },
      {
        "duration": 3,
        "start_time": "2022-05-23T08:48:29.040Z"
      },
      {
        "duration": 157,
        "start_time": "2022-05-23T08:48:29.044Z"
      },
      {
        "duration": 13,
        "start_time": "2022-05-23T08:48:29.202Z"
      },
      {
        "duration": 40,
        "start_time": "2022-05-23T08:48:29.216Z"
      },
      {
        "duration": 8,
        "start_time": "2022-05-23T08:48:29.257Z"
      },
      {
        "duration": 36,
        "start_time": "2022-05-23T08:48:29.266Z"
      },
      {
        "duration": 127,
        "start_time": "2022-05-23T08:48:29.304Z"
      },
      {
        "duration": 177,
        "start_time": "2022-05-23T08:48:29.433Z"
      },
      {
        "duration": 195,
        "start_time": "2022-05-23T08:48:29.612Z"
      },
      {
        "duration": 31,
        "start_time": "2022-05-23T08:48:29.809Z"
      },
      {
        "duration": 204,
        "start_time": "2022-05-23T08:48:29.842Z"
      },
      {
        "duration": 153,
        "start_time": "2022-05-23T08:48:30.048Z"
      },
      {
        "duration": 8,
        "start_time": "2022-05-23T08:48:30.202Z"
      },
      {
        "duration": 26,
        "start_time": "2022-05-23T08:48:30.211Z"
      },
      {
        "duration": 28,
        "start_time": "2022-05-23T08:48:30.239Z"
      },
      {
        "duration": 157,
        "start_time": "2022-05-23T08:48:30.268Z"
      },
      {
        "duration": 11,
        "start_time": "2022-05-23T08:48:30.427Z"
      },
      {
        "duration": 33,
        "start_time": "2022-05-23T08:48:30.440Z"
      },
      {
        "duration": 48,
        "start_time": "2022-05-23T08:48:30.475Z"
      },
      {
        "duration": 179,
        "start_time": "2022-05-23T08:48:30.524Z"
      },
      {
        "duration": 171,
        "start_time": "2022-05-23T08:48:30.704Z"
      },
      {
        "duration": 332,
        "start_time": "2022-05-23T08:48:30.878Z"
      },
      {
        "duration": 5,
        "start_time": "2022-05-23T08:48:31.211Z"
      },
      {
        "duration": 174,
        "start_time": "2022-05-23T08:48:31.217Z"
      },
      {
        "duration": 520,
        "start_time": "2022-05-23T08:48:31.393Z"
      },
      {
        "duration": 3,
        "start_time": "2022-05-23T08:48:31.915Z"
      },
      {
        "duration": 204,
        "start_time": "2022-05-23T08:48:31.920Z"
      },
      {
        "duration": 469,
        "start_time": "2022-05-23T08:48:32.125Z"
      },
      {
        "duration": 1272,
        "start_time": "2022-05-23T08:48:32.597Z"
      },
      {
        "duration": 119,
        "start_time": "2022-05-23T08:48:33.874Z"
      },
      {
        "duration": 236,
        "start_time": "2022-05-23T08:48:33.996Z"
      },
      {
        "duration": 965,
        "start_time": "2022-05-23T08:48:34.233Z"
      },
      {
        "duration": 53,
        "start_time": "2022-05-23T08:48:35.200Z"
      },
      {
        "duration": 3,
        "start_time": "2022-05-23T08:48:35.254Z"
      },
      {
        "duration": 4,
        "start_time": "2022-05-23T08:48:35.277Z"
      },
      {
        "duration": 3894,
        "start_time": "2022-05-23T08:48:35.283Z"
      },
      {
        "duration": 6,
        "start_time": "2022-05-23T08:48:39.180Z"
      },
      {
        "duration": 6430,
        "start_time": "2022-05-23T08:48:39.188Z"
      },
      {
        "duration": 4,
        "start_time": "2022-05-23T08:48:45.620Z"
      },
      {
        "duration": 427016,
        "start_time": "2022-05-23T08:48:45.625Z"
      },
      {
        "duration": 96,
        "start_time": "2022-05-23T08:55:52.642Z"
      },
      {
        "duration": 481981,
        "start_time": "2022-05-23T08:55:52.740Z"
      },
      {
        "duration": 169,
        "start_time": "2022-05-23T09:03:54.723Z"
      },
      {
        "duration": 2159990,
        "start_time": "2022-05-23T09:03:54.894Z"
      },
      {
        "duration": 4,
        "start_time": "2022-05-23T09:39:54.886Z"
      },
      {
        "duration": 12,
        "start_time": "2022-05-23T09:39:54.892Z"
      },
      {
        "duration": 787,
        "start_time": "2022-05-23T09:39:54.905Z"
      },
      {
        "duration": 756,
        "start_time": "2022-05-23T09:39:55.694Z"
      },
      {
        "duration": 52035,
        "start_time": "2022-05-23T09:39:56.452Z"
      },
      {
        "duration": 123525,
        "start_time": "2022-05-23T09:40:48.489Z"
      },
      {
        "duration": 48764,
        "start_time": "2022-05-23T09:42:52.018Z"
      },
      {
        "duration": 10,
        "start_time": "2022-05-23T09:43:40.789Z"
      },
      {
        "duration": 427501,
        "start_time": "2022-05-23T09:43:40.801Z"
      },
      {
        "duration": 576,
        "start_time": "2022-05-23T09:54:34.367Z"
      },
      {
        "duration": 2834,
        "start_time": "2022-05-23T20:05:35.174Z"
      },
      {
        "duration": 2071,
        "start_time": "2022-05-23T20:05:38.015Z"
      },
      {
        "duration": 2083,
        "start_time": "2022-05-23T20:05:40.088Z"
      },
      {
        "duration": 1521,
        "start_time": "2022-05-23T20:05:42.174Z"
      },
      {
        "duration": 3,
        "start_time": "2022-05-23T20:05:43.696Z"
      },
      {
        "duration": 13,
        "start_time": "2022-05-23T20:05:43.701Z"
      },
      {
        "duration": 8,
        "start_time": "2022-05-23T20:05:43.716Z"
      },
      {
        "duration": 5,
        "start_time": "2022-05-23T20:05:43.725Z"
      },
      {
        "duration": 6,
        "start_time": "2022-05-23T20:05:43.731Z"
      },
      {
        "duration": 8,
        "start_time": "2022-05-23T20:05:43.739Z"
      },
      {
        "duration": 6,
        "start_time": "2022-05-23T20:05:43.748Z"
      },
      {
        "duration": 1125,
        "start_time": "2022-05-23T20:05:43.756Z"
      },
      {
        "duration": 132,
        "start_time": "2022-05-23T20:05:44.883Z"
      },
      {
        "duration": 152,
        "start_time": "2022-05-23T20:05:45.017Z"
      },
      {
        "duration": 848,
        "start_time": "2022-05-23T20:05:45.171Z"
      },
      {
        "duration": 956,
        "start_time": "2022-05-23T20:05:46.021Z"
      },
      {
        "duration": 59,
        "start_time": "2022-05-23T20:05:46.978Z"
      },
      {
        "duration": 96,
        "start_time": "2022-05-23T20:05:47.040Z"
      },
      {
        "duration": 108,
        "start_time": "2022-05-23T20:05:47.139Z"
      },
      {
        "duration": 43,
        "start_time": "2022-05-23T20:05:47.250Z"
      },
      {
        "duration": 41,
        "start_time": "2022-05-23T20:05:47.296Z"
      },
      {
        "duration": 20,
        "start_time": "2022-05-23T20:05:47.339Z"
      },
      {
        "duration": 21,
        "start_time": "2022-05-23T20:05:47.362Z"
      },
      {
        "duration": 163,
        "start_time": "2022-05-23T20:05:47.385Z"
      },
      {
        "duration": 42,
        "start_time": "2022-05-23T20:05:47.549Z"
      },
      {
        "duration": 144,
        "start_time": "2022-05-23T20:05:47.593Z"
      },
      {
        "duration": 85,
        "start_time": "2022-05-23T20:05:47.739Z"
      },
      {
        "duration": 42,
        "start_time": "2022-05-23T20:05:47.828Z"
      },
      {
        "duration": 187,
        "start_time": "2022-05-23T20:05:47.872Z"
      },
      {
        "duration": 13,
        "start_time": "2022-05-23T20:05:48.060Z"
      },
      {
        "duration": 170,
        "start_time": "2022-05-23T20:05:48.075Z"
      },
      {
        "duration": 2,
        "start_time": "2022-05-23T20:05:48.247Z"
      },
      {
        "duration": 128,
        "start_time": "2022-05-23T20:05:48.259Z"
      },
      {
        "duration": 13,
        "start_time": "2022-05-23T20:05:48.389Z"
      },
      {
        "duration": 24,
        "start_time": "2022-05-23T20:05:48.404Z"
      },
      {
        "duration": 4,
        "start_time": "2022-05-23T20:05:48.430Z"
      },
      {
        "duration": 32,
        "start_time": "2022-05-23T20:05:48.435Z"
      },
      {
        "duration": 121,
        "start_time": "2022-05-23T20:05:48.469Z"
      },
      {
        "duration": 151,
        "start_time": "2022-05-23T20:05:48.593Z"
      },
      {
        "duration": 174,
        "start_time": "2022-05-23T20:05:48.746Z"
      },
      {
        "duration": 41,
        "start_time": "2022-05-23T20:05:48.922Z"
      },
      {
        "duration": 200,
        "start_time": "2022-05-23T20:05:48.965Z"
      },
      {
        "duration": 150,
        "start_time": "2022-05-23T20:05:49.167Z"
      },
      {
        "duration": 8,
        "start_time": "2022-05-23T20:05:49.318Z"
      },
      {
        "duration": 12,
        "start_time": "2022-05-23T20:05:49.328Z"
      },
      {
        "duration": 8,
        "start_time": "2022-05-23T20:05:49.359Z"
      },
      {
        "duration": 140,
        "start_time": "2022-05-23T20:05:49.368Z"
      },
      {
        "duration": 12,
        "start_time": "2022-05-23T20:05:49.510Z"
      },
      {
        "duration": 16,
        "start_time": "2022-05-23T20:05:49.524Z"
      },
      {
        "duration": 37,
        "start_time": "2022-05-23T20:05:49.542Z"
      },
      {
        "duration": 173,
        "start_time": "2022-05-23T20:05:49.581Z"
      },
      {
        "duration": 137,
        "start_time": "2022-05-23T20:05:49.760Z"
      },
      {
        "duration": 161,
        "start_time": "2022-05-23T20:05:49.899Z"
      },
      {
        "duration": 6,
        "start_time": "2022-05-23T20:05:50.062Z"
      },
      {
        "duration": 61,
        "start_time": "2022-05-23T20:05:50.069Z"
      },
      {
        "duration": 253,
        "start_time": "2022-05-23T20:05:50.131Z"
      },
      {
        "duration": 3,
        "start_time": "2022-05-23T20:05:50.385Z"
      },
      {
        "duration": 107,
        "start_time": "2022-05-23T20:05:50.389Z"
      },
      {
        "duration": 409,
        "start_time": "2022-05-23T20:05:50.498Z"
      },
      {
        "duration": 1203,
        "start_time": "2022-05-23T20:05:50.908Z"
      },
      {
        "duration": 130,
        "start_time": "2022-05-23T20:05:52.112Z"
      },
      {
        "duration": 222,
        "start_time": "2022-05-23T20:05:52.244Z"
      },
      {
        "duration": 960,
        "start_time": "2022-05-23T20:05:52.467Z"
      },
      {
        "duration": 90,
        "start_time": "2022-05-23T20:05:53.429Z"
      },
      {
        "duration": 3,
        "start_time": "2022-05-23T20:05:53.521Z"
      },
      {
        "duration": 7,
        "start_time": "2022-05-23T20:05:53.525Z"
      },
      {
        "duration": 3447,
        "start_time": "2022-05-23T20:05:53.533Z"
      },
      {
        "duration": 81,
        "start_time": "2022-05-23T20:05:56.982Z"
      },
      {
        "duration": 6566,
        "start_time": "2022-05-23T20:05:57.064Z"
      },
      {
        "duration": 4,
        "start_time": "2022-05-23T20:06:03.632Z"
      },
      {
        "duration": 410054,
        "start_time": "2022-05-23T20:06:03.638Z"
      },
      {
        "duration": 81,
        "start_time": "2022-05-23T20:12:53.694Z"
      },
      {
        "duration": 456840,
        "start_time": "2022-05-23T20:12:53.776Z"
      },
      {
        "duration": 186,
        "start_time": "2022-05-23T20:20:30.618Z"
      },
      {
        "duration": 403362,
        "start_time": "2022-05-23T20:20:30.805Z"
      },
      {
        "duration": 5,
        "start_time": "2022-05-23T20:27:14.168Z"
      },
      {
        "duration": 7,
        "start_time": "2022-05-23T20:27:14.175Z"
      },
      {
        "duration": 885,
        "start_time": "2022-05-23T20:27:14.184Z"
      },
      {
        "duration": 774,
        "start_time": "2022-05-23T20:27:15.071Z"
      },
      {
        "duration": 51044,
        "start_time": "2022-05-23T20:27:15.846Z"
      },
      {
        "duration": 120468,
        "start_time": "2022-05-23T20:28:06.892Z"
      },
      {
        "duration": 8098,
        "start_time": "2022-05-23T20:30:07.367Z"
      },
      {
        "duration": 10,
        "start_time": "2022-05-23T20:30:15.467Z"
      },
      {
        "duration": 614,
        "start_time": "2022-05-23T20:30:15.478Z"
      },
      {
        "duration": 7156,
        "start_time": "2022-05-23T20:30:16.094Z"
      },
      {
        "duration": 2192,
        "start_time": "2022-05-23T20:58:31.823Z"
      },
      {
        "duration": 2065,
        "start_time": "2022-05-23T20:58:34.018Z"
      },
      {
        "duration": 2152,
        "start_time": "2022-05-23T20:58:36.085Z"
      },
      {
        "duration": 1343,
        "start_time": "2022-05-23T20:58:38.240Z"
      },
      {
        "duration": 3,
        "start_time": "2022-05-23T20:58:39.585Z"
      },
      {
        "duration": 24,
        "start_time": "2022-05-23T20:58:39.589Z"
      },
      {
        "duration": 18,
        "start_time": "2022-05-23T20:58:39.615Z"
      },
      {
        "duration": 18,
        "start_time": "2022-05-23T20:58:39.635Z"
      },
      {
        "duration": 19,
        "start_time": "2022-05-23T20:58:39.654Z"
      },
      {
        "duration": 16,
        "start_time": "2022-05-23T20:58:39.676Z"
      },
      {
        "duration": 22,
        "start_time": "2022-05-23T20:58:39.694Z"
      },
      {
        "duration": 835,
        "start_time": "2022-05-23T20:58:39.717Z"
      },
      {
        "duration": 139,
        "start_time": "2022-05-23T20:58:40.553Z"
      },
      {
        "duration": 112,
        "start_time": "2022-05-23T20:58:40.694Z"
      },
      {
        "duration": 817,
        "start_time": "2022-05-23T20:58:40.807Z"
      },
      {
        "duration": 951,
        "start_time": "2022-05-23T20:58:41.626Z"
      },
      {
        "duration": 64,
        "start_time": "2022-05-23T20:58:42.579Z"
      },
      {
        "duration": 71,
        "start_time": "2022-05-23T20:58:42.645Z"
      },
      {
        "duration": 82,
        "start_time": "2022-05-23T20:58:42.717Z"
      },
      {
        "duration": 20,
        "start_time": "2022-05-23T20:58:42.801Z"
      },
      {
        "duration": 41,
        "start_time": "2022-05-23T20:58:42.823Z"
      },
      {
        "duration": 3,
        "start_time": "2022-05-23T20:58:42.865Z"
      },
      {
        "duration": 12,
        "start_time": "2022-05-23T20:58:42.870Z"
      },
      {
        "duration": 195,
        "start_time": "2022-05-23T20:58:42.884Z"
      },
      {
        "duration": 50,
        "start_time": "2022-05-23T20:58:43.082Z"
      },
      {
        "duration": 152,
        "start_time": "2022-05-23T20:58:43.133Z"
      },
      {
        "duration": 84,
        "start_time": "2022-05-23T20:58:43.286Z"
      },
      {
        "duration": 35,
        "start_time": "2022-05-23T20:58:43.374Z"
      },
      {
        "duration": 195,
        "start_time": "2022-05-23T20:58:43.410Z"
      },
      {
        "duration": 14,
        "start_time": "2022-05-23T20:58:43.608Z"
      },
      {
        "duration": 171,
        "start_time": "2022-05-23T20:58:43.624Z"
      },
      {
        "duration": 3,
        "start_time": "2022-05-23T20:58:43.797Z"
      },
      {
        "duration": 133,
        "start_time": "2022-05-23T20:58:43.802Z"
      },
      {
        "duration": 22,
        "start_time": "2022-05-23T20:58:43.937Z"
      },
      {
        "duration": 28,
        "start_time": "2022-05-23T20:58:43.960Z"
      },
      {
        "duration": 4,
        "start_time": "2022-05-23T20:58:43.990Z"
      },
      {
        "duration": 16,
        "start_time": "2022-05-23T20:58:43.995Z"
      },
      {
        "duration": 125,
        "start_time": "2022-05-23T20:58:44.013Z"
      },
      {
        "duration": 153,
        "start_time": "2022-05-23T20:58:44.140Z"
      },
      {
        "duration": 168,
        "start_time": "2022-05-23T20:58:44.295Z"
      },
      {
        "duration": 34,
        "start_time": "2022-05-23T20:58:44.465Z"
      },
      {
        "duration": 118,
        "start_time": "2022-05-23T20:58:44.500Z"
      },
      {
        "duration": 261,
        "start_time": "2022-05-23T20:58:44.620Z"
      },
      {
        "duration": 8,
        "start_time": "2022-05-23T20:58:44.883Z"
      },
      {
        "duration": 12,
        "start_time": "2022-05-23T20:58:44.893Z"
      },
      {
        "duration": 7,
        "start_time": "2022-05-23T20:58:44.907Z"
      },
      {
        "duration": 164,
        "start_time": "2022-05-23T20:58:44.916Z"
      },
      {
        "duration": 12,
        "start_time": "2022-05-23T20:58:45.082Z"
      },
      {
        "duration": 11,
        "start_time": "2022-05-23T20:58:45.096Z"
      },
      {
        "duration": 15,
        "start_time": "2022-05-23T20:58:45.109Z"
      },
      {
        "duration": 176,
        "start_time": "2022-05-23T20:58:45.126Z"
      },
      {
        "duration": 143,
        "start_time": "2022-05-23T20:58:45.303Z"
      },
      {
        "duration": 154,
        "start_time": "2022-05-23T20:58:45.448Z"
      },
      {
        "duration": 5,
        "start_time": "2022-05-23T20:58:45.604Z"
      },
      {
        "duration": 73,
        "start_time": "2022-05-23T20:58:45.611Z"
      },
      {
        "duration": 248,
        "start_time": "2022-05-23T20:58:45.686Z"
      },
      {
        "duration": 3,
        "start_time": "2022-05-23T20:58:45.935Z"
      },
      {
        "duration": 110,
        "start_time": "2022-05-23T20:58:45.939Z"
      },
      {
        "duration": 428,
        "start_time": "2022-05-23T20:58:46.051Z"
      },
      {
        "duration": 1265,
        "start_time": "2022-05-23T20:58:46.481Z"
      },
      {
        "duration": 124,
        "start_time": "2022-05-23T20:58:47.747Z"
      },
      {
        "duration": 228,
        "start_time": "2022-05-23T20:58:47.873Z"
      },
      {
        "duration": 1039,
        "start_time": "2022-05-23T20:58:48.104Z"
      },
      {
        "duration": 68,
        "start_time": "2022-05-23T20:58:49.144Z"
      },
      {
        "duration": 3,
        "start_time": "2022-05-23T20:58:49.214Z"
      },
      {
        "duration": 8,
        "start_time": "2022-05-23T20:58:49.218Z"
      },
      {
        "duration": 3336,
        "start_time": "2022-05-23T20:58:49.227Z"
      },
      {
        "duration": 4,
        "start_time": "2022-05-23T20:58:52.565Z"
      },
      {
        "duration": 6181,
        "start_time": "2022-05-23T20:58:52.571Z"
      },
      {
        "duration": 4,
        "start_time": "2022-05-23T20:58:58.758Z"
      },
      {
        "duration": 407786,
        "start_time": "2022-05-23T20:58:58.763Z"
      },
      {
        "duration": 84,
        "start_time": "2022-05-23T21:05:46.560Z"
      },
      {
        "duration": 2206,
        "start_time": "2022-05-23T21:13:27.304Z"
      },
      {
        "duration": 2263,
        "start_time": "2022-05-23T21:13:29.513Z"
      },
      {
        "duration": 2150,
        "start_time": "2022-05-23T21:13:31.778Z"
      },
      {
        "duration": 1371,
        "start_time": "2022-05-23T21:13:33.930Z"
      },
      {
        "duration": 3,
        "start_time": "2022-05-23T21:13:35.303Z"
      },
      {
        "duration": 6,
        "start_time": "2022-05-23T21:13:35.307Z"
      },
      {
        "duration": 5,
        "start_time": "2022-05-23T21:13:35.315Z"
      },
      {
        "duration": 8,
        "start_time": "2022-05-23T21:13:35.322Z"
      },
      {
        "duration": 5,
        "start_time": "2022-05-23T21:13:35.332Z"
      },
      {
        "duration": 10,
        "start_time": "2022-05-23T21:13:35.339Z"
      },
      {
        "duration": 5,
        "start_time": "2022-05-23T21:13:35.350Z"
      },
      {
        "duration": 832,
        "start_time": "2022-05-23T21:13:35.359Z"
      },
      {
        "duration": 123,
        "start_time": "2022-05-23T21:13:36.192Z"
      },
      {
        "duration": 106,
        "start_time": "2022-05-23T21:13:36.316Z"
      },
      {
        "duration": 891,
        "start_time": "2022-05-23T21:13:36.424Z"
      },
      {
        "duration": 944,
        "start_time": "2022-05-23T21:13:37.316Z"
      },
      {
        "duration": 60,
        "start_time": "2022-05-23T21:13:38.262Z"
      },
      {
        "duration": 75,
        "start_time": "2022-05-23T21:13:38.324Z"
      },
      {
        "duration": 72,
        "start_time": "2022-05-23T21:13:38.400Z"
      },
      {
        "duration": 20,
        "start_time": "2022-05-23T21:13:38.473Z"
      },
      {
        "duration": 25,
        "start_time": "2022-05-23T21:13:38.495Z"
      },
      {
        "duration": 3,
        "start_time": "2022-05-23T21:13:38.521Z"
      },
      {
        "duration": 12,
        "start_time": "2022-05-23T21:13:38.525Z"
      },
      {
        "duration": 146,
        "start_time": "2022-05-23T21:13:38.539Z"
      },
      {
        "duration": 38,
        "start_time": "2022-05-23T21:13:38.687Z"
      },
      {
        "duration": 152,
        "start_time": "2022-05-23T21:13:38.726Z"
      },
      {
        "duration": 86,
        "start_time": "2022-05-23T21:13:38.880Z"
      },
      {
        "duration": 34,
        "start_time": "2022-05-23T21:13:38.970Z"
      },
      {
        "duration": 198,
        "start_time": "2022-05-23T21:13:39.006Z"
      },
      {
        "duration": 14,
        "start_time": "2022-05-23T21:13:39.206Z"
      },
      {
        "duration": 174,
        "start_time": "2022-05-23T21:13:39.222Z"
      },
      {
        "duration": 2,
        "start_time": "2022-05-23T21:13:39.398Z"
      },
      {
        "duration": 133,
        "start_time": "2022-05-23T21:13:39.402Z"
      },
      {
        "duration": 23,
        "start_time": "2022-05-23T21:13:39.536Z"
      },
      {
        "duration": 27,
        "start_time": "2022-05-23T21:13:39.560Z"
      },
      {
        "duration": 4,
        "start_time": "2022-05-23T21:13:39.589Z"
      },
      {
        "duration": 9,
        "start_time": "2022-05-23T21:13:39.595Z"
      },
      {
        "duration": 125,
        "start_time": "2022-05-23T21:13:39.606Z"
      },
      {
        "duration": 144,
        "start_time": "2022-05-23T21:13:39.732Z"
      },
      {
        "duration": 170,
        "start_time": "2022-05-23T21:13:39.878Z"
      },
      {
        "duration": 32,
        "start_time": "2022-05-23T21:13:40.050Z"
      },
      {
        "duration": 117,
        "start_time": "2022-05-23T21:13:40.084Z"
      },
      {
        "duration": 249,
        "start_time": "2022-05-23T21:13:40.203Z"
      },
      {
        "duration": 9,
        "start_time": "2022-05-23T21:13:40.458Z"
      },
      {
        "duration": 14,
        "start_time": "2022-05-23T21:13:40.469Z"
      },
      {
        "duration": 9,
        "start_time": "2022-05-23T21:13:40.485Z"
      },
      {
        "duration": 165,
        "start_time": "2022-05-23T21:13:40.496Z"
      },
      {
        "duration": 14,
        "start_time": "2022-05-23T21:13:40.663Z"
      },
      {
        "duration": 11,
        "start_time": "2022-05-23T21:13:40.679Z"
      },
      {
        "duration": 16,
        "start_time": "2022-05-23T21:13:40.692Z"
      },
      {
        "duration": 202,
        "start_time": "2022-05-23T21:13:40.710Z"
      },
      {
        "duration": 155,
        "start_time": "2022-05-23T21:13:40.914Z"
      },
      {
        "duration": 153,
        "start_time": "2022-05-23T21:13:41.071Z"
      },
      {
        "duration": 6,
        "start_time": "2022-05-23T21:13:41.225Z"
      },
      {
        "duration": 77,
        "start_time": "2022-05-23T21:13:41.232Z"
      },
      {
        "duration": 240,
        "start_time": "2022-05-23T21:13:41.311Z"
      },
      {
        "duration": 2,
        "start_time": "2022-05-23T21:13:41.552Z"
      },
      {
        "duration": 106,
        "start_time": "2022-05-23T21:13:41.559Z"
      },
      {
        "duration": 444,
        "start_time": "2022-05-23T21:13:41.667Z"
      },
      {
        "duration": 1259,
        "start_time": "2022-05-23T21:13:42.112Z"
      },
      {
        "duration": 129,
        "start_time": "2022-05-23T21:13:43.373Z"
      },
      {
        "duration": 225,
        "start_time": "2022-05-23T21:13:43.504Z"
      },
      {
        "duration": 1039,
        "start_time": "2022-05-23T21:13:43.731Z"
      },
      {
        "duration": 61,
        "start_time": "2022-05-23T21:13:44.772Z"
      },
      {
        "duration": 3,
        "start_time": "2022-05-23T21:13:44.834Z"
      },
      {
        "duration": 22,
        "start_time": "2022-05-23T21:13:44.838Z"
      },
      {
        "duration": 2814,
        "start_time": "2022-05-23T21:13:44.861Z"
      },
      {
        "duration": 4,
        "start_time": "2022-05-23T21:13:47.677Z"
      },
      {
        "duration": 6023,
        "start_time": "2022-05-23T21:13:47.683Z"
      },
      {
        "duration": 4,
        "start_time": "2022-05-23T21:13:53.708Z"
      },
      {
        "duration": 3438,
        "start_time": "2022-05-25T04:46:01.998Z"
      },
      {
        "duration": 2324,
        "start_time": "2022-05-25T04:46:05.439Z"
      },
      {
        "duration": 2228,
        "start_time": "2022-05-25T04:46:07.765Z"
      },
      {
        "duration": 1566,
        "start_time": "2022-05-25T04:46:09.996Z"
      },
      {
        "duration": 3,
        "start_time": "2022-05-25T04:46:11.564Z"
      },
      {
        "duration": 11,
        "start_time": "2022-05-25T04:46:11.569Z"
      },
      {
        "duration": 17,
        "start_time": "2022-05-25T04:46:11.585Z"
      },
      {
        "duration": 8,
        "start_time": "2022-05-25T04:46:11.604Z"
      },
      {
        "duration": 8,
        "start_time": "2022-05-25T04:46:11.614Z"
      },
      {
        "duration": 9,
        "start_time": "2022-05-25T04:46:11.626Z"
      },
      {
        "duration": 6,
        "start_time": "2022-05-25T04:46:11.637Z"
      },
      {
        "duration": 2970,
        "start_time": "2022-05-25T04:46:11.645Z"
      },
      {
        "duration": 137,
        "start_time": "2022-05-25T04:46:14.617Z"
      },
      {
        "duration": 100,
        "start_time": "2022-05-25T04:46:14.756Z"
      },
      {
        "duration": 896,
        "start_time": "2022-05-25T04:46:14.858Z"
      },
      {
        "duration": 1071,
        "start_time": "2022-05-25T04:46:15.756Z"
      },
      {
        "duration": 70,
        "start_time": "2022-05-25T04:46:16.830Z"
      },
      {
        "duration": 82,
        "start_time": "2022-05-25T04:46:16.902Z"
      },
      {
        "duration": 59,
        "start_time": "2022-05-25T04:46:16.986Z"
      },
      {
        "duration": 38,
        "start_time": "2022-05-25T04:46:17.047Z"
      },
      {
        "duration": 24,
        "start_time": "2022-05-25T04:46:17.087Z"
      },
      {
        "duration": 2,
        "start_time": "2022-05-25T04:46:17.113Z"
      },
      {
        "duration": 7,
        "start_time": "2022-05-25T04:46:17.117Z"
      },
      {
        "duration": 168,
        "start_time": "2022-05-25T04:46:17.125Z"
      },
      {
        "duration": 46,
        "start_time": "2022-05-25T04:46:17.295Z"
      },
      {
        "duration": 166,
        "start_time": "2022-05-25T04:46:17.343Z"
      },
      {
        "duration": 98,
        "start_time": "2022-05-25T04:46:17.511Z"
      },
      {
        "duration": 39,
        "start_time": "2022-05-25T04:46:17.614Z"
      },
      {
        "duration": 232,
        "start_time": "2022-05-25T04:46:17.654Z"
      },
      {
        "duration": 17,
        "start_time": "2022-05-25T04:46:17.889Z"
      },
      {
        "duration": 224,
        "start_time": "2022-05-25T04:46:17.909Z"
      },
      {
        "duration": 3,
        "start_time": "2022-05-25T04:46:18.135Z"
      },
      {
        "duration": 150,
        "start_time": "2022-05-25T04:46:18.140Z"
      },
      {
        "duration": 15,
        "start_time": "2022-05-25T04:46:18.292Z"
      },
      {
        "duration": 29,
        "start_time": "2022-05-25T04:46:18.309Z"
      },
      {
        "duration": 4,
        "start_time": "2022-05-25T04:46:18.340Z"
      },
      {
        "duration": 39,
        "start_time": "2022-05-25T04:46:18.346Z"
      },
      {
        "duration": 140,
        "start_time": "2022-05-25T04:46:18.387Z"
      },
      {
        "duration": 166,
        "start_time": "2022-05-25T04:46:18.530Z"
      },
      {
        "duration": 182,
        "start_time": "2022-05-25T04:46:18.699Z"
      },
      {
        "duration": 24,
        "start_time": "2022-05-25T04:46:18.884Z"
      },
      {
        "duration": 223,
        "start_time": "2022-05-25T04:46:18.911Z"
      },
      {
        "duration": 177,
        "start_time": "2022-05-25T04:46:19.136Z"
      },
      {
        "duration": 12,
        "start_time": "2022-05-25T04:46:19.314Z"
      },
      {
        "duration": 68,
        "start_time": "2022-05-25T04:46:19.328Z"
      },
      {
        "duration": 12,
        "start_time": "2022-05-25T04:46:19.399Z"
      },
      {
        "duration": 370,
        "start_time": "2022-05-25T04:46:19.414Z"
      },
      {
        "duration": 17,
        "start_time": "2022-05-25T04:46:19.786Z"
      },
      {
        "duration": 11,
        "start_time": "2022-05-25T04:46:19.805Z"
      },
      {
        "duration": 80,
        "start_time": "2022-05-25T04:46:19.819Z"
      },
      {
        "duration": 507,
        "start_time": "2022-05-25T04:46:19.901Z"
      },
      {
        "duration": 491,
        "start_time": "2022-05-25T04:46:20.411Z"
      },
      {
        "duration": 413,
        "start_time": "2022-05-25T04:46:20.904Z"
      },
      {
        "duration": 13,
        "start_time": "2022-05-25T04:46:21.320Z"
      },
      {
        "duration": 130,
        "start_time": "2022-05-25T04:46:21.384Z"
      },
      {
        "duration": 420,
        "start_time": "2022-05-25T04:46:21.516Z"
      },
      {
        "duration": 3,
        "start_time": "2022-05-25T04:46:21.939Z"
      },
      {
        "duration": 124,
        "start_time": "2022-05-25T04:46:21.945Z"
      },
      {
        "duration": 9,
        "start_time": "2022-05-25T04:46:22.071Z"
      },
      {
        "duration": 1902,
        "start_time": "2022-05-25T04:46:22.084Z"
      },
      {
        "duration": 1063,
        "start_time": "2022-05-25T04:46:23.988Z"
      },
      {
        "duration": 104,
        "start_time": "2022-05-25T04:46:25.053Z"
      },
      {
        "duration": 3,
        "start_time": "2022-05-25T04:46:25.159Z"
      },
      {
        "duration": 20,
        "start_time": "2022-05-25T04:46:25.164Z"
      },
      {
        "duration": 4313,
        "start_time": "2022-05-25T04:46:25.187Z"
      },
      {
        "duration": 5,
        "start_time": "2022-05-25T04:46:29.502Z"
      },
      {
        "duration": 8948,
        "start_time": "2022-05-25T04:46:29.509Z"
      },
      {
        "duration": 4,
        "start_time": "2022-05-25T04:46:38.459Z"
      },
      {
        "duration": 443805,
        "start_time": "2022-05-25T04:46:38.465Z"
      },
      {
        "duration": 103,
        "start_time": "2022-05-25T04:54:02.272Z"
      },
      {
        "duration": 490429,
        "start_time": "2022-05-25T04:54:02.377Z"
      },
      {
        "duration": 191,
        "start_time": "2022-05-25T05:02:12.807Z"
      },
      {
        "duration": 4559591,
        "start_time": "2022-05-25T05:02:13.003Z"
      },
      {
        "duration": 5,
        "start_time": "2022-05-25T06:18:12.601Z"
      },
      {
        "duration": 47,
        "start_time": "2022-05-25T06:18:12.609Z"
      },
      {
        "duration": 1053,
        "start_time": "2022-05-25T06:18:12.658Z"
      },
      {
        "duration": 884,
        "start_time": "2022-05-25T06:18:13.714Z"
      },
      {
        "duration": 62202,
        "start_time": "2022-05-25T06:18:14.602Z"
      },
      {
        "duration": 149774,
        "start_time": "2022-05-25T06:19:16.806Z"
      },
      {
        "duration": 411903,
        "start_time": "2022-05-25T06:21:46.582Z"
      },
      {
        "duration": 15,
        "start_time": "2022-05-25T06:28:38.487Z"
      },
      {
        "duration": 824,
        "start_time": "2022-05-25T06:28:38.510Z"
      },
      {
        "duration": 433495,
        "start_time": "2022-05-25T06:28:39.336Z"
      }
    ],
    "colab": {
      "collapsed_sections": [],
      "provenance": [],
      "toc_visible": true
    },
    "kernelspec": {
      "display_name": "Python 3 (ipykernel)",
      "language": "python",
      "name": "python3"
    },
    "language_info": {
      "codemirror_mode": {
        "name": "ipython",
        "version": 3
      },
      "file_extension": ".py",
      "mimetype": "text/x-python",
      "name": "python",
      "nbconvert_exporter": "python",
      "pygments_lexer": "ipython3",
      "version": "3.7.3"
    },
    "toc": {
      "base_numbering": 1,
      "nav_menu": {},
      "number_sections": true,
      "sideBar": true,
      "skip_h1_title": true,
      "title_cell": "Содержание",
      "title_sidebar": "Contents",
      "toc_cell": true,
      "toc_position": {
        "height": "calc(100% - 180px)",
        "left": "10px",
        "top": "150px",
        "width": "384px"
      },
      "toc_section_display": true,
      "toc_window_display": true
    },
    "varInspector": {
      "cols": {
        "lenName": 16,
        "lenType": 16,
        "lenVar": 40
      },
      "kernels_config": {
        "python": {
          "delete_cmd_postfix": "",
          "delete_cmd_prefix": "del ",
          "library": "var_list.py",
          "varRefreshCmd": "print(var_dic_list())"
        },
        "r": {
          "delete_cmd_postfix": ") ",
          "delete_cmd_prefix": "rm(",
          "library": "var_list.r",
          "varRefreshCmd": "cat(var_dic_list()) "
        }
      },
      "types_to_exclude": [
        "module",
        "function",
        "builtin_function_or_method",
        "instance",
        "_Feature"
      ],
      "window_display": false
    }
  },
  "nbformat": 4,
  "nbformat_minor": 5
}