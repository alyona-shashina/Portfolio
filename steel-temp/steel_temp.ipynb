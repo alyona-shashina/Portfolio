{
 "cells": [
  {
   "cell_type": "markdown",
   "id": "5c681962",
   "metadata": {},
   "source": [
    "# Предсказание температуры стали"
   ]
  },
  {
   "cell_type": "markdown",
   "id": "769e54e7",
   "metadata": {},
   "source": [
    "Для оптимизации производственных расходов металлургический комбинат решил уменьшить потребление электроэнергии на этапе обработки стали. Необходимо построить модель, которая предскажет температуру стали.\n",
    "\n",
    "Технологический процесс выглядит следующим образом:\n",
    "1. Расплавленную сталь заливают в ковш и нагревают до нужной температуры графитовыми электродами.\n",
    "2. Производят десульфурацию.\n",
    "3. Производят замер температуры и химический анализ стали.\n",
    "4. Повышают температуру на несколько минут и вводят легирующие добавки (сыпучие или проволочные материалы).\n",
    "5. Продувают сплав инертным газом.\n",
    "6. Перемешивают сплав, снова производят замер температуры и химический анализ стали.\n",
    "7. При необходимости повторяют пп. 3...6 до достижения целевого химического состава и оптимальной температуры плавки.\n",
    "8. Сталь поступает в машину непрерывной разливки, откуда выходит готовый продукт в виде заготовок-слябов.\n",
    "\n",
    "Заказчик настаивает на том, что все полученные данные реальные и хотел бы получить модель, обученную на максимально полном объёме данных. При этом в данных могут быть нестыковки по времени выполнения операций - это особенности получения и записи информации с датчиков.\n",
    "\n",
    "**План работы**\n",
    "\n",
    "1. Исследовательский анализ данных.\n",
    "\n",
    "\n",
    "2. Предобработка данных:\n",
    "- агрегация данных по ключам и создание новых признаков;\n",
    "- работа с пропусками;\n",
    "- создание сводной таблицы.\n",
    "3. Обучение моделей и выбор лучшей:\n",
    "- простые модели;\n",
    "- модель градиентного бустинга;\n",
    "- константная модель для проверки адекватности.\n",
    "4. Проверка качества модели на тестовой выборке."
   ]
  },
  {
   "cell_type": "markdown",
   "id": "1ce3aa83",
   "metadata": {},
   "source": [
    "## 1 Исследовательский анализ данных"
   ]
  },
  {
   "cell_type": "markdown",
   "id": "cc72dc16",
   "metadata": {},
   "source": [
    "Импортируем все необходимые для работы библиотеки, откроем файлы с данными и изучим общую информацию о них."
   ]
  },
  {
   "cell_type": "code",
   "execution_count": 1,
   "id": "257c7198",
   "metadata": {},
   "outputs": [],
   "source": [
    "# импорт библиотек\n",
    "import matplotlib.pyplot as plt\n",
    "import numpy as np\n",
    "import pandas as pd\n",
    "\n",
    "# импорт структур, модулей, функций\n",
    "from catboost import CatBoostRegressor\n",
    "from sklearn.dummy import DummyRegressor\n",
    "from sklearn.ensemble import RandomForestRegressor\n",
    "from sklearn.linear_model import LinearRegression\n",
    "from sklearn.metrics import mean_absolute_error\n",
    "from sklearn.model_selection import train_test_split, cross_val_score, GridSearchCV\n",
    "from sklearn.pipeline import Pipeline\n",
    "from sklearn.preprocessing import StandardScaler\n",
    "from sklearn.tree import DecisionTreeRegressor\n",
    "import time\n",
    "import warnings\n",
    "warnings.filterwarnings(\"ignore\")"
   ]
  },
  {
   "cell_type": "code",
   "execution_count": 2,
   "id": "d0304094",
   "metadata": {},
   "outputs": [],
   "source": [
    "# установка максимального количества отображаемых столбцов\n",
    "pd.options.display.max_columns = 50\n",
    "\n",
    "# константа, фиксирующая случайность\n",
    "rs = 250722"
   ]
  },
  {
   "cell_type": "markdown",
   "id": "17d5106e",
   "metadata": {},
   "source": [
    "### 1.1 Данные об электродах"
   ]
  },
  {
   "cell_type": "code",
   "execution_count": 3,
   "id": "3c12e2d0",
   "metadata": {},
   "outputs": [
    {
     "data": {
      "text/html": [
       "<div>\n",
       "<style scoped>\n",
       "    .dataframe tbody tr th:only-of-type {\n",
       "        vertical-align: middle;\n",
       "    }\n",
       "\n",
       "    .dataframe tbody tr th {\n",
       "        vertical-align: top;\n",
       "    }\n",
       "\n",
       "    .dataframe thead th {\n",
       "        text-align: right;\n",
       "    }\n",
       "</style>\n",
       "<table border=\"1\" class=\"dataframe\">\n",
       "  <thead>\n",
       "    <tr style=\"text-align: right;\">\n",
       "      <th></th>\n",
       "      <th>key</th>\n",
       "      <th>Начало нагрева дугой</th>\n",
       "      <th>Конец нагрева дугой</th>\n",
       "      <th>Активная мощность</th>\n",
       "      <th>Реактивная мощность</th>\n",
       "    </tr>\n",
       "  </thead>\n",
       "  <tbody>\n",
       "    <tr>\n",
       "      <th>0</th>\n",
       "      <td>1</td>\n",
       "      <td>2019-05-03 11:02:14</td>\n",
       "      <td>2019-05-03 11:06:02</td>\n",
       "      <td>0.976059</td>\n",
       "      <td>0.687084</td>\n",
       "    </tr>\n",
       "    <tr>\n",
       "      <th>1</th>\n",
       "      <td>1</td>\n",
       "      <td>2019-05-03 11:07:28</td>\n",
       "      <td>2019-05-03 11:10:33</td>\n",
       "      <td>0.805607</td>\n",
       "      <td>0.520285</td>\n",
       "    </tr>\n",
       "    <tr>\n",
       "      <th>2</th>\n",
       "      <td>1</td>\n",
       "      <td>2019-05-03 11:11:44</td>\n",
       "      <td>2019-05-03 11:14:36</td>\n",
       "      <td>0.744363</td>\n",
       "      <td>0.498805</td>\n",
       "    </tr>\n",
       "    <tr>\n",
       "      <th>3</th>\n",
       "      <td>1</td>\n",
       "      <td>2019-05-03 11:18:14</td>\n",
       "      <td>2019-05-03 11:24:19</td>\n",
       "      <td>1.659363</td>\n",
       "      <td>1.062669</td>\n",
       "    </tr>\n",
       "    <tr>\n",
       "      <th>4</th>\n",
       "      <td>1</td>\n",
       "      <td>2019-05-03 11:26:09</td>\n",
       "      <td>2019-05-03 11:28:37</td>\n",
       "      <td>0.692755</td>\n",
       "      <td>0.414397</td>\n",
       "    </tr>\n",
       "  </tbody>\n",
       "</table>\n",
       "</div>"
      ],
      "text/plain": [
       "   key Начало нагрева дугой  Конец нагрева дугой  Активная мощность  \\\n",
       "0    1  2019-05-03 11:02:14  2019-05-03 11:06:02           0.976059   \n",
       "1    1  2019-05-03 11:07:28  2019-05-03 11:10:33           0.805607   \n",
       "2    1  2019-05-03 11:11:44  2019-05-03 11:14:36           0.744363   \n",
       "3    1  2019-05-03 11:18:14  2019-05-03 11:24:19           1.659363   \n",
       "4    1  2019-05-03 11:26:09  2019-05-03 11:28:37           0.692755   \n",
       "\n",
       "   Реактивная мощность  \n",
       "0             0.687084  \n",
       "1             0.520285  \n",
       "2             0.498805  \n",
       "3             1.062669  \n",
       "4             0.414397  "
      ]
     },
     "execution_count": 3,
     "metadata": {},
     "output_type": "execute_result"
    }
   ],
   "source": [
    "# чтение файла с данными об электродах\n",
    "data_arc = pd.read_csv('/final_steel/data_arc.csv')\n",
    "    \n",
    "# просмотр первых пяти строк полученной таблицы\n",
    "data_arc.head()"
   ]
  },
  {
   "cell_type": "code",
   "execution_count": 4,
   "id": "2c8a690c",
   "metadata": {},
   "outputs": [
    {
     "name": "stdout",
     "output_type": "stream",
     "text": [
      "<class 'pandas.core.frame.DataFrame'>\n",
      "RangeIndex: 14876 entries, 0 to 14875\n",
      "Data columns (total 5 columns):\n",
      " #   Column                Non-Null Count  Dtype  \n",
      "---  ------                --------------  -----  \n",
      " 0   key                   14876 non-null  int64  \n",
      " 1   Начало нагрева дугой  14876 non-null  object \n",
      " 2   Конец нагрева дугой   14876 non-null  object \n",
      " 3   Активная мощность     14876 non-null  float64\n",
      " 4   Реактивная мощность   14876 non-null  float64\n",
      "dtypes: float64(2), int64(1), object(2)\n",
      "memory usage: 581.2+ KB\n"
     ]
    }
   ],
   "source": [
    "# получение общей информации о данных\n",
    "data_arc.info()"
   ]
  },
  {
   "cell_type": "markdown",
   "id": "c6b9c497",
   "metadata": {},
   "source": [
    "В таблице 14876 записей, 5 признаков:\n",
    "- `key` - номер партии;\n",
    "- `начало нагрева дугой`;\n",
    "- `конец нагрева дугой`;\n",
    "- `активная мощность`;\n",
    "- `реактивная мощность`.\n",
    "\n",
    "Пропусков в признаках нет, типы данных соответствуют по смыслу признакам, кроме признаков начала и конца нагрева, которые следует привести к типу даты и времени.\n",
    "\n",
    "Названия признаков следует дать латиницей в змеином регистре."
   ]
  },
  {
   "cell_type": "code",
   "execution_count": 5,
   "id": "0367a137",
   "metadata": {
    "scrolled": true
   },
   "outputs": [
    {
     "data": {
      "text/plain": [
       "Index(['key', 'arc_heat_start', 'arc_heat_end', 'act_power', 'react_power'], dtype='object')"
      ]
     },
     "execution_count": 5,
     "metadata": {},
     "output_type": "execute_result"
    }
   ],
   "source": [
    "# переименование признаков\n",
    "data_arc = data_arc.rename(columns={'Начало нагрева дугой':'arc_heat_start',\n",
    "                                    'Конец нагрева дугой':'arc_heat_end',\n",
    "                                    'Активная мощность':'act_power',\n",
    "                                    'Реактивная мощность':'react_power'}\n",
    "                          )\n",
    "# просмотр названий признаков\n",
    "data_arc.columns"
   ]
  },
  {
   "cell_type": "markdown",
   "id": "774a0b01",
   "metadata": {},
   "source": [
    "Признаки переименованы."
   ]
  },
  {
   "cell_type": "markdown",
   "id": "19f929cf",
   "metadata": {},
   "source": [
    "Заменим тип данных признаков `arc_heat_start` и `arc_heat_end` на `datetime64[ns]`:"
   ]
  },
  {
   "cell_type": "code",
   "execution_count": 6,
   "id": "81241ce5",
   "metadata": {},
   "outputs": [
    {
     "data": {
      "text/plain": [
       "key                        int64\n",
       "arc_heat_start    datetime64[ns]\n",
       "arc_heat_end      datetime64[ns]\n",
       "act_power                float64\n",
       "react_power              float64\n",
       "dtype: object"
      ]
     },
     "execution_count": 6,
     "metadata": {},
     "output_type": "execute_result"
    }
   ],
   "source": [
    "data_arc[['arc_heat_start',\n",
    "          'arc_heat_end']] = data_arc[['arc_heat_start',\n",
    "                                       'arc_heat_end']].apply(pd.to_datetime)\n",
    "data_arc.dtypes"
   ]
  },
  {
   "cell_type": "markdown",
   "id": "50b2213a",
   "metadata": {},
   "source": [
    "Типы данных заменены."
   ]
  },
  {
   "cell_type": "code",
   "execution_count": 7,
   "id": "47dacfc1",
   "metadata": {},
   "outputs": [
    {
     "data": {
      "text/html": [
       "<div>\n",
       "<style scoped>\n",
       "    .dataframe tbody tr th:only-of-type {\n",
       "        vertical-align: middle;\n",
       "    }\n",
       "\n",
       "    .dataframe tbody tr th {\n",
       "        vertical-align: top;\n",
       "    }\n",
       "\n",
       "    .dataframe thead th {\n",
       "        text-align: right;\n",
       "    }\n",
       "</style>\n",
       "<table border=\"1\" class=\"dataframe\">\n",
       "  <thead>\n",
       "    <tr style=\"text-align: right;\">\n",
       "      <th></th>\n",
       "      <th>key</th>\n",
       "      <th>act_power</th>\n",
       "      <th>react_power</th>\n",
       "    </tr>\n",
       "  </thead>\n",
       "  <tbody>\n",
       "    <tr>\n",
       "      <th>count</th>\n",
       "      <td>14876.000000</td>\n",
       "      <td>14876.000000</td>\n",
       "      <td>14876.000000</td>\n",
       "    </tr>\n",
       "    <tr>\n",
       "      <th>mean</th>\n",
       "      <td>1615.220422</td>\n",
       "      <td>0.670441</td>\n",
       "      <td>0.452592</td>\n",
       "    </tr>\n",
       "    <tr>\n",
       "      <th>std</th>\n",
       "      <td>934.571502</td>\n",
       "      <td>0.408159</td>\n",
       "      <td>5.878702</td>\n",
       "    </tr>\n",
       "    <tr>\n",
       "      <th>min</th>\n",
       "      <td>1.000000</td>\n",
       "      <td>0.030002</td>\n",
       "      <td>-715.504924</td>\n",
       "    </tr>\n",
       "    <tr>\n",
       "      <th>25%</th>\n",
       "      <td>806.000000</td>\n",
       "      <td>0.395297</td>\n",
       "      <td>0.290991</td>\n",
       "    </tr>\n",
       "    <tr>\n",
       "      <th>50%</th>\n",
       "      <td>1617.000000</td>\n",
       "      <td>0.555517</td>\n",
       "      <td>0.415962</td>\n",
       "    </tr>\n",
       "    <tr>\n",
       "      <th>75%</th>\n",
       "      <td>2429.000000</td>\n",
       "      <td>0.857034</td>\n",
       "      <td>0.637371</td>\n",
       "    </tr>\n",
       "    <tr>\n",
       "      <th>max</th>\n",
       "      <td>3241.000000</td>\n",
       "      <td>3.731596</td>\n",
       "      <td>2.676388</td>\n",
       "    </tr>\n",
       "  </tbody>\n",
       "</table>\n",
       "</div>"
      ],
      "text/plain": [
       "                key     act_power   react_power\n",
       "count  14876.000000  14876.000000  14876.000000\n",
       "mean    1615.220422      0.670441      0.452592\n",
       "std      934.571502      0.408159      5.878702\n",
       "min        1.000000      0.030002   -715.504924\n",
       "25%      806.000000      0.395297      0.290991\n",
       "50%     1617.000000      0.555517      0.415962\n",
       "75%     2429.000000      0.857034      0.637371\n",
       "max     3241.000000      3.731596      2.676388"
      ]
     },
     "execution_count": 7,
     "metadata": {},
     "output_type": "execute_result"
    }
   ],
   "source": [
    "# получение характерных значений количественных признаков\n",
    "data_arc.describe()"
   ]
  },
  {
   "cell_type": "markdown",
   "id": "bdc7da04",
   "metadata": {},
   "source": [
    "В таблице присутствуют данные о ключах 1...3241. Посмотрим, сколько их всего:"
   ]
  },
  {
   "cell_type": "code",
   "execution_count": 8,
   "id": "0a444662",
   "metadata": {},
   "outputs": [
    {
     "data": {
      "text/plain": [
       "3214"
      ]
     },
     "execution_count": 8,
     "metadata": {},
     "output_type": "execute_result"
    }
   ],
   "source": [
    "data_arc['key'].nunique()"
   ]
  },
  {
   "cell_type": "markdown",
   "id": "3e3a1d9b",
   "metadata": {},
   "source": [
    "Всего в данной таблице 3214 ключей, т.е. номера партий идут не по порядку, есть пропуски в нумерации."
   ]
  },
  {
   "cell_type": "markdown",
   "id": "2f47c765",
   "metadata": {},
   "source": [
    "Минимальное значение активной мощности - 0.03 у.е., среднее - 0.67 у.е., максимальное - 3.73 у.е. Явных ошибок пока не видно.\n",
    "\n",
    "Минимальное значение реактивной мощности составляет -715 у.е., среднее - 0.45 у.е., максимальное - 2.68 у.е. Значение мощности не может быть отрицательным, следовательно, минимальная величина - это выброс, надо посмотреть, много ли отрицательных значений этого признака, и решить, что с ними делать."
   ]
  },
  {
   "cell_type": "code",
   "execution_count": 9,
   "id": "b28c2d37",
   "metadata": {
    "scrolled": true
   },
   "outputs": [
    {
     "data": {
      "text/html": [
       "<div>\n",
       "<style scoped>\n",
       "    .dataframe tbody tr th:only-of-type {\n",
       "        vertical-align: middle;\n",
       "    }\n",
       "\n",
       "    .dataframe tbody tr th {\n",
       "        vertical-align: top;\n",
       "    }\n",
       "\n",
       "    .dataframe thead th {\n",
       "        text-align: right;\n",
       "    }\n",
       "</style>\n",
       "<table border=\"1\" class=\"dataframe\">\n",
       "  <thead>\n",
       "    <tr style=\"text-align: right;\">\n",
       "      <th></th>\n",
       "      <th>key</th>\n",
       "      <th>arc_heat_start</th>\n",
       "      <th>arc_heat_end</th>\n",
       "      <th>act_power</th>\n",
       "      <th>react_power</th>\n",
       "    </tr>\n",
       "  </thead>\n",
       "  <tbody>\n",
       "    <tr>\n",
       "      <th>9780</th>\n",
       "      <td>2116</td>\n",
       "      <td>2019-07-24 00:44:48</td>\n",
       "      <td>2019-07-24 00:46:37</td>\n",
       "      <td>0.495782</td>\n",
       "      <td>-715.504924</td>\n",
       "    </tr>\n",
       "  </tbody>\n",
       "</table>\n",
       "</div>"
      ],
      "text/plain": [
       "       key      arc_heat_start        arc_heat_end  act_power  react_power\n",
       "9780  2116 2019-07-24 00:44:48 2019-07-24 00:46:37   0.495782  -715.504924"
      ]
     },
     "execution_count": 9,
     "metadata": {},
     "output_type": "execute_result"
    }
   ],
   "source": [
    "# получение среза данных с реактивной мощностью меньше 0\n",
    "data_arc.query('react_power < 0')"
   ]
  },
  {
   "cell_type": "markdown",
   "id": "2082802e",
   "metadata": {},
   "source": [
    "Только у одного ключа значение реактивной мощности отрицательное, удалим его из данных:"
   ]
  },
  {
   "cell_type": "code",
   "execution_count": 10,
   "id": "3e6c8bc3",
   "metadata": {},
   "outputs": [
    {
     "name": "stdout",
     "output_type": "stream",
     "text": [
      "(14876, 5)\n"
     ]
    },
    {
     "data": {
      "text/plain": [
       "(14872, 5)"
      ]
     },
     "execution_count": 10,
     "metadata": {},
     "output_type": "execute_result"
    }
   ],
   "source": [
    "print(data_arc.shape)\n",
    "data_arc = data_arc.query('key != 2116')\n",
    "data_arc.shape"
   ]
  },
  {
   "cell_type": "markdown",
   "id": "c85947f2",
   "metadata": {},
   "source": [
    "Ключ с отрицательным значением реактивной мощности удалён."
   ]
  },
  {
   "cell_type": "markdown",
   "id": "b4e9887d",
   "metadata": {},
   "source": [
    "Проверим, в каких временных диапазонах происходил нагрев дугой:"
   ]
  },
  {
   "cell_type": "code",
   "execution_count": 11,
   "id": "5ca70635",
   "metadata": {},
   "outputs": [
    {
     "name": "stdout",
     "output_type": "stream",
     "text": [
      "Минимальное время начала нагрева: 2019-05-03 11:02:14\n",
      "Минимальное время конца нагрева: 2019-05-03 11:06:02\n",
      "Максимальное время начала нагрева: 2019-09-01 04:34:47\n",
      "Максимальное время конца нагрева: 2019-09-01 04:36:08\n"
     ]
    }
   ],
   "source": [
    "print('Минимальное время начала нагрева:', data_arc['arc_heat_start'].min())\n",
    "print('Минимальное время конца нагрева:', data_arc['arc_heat_end'].min())\n",
    "print('Максимальное время начала нагрева:', data_arc['arc_heat_start'].max())\n",
    "print('Максимальное время конца нагрева:', data_arc['arc_heat_end'].max())"
   ]
  },
  {
   "cell_type": "markdown",
   "id": "d6a5a1c9",
   "metadata": {},
   "source": [
    "Данные о нагреве представлены за период с 11:02:14 3 мая по 04:36:08 1 сентября 2019 года."
   ]
  },
  {
   "cell_type": "markdown",
   "id": "b455ff88",
   "metadata": {
    "hide_input": true
   },
   "source": [
    "### 1.2 Данные об объёме подачи сыпучих материалов"
   ]
  },
  {
   "cell_type": "code",
   "execution_count": 12,
   "id": "c2940c5c",
   "metadata": {
    "scrolled": false
   },
   "outputs": [
    {
     "data": {
      "text/html": [
       "<div>\n",
       "<style scoped>\n",
       "    .dataframe tbody tr th:only-of-type {\n",
       "        vertical-align: middle;\n",
       "    }\n",
       "\n",
       "    .dataframe tbody tr th {\n",
       "        vertical-align: top;\n",
       "    }\n",
       "\n",
       "    .dataframe thead th {\n",
       "        text-align: right;\n",
       "    }\n",
       "</style>\n",
       "<table border=\"1\" class=\"dataframe\">\n",
       "  <thead>\n",
       "    <tr style=\"text-align: right;\">\n",
       "      <th></th>\n",
       "      <th>key</th>\n",
       "      <th>Bulk 1</th>\n",
       "      <th>Bulk 2</th>\n",
       "      <th>Bulk 3</th>\n",
       "      <th>Bulk 4</th>\n",
       "      <th>Bulk 5</th>\n",
       "      <th>Bulk 6</th>\n",
       "      <th>Bulk 7</th>\n",
       "      <th>Bulk 8</th>\n",
       "      <th>Bulk 9</th>\n",
       "      <th>Bulk 10</th>\n",
       "      <th>Bulk 11</th>\n",
       "      <th>Bulk 12</th>\n",
       "      <th>Bulk 13</th>\n",
       "      <th>Bulk 14</th>\n",
       "      <th>Bulk 15</th>\n",
       "    </tr>\n",
       "  </thead>\n",
       "  <tbody>\n",
       "    <tr>\n",
       "      <th>0</th>\n",
       "      <td>1</td>\n",
       "      <td>NaN</td>\n",
       "      <td>NaN</td>\n",
       "      <td>NaN</td>\n",
       "      <td>43.0</td>\n",
       "      <td>NaN</td>\n",
       "      <td>NaN</td>\n",
       "      <td>NaN</td>\n",
       "      <td>NaN</td>\n",
       "      <td>NaN</td>\n",
       "      <td>NaN</td>\n",
       "      <td>NaN</td>\n",
       "      <td>206.0</td>\n",
       "      <td>NaN</td>\n",
       "      <td>150.0</td>\n",
       "      <td>154.0</td>\n",
       "    </tr>\n",
       "    <tr>\n",
       "      <th>1</th>\n",
       "      <td>2</td>\n",
       "      <td>NaN</td>\n",
       "      <td>NaN</td>\n",
       "      <td>NaN</td>\n",
       "      <td>73.0</td>\n",
       "      <td>NaN</td>\n",
       "      <td>NaN</td>\n",
       "      <td>NaN</td>\n",
       "      <td>NaN</td>\n",
       "      <td>NaN</td>\n",
       "      <td>NaN</td>\n",
       "      <td>NaN</td>\n",
       "      <td>206.0</td>\n",
       "      <td>NaN</td>\n",
       "      <td>149.0</td>\n",
       "      <td>154.0</td>\n",
       "    </tr>\n",
       "    <tr>\n",
       "      <th>2</th>\n",
       "      <td>3</td>\n",
       "      <td>NaN</td>\n",
       "      <td>NaN</td>\n",
       "      <td>NaN</td>\n",
       "      <td>34.0</td>\n",
       "      <td>NaN</td>\n",
       "      <td>NaN</td>\n",
       "      <td>NaN</td>\n",
       "      <td>NaN</td>\n",
       "      <td>NaN</td>\n",
       "      <td>NaN</td>\n",
       "      <td>NaN</td>\n",
       "      <td>205.0</td>\n",
       "      <td>NaN</td>\n",
       "      <td>152.0</td>\n",
       "      <td>153.0</td>\n",
       "    </tr>\n",
       "    <tr>\n",
       "      <th>3</th>\n",
       "      <td>4</td>\n",
       "      <td>NaN</td>\n",
       "      <td>NaN</td>\n",
       "      <td>NaN</td>\n",
       "      <td>81.0</td>\n",
       "      <td>NaN</td>\n",
       "      <td>NaN</td>\n",
       "      <td>NaN</td>\n",
       "      <td>NaN</td>\n",
       "      <td>NaN</td>\n",
       "      <td>NaN</td>\n",
       "      <td>NaN</td>\n",
       "      <td>207.0</td>\n",
       "      <td>NaN</td>\n",
       "      <td>153.0</td>\n",
       "      <td>154.0</td>\n",
       "    </tr>\n",
       "    <tr>\n",
       "      <th>4</th>\n",
       "      <td>5</td>\n",
       "      <td>NaN</td>\n",
       "      <td>NaN</td>\n",
       "      <td>NaN</td>\n",
       "      <td>78.0</td>\n",
       "      <td>NaN</td>\n",
       "      <td>NaN</td>\n",
       "      <td>NaN</td>\n",
       "      <td>NaN</td>\n",
       "      <td>NaN</td>\n",
       "      <td>NaN</td>\n",
       "      <td>NaN</td>\n",
       "      <td>203.0</td>\n",
       "      <td>NaN</td>\n",
       "      <td>151.0</td>\n",
       "      <td>152.0</td>\n",
       "    </tr>\n",
       "  </tbody>\n",
       "</table>\n",
       "</div>"
      ],
      "text/plain": [
       "   key  Bulk 1  Bulk 2  Bulk 3  Bulk 4  Bulk 5  Bulk 6  Bulk 7  Bulk 8  \\\n",
       "0    1     NaN     NaN     NaN    43.0     NaN     NaN     NaN     NaN   \n",
       "1    2     NaN     NaN     NaN    73.0     NaN     NaN     NaN     NaN   \n",
       "2    3     NaN     NaN     NaN    34.0     NaN     NaN     NaN     NaN   \n",
       "3    4     NaN     NaN     NaN    81.0     NaN     NaN     NaN     NaN   \n",
       "4    5     NaN     NaN     NaN    78.0     NaN     NaN     NaN     NaN   \n",
       "\n",
       "   Bulk 9  Bulk 10  Bulk 11  Bulk 12  Bulk 13  Bulk 14  Bulk 15  \n",
       "0     NaN      NaN      NaN    206.0      NaN    150.0    154.0  \n",
       "1     NaN      NaN      NaN    206.0      NaN    149.0    154.0  \n",
       "2     NaN      NaN      NaN    205.0      NaN    152.0    153.0  \n",
       "3     NaN      NaN      NaN    207.0      NaN    153.0    154.0  \n",
       "4     NaN      NaN      NaN    203.0      NaN    151.0    152.0  "
      ]
     },
     "execution_count": 12,
     "metadata": {},
     "output_type": "execute_result"
    }
   ],
   "source": [
    "# чтение файла с данными об объёме подачи сыпучих материалов\n",
    "data_bulk = pd.read_csv('/final_steel/data_bulk.csv')\n",
    "\n",
    "# просмотр первых пяти строк полученной таблицы\n",
    "data_bulk.head()"
   ]
  },
  {
   "cell_type": "code",
   "execution_count": 13,
   "id": "ebdee250",
   "metadata": {},
   "outputs": [
    {
     "name": "stdout",
     "output_type": "stream",
     "text": [
      "<class 'pandas.core.frame.DataFrame'>\n",
      "RangeIndex: 3129 entries, 0 to 3128\n",
      "Data columns (total 16 columns):\n",
      " #   Column   Non-Null Count  Dtype  \n",
      "---  ------   --------------  -----  \n",
      " 0   key      3129 non-null   int64  \n",
      " 1   Bulk 1   252 non-null    float64\n",
      " 2   Bulk 2   22 non-null     float64\n",
      " 3   Bulk 3   1298 non-null   float64\n",
      " 4   Bulk 4   1014 non-null   float64\n",
      " 5   Bulk 5   77 non-null     float64\n",
      " 6   Bulk 6   576 non-null    float64\n",
      " 7   Bulk 7   25 non-null     float64\n",
      " 8   Bulk 8   1 non-null      float64\n",
      " 9   Bulk 9   19 non-null     float64\n",
      " 10  Bulk 10  176 non-null    float64\n",
      " 11  Bulk 11  177 non-null    float64\n",
      " 12  Bulk 12  2450 non-null   float64\n",
      " 13  Bulk 13  18 non-null     float64\n",
      " 14  Bulk 14  2806 non-null   float64\n",
      " 15  Bulk 15  2248 non-null   float64\n",
      "dtypes: float64(15), int64(1)\n",
      "memory usage: 391.2 KB\n"
     ]
    }
   ],
   "source": [
    "# получение общей информации о данных\n",
    "data_bulk.info()"
   ]
  },
  {
   "cell_type": "markdown",
   "id": "a55bcb9e",
   "metadata": {},
   "source": [
    "В таблице 3129 записей, 16 признаков:\n",
    "- `key` - номер партии;\n",
    "- `Bulk 1` ... `Bulk 15` - объёмы подачи сыпучих материалов 1...15.\n",
    "\n",
    "В данных об объёмах подачи сыпучих материалов присутствуют пропуски, т.к. в разные партии на разных итерациях подаются различные материалы. Пропуски позже заполним нулями.\n",
    "\n",
    "Типы данных соответствуют по смыслу признакам.\n",
    "\n",
    "Названия признаков следует дать в змеином регистре."
   ]
  },
  {
   "cell_type": "code",
   "execution_count": 14,
   "id": "9b894373",
   "metadata": {},
   "outputs": [
    {
     "data": {
      "text/plain": [
       "Index(['key', 'bulk_1', 'bulk_2', 'bulk_3', 'bulk_4', 'bulk_5', 'bulk_6',\n",
       "       'bulk_7', 'bulk_8', 'bulk_9', 'bulk_10', 'bulk_11', 'bulk_12',\n",
       "       'bulk_13', 'bulk_14', 'bulk_15'],\n",
       "      dtype='object')"
      ]
     },
     "execution_count": 14,
     "metadata": {},
     "output_type": "execute_result"
    }
   ],
   "source": [
    "# переименование признаков\n",
    "data_bulk = data_bulk.rename(columns={'Bulk 1':'bulk_1',\n",
    "                                      'Bulk 2':'bulk_2',\n",
    "                                      'Bulk 3':'bulk_3',\n",
    "                                      'Bulk 4':'bulk_4',\n",
    "                                      'Bulk 5':'bulk_5',\n",
    "                                      'Bulk 6':'bulk_6',\n",
    "                                      'Bulk 7':'bulk_7',\n",
    "                                      'Bulk 8':'bulk_8',\n",
    "                                      'Bulk 9':'bulk_9',\n",
    "                                      'Bulk 10':'bulk_10',\n",
    "                                      'Bulk 11':'bulk_11',\n",
    "                                      'Bulk 12':'bulk_12',\n",
    "                                      'Bulk 13':'bulk_13',\n",
    "                                      'Bulk 14':'bulk_14',\n",
    "                                      'Bulk 15':'bulk_15'}\n",
    "                          )\n",
    "# просмотр названий признаков\n",
    "data_bulk.columns"
   ]
  },
  {
   "cell_type": "markdown",
   "id": "cb31049b",
   "metadata": {},
   "source": [
    "Признаки переименованы."
   ]
  },
  {
   "cell_type": "code",
   "execution_count": 15,
   "id": "57331ffe",
   "metadata": {
    "scrolled": true
   },
   "outputs": [
    {
     "data": {
      "text/html": [
       "<div>\n",
       "<style scoped>\n",
       "    .dataframe tbody tr th:only-of-type {\n",
       "        vertical-align: middle;\n",
       "    }\n",
       "\n",
       "    .dataframe tbody tr th {\n",
       "        vertical-align: top;\n",
       "    }\n",
       "\n",
       "    .dataframe thead th {\n",
       "        text-align: right;\n",
       "    }\n",
       "</style>\n",
       "<table border=\"1\" class=\"dataframe\">\n",
       "  <thead>\n",
       "    <tr style=\"text-align: right;\">\n",
       "      <th></th>\n",
       "      <th>key</th>\n",
       "      <th>bulk_1</th>\n",
       "      <th>bulk_2</th>\n",
       "      <th>bulk_3</th>\n",
       "      <th>bulk_4</th>\n",
       "      <th>bulk_5</th>\n",
       "      <th>bulk_6</th>\n",
       "      <th>bulk_7</th>\n",
       "      <th>bulk_8</th>\n",
       "      <th>bulk_9</th>\n",
       "      <th>bulk_10</th>\n",
       "      <th>bulk_11</th>\n",
       "      <th>bulk_12</th>\n",
       "      <th>bulk_13</th>\n",
       "      <th>bulk_14</th>\n",
       "      <th>bulk_15</th>\n",
       "    </tr>\n",
       "  </thead>\n",
       "  <tbody>\n",
       "    <tr>\n",
       "      <th>count</th>\n",
       "      <td>3129.000000</td>\n",
       "      <td>252.000000</td>\n",
       "      <td>22.000000</td>\n",
       "      <td>1298.000000</td>\n",
       "      <td>1014.000000</td>\n",
       "      <td>77.000000</td>\n",
       "      <td>576.000000</td>\n",
       "      <td>25.000000</td>\n",
       "      <td>1.0</td>\n",
       "      <td>19.000000</td>\n",
       "      <td>176.000000</td>\n",
       "      <td>177.000000</td>\n",
       "      <td>2450.000000</td>\n",
       "      <td>18.000000</td>\n",
       "      <td>2806.000000</td>\n",
       "      <td>2248.000000</td>\n",
       "    </tr>\n",
       "    <tr>\n",
       "      <th>mean</th>\n",
       "      <td>1624.383509</td>\n",
       "      <td>39.242063</td>\n",
       "      <td>253.045455</td>\n",
       "      <td>113.879045</td>\n",
       "      <td>104.394477</td>\n",
       "      <td>107.025974</td>\n",
       "      <td>118.925347</td>\n",
       "      <td>305.600000</td>\n",
       "      <td>49.0</td>\n",
       "      <td>76.315789</td>\n",
       "      <td>83.284091</td>\n",
       "      <td>76.819209</td>\n",
       "      <td>260.471020</td>\n",
       "      <td>181.111111</td>\n",
       "      <td>170.284747</td>\n",
       "      <td>160.513345</td>\n",
       "    </tr>\n",
       "    <tr>\n",
       "      <th>std</th>\n",
       "      <td>933.337642</td>\n",
       "      <td>18.277654</td>\n",
       "      <td>21.180578</td>\n",
       "      <td>75.483494</td>\n",
       "      <td>48.184126</td>\n",
       "      <td>81.790646</td>\n",
       "      <td>72.057776</td>\n",
       "      <td>191.022904</td>\n",
       "      <td>NaN</td>\n",
       "      <td>21.720581</td>\n",
       "      <td>26.060347</td>\n",
       "      <td>59.655365</td>\n",
       "      <td>120.649269</td>\n",
       "      <td>46.088009</td>\n",
       "      <td>65.868652</td>\n",
       "      <td>51.765319</td>\n",
       "    </tr>\n",
       "    <tr>\n",
       "      <th>min</th>\n",
       "      <td>1.000000</td>\n",
       "      <td>10.000000</td>\n",
       "      <td>228.000000</td>\n",
       "      <td>6.000000</td>\n",
       "      <td>12.000000</td>\n",
       "      <td>11.000000</td>\n",
       "      <td>17.000000</td>\n",
       "      <td>47.000000</td>\n",
       "      <td>49.0</td>\n",
       "      <td>63.000000</td>\n",
       "      <td>24.000000</td>\n",
       "      <td>8.000000</td>\n",
       "      <td>53.000000</td>\n",
       "      <td>151.000000</td>\n",
       "      <td>16.000000</td>\n",
       "      <td>1.000000</td>\n",
       "    </tr>\n",
       "    <tr>\n",
       "      <th>25%</th>\n",
       "      <td>816.000000</td>\n",
       "      <td>27.000000</td>\n",
       "      <td>242.000000</td>\n",
       "      <td>58.000000</td>\n",
       "      <td>72.000000</td>\n",
       "      <td>70.000000</td>\n",
       "      <td>69.750000</td>\n",
       "      <td>155.000000</td>\n",
       "      <td>49.0</td>\n",
       "      <td>66.000000</td>\n",
       "      <td>64.000000</td>\n",
       "      <td>25.000000</td>\n",
       "      <td>204.000000</td>\n",
       "      <td>153.250000</td>\n",
       "      <td>119.000000</td>\n",
       "      <td>105.000000</td>\n",
       "    </tr>\n",
       "    <tr>\n",
       "      <th>50%</th>\n",
       "      <td>1622.000000</td>\n",
       "      <td>31.000000</td>\n",
       "      <td>251.500000</td>\n",
       "      <td>97.500000</td>\n",
       "      <td>102.000000</td>\n",
       "      <td>86.000000</td>\n",
       "      <td>100.000000</td>\n",
       "      <td>298.000000</td>\n",
       "      <td>49.0</td>\n",
       "      <td>68.000000</td>\n",
       "      <td>86.500000</td>\n",
       "      <td>64.000000</td>\n",
       "      <td>208.000000</td>\n",
       "      <td>155.500000</td>\n",
       "      <td>151.000000</td>\n",
       "      <td>160.000000</td>\n",
       "    </tr>\n",
       "    <tr>\n",
       "      <th>75%</th>\n",
       "      <td>2431.000000</td>\n",
       "      <td>46.000000</td>\n",
       "      <td>257.750000</td>\n",
       "      <td>152.000000</td>\n",
       "      <td>133.000000</td>\n",
       "      <td>132.000000</td>\n",
       "      <td>157.000000</td>\n",
       "      <td>406.000000</td>\n",
       "      <td>49.0</td>\n",
       "      <td>70.500000</td>\n",
       "      <td>102.000000</td>\n",
       "      <td>106.000000</td>\n",
       "      <td>316.000000</td>\n",
       "      <td>203.500000</td>\n",
       "      <td>205.750000</td>\n",
       "      <td>205.000000</td>\n",
       "    </tr>\n",
       "    <tr>\n",
       "      <th>max</th>\n",
       "      <td>3241.000000</td>\n",
       "      <td>185.000000</td>\n",
       "      <td>325.000000</td>\n",
       "      <td>454.000000</td>\n",
       "      <td>281.000000</td>\n",
       "      <td>603.000000</td>\n",
       "      <td>503.000000</td>\n",
       "      <td>772.000000</td>\n",
       "      <td>49.0</td>\n",
       "      <td>147.000000</td>\n",
       "      <td>159.000000</td>\n",
       "      <td>313.000000</td>\n",
       "      <td>1849.000000</td>\n",
       "      <td>305.000000</td>\n",
       "      <td>636.000000</td>\n",
       "      <td>405.000000</td>\n",
       "    </tr>\n",
       "  </tbody>\n",
       "</table>\n",
       "</div>"
      ],
      "text/plain": [
       "               key      bulk_1      bulk_2       bulk_3       bulk_4  \\\n",
       "count  3129.000000  252.000000   22.000000  1298.000000  1014.000000   \n",
       "mean   1624.383509   39.242063  253.045455   113.879045   104.394477   \n",
       "std     933.337642   18.277654   21.180578    75.483494    48.184126   \n",
       "min       1.000000   10.000000  228.000000     6.000000    12.000000   \n",
       "25%     816.000000   27.000000  242.000000    58.000000    72.000000   \n",
       "50%    1622.000000   31.000000  251.500000    97.500000   102.000000   \n",
       "75%    2431.000000   46.000000  257.750000   152.000000   133.000000   \n",
       "max    3241.000000  185.000000  325.000000   454.000000   281.000000   \n",
       "\n",
       "           bulk_5      bulk_6      bulk_7  bulk_8      bulk_9     bulk_10  \\\n",
       "count   77.000000  576.000000   25.000000     1.0   19.000000  176.000000   \n",
       "mean   107.025974  118.925347  305.600000    49.0   76.315789   83.284091   \n",
       "std     81.790646   72.057776  191.022904     NaN   21.720581   26.060347   \n",
       "min     11.000000   17.000000   47.000000    49.0   63.000000   24.000000   \n",
       "25%     70.000000   69.750000  155.000000    49.0   66.000000   64.000000   \n",
       "50%     86.000000  100.000000  298.000000    49.0   68.000000   86.500000   \n",
       "75%    132.000000  157.000000  406.000000    49.0   70.500000  102.000000   \n",
       "max    603.000000  503.000000  772.000000    49.0  147.000000  159.000000   \n",
       "\n",
       "          bulk_11      bulk_12     bulk_13      bulk_14      bulk_15  \n",
       "count  177.000000  2450.000000   18.000000  2806.000000  2248.000000  \n",
       "mean    76.819209   260.471020  181.111111   170.284747   160.513345  \n",
       "std     59.655365   120.649269   46.088009    65.868652    51.765319  \n",
       "min      8.000000    53.000000  151.000000    16.000000     1.000000  \n",
       "25%     25.000000   204.000000  153.250000   119.000000   105.000000  \n",
       "50%     64.000000   208.000000  155.500000   151.000000   160.000000  \n",
       "75%    106.000000   316.000000  203.500000   205.750000   205.000000  \n",
       "max    313.000000  1849.000000  305.000000   636.000000   405.000000  "
      ]
     },
     "execution_count": 15,
     "metadata": {},
     "output_type": "execute_result"
    }
   ],
   "source": [
    "# получение характерных значений количественных признаков\n",
    "data_bulk.describe()"
   ]
  },
  {
   "cell_type": "markdown",
   "id": "f91718d2",
   "metadata": {},
   "source": [
    "В таблице присутствуют данные о 3129 ключах, т.е. представлены не все ключи (всего их 3214).\n",
    "\n",
    "Явных ошибок в объёмах сыпучих материалов не выявлено."
   ]
  },
  {
   "cell_type": "markdown",
   "id": "2a15edae",
   "metadata": {},
   "source": [
    "### 1.3 Данные о времени подачи сыпучих материалов"
   ]
  },
  {
   "cell_type": "code",
   "execution_count": 16,
   "id": "3149badb",
   "metadata": {
    "scrolled": true
   },
   "outputs": [
    {
     "data": {
      "text/html": [
       "<div>\n",
       "<style scoped>\n",
       "    .dataframe tbody tr th:only-of-type {\n",
       "        vertical-align: middle;\n",
       "    }\n",
       "\n",
       "    .dataframe tbody tr th {\n",
       "        vertical-align: top;\n",
       "    }\n",
       "\n",
       "    .dataframe thead th {\n",
       "        text-align: right;\n",
       "    }\n",
       "</style>\n",
       "<table border=\"1\" class=\"dataframe\">\n",
       "  <thead>\n",
       "    <tr style=\"text-align: right;\">\n",
       "      <th></th>\n",
       "      <th>key</th>\n",
       "      <th>Bulk 1</th>\n",
       "      <th>Bulk 2</th>\n",
       "      <th>Bulk 3</th>\n",
       "      <th>Bulk 4</th>\n",
       "      <th>Bulk 5</th>\n",
       "      <th>Bulk 6</th>\n",
       "      <th>Bulk 7</th>\n",
       "      <th>Bulk 8</th>\n",
       "      <th>Bulk 9</th>\n",
       "      <th>Bulk 10</th>\n",
       "      <th>Bulk 11</th>\n",
       "      <th>Bulk 12</th>\n",
       "      <th>Bulk 13</th>\n",
       "      <th>Bulk 14</th>\n",
       "      <th>Bulk 15</th>\n",
       "    </tr>\n",
       "  </thead>\n",
       "  <tbody>\n",
       "    <tr>\n",
       "      <th>0</th>\n",
       "      <td>1</td>\n",
       "      <td>NaN</td>\n",
       "      <td>NaN</td>\n",
       "      <td>NaN</td>\n",
       "      <td>2019-05-03 11:21:30</td>\n",
       "      <td>NaN</td>\n",
       "      <td>NaN</td>\n",
       "      <td>NaN</td>\n",
       "      <td>NaN</td>\n",
       "      <td>NaN</td>\n",
       "      <td>NaN</td>\n",
       "      <td>NaN</td>\n",
       "      <td>2019-05-03 11:03:52</td>\n",
       "      <td>NaN</td>\n",
       "      <td>2019-05-03 11:03:52</td>\n",
       "      <td>2019-05-03 11:03:52</td>\n",
       "    </tr>\n",
       "    <tr>\n",
       "      <th>1</th>\n",
       "      <td>2</td>\n",
       "      <td>NaN</td>\n",
       "      <td>NaN</td>\n",
       "      <td>NaN</td>\n",
       "      <td>2019-05-03 11:46:38</td>\n",
       "      <td>NaN</td>\n",
       "      <td>NaN</td>\n",
       "      <td>NaN</td>\n",
       "      <td>NaN</td>\n",
       "      <td>NaN</td>\n",
       "      <td>NaN</td>\n",
       "      <td>NaN</td>\n",
       "      <td>2019-05-03 11:40:20</td>\n",
       "      <td>NaN</td>\n",
       "      <td>2019-05-03 11:40:20</td>\n",
       "      <td>2019-05-03 11:40:20</td>\n",
       "    </tr>\n",
       "    <tr>\n",
       "      <th>2</th>\n",
       "      <td>3</td>\n",
       "      <td>NaN</td>\n",
       "      <td>NaN</td>\n",
       "      <td>NaN</td>\n",
       "      <td>2019-05-03 12:31:06</td>\n",
       "      <td>NaN</td>\n",
       "      <td>NaN</td>\n",
       "      <td>NaN</td>\n",
       "      <td>NaN</td>\n",
       "      <td>NaN</td>\n",
       "      <td>NaN</td>\n",
       "      <td>NaN</td>\n",
       "      <td>2019-05-03 12:09:40</td>\n",
       "      <td>NaN</td>\n",
       "      <td>2019-05-03 12:09:40</td>\n",
       "      <td>2019-05-03 12:09:40</td>\n",
       "    </tr>\n",
       "    <tr>\n",
       "      <th>3</th>\n",
       "      <td>4</td>\n",
       "      <td>NaN</td>\n",
       "      <td>NaN</td>\n",
       "      <td>NaN</td>\n",
       "      <td>2019-05-03 12:48:43</td>\n",
       "      <td>NaN</td>\n",
       "      <td>NaN</td>\n",
       "      <td>NaN</td>\n",
       "      <td>NaN</td>\n",
       "      <td>NaN</td>\n",
       "      <td>NaN</td>\n",
       "      <td>NaN</td>\n",
       "      <td>2019-05-03 12:41:24</td>\n",
       "      <td>NaN</td>\n",
       "      <td>2019-05-03 12:41:24</td>\n",
       "      <td>2019-05-03 12:41:24</td>\n",
       "    </tr>\n",
       "    <tr>\n",
       "      <th>4</th>\n",
       "      <td>5</td>\n",
       "      <td>NaN</td>\n",
       "      <td>NaN</td>\n",
       "      <td>NaN</td>\n",
       "      <td>2019-05-03 13:18:50</td>\n",
       "      <td>NaN</td>\n",
       "      <td>NaN</td>\n",
       "      <td>NaN</td>\n",
       "      <td>NaN</td>\n",
       "      <td>NaN</td>\n",
       "      <td>NaN</td>\n",
       "      <td>NaN</td>\n",
       "      <td>2019-05-03 13:12:56</td>\n",
       "      <td>NaN</td>\n",
       "      <td>2019-05-03 13:12:56</td>\n",
       "      <td>2019-05-03 13:12:56</td>\n",
       "    </tr>\n",
       "  </tbody>\n",
       "</table>\n",
       "</div>"
      ],
      "text/plain": [
       "   key Bulk 1 Bulk 2 Bulk 3               Bulk 4 Bulk 5 Bulk 6 Bulk 7 Bulk 8  \\\n",
       "0    1    NaN    NaN    NaN  2019-05-03 11:21:30    NaN    NaN    NaN    NaN   \n",
       "1    2    NaN    NaN    NaN  2019-05-03 11:46:38    NaN    NaN    NaN    NaN   \n",
       "2    3    NaN    NaN    NaN  2019-05-03 12:31:06    NaN    NaN    NaN    NaN   \n",
       "3    4    NaN    NaN    NaN  2019-05-03 12:48:43    NaN    NaN    NaN    NaN   \n",
       "4    5    NaN    NaN    NaN  2019-05-03 13:18:50    NaN    NaN    NaN    NaN   \n",
       "\n",
       "  Bulk 9 Bulk 10 Bulk 11              Bulk 12 Bulk 13              Bulk 14  \\\n",
       "0    NaN     NaN     NaN  2019-05-03 11:03:52     NaN  2019-05-03 11:03:52   \n",
       "1    NaN     NaN     NaN  2019-05-03 11:40:20     NaN  2019-05-03 11:40:20   \n",
       "2    NaN     NaN     NaN  2019-05-03 12:09:40     NaN  2019-05-03 12:09:40   \n",
       "3    NaN     NaN     NaN  2019-05-03 12:41:24     NaN  2019-05-03 12:41:24   \n",
       "4    NaN     NaN     NaN  2019-05-03 13:12:56     NaN  2019-05-03 13:12:56   \n",
       "\n",
       "               Bulk 15  \n",
       "0  2019-05-03 11:03:52  \n",
       "1  2019-05-03 11:40:20  \n",
       "2  2019-05-03 12:09:40  \n",
       "3  2019-05-03 12:41:24  \n",
       "4  2019-05-03 13:12:56  "
      ]
     },
     "execution_count": 16,
     "metadata": {},
     "output_type": "execute_result"
    }
   ],
   "source": [
    "# чтение файла с данными о времени подачи сыпучих материалов\n",
    "data_bulk_time = pd.read_csv('/final_steel/data_bulk_time.csv')\n",
    "\n",
    "# просмотр первых пяти строк полученной таблицы\n",
    "data_bulk_time.head()"
   ]
  },
  {
   "cell_type": "code",
   "execution_count": 17,
   "id": "cf978dd1",
   "metadata": {},
   "outputs": [
    {
     "name": "stdout",
     "output_type": "stream",
     "text": [
      "<class 'pandas.core.frame.DataFrame'>\n",
      "RangeIndex: 3129 entries, 0 to 3128\n",
      "Data columns (total 16 columns):\n",
      " #   Column   Non-Null Count  Dtype \n",
      "---  ------   --------------  ----- \n",
      " 0   key      3129 non-null   int64 \n",
      " 1   Bulk 1   252 non-null    object\n",
      " 2   Bulk 2   22 non-null     object\n",
      " 3   Bulk 3   1298 non-null   object\n",
      " 4   Bulk 4   1014 non-null   object\n",
      " 5   Bulk 5   77 non-null     object\n",
      " 6   Bulk 6   576 non-null    object\n",
      " 7   Bulk 7   25 non-null     object\n",
      " 8   Bulk 8   1 non-null      object\n",
      " 9   Bulk 9   19 non-null     object\n",
      " 10  Bulk 10  176 non-null    object\n",
      " 11  Bulk 11  177 non-null    object\n",
      " 12  Bulk 12  2450 non-null   object\n",
      " 13  Bulk 13  18 non-null     object\n",
      " 14  Bulk 14  2806 non-null   object\n",
      " 15  Bulk 15  2248 non-null   object\n",
      "dtypes: int64(1), object(15)\n",
      "memory usage: 391.2+ KB\n"
     ]
    }
   ],
   "source": [
    "# получение общей информации о данных\n",
    "data_bulk_time.info()"
   ]
  },
  {
   "cell_type": "markdown",
   "id": "68c1d3e4",
   "metadata": {},
   "source": [
    "В таблице 3129 записей, 16 признаков:\n",
    "- `key` - номер партии;\n",
    "- `Bulk 1` ... `Bulk 15` - время подачи сыпучих материалов 1...15.\n",
    "\n",
    "В данных о времени подачи сыпучих материалов также присутствуют пропуски, т.к. в разные партии на разных итерациях подаются различные материалы. Пропуски можно заполнить нулями, однако, данная таблица в дальнейшем не будет использована, поэтому заполнение не требуется. По этой же причине названия признаков к змеиному регистру приводить не будем.\n",
    "\n",
    "Приведём лишь данные о времени к типу даты и времени, чтобы убедиться, что временные диапазоны соответствуют остальным таблицам."
   ]
  },
  {
   "cell_type": "code",
   "execution_count": 18,
   "id": "1052ecb5",
   "metadata": {},
   "outputs": [
    {
     "data": {
      "text/plain": [
       "key                 int64\n",
       "Bulk 1     datetime64[ns]\n",
       "Bulk 2     datetime64[ns]\n",
       "Bulk 3     datetime64[ns]\n",
       "Bulk 4     datetime64[ns]\n",
       "Bulk 5     datetime64[ns]\n",
       "Bulk 6     datetime64[ns]\n",
       "Bulk 7     datetime64[ns]\n",
       "Bulk 8     datetime64[ns]\n",
       "Bulk 9     datetime64[ns]\n",
       "Bulk 10    datetime64[ns]\n",
       "Bulk 11    datetime64[ns]\n",
       "Bulk 12    datetime64[ns]\n",
       "Bulk 13    datetime64[ns]\n",
       "Bulk 14    datetime64[ns]\n",
       "Bulk 15    datetime64[ns]\n",
       "dtype: object"
      ]
     },
     "execution_count": 18,
     "metadata": {},
     "output_type": "execute_result"
    }
   ],
   "source": [
    "data_bulk_time[['Bulk 1', 'Bulk 2',\n",
    "                'Bulk 3', 'Bulk 4',\n",
    "                'Bulk 5', 'Bulk 6',\n",
    "                'Bulk 7', 'Bulk 8',\n",
    "                'Bulk 9', 'Bulk 10',\n",
    "                'Bulk 11', 'Bulk 12',\n",
    "                'Bulk 13', 'Bulk 14',\n",
    "                'Bulk 15']] = data_bulk_time[['Bulk 1', 'Bulk 2',\n",
    "                                              'Bulk 3', 'Bulk 4',\n",
    "                                              'Bulk 5', 'Bulk 6',\n",
    "                                              'Bulk 7', 'Bulk 8',\n",
    "                                              'Bulk 9', 'Bulk 10',\n",
    "                                              'Bulk 11', 'Bulk 12',\n",
    "                                              'Bulk 13', 'Bulk 14',\n",
    "                                              'Bulk 15']].apply(pd.to_datetime)\n",
    "data_bulk_time.dtypes"
   ]
  },
  {
   "cell_type": "markdown",
   "id": "f91345bd",
   "metadata": {},
   "source": [
    "Тип данных изменён. Посмотрим на минимальное и максимальное время подачи сыпучих материалов."
   ]
  },
  {
   "cell_type": "code",
   "execution_count": 19,
   "id": "5a74b38d",
   "metadata": {},
   "outputs": [
    {
     "data": {
      "text/plain": [
       "Timestamp('2019-05-03 11:03:52')"
      ]
     },
     "execution_count": 19,
     "metadata": {},
     "output_type": "execute_result"
    }
   ],
   "source": [
    "# просмотр минимального значения времени\n",
    "data_bulk_time[['Bulk 1', 'Bulk 2', 'Bulk 3',\n",
    "                'Bulk 4', 'Bulk 5', 'Bulk 6',\n",
    "                'Bulk 7', 'Bulk 8', 'Bulk 9',\n",
    "                'Bulk 10', 'Bulk 11', 'Bulk 12',\n",
    "                'Bulk 13', 'Bulk 14', 'Bulk 15']].min().min()"
   ]
  },
  {
   "cell_type": "code",
   "execution_count": 20,
   "id": "84290aec",
   "metadata": {},
   "outputs": [
    {
     "data": {
      "text/plain": [
       "Timestamp('2019-09-01 04:05:34')"
      ]
     },
     "execution_count": 20,
     "metadata": {},
     "output_type": "execute_result"
    }
   ],
   "source": [
    "# просмотр максимального значения времени\n",
    "data_bulk_time[['Bulk 1', 'Bulk 2', 'Bulk 3',\n",
    "                'Bulk 4', 'Bulk 5', 'Bulk 6',\n",
    "                'Bulk 7', 'Bulk 8', 'Bulk 9',\n",
    "                'Bulk 10', 'Bulk 11', 'Bulk 12',\n",
    "                'Bulk 13', 'Bulk 14', 'Bulk 15']].max().max()"
   ]
  },
  {
   "cell_type": "markdown",
   "id": "735dd66f",
   "metadata": {},
   "source": [
    "Данные о времени подачи сыпучих материалов представлены за период с 11:03:52 3 мая по 04:05:34 1 сентября 2019 года, что согласуется со временем нагрева."
   ]
  },
  {
   "cell_type": "markdown",
   "id": "03c87945",
   "metadata": {},
   "source": [
    "### 1.4 Данные о продувке сплава газом"
   ]
  },
  {
   "cell_type": "code",
   "execution_count": 21,
   "id": "003ea588",
   "metadata": {
    "scrolled": true
   },
   "outputs": [
    {
     "data": {
      "text/html": [
       "<div>\n",
       "<style scoped>\n",
       "    .dataframe tbody tr th:only-of-type {\n",
       "        vertical-align: middle;\n",
       "    }\n",
       "\n",
       "    .dataframe tbody tr th {\n",
       "        vertical-align: top;\n",
       "    }\n",
       "\n",
       "    .dataframe thead th {\n",
       "        text-align: right;\n",
       "    }\n",
       "</style>\n",
       "<table border=\"1\" class=\"dataframe\">\n",
       "  <thead>\n",
       "    <tr style=\"text-align: right;\">\n",
       "      <th></th>\n",
       "      <th>key</th>\n",
       "      <th>Газ 1</th>\n",
       "    </tr>\n",
       "  </thead>\n",
       "  <tbody>\n",
       "    <tr>\n",
       "      <th>0</th>\n",
       "      <td>1</td>\n",
       "      <td>29.749986</td>\n",
       "    </tr>\n",
       "    <tr>\n",
       "      <th>1</th>\n",
       "      <td>2</td>\n",
       "      <td>12.555561</td>\n",
       "    </tr>\n",
       "    <tr>\n",
       "      <th>2</th>\n",
       "      <td>3</td>\n",
       "      <td>28.554793</td>\n",
       "    </tr>\n",
       "    <tr>\n",
       "      <th>3</th>\n",
       "      <td>4</td>\n",
       "      <td>18.841219</td>\n",
       "    </tr>\n",
       "    <tr>\n",
       "      <th>4</th>\n",
       "      <td>5</td>\n",
       "      <td>5.413692</td>\n",
       "    </tr>\n",
       "  </tbody>\n",
       "</table>\n",
       "</div>"
      ],
      "text/plain": [
       "   key      Газ 1\n",
       "0    1  29.749986\n",
       "1    2  12.555561\n",
       "2    3  28.554793\n",
       "3    4  18.841219\n",
       "4    5   5.413692"
      ]
     },
     "execution_count": 21,
     "metadata": {},
     "output_type": "execute_result"
    }
   ],
   "source": [
    "# чтение файла с данными о продувке сплава газом\n",
    "data_gas = pd.read_csv('/final_steel/data_gas.csv')\n",
    "    \n",
    "# просмотр первых пяти строк полученной таблицы\n",
    "data_gas.head()"
   ]
  },
  {
   "cell_type": "code",
   "execution_count": 22,
   "id": "a7fc7061",
   "metadata": {},
   "outputs": [
    {
     "name": "stdout",
     "output_type": "stream",
     "text": [
      "<class 'pandas.core.frame.DataFrame'>\n",
      "RangeIndex: 3239 entries, 0 to 3238\n",
      "Data columns (total 2 columns):\n",
      " #   Column  Non-Null Count  Dtype  \n",
      "---  ------  --------------  -----  \n",
      " 0   key     3239 non-null   int64  \n",
      " 1   Газ 1   3239 non-null   float64\n",
      "dtypes: float64(1), int64(1)\n",
      "memory usage: 50.7 KB\n"
     ]
    }
   ],
   "source": [
    "# получение общей информации о данных\n",
    "data_gas.info()"
   ]
  },
  {
   "cell_type": "markdown",
   "id": "5b02e10b",
   "metadata": {},
   "source": [
    "В таблице 3239 записей, 2 признака:\n",
    "- `key` - номер партии;\n",
    "- `Газ 1` - объём газа.\n",
    "\n",
    "Пропусков в признаках нет, типы данных соответствуют по смыслу признакам.\n",
    "\n",
    "Название признака следует дать латиницей в змеином регистре."
   ]
  },
  {
   "cell_type": "code",
   "execution_count": 23,
   "id": "6b118f46",
   "metadata": {},
   "outputs": [
    {
     "data": {
      "text/plain": [
       "Index(['key', 'gas_1'], dtype='object')"
      ]
     },
     "execution_count": 23,
     "metadata": {},
     "output_type": "execute_result"
    }
   ],
   "source": [
    "# переименование признаков\n",
    "data_gas = data_gas.rename(columns={'Газ 1':'gas_1'})\n",
    "# просмотр названий признаков\n",
    "data_gas.columns"
   ]
  },
  {
   "cell_type": "code",
   "execution_count": 24,
   "id": "6bcad636",
   "metadata": {},
   "outputs": [
    {
     "data": {
      "text/html": [
       "<div>\n",
       "<style scoped>\n",
       "    .dataframe tbody tr th:only-of-type {\n",
       "        vertical-align: middle;\n",
       "    }\n",
       "\n",
       "    .dataframe tbody tr th {\n",
       "        vertical-align: top;\n",
       "    }\n",
       "\n",
       "    .dataframe thead th {\n",
       "        text-align: right;\n",
       "    }\n",
       "</style>\n",
       "<table border=\"1\" class=\"dataframe\">\n",
       "  <thead>\n",
       "    <tr style=\"text-align: right;\">\n",
       "      <th></th>\n",
       "      <th>key</th>\n",
       "      <th>gas_1</th>\n",
       "    </tr>\n",
       "  </thead>\n",
       "  <tbody>\n",
       "    <tr>\n",
       "      <th>count</th>\n",
       "      <td>3239.000000</td>\n",
       "      <td>3239.000000</td>\n",
       "    </tr>\n",
       "    <tr>\n",
       "      <th>mean</th>\n",
       "      <td>1621.861377</td>\n",
       "      <td>11.002062</td>\n",
       "    </tr>\n",
       "    <tr>\n",
       "      <th>std</th>\n",
       "      <td>935.386334</td>\n",
       "      <td>6.220327</td>\n",
       "    </tr>\n",
       "    <tr>\n",
       "      <th>min</th>\n",
       "      <td>1.000000</td>\n",
       "      <td>0.008399</td>\n",
       "    </tr>\n",
       "    <tr>\n",
       "      <th>25%</th>\n",
       "      <td>812.500000</td>\n",
       "      <td>7.043089</td>\n",
       "    </tr>\n",
       "    <tr>\n",
       "      <th>50%</th>\n",
       "      <td>1622.000000</td>\n",
       "      <td>9.836267</td>\n",
       "    </tr>\n",
       "    <tr>\n",
       "      <th>75%</th>\n",
       "      <td>2431.500000</td>\n",
       "      <td>13.769915</td>\n",
       "    </tr>\n",
       "    <tr>\n",
       "      <th>max</th>\n",
       "      <td>3241.000000</td>\n",
       "      <td>77.995040</td>\n",
       "    </tr>\n",
       "  </tbody>\n",
       "</table>\n",
       "</div>"
      ],
      "text/plain": [
       "               key        gas_1\n",
       "count  3239.000000  3239.000000\n",
       "mean   1621.861377    11.002062\n",
       "std     935.386334     6.220327\n",
       "min       1.000000     0.008399\n",
       "25%     812.500000     7.043089\n",
       "50%    1622.000000     9.836267\n",
       "75%    2431.500000    13.769915\n",
       "max    3241.000000    77.995040"
      ]
     },
     "execution_count": 24,
     "metadata": {},
     "output_type": "execute_result"
    }
   ],
   "source": [
    "# получение характерных значений количественных признаков\n",
    "data_gas.describe()"
   ]
  },
  {
   "cell_type": "markdown",
   "id": "0a7a63a6",
   "metadata": {},
   "source": [
    "В таблице присутствуют данные о 3239 ключах, т.е. имеются данные по ключам, отсутствующим в данных об электродах (там ключей 3213). Проверим, что все ключи уникальные."
   ]
  },
  {
   "cell_type": "code",
   "execution_count": 25,
   "id": "e1911d9e",
   "metadata": {},
   "outputs": [
    {
     "data": {
      "text/plain": [
       "3239"
      ]
     },
     "execution_count": 25,
     "metadata": {},
     "output_type": "execute_result"
    }
   ],
   "source": [
    "data_gas['key'].nunique()"
   ]
  },
  {
   "cell_type": "markdown",
   "id": "0140452e",
   "metadata": {},
   "source": [
    "Количество уникальных ключей совпадает с количеством записей, ключи не повторяются. "
   ]
  },
  {
   "cell_type": "markdown",
   "id": "f06ebb98",
   "metadata": {},
   "source": [
    "Минимальное значение объёма газа - 0.008 у.е., среднее - 11 у.е., максимальное - 78 у.е. Явных ошибок нет."
   ]
  },
  {
   "cell_type": "markdown",
   "id": "d4c46719",
   "metadata": {},
   "source": [
    "### 1.5 Результаты измерения температуры"
   ]
  },
  {
   "cell_type": "code",
   "execution_count": 26,
   "id": "c2c8815d",
   "metadata": {},
   "outputs": [
    {
     "data": {
      "text/html": [
       "<div>\n",
       "<style scoped>\n",
       "    .dataframe tbody tr th:only-of-type {\n",
       "        vertical-align: middle;\n",
       "    }\n",
       "\n",
       "    .dataframe tbody tr th {\n",
       "        vertical-align: top;\n",
       "    }\n",
       "\n",
       "    .dataframe thead th {\n",
       "        text-align: right;\n",
       "    }\n",
       "</style>\n",
       "<table border=\"1\" class=\"dataframe\">\n",
       "  <thead>\n",
       "    <tr style=\"text-align: right;\">\n",
       "      <th></th>\n",
       "      <th>key</th>\n",
       "      <th>Время замера</th>\n",
       "      <th>Температура</th>\n",
       "    </tr>\n",
       "  </thead>\n",
       "  <tbody>\n",
       "    <tr>\n",
       "      <th>0</th>\n",
       "      <td>1</td>\n",
       "      <td>2019-05-03 11:16:18</td>\n",
       "      <td>1571.0</td>\n",
       "    </tr>\n",
       "    <tr>\n",
       "      <th>1</th>\n",
       "      <td>1</td>\n",
       "      <td>2019-05-03 11:25:53</td>\n",
       "      <td>1604.0</td>\n",
       "    </tr>\n",
       "    <tr>\n",
       "      <th>2</th>\n",
       "      <td>1</td>\n",
       "      <td>2019-05-03 11:29:11</td>\n",
       "      <td>1618.0</td>\n",
       "    </tr>\n",
       "    <tr>\n",
       "      <th>3</th>\n",
       "      <td>1</td>\n",
       "      <td>2019-05-03 11:30:01</td>\n",
       "      <td>1601.0</td>\n",
       "    </tr>\n",
       "    <tr>\n",
       "      <th>4</th>\n",
       "      <td>1</td>\n",
       "      <td>2019-05-03 11:30:39</td>\n",
       "      <td>1613.0</td>\n",
       "    </tr>\n",
       "  </tbody>\n",
       "</table>\n",
       "</div>"
      ],
      "text/plain": [
       "   key         Время замера  Температура\n",
       "0    1  2019-05-03 11:16:18       1571.0\n",
       "1    1  2019-05-03 11:25:53       1604.0\n",
       "2    1  2019-05-03 11:29:11       1618.0\n",
       "3    1  2019-05-03 11:30:01       1601.0\n",
       "4    1  2019-05-03 11:30:39       1613.0"
      ]
     },
     "execution_count": 26,
     "metadata": {},
     "output_type": "execute_result"
    }
   ],
   "source": [
    "# чтение файла с результатами измерения температуры\n",
    "data_temp = pd.read_csv('/final_steel/data_temp.csv')\n",
    "    \n",
    "# просмотр первых пяти строк полученной таблицы\n",
    "data_temp.head()"
   ]
  },
  {
   "cell_type": "code",
   "execution_count": 27,
   "id": "ea768486",
   "metadata": {},
   "outputs": [
    {
     "name": "stdout",
     "output_type": "stream",
     "text": [
      "<class 'pandas.core.frame.DataFrame'>\n",
      "RangeIndex: 15907 entries, 0 to 15906\n",
      "Data columns (total 3 columns):\n",
      " #   Column        Non-Null Count  Dtype  \n",
      "---  ------        --------------  -----  \n",
      " 0   key           15907 non-null  int64  \n",
      " 1   Время замера  15907 non-null  object \n",
      " 2   Температура   13006 non-null  float64\n",
      "dtypes: float64(1), int64(1), object(1)\n",
      "memory usage: 372.9+ KB\n"
     ]
    }
   ],
   "source": [
    "# получение общей информации о данных\n",
    "data_temp.info()"
   ]
  },
  {
   "cell_type": "markdown",
   "id": "c4aab215",
   "metadata": {},
   "source": [
    "В таблице 15907 записей, 3 признака:\n",
    "- `key` - номер партии;\n",
    "- `время замера`;\n",
    "- `температура`.\n",
    "\n",
    "Присутствуют пропуски в температуре, проанализируем их позже. Типы данных соответствуют по смыслу признакам, кроме времени замера, который следует привести к типу даты и времени.\n",
    "\n",
    "Названия признаков следует дать латиницей в змеином регистре."
   ]
  },
  {
   "cell_type": "code",
   "execution_count": 28,
   "id": "05e9a25e",
   "metadata": {},
   "outputs": [
    {
     "data": {
      "text/plain": [
       "Index(['key', 'time_temp', 'temp'], dtype='object')"
      ]
     },
     "execution_count": 28,
     "metadata": {},
     "output_type": "execute_result"
    }
   ],
   "source": [
    "# переименование признаков\n",
    "data_temp = data_temp.rename(columns={'Время замера':'time_temp',\n",
    "                                      'Температура':'temp'})\n",
    "# просмотр названий признаков\n",
    "data_temp.columns"
   ]
  },
  {
   "cell_type": "markdown",
   "id": "aa5167ac",
   "metadata": {},
   "source": [
    "Признаки переименованы."
   ]
  },
  {
   "cell_type": "markdown",
   "id": "6dc694ad",
   "metadata": {},
   "source": [
    "Приведём время замера к типу даты и времени."
   ]
  },
  {
   "cell_type": "code",
   "execution_count": 29,
   "id": "239c6899",
   "metadata": {},
   "outputs": [
    {
     "data": {
      "text/plain": [
       "key                   int64\n",
       "time_temp    datetime64[ns]\n",
       "temp                float64\n",
       "dtype: object"
      ]
     },
     "execution_count": 29,
     "metadata": {},
     "output_type": "execute_result"
    }
   ],
   "source": [
    "data_temp['time_temp'] = pd.to_datetime(data_temp['time_temp'], format='%Y-%m-%dT%H:%M:%S')\n",
    "data_temp.dtypes"
   ]
  },
  {
   "cell_type": "markdown",
   "id": "6d0c022f",
   "metadata": {},
   "source": [
    "Тип данных заменён. Посмотрим, в каком временном диапазоне производились замеры температуры:"
   ]
  },
  {
   "cell_type": "code",
   "execution_count": 30,
   "id": "ea6585d1",
   "metadata": {},
   "outputs": [
    {
     "name": "stdout",
     "output_type": "stream",
     "text": [
      "Минимальное время замера: 2019-05-03 11:16:18\n",
      "Максимальное время замера: 2019-09-01 04:38:08\n"
     ]
    }
   ],
   "source": [
    "print('Минимальное время замера:', data_temp['time_temp'].min())\n",
    "print('Максимальное время замера:', data_temp['time_temp'].max())"
   ]
  },
  {
   "cell_type": "markdown",
   "id": "fad49a7c",
   "metadata": {},
   "source": [
    "Данные о времени замера температуры представлены за период с 11:16:18 3 мая по 04:38:08 1 сентября 2019 года, что согласуется со временем нагрева."
   ]
  },
  {
   "cell_type": "code",
   "execution_count": 31,
   "id": "cca73fb9",
   "metadata": {
    "scrolled": true
   },
   "outputs": [
    {
     "data": {
      "text/html": [
       "<div>\n",
       "<style scoped>\n",
       "    .dataframe tbody tr th:only-of-type {\n",
       "        vertical-align: middle;\n",
       "    }\n",
       "\n",
       "    .dataframe tbody tr th {\n",
       "        vertical-align: top;\n",
       "    }\n",
       "\n",
       "    .dataframe thead th {\n",
       "        text-align: right;\n",
       "    }\n",
       "</style>\n",
       "<table border=\"1\" class=\"dataframe\">\n",
       "  <thead>\n",
       "    <tr style=\"text-align: right;\">\n",
       "      <th></th>\n",
       "      <th>key</th>\n",
       "      <th>temp</th>\n",
       "    </tr>\n",
       "  </thead>\n",
       "  <tbody>\n",
       "    <tr>\n",
       "      <th>count</th>\n",
       "      <td>15907.000000</td>\n",
       "      <td>13006.000000</td>\n",
       "    </tr>\n",
       "    <tr>\n",
       "      <th>mean</th>\n",
       "      <td>1607.880870</td>\n",
       "      <td>1591.840920</td>\n",
       "    </tr>\n",
       "    <tr>\n",
       "      <th>std</th>\n",
       "      <td>942.212073</td>\n",
       "      <td>21.375851</td>\n",
       "    </tr>\n",
       "    <tr>\n",
       "      <th>min</th>\n",
       "      <td>1.000000</td>\n",
       "      <td>1191.000000</td>\n",
       "    </tr>\n",
       "    <tr>\n",
       "      <th>25%</th>\n",
       "      <td>790.000000</td>\n",
       "      <td>1581.000000</td>\n",
       "    </tr>\n",
       "    <tr>\n",
       "      <th>50%</th>\n",
       "      <td>1618.000000</td>\n",
       "      <td>1591.000000</td>\n",
       "    </tr>\n",
       "    <tr>\n",
       "      <th>75%</th>\n",
       "      <td>2427.000000</td>\n",
       "      <td>1601.000000</td>\n",
       "    </tr>\n",
       "    <tr>\n",
       "      <th>max</th>\n",
       "      <td>3241.000000</td>\n",
       "      <td>1705.000000</td>\n",
       "    </tr>\n",
       "  </tbody>\n",
       "</table>\n",
       "</div>"
      ],
      "text/plain": [
       "                key          temp\n",
       "count  15907.000000  13006.000000\n",
       "mean    1607.880870   1591.840920\n",
       "std      942.212073     21.375851\n",
       "min        1.000000   1191.000000\n",
       "25%      790.000000   1581.000000\n",
       "50%     1618.000000   1591.000000\n",
       "75%     2427.000000   1601.000000\n",
       "max     3241.000000   1705.000000"
      ]
     },
     "execution_count": 31,
     "metadata": {},
     "output_type": "execute_result"
    }
   ],
   "source": [
    "# получение характерных значений количественных признаков\n",
    "data_temp.describe()"
   ]
  },
  {
   "cell_type": "markdown",
   "id": "8750cacf",
   "metadata": {},
   "source": [
    "В таблице присутствуют данные о ключах 1...3241.\n",
    "\n",
    "Минимальное значение температуры - 1191 градус, среднее - 1591 градус, максимальное - 1705 градус. Стандартное отклонение всего 21 градус, значит, минимальные и максимальные температуры довольно не типичны. Изучим распределение этого признака."
   ]
  },
  {
   "cell_type": "code",
   "execution_count": 32,
   "id": "cddb5093",
   "metadata": {},
   "outputs": [
    {
     "data": {
      "image/png": "[encoded data removed]",
      "text/plain": [
       "<Figure size 720x720 with 1 Axes>"
      ]
     },
     "metadata": {
      "needs_background": "light"
     },
     "output_type": "display_data"
    }
   ],
   "source": [
    "data_temp['temp'].hist(bins=100, figsize=(10,10))\n",
    "plt.xlabel('Температура, градусы')\n",
    "plt.ylabel('Количество замеров')\n",
    "plt.title('Распределение температуры стали')\n",
    "plt.show()"
   ]
  },
  {
   "cell_type": "markdown",
   "id": "10df2668",
   "metadata": {},
   "source": [
    "По гистограмме видно, что распределение температуры близко к нормальному и что практически все значения температуры лежат в диапазоне от 1500 до 1700 градусов. Посмотрим по диаграмме размаха на редкие значения."
   ]
  },
  {
   "cell_type": "code",
   "execution_count": 33,
   "id": "c1b0640c",
   "metadata": {},
   "outputs": [
    {
     "data": {
      "image/png": "[encoded data removed]",
      "text/plain": [
       "<Figure size 1080x360 with 1 Axes>"
      ]
     },
     "metadata": {
      "needs_background": "light"
     },
     "output_type": "display_data"
    }
   ],
   "source": [
    "data_temp.boxplot(column='temp', figsize=(15, 5), vert=0)\n",
    "plt.xlabel('Температура, градусы')\n",
    "plt.title('Диаграмма размаха температуры стали')\n",
    "plt.show()"
   ]
  },
  {
   "cell_type": "markdown",
   "id": "27f66bd1",
   "metadata": {},
   "source": [
    "На диаграмме размаха хорошо видно, что значения ниже 1500 градусов единичны, сильно разбросаны и далеко выходят за пределы усов. Значений выше 1700 градусов несколько больше, и они находятся близко друг к другу. Следует уточнить у заказчика, уместно ли удалить ключи с температурами ниже 1500 градусов."
   ]
  },
  {
   "cell_type": "markdown",
   "id": "9305fad0",
   "metadata": {},
   "source": [
    "Посмотрим на ключи записей, содержащих пропуски в температуре:"
   ]
  },
  {
   "cell_type": "code",
   "execution_count": 34,
   "id": "49eb28cd",
   "metadata": {},
   "outputs": [
    {
     "data": {
      "text/plain": [
       "key\n",
       "2500    3\n",
       "2501    4\n",
       "2502    6\n",
       "2503    3\n",
       "2504    2\n",
       "       ..\n",
       "3237    4\n",
       "3238    2\n",
       "3239    7\n",
       "3240    7\n",
       "3241    4\n",
       "Name: key, Length: 739, dtype: int64"
      ]
     },
     "execution_count": 34,
     "metadata": {},
     "output_type": "execute_result"
    }
   ],
   "source": [
    "data_temp[data_temp['temp'].isna()].groupby('key')['key'].count()"
   ]
  },
  {
   "cell_type": "markdown",
   "id": "dd612e66",
   "metadata": {},
   "source": [
    "Пропуски в температуре содержатся в ключах, начиная с 2500 и до конца. Восстановить значения не получится, т.к. у нас нет данных о партиях. Значит, эти ключи придётся исключить из дальнейшей работы."
   ]
  },
  {
   "cell_type": "markdown",
   "id": "8c276001",
   "metadata": {},
   "source": [
    "### 1.6 Данные об объёме проволочных материалов"
   ]
  },
  {
   "cell_type": "code",
   "execution_count": 35,
   "id": "4bd54179",
   "metadata": {
    "scrolled": true
   },
   "outputs": [
    {
     "data": {
      "text/html": [
       "<div>\n",
       "<style scoped>\n",
       "    .dataframe tbody tr th:only-of-type {\n",
       "        vertical-align: middle;\n",
       "    }\n",
       "\n",
       "    .dataframe tbody tr th {\n",
       "        vertical-align: top;\n",
       "    }\n",
       "\n",
       "    .dataframe thead th {\n",
       "        text-align: right;\n",
       "    }\n",
       "</style>\n",
       "<table border=\"1\" class=\"dataframe\">\n",
       "  <thead>\n",
       "    <tr style=\"text-align: right;\">\n",
       "      <th></th>\n",
       "      <th>key</th>\n",
       "      <th>Wire 1</th>\n",
       "      <th>Wire 2</th>\n",
       "      <th>Wire 3</th>\n",
       "      <th>Wire 4</th>\n",
       "      <th>Wire 5</th>\n",
       "      <th>Wire 6</th>\n",
       "      <th>Wire 7</th>\n",
       "      <th>Wire 8</th>\n",
       "      <th>Wire 9</th>\n",
       "    </tr>\n",
       "  </thead>\n",
       "  <tbody>\n",
       "    <tr>\n",
       "      <th>0</th>\n",
       "      <td>1</td>\n",
       "      <td>60.059998</td>\n",
       "      <td>NaN</td>\n",
       "      <td>NaN</td>\n",
       "      <td>NaN</td>\n",
       "      <td>NaN</td>\n",
       "      <td>NaN</td>\n",
       "      <td>NaN</td>\n",
       "      <td>NaN</td>\n",
       "      <td>NaN</td>\n",
       "    </tr>\n",
       "    <tr>\n",
       "      <th>1</th>\n",
       "      <td>2</td>\n",
       "      <td>96.052315</td>\n",
       "      <td>NaN</td>\n",
       "      <td>NaN</td>\n",
       "      <td>NaN</td>\n",
       "      <td>NaN</td>\n",
       "      <td>NaN</td>\n",
       "      <td>NaN</td>\n",
       "      <td>NaN</td>\n",
       "      <td>NaN</td>\n",
       "    </tr>\n",
       "    <tr>\n",
       "      <th>2</th>\n",
       "      <td>3</td>\n",
       "      <td>91.160157</td>\n",
       "      <td>NaN</td>\n",
       "      <td>NaN</td>\n",
       "      <td>NaN</td>\n",
       "      <td>NaN</td>\n",
       "      <td>NaN</td>\n",
       "      <td>NaN</td>\n",
       "      <td>NaN</td>\n",
       "      <td>NaN</td>\n",
       "    </tr>\n",
       "    <tr>\n",
       "      <th>3</th>\n",
       "      <td>4</td>\n",
       "      <td>89.063515</td>\n",
       "      <td>NaN</td>\n",
       "      <td>NaN</td>\n",
       "      <td>NaN</td>\n",
       "      <td>NaN</td>\n",
       "      <td>NaN</td>\n",
       "      <td>NaN</td>\n",
       "      <td>NaN</td>\n",
       "      <td>NaN</td>\n",
       "    </tr>\n",
       "    <tr>\n",
       "      <th>4</th>\n",
       "      <td>5</td>\n",
       "      <td>89.238236</td>\n",
       "      <td>9.11456</td>\n",
       "      <td>NaN</td>\n",
       "      <td>NaN</td>\n",
       "      <td>NaN</td>\n",
       "      <td>NaN</td>\n",
       "      <td>NaN</td>\n",
       "      <td>NaN</td>\n",
       "      <td>NaN</td>\n",
       "    </tr>\n",
       "  </tbody>\n",
       "</table>\n",
       "</div>"
      ],
      "text/plain": [
       "   key     Wire 1   Wire 2  Wire 3  Wire 4  Wire 5  Wire 6  Wire 7  Wire 8  \\\n",
       "0    1  60.059998      NaN     NaN     NaN     NaN     NaN     NaN     NaN   \n",
       "1    2  96.052315      NaN     NaN     NaN     NaN     NaN     NaN     NaN   \n",
       "2    3  91.160157      NaN     NaN     NaN     NaN     NaN     NaN     NaN   \n",
       "3    4  89.063515      NaN     NaN     NaN     NaN     NaN     NaN     NaN   \n",
       "4    5  89.238236  9.11456     NaN     NaN     NaN     NaN     NaN     NaN   \n",
       "\n",
       "   Wire 9  \n",
       "0     NaN  \n",
       "1     NaN  \n",
       "2     NaN  \n",
       "3     NaN  \n",
       "4     NaN  "
      ]
     },
     "execution_count": 35,
     "metadata": {},
     "output_type": "execute_result"
    }
   ],
   "source": [
    "# чтение файла с данными об объёме проволочных материалов\n",
    "data_wire = pd.read_csv('/final_steel/data_wire.csv')\n",
    "    \n",
    "# просмотр первых пяти строк полученной таблицы\n",
    "data_wire.head()"
   ]
  },
  {
   "cell_type": "code",
   "execution_count": 36,
   "id": "4d479981",
   "metadata": {},
   "outputs": [
    {
     "name": "stdout",
     "output_type": "stream",
     "text": [
      "<class 'pandas.core.frame.DataFrame'>\n",
      "RangeIndex: 3081 entries, 0 to 3080\n",
      "Data columns (total 10 columns):\n",
      " #   Column  Non-Null Count  Dtype  \n",
      "---  ------  --------------  -----  \n",
      " 0   key     3081 non-null   int64  \n",
      " 1   Wire 1  3055 non-null   float64\n",
      " 2   Wire 2  1079 non-null   float64\n",
      " 3   Wire 3  63 non-null     float64\n",
      " 4   Wire 4  14 non-null     float64\n",
      " 5   Wire 5  1 non-null      float64\n",
      " 6   Wire 6  73 non-null     float64\n",
      " 7   Wire 7  11 non-null     float64\n",
      " 8   Wire 8  19 non-null     float64\n",
      " 9   Wire 9  29 non-null     float64\n",
      "dtypes: float64(9), int64(1)\n",
      "memory usage: 240.8 KB\n"
     ]
    }
   ],
   "source": [
    "# получение общей информации о данных\n",
    "data_wire.info()"
   ]
  },
  {
   "cell_type": "markdown",
   "id": "728b9fd0",
   "metadata": {},
   "source": [
    "В таблице 3081 запись, 10 признаков:\n",
    "- `key` - номер партии;\n",
    "- `Wire 1` ... `Wire 9` - объёмы подачи проволочных материалов 1...9.\n",
    "\n",
    "В данных об объёмах подачи проволочных материалов присутствуют пропуски, т.к. в разные партии на разных итерациях подаются различные материалы. Пропуски позже заполним нулями.\n",
    "\n",
    "Типы данных соответствуют по смыслу признакам.\n",
    "\n",
    "Названия признаков следует дать в змеином регистре."
   ]
  },
  {
   "cell_type": "code",
   "execution_count": 37,
   "id": "70a8835c",
   "metadata": {},
   "outputs": [
    {
     "data": {
      "text/plain": [
       "Index(['key', 'wire_1', 'wire_2', 'wire_3', 'wire_4', 'wire_5', 'wire_6',\n",
       "       'wire_7', 'wire_8', 'wire_9'],\n",
       "      dtype='object')"
      ]
     },
     "execution_count": 37,
     "metadata": {},
     "output_type": "execute_result"
    }
   ],
   "source": [
    "# переименование признаков\n",
    "data_wire = data_wire.rename(columns={'Wire 1':'wire_1',\n",
    "                                      'Wire 2':'wire_2',\n",
    "                                      'Wire 3':'wire_3',\n",
    "                                      'Wire 4':'wire_4',\n",
    "                                      'Wire 5':'wire_5',\n",
    "                                      'Wire 6':'wire_6',\n",
    "                                      'Wire 7':'wire_7',\n",
    "                                      'Wire 8':'wire_8',\n",
    "                                      'Wire 9':'wire_9'}\n",
    "                            )\n",
    "# просмотр названий признаков\n",
    "data_wire.columns"
   ]
  },
  {
   "cell_type": "markdown",
   "id": "0920f4bc",
   "metadata": {},
   "source": [
    "Признаки переименованы."
   ]
  },
  {
   "cell_type": "code",
   "execution_count": 38,
   "id": "6c96e5d6",
   "metadata": {
    "scrolled": true
   },
   "outputs": [
    {
     "data": {
      "text/html": [
       "<div>\n",
       "<style scoped>\n",
       "    .dataframe tbody tr th:only-of-type {\n",
       "        vertical-align: middle;\n",
       "    }\n",
       "\n",
       "    .dataframe tbody tr th {\n",
       "        vertical-align: top;\n",
       "    }\n",
       "\n",
       "    .dataframe thead th {\n",
       "        text-align: right;\n",
       "    }\n",
       "</style>\n",
       "<table border=\"1\" class=\"dataframe\">\n",
       "  <thead>\n",
       "    <tr style=\"text-align: right;\">\n",
       "      <th></th>\n",
       "      <th>key</th>\n",
       "      <th>wire_1</th>\n",
       "      <th>wire_2</th>\n",
       "      <th>wire_3</th>\n",
       "      <th>wire_4</th>\n",
       "      <th>wire_5</th>\n",
       "      <th>wire_6</th>\n",
       "      <th>wire_7</th>\n",
       "      <th>wire_8</th>\n",
       "      <th>wire_9</th>\n",
       "    </tr>\n",
       "  </thead>\n",
       "  <tbody>\n",
       "    <tr>\n",
       "      <th>count</th>\n",
       "      <td>3081.000000</td>\n",
       "      <td>3055.000000</td>\n",
       "      <td>1079.000000</td>\n",
       "      <td>63.000000</td>\n",
       "      <td>14.000000</td>\n",
       "      <td>1.000</td>\n",
       "      <td>73.000000</td>\n",
       "      <td>11.000000</td>\n",
       "      <td>19.000000</td>\n",
       "      <td>29.000000</td>\n",
       "    </tr>\n",
       "    <tr>\n",
       "      <th>mean</th>\n",
       "      <td>1623.426485</td>\n",
       "      <td>100.895853</td>\n",
       "      <td>50.577323</td>\n",
       "      <td>189.482681</td>\n",
       "      <td>57.442842</td>\n",
       "      <td>15.132</td>\n",
       "      <td>48.016974</td>\n",
       "      <td>10.039007</td>\n",
       "      <td>53.625193</td>\n",
       "      <td>34.155752</td>\n",
       "    </tr>\n",
       "    <tr>\n",
       "      <th>std</th>\n",
       "      <td>932.996726</td>\n",
       "      <td>42.012518</td>\n",
       "      <td>39.320216</td>\n",
       "      <td>99.513444</td>\n",
       "      <td>28.824667</td>\n",
       "      <td>NaN</td>\n",
       "      <td>33.919845</td>\n",
       "      <td>8.610584</td>\n",
       "      <td>16.881728</td>\n",
       "      <td>19.931616</td>\n",
       "    </tr>\n",
       "    <tr>\n",
       "      <th>min</th>\n",
       "      <td>1.000000</td>\n",
       "      <td>1.918800</td>\n",
       "      <td>0.030160</td>\n",
       "      <td>0.144144</td>\n",
       "      <td>24.148801</td>\n",
       "      <td>15.132</td>\n",
       "      <td>0.034320</td>\n",
       "      <td>0.234208</td>\n",
       "      <td>45.076721</td>\n",
       "      <td>4.622800</td>\n",
       "    </tr>\n",
       "    <tr>\n",
       "      <th>25%</th>\n",
       "      <td>823.000000</td>\n",
       "      <td>72.115684</td>\n",
       "      <td>20.193680</td>\n",
       "      <td>95.135044</td>\n",
       "      <td>40.807002</td>\n",
       "      <td>15.132</td>\n",
       "      <td>25.053600</td>\n",
       "      <td>6.762756</td>\n",
       "      <td>46.094879</td>\n",
       "      <td>22.058401</td>\n",
       "    </tr>\n",
       "    <tr>\n",
       "      <th>50%</th>\n",
       "      <td>1619.000000</td>\n",
       "      <td>100.158234</td>\n",
       "      <td>40.142956</td>\n",
       "      <td>235.194977</td>\n",
       "      <td>45.234282</td>\n",
       "      <td>15.132</td>\n",
       "      <td>42.076324</td>\n",
       "      <td>9.017009</td>\n",
       "      <td>46.279999</td>\n",
       "      <td>30.066399</td>\n",
       "    </tr>\n",
       "    <tr>\n",
       "      <th>75%</th>\n",
       "      <td>2434.000000</td>\n",
       "      <td>126.060483</td>\n",
       "      <td>70.227558</td>\n",
       "      <td>276.252014</td>\n",
       "      <td>76.124619</td>\n",
       "      <td>15.132</td>\n",
       "      <td>64.212723</td>\n",
       "      <td>11.886057</td>\n",
       "      <td>48.089603</td>\n",
       "      <td>43.862003</td>\n",
       "    </tr>\n",
       "    <tr>\n",
       "      <th>max</th>\n",
       "      <td>3241.000000</td>\n",
       "      <td>330.314424</td>\n",
       "      <td>282.780152</td>\n",
       "      <td>385.008668</td>\n",
       "      <td>113.231044</td>\n",
       "      <td>15.132</td>\n",
       "      <td>180.454575</td>\n",
       "      <td>32.847674</td>\n",
       "      <td>102.762401</td>\n",
       "      <td>90.053604</td>\n",
       "    </tr>\n",
       "  </tbody>\n",
       "</table>\n",
       "</div>"
      ],
      "text/plain": [
       "               key       wire_1       wire_2      wire_3      wire_4  wire_5  \\\n",
       "count  3081.000000  3055.000000  1079.000000   63.000000   14.000000   1.000   \n",
       "mean   1623.426485   100.895853    50.577323  189.482681   57.442842  15.132   \n",
       "std     932.996726    42.012518    39.320216   99.513444   28.824667     NaN   \n",
       "min       1.000000     1.918800     0.030160    0.144144   24.148801  15.132   \n",
       "25%     823.000000    72.115684    20.193680   95.135044   40.807002  15.132   \n",
       "50%    1619.000000   100.158234    40.142956  235.194977   45.234282  15.132   \n",
       "75%    2434.000000   126.060483    70.227558  276.252014   76.124619  15.132   \n",
       "max    3241.000000   330.314424   282.780152  385.008668  113.231044  15.132   \n",
       "\n",
       "           wire_6     wire_7      wire_8     wire_9  \n",
       "count   73.000000  11.000000   19.000000  29.000000  \n",
       "mean    48.016974  10.039007   53.625193  34.155752  \n",
       "std     33.919845   8.610584   16.881728  19.931616  \n",
       "min      0.034320   0.234208   45.076721   4.622800  \n",
       "25%     25.053600   6.762756   46.094879  22.058401  \n",
       "50%     42.076324   9.017009   46.279999  30.066399  \n",
       "75%     64.212723  11.886057   48.089603  43.862003  \n",
       "max    180.454575  32.847674  102.762401  90.053604  "
      ]
     },
     "execution_count": 38,
     "metadata": {},
     "output_type": "execute_result"
    }
   ],
   "source": [
    "# получение характерных значений количественных признаков\n",
    "data_wire.describe()"
   ]
  },
  {
   "cell_type": "markdown",
   "id": "22ea7dd4",
   "metadata": {},
   "source": [
    "В таблице присутствуют данные о 3081 ключе, т.е. представлены не все ключи (всего их 3214).\n",
    "\n",
    "Явных ошибок в объёмах проволочных материалов не выявлено."
   ]
  },
  {
   "cell_type": "markdown",
   "id": "99930d66",
   "metadata": {},
   "source": [
    "### 1.7 Данные о времени подачи проволочных материалов"
   ]
  },
  {
   "cell_type": "code",
   "execution_count": 39,
   "id": "31fc8e69",
   "metadata": {},
   "outputs": [
    {
     "data": {
      "text/html": [
       "<div>\n",
       "<style scoped>\n",
       "    .dataframe tbody tr th:only-of-type {\n",
       "        vertical-align: middle;\n",
       "    }\n",
       "\n",
       "    .dataframe tbody tr th {\n",
       "        vertical-align: top;\n",
       "    }\n",
       "\n",
       "    .dataframe thead th {\n",
       "        text-align: right;\n",
       "    }\n",
       "</style>\n",
       "<table border=\"1\" class=\"dataframe\">\n",
       "  <thead>\n",
       "    <tr style=\"text-align: right;\">\n",
       "      <th></th>\n",
       "      <th>key</th>\n",
       "      <th>Wire 1</th>\n",
       "      <th>Wire 2</th>\n",
       "      <th>Wire 3</th>\n",
       "      <th>Wire 4</th>\n",
       "      <th>Wire 5</th>\n",
       "      <th>Wire 6</th>\n",
       "      <th>Wire 7</th>\n",
       "      <th>Wire 8</th>\n",
       "      <th>Wire 9</th>\n",
       "    </tr>\n",
       "  </thead>\n",
       "  <tbody>\n",
       "    <tr>\n",
       "      <th>0</th>\n",
       "      <td>1</td>\n",
       "      <td>2019-05-03 11:11:41</td>\n",
       "      <td>NaN</td>\n",
       "      <td>NaN</td>\n",
       "      <td>NaN</td>\n",
       "      <td>NaN</td>\n",
       "      <td>NaN</td>\n",
       "      <td>NaN</td>\n",
       "      <td>NaN</td>\n",
       "      <td>NaN</td>\n",
       "    </tr>\n",
       "    <tr>\n",
       "      <th>1</th>\n",
       "      <td>2</td>\n",
       "      <td>2019-05-03 11:46:10</td>\n",
       "      <td>NaN</td>\n",
       "      <td>NaN</td>\n",
       "      <td>NaN</td>\n",
       "      <td>NaN</td>\n",
       "      <td>NaN</td>\n",
       "      <td>NaN</td>\n",
       "      <td>NaN</td>\n",
       "      <td>NaN</td>\n",
       "    </tr>\n",
       "    <tr>\n",
       "      <th>2</th>\n",
       "      <td>3</td>\n",
       "      <td>2019-05-03 12:13:47</td>\n",
       "      <td>NaN</td>\n",
       "      <td>NaN</td>\n",
       "      <td>NaN</td>\n",
       "      <td>NaN</td>\n",
       "      <td>NaN</td>\n",
       "      <td>NaN</td>\n",
       "      <td>NaN</td>\n",
       "      <td>NaN</td>\n",
       "    </tr>\n",
       "    <tr>\n",
       "      <th>3</th>\n",
       "      <td>4</td>\n",
       "      <td>2019-05-03 12:48:05</td>\n",
       "      <td>NaN</td>\n",
       "      <td>NaN</td>\n",
       "      <td>NaN</td>\n",
       "      <td>NaN</td>\n",
       "      <td>NaN</td>\n",
       "      <td>NaN</td>\n",
       "      <td>NaN</td>\n",
       "      <td>NaN</td>\n",
       "    </tr>\n",
       "    <tr>\n",
       "      <th>4</th>\n",
       "      <td>5</td>\n",
       "      <td>2019-05-03 13:18:15</td>\n",
       "      <td>2019-05-03 13:32:06</td>\n",
       "      <td>NaN</td>\n",
       "      <td>NaN</td>\n",
       "      <td>NaN</td>\n",
       "      <td>NaN</td>\n",
       "      <td>NaN</td>\n",
       "      <td>NaN</td>\n",
       "      <td>NaN</td>\n",
       "    </tr>\n",
       "  </tbody>\n",
       "</table>\n",
       "</div>"
      ],
      "text/plain": [
       "   key               Wire 1               Wire 2 Wire 3 Wire 4 Wire 5 Wire 6  \\\n",
       "0    1  2019-05-03 11:11:41                  NaN    NaN    NaN    NaN    NaN   \n",
       "1    2  2019-05-03 11:46:10                  NaN    NaN    NaN    NaN    NaN   \n",
       "2    3  2019-05-03 12:13:47                  NaN    NaN    NaN    NaN    NaN   \n",
       "3    4  2019-05-03 12:48:05                  NaN    NaN    NaN    NaN    NaN   \n",
       "4    5  2019-05-03 13:18:15  2019-05-03 13:32:06    NaN    NaN    NaN    NaN   \n",
       "\n",
       "  Wire 7 Wire 8 Wire 9  \n",
       "0    NaN    NaN    NaN  \n",
       "1    NaN    NaN    NaN  \n",
       "2    NaN    NaN    NaN  \n",
       "3    NaN    NaN    NaN  \n",
       "4    NaN    NaN    NaN  "
      ]
     },
     "execution_count": 39,
     "metadata": {},
     "output_type": "execute_result"
    }
   ],
   "source": [
    "# чтение файла с данными о времени подачи проволочных материалов\n",
    "data_wire_time = pd.read_csv('/final_steel/data_wire_time.csv')\n",
    "    \n",
    "# просмотр первых пяти строк полученной таблицы\n",
    "data_wire_time.head()"
   ]
  },
  {
   "cell_type": "code",
   "execution_count": 40,
   "id": "19f857d8",
   "metadata": {},
   "outputs": [
    {
     "name": "stdout",
     "output_type": "stream",
     "text": [
      "<class 'pandas.core.frame.DataFrame'>\n",
      "RangeIndex: 3081 entries, 0 to 3080\n",
      "Data columns (total 10 columns):\n",
      " #   Column  Non-Null Count  Dtype \n",
      "---  ------  --------------  ----- \n",
      " 0   key     3081 non-null   int64 \n",
      " 1   Wire 1  3055 non-null   object\n",
      " 2   Wire 2  1079 non-null   object\n",
      " 3   Wire 3  63 non-null     object\n",
      " 4   Wire 4  14 non-null     object\n",
      " 5   Wire 5  1 non-null      object\n",
      " 6   Wire 6  73 non-null     object\n",
      " 7   Wire 7  11 non-null     object\n",
      " 8   Wire 8  19 non-null     object\n",
      " 9   Wire 9  29 non-null     object\n",
      "dtypes: int64(1), object(9)\n",
      "memory usage: 240.8+ KB\n"
     ]
    }
   ],
   "source": [
    "# получение общей информации о данных\n",
    "data_wire_time.info()"
   ]
  },
  {
   "cell_type": "markdown",
   "id": "b2e7e60b",
   "metadata": {},
   "source": [
    "В таблице 3081 запись, 10 признаков:\n",
    "- `key` - номер партии;\n",
    "- `Wire 1` ... `Wire 9` - время подачи проволочных материалов 1...9.\n",
    "\n",
    "В данных о времени подачи проволочных материалов также присутствуют пропуски, т.к. в разные партии на разных итерациях подаются различные материалы. Пропуски можно заполнить нулями, однако, данная таблица в дальнейшем не будет использована, поэтому заполнение не требуется. По этой же причине названия признаков к змеиному регистру приводить не будем.\n",
    "\n",
    "Приведём лишь данные о времени к типу даты и времени, чтобы убедиться, что временные диапазоны соответствуют остальным таблицам."
   ]
  },
  {
   "cell_type": "code",
   "execution_count": 41,
   "id": "f034008b",
   "metadata": {
    "scrolled": true
   },
   "outputs": [
    {
     "data": {
      "text/plain": [
       "key                int64\n",
       "Wire 1    datetime64[ns]\n",
       "Wire 2    datetime64[ns]\n",
       "Wire 3    datetime64[ns]\n",
       "Wire 4    datetime64[ns]\n",
       "Wire 5    datetime64[ns]\n",
       "Wire 6    datetime64[ns]\n",
       "Wire 7    datetime64[ns]\n",
       "Wire 8    datetime64[ns]\n",
       "Wire 9    datetime64[ns]\n",
       "dtype: object"
      ]
     },
     "execution_count": 41,
     "metadata": {},
     "output_type": "execute_result"
    }
   ],
   "source": [
    "data_wire_time[['Wire 1', 'Wire 2',\n",
    "                'Wire 3', 'Wire 4',\n",
    "                'Wire 5', 'Wire 6',\n",
    "                'Wire 7', 'Wire 8',\n",
    "                'Wire 9']] = data_wire_time[['Wire 1', 'Wire 2',\n",
    "                                             'Wire 3', 'Wire 4',\n",
    "                                             'Wire 5', 'Wire 6',\n",
    "                                             'Wire 7', 'Wire 8',\n",
    "                                             'Wire 9']].apply(pd.to_datetime)\n",
    "data_wire_time.dtypes"
   ]
  },
  {
   "cell_type": "markdown",
   "id": "ff143584",
   "metadata": {},
   "source": [
    "Тип данных изменён. Посмотрим на минимальное и максимальное время подачи сыпучих материалов."
   ]
  },
  {
   "cell_type": "code",
   "execution_count": 42,
   "id": "9391fc47",
   "metadata": {},
   "outputs": [
    {
     "data": {
      "text/plain": [
       "Timestamp('2019-05-03 11:11:41')"
      ]
     },
     "execution_count": 42,
     "metadata": {},
     "output_type": "execute_result"
    }
   ],
   "source": [
    "# просмотр минимального значения времени\n",
    "data_wire_time[['Wire 1', 'Wire 2', 'Wire 3',\n",
    "                'Wire 4', 'Wire 5', 'Wire 6',\n",
    "                'Wire 7', 'Wire 8', 'Wire 9']].min().min()"
   ]
  },
  {
   "cell_type": "code",
   "execution_count": 43,
   "id": "bd4214cb",
   "metadata": {
    "scrolled": true
   },
   "outputs": [
    {
     "data": {
      "text/plain": [
       "Timestamp('2019-09-01 04:16:01')"
      ]
     },
     "execution_count": 43,
     "metadata": {},
     "output_type": "execute_result"
    }
   ],
   "source": [
    "# просмотр максимального значения времени\n",
    "data_wire_time[['Wire 1', 'Wire 2', 'Wire 3',\n",
    "                'Wire 4', 'Wire 5', 'Wire 6',\n",
    "                'Wire 7', 'Wire 8', 'Wire 9']].max().max()"
   ]
  },
  {
   "cell_type": "markdown",
   "id": "de5ab91a",
   "metadata": {},
   "source": [
    "Данные о времени подачи проволочных материалов представлены за период с 11:11:41 3 мая по 04:16:01 1 сентября 2019 года, что согласуется со временем нагрева и подачи сыпучих материалов."
   ]
  },
  {
   "cell_type": "markdown",
   "id": "858bc5e4",
   "metadata": {},
   "source": [
    "### 1.8 Вывод"
   ]
  },
  {
   "cell_type": "markdown",
   "id": "0175f3cf",
   "metadata": {},
   "source": [
    "1. Для анализа представлены 7 таблиц с данными, описывающими технологический процесс обработки стали.\n",
    "\n",
    "<b>Данные об электродах содержат информацию о:</b>\n",
    "- номере партии,\n",
    "- времени начала и конца прогрева дугой,\n",
    "- активной и реактивной мощности.\n",
    "\n",
    "В таблице 14876 записей, при этом партий (ключей) 3214: из-за того, что обработка партии происходит в несколько итераций, на каждый ключ приходится по несколько записей. Данные по ключам необходимо будет агрегировать. \n",
    "\n",
    "Пропусков и явных ошибок нет, кроме одного отрицательного значения реактивной мощности. Ключ, содержащий это значение, удалён.\n",
    "\n",
    "<b>Данные об объёме подачи сыпучих материалов содержат информацию о:</b>\n",
    "- номере партии,\n",
    "- объёме добавленного сыпучего материала 1...15.\n",
    "\n",
    "В таблице 3129 записей, т.е. записи о некоторых ключах отсутствуют.\n",
    "\n",
    "В данных об объёмах подачи сыпучих материалов присутствуют пропуски, т.к. в разные партии на разных итерациях подаются различные материалы. Пропуски позже заполним нулями. Явных ошибок нет.\n",
    "\n",
    "<b>Данные о времени подачи сыпучих материалов содержат информацию о:</b>\n",
    "- номере партии,\n",
    "- времени добавления сыпучего материала 1...15.\n",
    "\n",
    "В таблице, также как и в предыдущей, 3129 записей, т.е. записи о некоторых ключах отсутствуют.\n",
    "\n",
    "Также присутствуют пропуски; их количество по каждому сыпучему материалу совпадает с количеством пропусков предыдущей таблицы: если материал не добавляли, то и время его добавления отсутствует. Данная таблица в дальнейшем не понадобится, пропуски заполнять не нужно.\n",
    "\n",
    "<b>Данные о продувке сплава газом содержат информацию о:</b>\n",
    "- номере партии,\n",
    "- объёме поданного газа.\n",
    "\n",
    "В таблице 3239 записей, имеются данные по ключам, отсутствующим в данных об электродах (там ключей 3213).\n",
    "\n",
    "Пропусков и явных ошибок нет.\n",
    "\n",
    "<b>Результаты измерения температуры содержат информацию о:</b>\n",
    "- номере партии,\n",
    "- времени замера,\n",
    "- температуре.\n",
    "\n",
    "В таблице 15907 записей, на каждый ключ приходится по несколько записей. Для исследования представляют интерес начальная и конечная температура стали, являющаяся целевым признаком.\n",
    "\n",
    "В данных имеются пропуски значений температуры. Они содержатся в ключах, начиная с 2500 и до конца. Восстановить значения не получится, т.к. у нас нет данных о химическом составе ключей, на основе которых можно было бы попытаться восстановить температуру. Значит, эти ключи придётся исключить из дальнейшей работы.\n",
    "\n",
    "Распределение температуры близко к нормальному и практически все значения температуры лежат в диапазоне от 1500 до 1700 градусов. При этом значения ниже 1500 градусов единичны, сильно разбросаны и далеко выходят за пределы усов. Значений выше 1700 градусов несколько больше, и они находятся близко друг к другу. Следует уточнить у заказчика, уместно ли удалить ключи с температурами ниже 1500 градусов.\n",
    "\n",
    "<b>Данные об объёме проволочных материалов содержат информацию о:</b>\n",
    "- номере партии,\n",
    "- объёме добавленного проволочного материала 1...9.\n",
    "\n",
    "В таблице 3081 запись, т.е. записи о некоторых ключах отсутствуют.\n",
    "\n",
    "В данных об объёмах подачи проволочных материалов присутствуют пропуски, т.к. в разные партии на разных итерациях подаются различные материалы. Пропуски позже заполним нулями. Явных ошибок нет.\n",
    "\n",
    "<b>Данные о времени подачи проволочных материалов содержат информацию о:</b>\n",
    "- номере партии,\n",
    "- времени добавления проволочных материала 1...15.\n",
    "\n",
    "В таблице, также как и в предыдущей, 3081 запись, т.е. записи о некоторых ключах отсутствуют.\n",
    "\n",
    "Также присутствуют пропуски; их количество по каждому проволочному материалу совпадает с количеством пропусков предыдущей таблицы: если материал не добавляли, то и время его добавления отсутствует. Данная таблица в дальнейшем не понадобится, пропуски заполнять не нужно.\n",
    "\n",
    "2. Во всех таблицах названия признаков приведены к змеиному регистру. Тип признаков, содержащих время, приведён к типу даты и времени.\n",
    "\n",
    "\n",
    "3. В таблицах содержится информация за временной интервал с 11 утра 3 мая по 4 утра 1 сентября 2019 года.\n",
    "\n",
    "\n",
    "4. В дальнейшем для работы все таблицы необходимо объединить в одну сводную по ключам так, чтобы каждая запись сводной таблицы содержала информацию об одном уникальном ключе. При этом в сводную таблицу войдут только те ключи, информация по которым содержится во всех 7 таблицах."
   ]
  },
  {
   "cell_type": "markdown",
   "id": "ce8dd1a9",
   "metadata": {},
   "source": [
    "## 2 Предобработка данных"
   ]
  },
  {
   "cell_type": "markdown",
   "id": "e2db9076",
   "metadata": {},
   "source": [
    "Для того, чтобы модель могла предсказывать температуру стали в партии, необходимо обработать имеющиеся данные:\n",
    "- создать новые признаки, пригодные для обучения модели;\n",
    "- заменить пропуски или удалить данные с ними;\n",
    "- агрегировать данные по ключам, так как в данных об электродах, а также в результатах измерения температуры на каждый ключ приходится по несколько наблюдений из-за итеративности процесса;\n",
    "- создать сводную таблицу со всеми признаками, отобранными для обучения.\n",
    "\n",
    "Данные о времени подачи сыпучих и проволочных материалов для обучения модели не нужны.\n",
    "\n",
    "Данные о продувке сплава газом не требуют предобработки. С остальными данными надо поработать."
   ]
  },
  {
   "cell_type": "markdown",
   "id": "92d35b56",
   "metadata": {},
   "source": [
    "### 2.1 Работа с данными об электродах"
   ]
  },
  {
   "cell_type": "markdown",
   "id": "e3b0afed",
   "metadata": {},
   "source": [
    "В данных об электродах содержится информация о времени начала и конца нагрева дугой. В таком виде признаки не пригодны для использования моделью. Посчитаем длительность нагрева в секундах и добавим в таблицу новый признак:"
   ]
  },
  {
   "cell_type": "code",
   "execution_count": 44,
   "id": "71b5436a",
   "metadata": {},
   "outputs": [
    {
     "name": "stdout",
     "output_type": "stream",
     "text": [
      "(14872, 5)\n",
      "(14872, 6)\n"
     ]
    },
    {
     "data": {
      "text/html": [
       "<div>\n",
       "<style scoped>\n",
       "    .dataframe tbody tr th:only-of-type {\n",
       "        vertical-align: middle;\n",
       "    }\n",
       "\n",
       "    .dataframe tbody tr th {\n",
       "        vertical-align: top;\n",
       "    }\n",
       "\n",
       "    .dataframe thead th {\n",
       "        text-align: right;\n",
       "    }\n",
       "</style>\n",
       "<table border=\"1\" class=\"dataframe\">\n",
       "  <thead>\n",
       "    <tr style=\"text-align: right;\">\n",
       "      <th></th>\n",
       "      <th>key</th>\n",
       "      <th>arc_heat_start</th>\n",
       "      <th>arc_heat_end</th>\n",
       "      <th>act_power</th>\n",
       "      <th>react_power</th>\n",
       "      <th>heat_duration</th>\n",
       "    </tr>\n",
       "  </thead>\n",
       "  <tbody>\n",
       "    <tr>\n",
       "      <th>0</th>\n",
       "      <td>1</td>\n",
       "      <td>2019-05-03 11:02:14</td>\n",
       "      <td>2019-05-03 11:06:02</td>\n",
       "      <td>0.976059</td>\n",
       "      <td>0.687084</td>\n",
       "      <td>228</td>\n",
       "    </tr>\n",
       "    <tr>\n",
       "      <th>1</th>\n",
       "      <td>1</td>\n",
       "      <td>2019-05-03 11:07:28</td>\n",
       "      <td>2019-05-03 11:10:33</td>\n",
       "      <td>0.805607</td>\n",
       "      <td>0.520285</td>\n",
       "      <td>185</td>\n",
       "    </tr>\n",
       "    <tr>\n",
       "      <th>2</th>\n",
       "      <td>1</td>\n",
       "      <td>2019-05-03 11:11:44</td>\n",
       "      <td>2019-05-03 11:14:36</td>\n",
       "      <td>0.744363</td>\n",
       "      <td>0.498805</td>\n",
       "      <td>172</td>\n",
       "    </tr>\n",
       "    <tr>\n",
       "      <th>3</th>\n",
       "      <td>1</td>\n",
       "      <td>2019-05-03 11:18:14</td>\n",
       "      <td>2019-05-03 11:24:19</td>\n",
       "      <td>1.659363</td>\n",
       "      <td>1.062669</td>\n",
       "      <td>365</td>\n",
       "    </tr>\n",
       "    <tr>\n",
       "      <th>4</th>\n",
       "      <td>1</td>\n",
       "      <td>2019-05-03 11:26:09</td>\n",
       "      <td>2019-05-03 11:28:37</td>\n",
       "      <td>0.692755</td>\n",
       "      <td>0.414397</td>\n",
       "      <td>148</td>\n",
       "    </tr>\n",
       "  </tbody>\n",
       "</table>\n",
       "</div>"
      ],
      "text/plain": [
       "   key      arc_heat_start        arc_heat_end  act_power  react_power  \\\n",
       "0    1 2019-05-03 11:02:14 2019-05-03 11:06:02   0.976059     0.687084   \n",
       "1    1 2019-05-03 11:07:28 2019-05-03 11:10:33   0.805607     0.520285   \n",
       "2    1 2019-05-03 11:11:44 2019-05-03 11:14:36   0.744363     0.498805   \n",
       "3    1 2019-05-03 11:18:14 2019-05-03 11:24:19   1.659363     1.062669   \n",
       "4    1 2019-05-03 11:26:09 2019-05-03 11:28:37   0.692755     0.414397   \n",
       "\n",
       "   heat_duration  \n",
       "0            228  \n",
       "1            185  \n",
       "2            172  \n",
       "3            365  \n",
       "4            148  "
      ]
     },
     "execution_count": 44,
     "metadata": {},
     "output_type": "execute_result"
    }
   ],
   "source": [
    "print(data_arc.shape)\n",
    "data_arc['heat_duration'] = (data_arc['arc_heat_end'] - data_arc['arc_heat_start']).dt.seconds.astype('int64')\n",
    "print(data_arc.shape)\n",
    "data_arc.head(5)"
   ]
  },
  {
   "cell_type": "markdown",
   "id": "990634a2",
   "metadata": {},
   "source": [
    "Длительность нагрева в секундах добавлена в таблицу."
   ]
  },
  {
   "cell_type": "markdown",
   "id": "8e2e4cf0",
   "metadata": {},
   "source": [
    "Построим матрицу корреляции, чтобы проверить, как имеющиеся признаки коррелируют между собой."
   ]
  },
  {
   "cell_type": "code",
   "execution_count": 45,
   "id": "a5db5f2f",
   "metadata": {},
   "outputs": [
    {
     "data": {
      "text/html": [
       "<style  type=\"text/css\" >\n",
       "#T_28ed5_row0_col0,#T_28ed5_row1_col1,#T_28ed5_row2_col2,#T_28ed5_row3_col3{\n",
       "            background-color:  #00441b;\n",
       "            color:  #f1f1f1;\n",
       "        }#T_28ed5_row0_col1,#T_28ed5_row0_col2,#T_28ed5_row0_col3,#T_28ed5_row1_col0,#T_28ed5_row3_col0{\n",
       "            background-color:  #f7fcf5;\n",
       "            color:  #000000;\n",
       "        }#T_28ed5_row1_col2,#T_28ed5_row2_col1{\n",
       "            background-color:  #005020;\n",
       "            color:  #f1f1f1;\n",
       "        }#T_28ed5_row1_col3,#T_28ed5_row3_col1{\n",
       "            background-color:  #004c1e;\n",
       "            color:  #f1f1f1;\n",
       "        }#T_28ed5_row2_col0{\n",
       "            background-color:  #f4fbf2;\n",
       "            color:  #000000;\n",
       "        }#T_28ed5_row2_col3,#T_28ed5_row3_col2{\n",
       "            background-color:  #004d1f;\n",
       "            color:  #f1f1f1;\n",
       "        }</style><table id=\"T_28ed5_\" ><thead>    <tr>        <th class=\"blank level0\" ></th>        <th class=\"col_heading level0 col0\" >key</th>        <th class=\"col_heading level0 col1\" >act_power</th>        <th class=\"col_heading level0 col2\" >react_power</th>        <th class=\"col_heading level0 col3\" >heat_duration</th>    </tr></thead><tbody>\n",
       "                <tr>\n",
       "                        <th id=\"T_28ed5_level0_row0\" class=\"row_heading level0 row0\" >key</th>\n",
       "                        <td id=\"T_28ed5_row0_col0\" class=\"data row0 col0\" >1.00</td>\n",
       "                        <td id=\"T_28ed5_row0_col1\" class=\"data row0 col1\" >-0.02</td>\n",
       "                        <td id=\"T_28ed5_row0_col2\" class=\"data row0 col2\" >-0.00</td>\n",
       "                        <td id=\"T_28ed5_row0_col3\" class=\"data row0 col3\" >-0.02</td>\n",
       "            </tr>\n",
       "            <tr>\n",
       "                        <th id=\"T_28ed5_level0_row1\" class=\"row_heading level0 row1\" >act_power</th>\n",
       "                        <td id=\"T_28ed5_row1_col0\" class=\"data row1 col0\" >-0.02</td>\n",
       "                        <td id=\"T_28ed5_row1_col1\" class=\"data row1 col1\" >1.00</td>\n",
       "                        <td id=\"T_28ed5_row1_col2\" class=\"data row1 col2\" >0.96</td>\n",
       "                        <td id=\"T_28ed5_row1_col3\" class=\"data row1 col3\" >0.97</td>\n",
       "            </tr>\n",
       "            <tr>\n",
       "                        <th id=\"T_28ed5_level0_row2\" class=\"row_heading level0 row2\" >react_power</th>\n",
       "                        <td id=\"T_28ed5_row2_col0\" class=\"data row2 col0\" >-0.00</td>\n",
       "                        <td id=\"T_28ed5_row2_col1\" class=\"data row2 col1\" >0.96</td>\n",
       "                        <td id=\"T_28ed5_row2_col2\" class=\"data row2 col2\" >1.00</td>\n",
       "                        <td id=\"T_28ed5_row2_col3\" class=\"data row2 col3\" >0.97</td>\n",
       "            </tr>\n",
       "            <tr>\n",
       "                        <th id=\"T_28ed5_level0_row3\" class=\"row_heading level0 row3\" >heat_duration</th>\n",
       "                        <td id=\"T_28ed5_row3_col0\" class=\"data row3 col0\" >-0.02</td>\n",
       "                        <td id=\"T_28ed5_row3_col1\" class=\"data row3 col1\" >0.97</td>\n",
       "                        <td id=\"T_28ed5_row3_col2\" class=\"data row3 col2\" >0.97</td>\n",
       "                        <td id=\"T_28ed5_row3_col3\" class=\"data row3 col3\" >1.00</td>\n",
       "            </tr>\n",
       "    </tbody></table>"
      ],
      "text/plain": [
       "<pandas.io.formats.style.Styler at 0xf236128>"
      ]
     },
     "execution_count": 45,
     "metadata": {},
     "output_type": "execute_result"
    }
   ],
   "source": [
    "corr = data_arc.corr()\n",
    "corr.style.background_gradient(cmap='Greens').set_precision(2)"
   ]
  },
  {
   "cell_type": "markdown",
   "id": "e8ae7a94",
   "metadata": {},
   "source": [
    "По матрице видно, что и активная, и реактивная мощности, и время нагрева сильно коррелируют. Значит, использовать все три признака вместе нельзя. Попробуем создать новые признаки и на основе корреляции выберем из них те, на которых будет обучаться модель."
   ]
  },
  {
   "cell_type": "markdown",
   "id": "7d80609c",
   "metadata": {},
   "source": [
    "Посчитаем соотношение активной и реактивной мощностей и добавим в таблицу новый признак:"
   ]
  },
  {
   "cell_type": "code",
   "execution_count": 46,
   "id": "4c6ad317",
   "metadata": {
    "scrolled": true
   },
   "outputs": [
    {
     "name": "stdout",
     "output_type": "stream",
     "text": [
      "(14872, 6)\n",
      "(14872, 7)\n"
     ]
    },
    {
     "data": {
      "text/html": [
       "<div>\n",
       "<style scoped>\n",
       "    .dataframe tbody tr th:only-of-type {\n",
       "        vertical-align: middle;\n",
       "    }\n",
       "\n",
       "    .dataframe tbody tr th {\n",
       "        vertical-align: top;\n",
       "    }\n",
       "\n",
       "    .dataframe thead th {\n",
       "        text-align: right;\n",
       "    }\n",
       "</style>\n",
       "<table border=\"1\" class=\"dataframe\">\n",
       "  <thead>\n",
       "    <tr style=\"text-align: right;\">\n",
       "      <th></th>\n",
       "      <th>key</th>\n",
       "      <th>arc_heat_start</th>\n",
       "      <th>arc_heat_end</th>\n",
       "      <th>act_power</th>\n",
       "      <th>react_power</th>\n",
       "      <th>heat_duration</th>\n",
       "      <th>power_ratio</th>\n",
       "    </tr>\n",
       "  </thead>\n",
       "  <tbody>\n",
       "    <tr>\n",
       "      <th>0</th>\n",
       "      <td>1</td>\n",
       "      <td>2019-05-03 11:02:14</td>\n",
       "      <td>2019-05-03 11:06:02</td>\n",
       "      <td>0.976059</td>\n",
       "      <td>0.687084</td>\n",
       "      <td>228</td>\n",
       "      <td>1.420582</td>\n",
       "    </tr>\n",
       "    <tr>\n",
       "      <th>1</th>\n",
       "      <td>1</td>\n",
       "      <td>2019-05-03 11:07:28</td>\n",
       "      <td>2019-05-03 11:10:33</td>\n",
       "      <td>0.805607</td>\n",
       "      <td>0.520285</td>\n",
       "      <td>185</td>\n",
       "      <td>1.548395</td>\n",
       "    </tr>\n",
       "    <tr>\n",
       "      <th>2</th>\n",
       "      <td>1</td>\n",
       "      <td>2019-05-03 11:11:44</td>\n",
       "      <td>2019-05-03 11:14:36</td>\n",
       "      <td>0.744363</td>\n",
       "      <td>0.498805</td>\n",
       "      <td>172</td>\n",
       "      <td>1.492292</td>\n",
       "    </tr>\n",
       "    <tr>\n",
       "      <th>3</th>\n",
       "      <td>1</td>\n",
       "      <td>2019-05-03 11:18:14</td>\n",
       "      <td>2019-05-03 11:24:19</td>\n",
       "      <td>1.659363</td>\n",
       "      <td>1.062669</td>\n",
       "      <td>365</td>\n",
       "      <td>1.561504</td>\n",
       "    </tr>\n",
       "    <tr>\n",
       "      <th>4</th>\n",
       "      <td>1</td>\n",
       "      <td>2019-05-03 11:26:09</td>\n",
       "      <td>2019-05-03 11:28:37</td>\n",
       "      <td>0.692755</td>\n",
       "      <td>0.414397</td>\n",
       "      <td>148</td>\n",
       "      <td>1.671717</td>\n",
       "    </tr>\n",
       "  </tbody>\n",
       "</table>\n",
       "</div>"
      ],
      "text/plain": [
       "   key      arc_heat_start        arc_heat_end  act_power  react_power  \\\n",
       "0    1 2019-05-03 11:02:14 2019-05-03 11:06:02   0.976059     0.687084   \n",
       "1    1 2019-05-03 11:07:28 2019-05-03 11:10:33   0.805607     0.520285   \n",
       "2    1 2019-05-03 11:11:44 2019-05-03 11:14:36   0.744363     0.498805   \n",
       "3    1 2019-05-03 11:18:14 2019-05-03 11:24:19   1.659363     1.062669   \n",
       "4    1 2019-05-03 11:26:09 2019-05-03 11:28:37   0.692755     0.414397   \n",
       "\n",
       "   heat_duration  power_ratio  \n",
       "0            228     1.420582  \n",
       "1            185     1.548395  \n",
       "2            172     1.492292  \n",
       "3            365     1.561504  \n",
       "4            148     1.671717  "
      ]
     },
     "execution_count": 46,
     "metadata": {},
     "output_type": "execute_result"
    }
   ],
   "source": [
    "print(data_arc.shape)\n",
    "data_arc['power_ratio'] = data_arc['act_power'] / data_arc['react_power']\n",
    "print(data_arc.shape)\n",
    "data_arc.head(5)"
   ]
  },
  {
   "cell_type": "markdown",
   "id": "167154f0",
   "metadata": {},
   "source": [
    "Соотношение посчитано, признак добавлен в таблицу."
   ]
  },
  {
   "cell_type": "markdown",
   "id": "b8db5dff",
   "metadata": {},
   "source": [
    "Посчитаем общую мощность и добавим её в таблицу:"
   ]
  },
  {
   "cell_type": "code",
   "execution_count": 47,
   "id": "70edbfd2",
   "metadata": {},
   "outputs": [
    {
     "name": "stdout",
     "output_type": "stream",
     "text": [
      "(14872, 7)\n",
      "(14872, 8)\n"
     ]
    },
    {
     "data": {
      "text/html": [
       "<div>\n",
       "<style scoped>\n",
       "    .dataframe tbody tr th:only-of-type {\n",
       "        vertical-align: middle;\n",
       "    }\n",
       "\n",
       "    .dataframe tbody tr th {\n",
       "        vertical-align: top;\n",
       "    }\n",
       "\n",
       "    .dataframe thead th {\n",
       "        text-align: right;\n",
       "    }\n",
       "</style>\n",
       "<table border=\"1\" class=\"dataframe\">\n",
       "  <thead>\n",
       "    <tr style=\"text-align: right;\">\n",
       "      <th></th>\n",
       "      <th>key</th>\n",
       "      <th>arc_heat_start</th>\n",
       "      <th>arc_heat_end</th>\n",
       "      <th>act_power</th>\n",
       "      <th>react_power</th>\n",
       "      <th>heat_duration</th>\n",
       "      <th>power_ratio</th>\n",
       "      <th>total_power</th>\n",
       "    </tr>\n",
       "  </thead>\n",
       "  <tbody>\n",
       "    <tr>\n",
       "      <th>0</th>\n",
       "      <td>1</td>\n",
       "      <td>2019-05-03 11:02:14</td>\n",
       "      <td>2019-05-03 11:06:02</td>\n",
       "      <td>0.976059</td>\n",
       "      <td>0.687084</td>\n",
       "      <td>228</td>\n",
       "      <td>1.420582</td>\n",
       "      <td>1.193639</td>\n",
       "    </tr>\n",
       "    <tr>\n",
       "      <th>1</th>\n",
       "      <td>1</td>\n",
       "      <td>2019-05-03 11:07:28</td>\n",
       "      <td>2019-05-03 11:10:33</td>\n",
       "      <td>0.805607</td>\n",
       "      <td>0.520285</td>\n",
       "      <td>185</td>\n",
       "      <td>1.548395</td>\n",
       "      <td>0.959010</td>\n",
       "    </tr>\n",
       "    <tr>\n",
       "      <th>2</th>\n",
       "      <td>1</td>\n",
       "      <td>2019-05-03 11:11:44</td>\n",
       "      <td>2019-05-03 11:14:36</td>\n",
       "      <td>0.744363</td>\n",
       "      <td>0.498805</td>\n",
       "      <td>172</td>\n",
       "      <td>1.492292</td>\n",
       "      <td>0.896038</td>\n",
       "    </tr>\n",
       "    <tr>\n",
       "      <th>3</th>\n",
       "      <td>1</td>\n",
       "      <td>2019-05-03 11:18:14</td>\n",
       "      <td>2019-05-03 11:24:19</td>\n",
       "      <td>1.659363</td>\n",
       "      <td>1.062669</td>\n",
       "      <td>365</td>\n",
       "      <td>1.561504</td>\n",
       "      <td>1.970470</td>\n",
       "    </tr>\n",
       "    <tr>\n",
       "      <th>4</th>\n",
       "      <td>1</td>\n",
       "      <td>2019-05-03 11:26:09</td>\n",
       "      <td>2019-05-03 11:28:37</td>\n",
       "      <td>0.692755</td>\n",
       "      <td>0.414397</td>\n",
       "      <td>148</td>\n",
       "      <td>1.671717</td>\n",
       "      <td>0.807239</td>\n",
       "    </tr>\n",
       "  </tbody>\n",
       "</table>\n",
       "</div>"
      ],
      "text/plain": [
       "   key      arc_heat_start        arc_heat_end  act_power  react_power  \\\n",
       "0    1 2019-05-03 11:02:14 2019-05-03 11:06:02   0.976059     0.687084   \n",
       "1    1 2019-05-03 11:07:28 2019-05-03 11:10:33   0.805607     0.520285   \n",
       "2    1 2019-05-03 11:11:44 2019-05-03 11:14:36   0.744363     0.498805   \n",
       "3    1 2019-05-03 11:18:14 2019-05-03 11:24:19   1.659363     1.062669   \n",
       "4    1 2019-05-03 11:26:09 2019-05-03 11:28:37   0.692755     0.414397   \n",
       "\n",
       "   heat_duration  power_ratio  total_power  \n",
       "0            228     1.420582     1.193639  \n",
       "1            185     1.548395     0.959010  \n",
       "2            172     1.492292     0.896038  \n",
       "3            365     1.561504     1.970470  \n",
       "4            148     1.671717     0.807239  "
      ]
     },
     "execution_count": 47,
     "metadata": {},
     "output_type": "execute_result"
    }
   ],
   "source": [
    "print(data_arc.shape)\n",
    "data_arc['total_power'] = (data_arc['act_power']**2 + data_arc['react_power']**2)**0.5\n",
    "print(data_arc.shape)\n",
    "data_arc.head(5)"
   ]
  },
  {
   "cell_type": "markdown",
   "id": "6009ebde",
   "metadata": {},
   "source": [
    "Общая мощнось посчитана и добавлена в таблицу."
   ]
  },
  {
   "cell_type": "markdown",
   "id": "d443165c",
   "metadata": {},
   "source": [
    "Посчитаем работу и также добавим её в таблицу:"
   ]
  },
  {
   "cell_type": "code",
   "execution_count": 48,
   "id": "3b025e29",
   "metadata": {},
   "outputs": [
    {
     "name": "stdout",
     "output_type": "stream",
     "text": [
      "(14872, 8)\n",
      "(14872, 9)\n"
     ]
    },
    {
     "data": {
      "text/html": [
       "<div>\n",
       "<style scoped>\n",
       "    .dataframe tbody tr th:only-of-type {\n",
       "        vertical-align: middle;\n",
       "    }\n",
       "\n",
       "    .dataframe tbody tr th {\n",
       "        vertical-align: top;\n",
       "    }\n",
       "\n",
       "    .dataframe thead th {\n",
       "        text-align: right;\n",
       "    }\n",
       "</style>\n",
       "<table border=\"1\" class=\"dataframe\">\n",
       "  <thead>\n",
       "    <tr style=\"text-align: right;\">\n",
       "      <th></th>\n",
       "      <th>key</th>\n",
       "      <th>arc_heat_start</th>\n",
       "      <th>arc_heat_end</th>\n",
       "      <th>act_power</th>\n",
       "      <th>react_power</th>\n",
       "      <th>heat_duration</th>\n",
       "      <th>power_ratio</th>\n",
       "      <th>total_power</th>\n",
       "      <th>work</th>\n",
       "    </tr>\n",
       "  </thead>\n",
       "  <tbody>\n",
       "    <tr>\n",
       "      <th>0</th>\n",
       "      <td>1</td>\n",
       "      <td>2019-05-03 11:02:14</td>\n",
       "      <td>2019-05-03 11:06:02</td>\n",
       "      <td>0.976059</td>\n",
       "      <td>0.687084</td>\n",
       "      <td>228</td>\n",
       "      <td>1.420582</td>\n",
       "      <td>1.193639</td>\n",
       "      <td>272.149755</td>\n",
       "    </tr>\n",
       "    <tr>\n",
       "      <th>1</th>\n",
       "      <td>1</td>\n",
       "      <td>2019-05-03 11:07:28</td>\n",
       "      <td>2019-05-03 11:10:33</td>\n",
       "      <td>0.805607</td>\n",
       "      <td>0.520285</td>\n",
       "      <td>185</td>\n",
       "      <td>1.548395</td>\n",
       "      <td>0.959010</td>\n",
       "      <td>177.416785</td>\n",
       "    </tr>\n",
       "    <tr>\n",
       "      <th>2</th>\n",
       "      <td>1</td>\n",
       "      <td>2019-05-03 11:11:44</td>\n",
       "      <td>2019-05-03 11:14:36</td>\n",
       "      <td>0.744363</td>\n",
       "      <td>0.498805</td>\n",
       "      <td>172</td>\n",
       "      <td>1.492292</td>\n",
       "      <td>0.896038</td>\n",
       "      <td>154.118502</td>\n",
       "    </tr>\n",
       "    <tr>\n",
       "      <th>3</th>\n",
       "      <td>1</td>\n",
       "      <td>2019-05-03 11:18:14</td>\n",
       "      <td>2019-05-03 11:24:19</td>\n",
       "      <td>1.659363</td>\n",
       "      <td>1.062669</td>\n",
       "      <td>365</td>\n",
       "      <td>1.561504</td>\n",
       "      <td>1.970470</td>\n",
       "      <td>719.221394</td>\n",
       "    </tr>\n",
       "    <tr>\n",
       "      <th>4</th>\n",
       "      <td>1</td>\n",
       "      <td>2019-05-03 11:26:09</td>\n",
       "      <td>2019-05-03 11:28:37</td>\n",
       "      <td>0.692755</td>\n",
       "      <td>0.414397</td>\n",
       "      <td>148</td>\n",
       "      <td>1.671717</td>\n",
       "      <td>0.807239</td>\n",
       "      <td>119.471318</td>\n",
       "    </tr>\n",
       "  </tbody>\n",
       "</table>\n",
       "</div>"
      ],
      "text/plain": [
       "   key      arc_heat_start        arc_heat_end  act_power  react_power  \\\n",
       "0    1 2019-05-03 11:02:14 2019-05-03 11:06:02   0.976059     0.687084   \n",
       "1    1 2019-05-03 11:07:28 2019-05-03 11:10:33   0.805607     0.520285   \n",
       "2    1 2019-05-03 11:11:44 2019-05-03 11:14:36   0.744363     0.498805   \n",
       "3    1 2019-05-03 11:18:14 2019-05-03 11:24:19   1.659363     1.062669   \n",
       "4    1 2019-05-03 11:26:09 2019-05-03 11:28:37   0.692755     0.414397   \n",
       "\n",
       "   heat_duration  power_ratio  total_power        work  \n",
       "0            228     1.420582     1.193639  272.149755  \n",
       "1            185     1.548395     0.959010  177.416785  \n",
       "2            172     1.492292     0.896038  154.118502  \n",
       "3            365     1.561504     1.970470  719.221394  \n",
       "4            148     1.671717     0.807239  119.471318  "
      ]
     },
     "execution_count": 48,
     "metadata": {},
     "output_type": "execute_result"
    }
   ],
   "source": [
    "print(data_arc.shape)\n",
    "data_arc['work'] = data_arc['heat_duration'] * data_arc['total_power']\n",
    "print(data_arc.shape)\n",
    "data_arc.head(5)"
   ]
  },
  {
   "cell_type": "markdown",
   "id": "9059d21a",
   "metadata": {},
   "source": [
    "Работа посчитана и добавлена в таблицу."
   ]
  },
  {
   "cell_type": "markdown",
   "id": "d4b5a80f",
   "metadata": {},
   "source": [
    "Построим ещё раз матрицу корреляции с новыми признаками:"
   ]
  },
  {
   "cell_type": "code",
   "execution_count": 49,
   "id": "697239fc",
   "metadata": {},
   "outputs": [
    {
     "data": {
      "text/html": [
       "<style  type=\"text/css\" >\n",
       "#T_bbeaa_row0_col0,#T_bbeaa_row1_col1,#T_bbeaa_row2_col2,#T_bbeaa_row3_col3,#T_bbeaa_row4_col4,#T_bbeaa_row5_col5,#T_bbeaa_row6_col6{\n",
       "            background-color:  #00441b;\n",
       "            color:  #f1f1f1;\n",
       "        }#T_bbeaa_row0_col1,#T_bbeaa_row2_col4,#T_bbeaa_row4_col0,#T_bbeaa_row4_col2,#T_bbeaa_row4_col3,#T_bbeaa_row4_col5,#T_bbeaa_row4_col6{\n",
       "            background-color:  #f7fcf5;\n",
       "            color:  #000000;\n",
       "        }#T_bbeaa_row0_col2{\n",
       "            background-color:  #dbf1d6;\n",
       "            color:  #000000;\n",
       "        }#T_bbeaa_row0_col3,#T_bbeaa_row1_col0{\n",
       "            background-color:  #eff9eb;\n",
       "            color:  #000000;\n",
       "        }#T_bbeaa_row0_col4,#T_bbeaa_row3_col4{\n",
       "            background-color:  #e9f7e5;\n",
       "            color:  #000000;\n",
       "        }#T_bbeaa_row0_col5,#T_bbeaa_row0_col6{\n",
       "            background-color:  #f1faee;\n",
       "            color:  #000000;\n",
       "        }#T_bbeaa_row1_col2{\n",
       "            background-color:  #004d1f;\n",
       "            color:  #f1f1f1;\n",
       "        }#T_bbeaa_row1_col3,#T_bbeaa_row2_col3,#T_bbeaa_row3_col1,#T_bbeaa_row3_col2{\n",
       "            background-color:  #004c1e;\n",
       "            color:  #f1f1f1;\n",
       "        }#T_bbeaa_row1_col4{\n",
       "            background-color:  #d5efcf;\n",
       "            color:  #000000;\n",
       "        }#T_bbeaa_row1_col5,#T_bbeaa_row5_col1{\n",
       "            background-color:  #00451c;\n",
       "            color:  #f1f1f1;\n",
       "        }#T_bbeaa_row1_col6,#T_bbeaa_row6_col1{\n",
       "            background-color:  #005924;\n",
       "            color:  #f1f1f1;\n",
       "        }#T_bbeaa_row2_col0{\n",
       "            background-color:  #ecf8e8;\n",
       "            color:  #000000;\n",
       "        }#T_bbeaa_row2_col1{\n",
       "            background-color:  #005020;\n",
       "            color:  #f1f1f1;\n",
       "        }#T_bbeaa_row2_col5{\n",
       "            background-color:  #00481d;\n",
       "            color:  #f1f1f1;\n",
       "        }#T_bbeaa_row2_col6{\n",
       "            background-color:  #005a24;\n",
       "            color:  #f1f1f1;\n",
       "        }#T_bbeaa_row3_col0{\n",
       "            background-color:  #eef8ea;\n",
       "            color:  #000000;\n",
       "        }#T_bbeaa_row3_col5,#T_bbeaa_row5_col3{\n",
       "            background-color:  #00491d;\n",
       "            color:  #f1f1f1;\n",
       "        }#T_bbeaa_row3_col6,#T_bbeaa_row6_col2,#T_bbeaa_row6_col3{\n",
       "            background-color:  #005723;\n",
       "            color:  #f1f1f1;\n",
       "        }#T_bbeaa_row4_col1{\n",
       "            background-color:  #f0f9ed;\n",
       "            color:  #000000;\n",
       "        }#T_bbeaa_row5_col0{\n",
       "            background-color:  #edf8ea;\n",
       "            color:  #000000;\n",
       "        }#T_bbeaa_row5_col2{\n",
       "            background-color:  #00471c;\n",
       "            color:  #f1f1f1;\n",
       "        }#T_bbeaa_row5_col4{\n",
       "            background-color:  #e6f5e1;\n",
       "            color:  #000000;\n",
       "        }#T_bbeaa_row5_col6,#T_bbeaa_row6_col5{\n",
       "            background-color:  #005622;\n",
       "            color:  #f1f1f1;\n",
       "        }#T_bbeaa_row6_col0{\n",
       "            background-color:  #edf8e9;\n",
       "            color:  #000000;\n",
       "        }#T_bbeaa_row6_col4{\n",
       "            background-color:  #e5f5e1;\n",
       "            color:  #000000;\n",
       "        }</style><table id=\"T_bbeaa_\" ><thead>    <tr>        <th class=\"blank level0\" ></th>        <th class=\"col_heading level0 col0\" >key</th>        <th class=\"col_heading level0 col1\" >act_power</th>        <th class=\"col_heading level0 col2\" >react_power</th>        <th class=\"col_heading level0 col3\" >heat_duration</th>        <th class=\"col_heading level0 col4\" >power_ratio</th>        <th class=\"col_heading level0 col5\" >total_power</th>        <th class=\"col_heading level0 col6\" >work</th>    </tr></thead><tbody>\n",
       "                <tr>\n",
       "                        <th id=\"T_bbeaa_level0_row0\" class=\"row_heading level0 row0\" >key</th>\n",
       "                        <td id=\"T_bbeaa_row0_col0\" class=\"data row0 col0\" >1.00</td>\n",
       "                        <td id=\"T_bbeaa_row0_col1\" class=\"data row0 col1\" >-0.02</td>\n",
       "                        <td id=\"T_bbeaa_row0_col2\" class=\"data row0 col2\" >-0.00</td>\n",
       "                        <td id=\"T_bbeaa_row0_col3\" class=\"data row0 col3\" >-0.02</td>\n",
       "                        <td id=\"T_bbeaa_row0_col4\" class=\"data row0 col4\" >-0.09</td>\n",
       "                        <td id=\"T_bbeaa_row0_col5\" class=\"data row0 col5\" >-0.01</td>\n",
       "                        <td id=\"T_bbeaa_row0_col6\" class=\"data row0 col6\" >-0.01</td>\n",
       "            </tr>\n",
       "            <tr>\n",
       "                        <th id=\"T_bbeaa_level0_row1\" class=\"row_heading level0 row1\" >act_power</th>\n",
       "                        <td id=\"T_bbeaa_row1_col0\" class=\"data row1 col0\" >-0.02</td>\n",
       "                        <td id=\"T_bbeaa_row1_col1\" class=\"data row1 col1\" >1.00</td>\n",
       "                        <td id=\"T_bbeaa_row1_col2\" class=\"data row1 col2\" >0.96</td>\n",
       "                        <td id=\"T_bbeaa_row1_col3\" class=\"data row1 col3\" >0.97</td>\n",
       "                        <td id=\"T_bbeaa_row1_col4\" class=\"data row1 col4\" >0.03</td>\n",
       "                        <td id=\"T_bbeaa_row1_col5\" class=\"data row1 col5\" >0.99</td>\n",
       "                        <td id=\"T_bbeaa_row1_col6\" class=\"data row1 col6\" >0.93</td>\n",
       "            </tr>\n",
       "            <tr>\n",
       "                        <th id=\"T_bbeaa_level0_row2\" class=\"row_heading level0 row2\" >react_power</th>\n",
       "                        <td id=\"T_bbeaa_row2_col0\" class=\"data row2 col0\" >-0.00</td>\n",
       "                        <td id=\"T_bbeaa_row2_col1\" class=\"data row2 col1\" >0.96</td>\n",
       "                        <td id=\"T_bbeaa_row2_col2\" class=\"data row2 col2\" >1.00</td>\n",
       "                        <td id=\"T_bbeaa_row2_col3\" class=\"data row2 col3\" >0.97</td>\n",
       "                        <td id=\"T_bbeaa_row2_col4\" class=\"data row2 col4\" >-0.20</td>\n",
       "                        <td id=\"T_bbeaa_row2_col5\" class=\"data row2 col5\" >0.99</td>\n",
       "                        <td id=\"T_bbeaa_row2_col6\" class=\"data row2 col6\" >0.93</td>\n",
       "            </tr>\n",
       "            <tr>\n",
       "                        <th id=\"T_bbeaa_level0_row3\" class=\"row_heading level0 row3\" >heat_duration</th>\n",
       "                        <td id=\"T_bbeaa_row3_col0\" class=\"data row3 col0\" >-0.02</td>\n",
       "                        <td id=\"T_bbeaa_row3_col1\" class=\"data row3 col1\" >0.97</td>\n",
       "                        <td id=\"T_bbeaa_row3_col2\" class=\"data row3 col2\" >0.97</td>\n",
       "                        <td id=\"T_bbeaa_row3_col3\" class=\"data row3 col3\" >1.00</td>\n",
       "                        <td id=\"T_bbeaa_row3_col4\" class=\"data row3 col4\" >-0.08</td>\n",
       "                        <td id=\"T_bbeaa_row3_col5\" class=\"data row3 col5\" >0.98</td>\n",
       "                        <td id=\"T_bbeaa_row3_col6\" class=\"data row3 col6\" >0.93</td>\n",
       "            </tr>\n",
       "            <tr>\n",
       "                        <th id=\"T_bbeaa_level0_row4\" class=\"row_heading level0 row4\" >power_ratio</th>\n",
       "                        <td id=\"T_bbeaa_row4_col0\" class=\"data row4 col0\" >-0.09</td>\n",
       "                        <td id=\"T_bbeaa_row4_col1\" class=\"data row4 col1\" >0.03</td>\n",
       "                        <td id=\"T_bbeaa_row4_col2\" class=\"data row4 col2\" >-0.20</td>\n",
       "                        <td id=\"T_bbeaa_row4_col3\" class=\"data row4 col3\" >-0.08</td>\n",
       "                        <td id=\"T_bbeaa_row4_col4\" class=\"data row4 col4\" >1.00</td>\n",
       "                        <td id=\"T_bbeaa_row4_col5\" class=\"data row4 col5\" >-0.06</td>\n",
       "                        <td id=\"T_bbeaa_row4_col6\" class=\"data row4 col6\" >-0.05</td>\n",
       "            </tr>\n",
       "            <tr>\n",
       "                        <th id=\"T_bbeaa_level0_row5\" class=\"row_heading level0 row5\" >total_power</th>\n",
       "                        <td id=\"T_bbeaa_row5_col0\" class=\"data row5 col0\" >-0.01</td>\n",
       "                        <td id=\"T_bbeaa_row5_col1\" class=\"data row5 col1\" >0.99</td>\n",
       "                        <td id=\"T_bbeaa_row5_col2\" class=\"data row5 col2\" >0.99</td>\n",
       "                        <td id=\"T_bbeaa_row5_col3\" class=\"data row5 col3\" >0.98</td>\n",
       "                        <td id=\"T_bbeaa_row5_col4\" class=\"data row5 col4\" >-0.06</td>\n",
       "                        <td id=\"T_bbeaa_row5_col5\" class=\"data row5 col5\" >1.00</td>\n",
       "                        <td id=\"T_bbeaa_row5_col6\" class=\"data row5 col6\" >0.94</td>\n",
       "            </tr>\n",
       "            <tr>\n",
       "                        <th id=\"T_bbeaa_level0_row6\" class=\"row_heading level0 row6\" >work</th>\n",
       "                        <td id=\"T_bbeaa_row6_col0\" class=\"data row6 col0\" >-0.01</td>\n",
       "                        <td id=\"T_bbeaa_row6_col1\" class=\"data row6 col1\" >0.93</td>\n",
       "                        <td id=\"T_bbeaa_row6_col2\" class=\"data row6 col2\" >0.93</td>\n",
       "                        <td id=\"T_bbeaa_row6_col3\" class=\"data row6 col3\" >0.93</td>\n",
       "                        <td id=\"T_bbeaa_row6_col4\" class=\"data row6 col4\" >-0.05</td>\n",
       "                        <td id=\"T_bbeaa_row6_col5\" class=\"data row6 col5\" >0.94</td>\n",
       "                        <td id=\"T_bbeaa_row6_col6\" class=\"data row6 col6\" >1.00</td>\n",
       "            </tr>\n",
       "    </tbody></table>"
      ],
      "text/plain": [
       "<pandas.io.formats.style.Styler at 0xf3ae128>"
      ]
     },
     "execution_count": 49,
     "metadata": {},
     "output_type": "execute_result"
    }
   ],
   "source": [
    "corr = data_arc.corr()\n",
    "corr.style.background_gradient(cmap='Greens').set_precision(2)"
   ]
  },
  {
   "cell_type": "markdown",
   "id": "e10ac3aa",
   "metadata": {},
   "source": [
    "По матрице видно, что из всех признаков корреляция отсутствует у продолжительности нагрева и отношения активной и реактивной мощностей. Значит, для обучения модели оставим только эти признаки."
   ]
  },
  {
   "cell_type": "markdown",
   "id": "7b73881f",
   "metadata": {},
   "source": [
    "Выведем для сравнения характерные значения признака `power_ratio` перед созданием сводной таблицы."
   ]
  },
  {
   "cell_type": "code",
   "execution_count": 50,
   "id": "71dd6c70",
   "metadata": {},
   "outputs": [
    {
     "data": {
      "text/plain": [
       "count    14872.000000\n",
       "mean         1.360652\n",
       "std          0.173105\n",
       "min          0.457980\n",
       "25%          1.257090\n",
       "50%          1.376057\n",
       "75%          1.480514\n",
       "max          1.949831\n",
       "Name: power_ratio, dtype: float64"
      ]
     },
     "execution_count": 50,
     "metadata": {},
     "output_type": "execute_result"
    }
   ],
   "source": [
    "data_arc['power_ratio'].describe()"
   ]
  },
  {
   "cell_type": "markdown",
   "id": "fd5b2d83",
   "metadata": {},
   "source": [
    "Создадим сводную таблицу с группировкой по ключам, суммарной мощностью и медианным соотношением активной и реактивной мощностей для каждого ключа:"
   ]
  },
  {
   "cell_type": "code",
   "execution_count": 51,
   "id": "8b73e57b",
   "metadata": {},
   "outputs": [
    {
     "data": {
      "text/html": [
       "<div>\n",
       "<style scoped>\n",
       "    .dataframe tbody tr th:only-of-type {\n",
       "        vertical-align: middle;\n",
       "    }\n",
       "\n",
       "    .dataframe tbody tr th {\n",
       "        vertical-align: top;\n",
       "    }\n",
       "\n",
       "    .dataframe thead th {\n",
       "        text-align: right;\n",
       "    }\n",
       "</style>\n",
       "<table border=\"1\" class=\"dataframe\">\n",
       "  <thead>\n",
       "    <tr style=\"text-align: right;\">\n",
       "      <th></th>\n",
       "      <th>key</th>\n",
       "      <th>heat_dur_sum</th>\n",
       "      <th>power_ratio_median</th>\n",
       "    </tr>\n",
       "  </thead>\n",
       "  <tbody>\n",
       "    <tr>\n",
       "      <th>0</th>\n",
       "      <td>1</td>\n",
       "      <td>1098</td>\n",
       "      <td>1.548395</td>\n",
       "    </tr>\n",
       "    <tr>\n",
       "      <th>1</th>\n",
       "      <td>2</td>\n",
       "      <td>811</td>\n",
       "      <td>1.574566</td>\n",
       "    </tr>\n",
       "    <tr>\n",
       "      <th>2</th>\n",
       "      <td>3</td>\n",
       "      <td>655</td>\n",
       "      <td>1.581626</td>\n",
       "    </tr>\n",
       "    <tr>\n",
       "      <th>3</th>\n",
       "      <td>4</td>\n",
       "      <td>741</td>\n",
       "      <td>1.601656</td>\n",
       "    </tr>\n",
       "    <tr>\n",
       "      <th>4</th>\n",
       "      <td>5</td>\n",
       "      <td>869</td>\n",
       "      <td>1.499092</td>\n",
       "    </tr>\n",
       "  </tbody>\n",
       "</table>\n",
       "</div>"
      ],
      "text/plain": [
       "   key  heat_dur_sum  power_ratio_median\n",
       "0    1          1098            1.548395\n",
       "1    2           811            1.574566\n",
       "2    3           655            1.581626\n",
       "3    4           741            1.601656\n",
       "4    5           869            1.499092"
      ]
     },
     "execution_count": 51,
     "metadata": {},
     "output_type": "execute_result"
    }
   ],
   "source": [
    "arc_pivot = data_arc.pivot_table(index='key',\n",
    "                                 values=('heat_duration', 'power_ratio'),\n",
    "                                 aggfunc={'heat_duration':'sum',\n",
    "                                          'power_ratio':'median'}).reset_index()\n",
    "arc_pivot.columns = ['key', 'heat_dur_sum', 'power_ratio_median']\n",
    "arc_pivot.head()"
   ]
  },
  {
   "cell_type": "markdown",
   "id": "8966af33",
   "metadata": {},
   "source": [
    "Создана таблица с наблюдениями, соответствующими уникальным ключам. Для каждого ключа посчитано суммарное время нагрева и медианное отношение активной и реактивной мощностей."
   ]
  },
  {
   "cell_type": "markdown",
   "id": "a4f3008b",
   "metadata": {},
   "source": [
    "Посмотрим на характерные значения признака `power_ratio` после создания сводной таблицы:"
   ]
  },
  {
   "cell_type": "code",
   "execution_count": 52,
   "id": "4aaa80e5",
   "metadata": {
    "scrolled": true
   },
   "outputs": [
    {
     "data": {
      "text/plain": [
       "count    3213.000000\n",
       "mean        1.371198\n",
       "std         0.145075\n",
       "min         0.591452\n",
       "25%         1.298891\n",
       "50%         1.384662\n",
       "75%         1.461785\n",
       "max         1.894052\n",
       "Name: power_ratio_median, dtype: float64"
      ]
     },
     "execution_count": 52,
     "metadata": {},
     "output_type": "execute_result"
    }
   ],
   "source": [
    "arc_pivot['power_ratio_median'].describe()"
   ]
  },
  {
   "cell_type": "markdown",
   "id": "714a4c35",
   "metadata": {},
   "source": [
    "Характерные значения отношения мощностей изменились не сильно, признак можно использовать в работе.\n",
    "- Диапазон значений и стандартное отклонение несколько уменьшились: было 0,46...1,95 и 0,17, стало 0,59...1,89 и 0,14;\n",
    "- среднее и медиана изменились на 0,01: с 1,36 на 1,37 и с 1,37 на 1,38."
   ]
  },
  {
   "cell_type": "markdown",
   "id": "b8c94a82",
   "metadata": {},
   "source": [
    "### 2.2 Работа с результатами измерения температуры"
   ]
  },
  {
   "cell_type": "markdown",
   "id": "530a7af4",
   "metadata": {},
   "source": [
    "Ранее мы видели, что в ключах, начиная с 2500, есть пропуски в значениях температуры. Если пропуски в первой или последней температурах по времени, это не позволит использовать данные по таким ключам. Заменим пропуски на нули, чтобы корректно отобрать начальную и конечную температуры. После группировки удалим ключи с нулевыми температурами."
   ]
  },
  {
   "cell_type": "code",
   "execution_count": 53,
   "id": "e534d8f7",
   "metadata": {},
   "outputs": [
    {
     "name": "stdout",
     "output_type": "stream",
     "text": [
      "key             0\n",
      "time_temp       0\n",
      "temp         2901\n",
      "dtype: int64\n"
     ]
    },
    {
     "data": {
      "text/plain": [
       "key          0\n",
       "time_temp    0\n",
       "temp         0\n",
       "dtype: int64"
      ]
     },
     "execution_count": 53,
     "metadata": {},
     "output_type": "execute_result"
    }
   ],
   "source": [
    "print(data_temp.isna().sum())\n",
    "data_temp = data_temp.fillna(0)\n",
    "data_temp.isna().sum()"
   ]
  },
  {
   "cell_type": "markdown",
   "id": "1425aef8",
   "metadata": {},
   "source": [
    "Пропуски заменены на нули. Теперь сгруппируем данные по ключам и создадим новые признаки для каждого из них: начальную и конечную температуры стали."
   ]
  },
  {
   "cell_type": "code",
   "execution_count": 54,
   "id": "287d27c8",
   "metadata": {},
   "outputs": [
    {
     "data": {
      "text/html": [
       "<div>\n",
       "<style scoped>\n",
       "    .dataframe tbody tr th:only-of-type {\n",
       "        vertical-align: middle;\n",
       "    }\n",
       "\n",
       "    .dataframe tbody tr th {\n",
       "        vertical-align: top;\n",
       "    }\n",
       "\n",
       "    .dataframe thead th {\n",
       "        text-align: right;\n",
       "    }\n",
       "</style>\n",
       "<table border=\"1\" class=\"dataframe\">\n",
       "  <thead>\n",
       "    <tr style=\"text-align: right;\">\n",
       "      <th></th>\n",
       "      <th>key</th>\n",
       "      <th>first_temp</th>\n",
       "      <th>last_temp</th>\n",
       "    </tr>\n",
       "  </thead>\n",
       "  <tbody>\n",
       "    <tr>\n",
       "      <th>0</th>\n",
       "      <td>1</td>\n",
       "      <td>1571.0</td>\n",
       "      <td>1613.0</td>\n",
       "    </tr>\n",
       "    <tr>\n",
       "      <th>1</th>\n",
       "      <td>2</td>\n",
       "      <td>1581.0</td>\n",
       "      <td>1602.0</td>\n",
       "    </tr>\n",
       "    <tr>\n",
       "      <th>2</th>\n",
       "      <td>3</td>\n",
       "      <td>1596.0</td>\n",
       "      <td>1599.0</td>\n",
       "    </tr>\n",
       "    <tr>\n",
       "      <th>3</th>\n",
       "      <td>4</td>\n",
       "      <td>1601.0</td>\n",
       "      <td>1625.0</td>\n",
       "    </tr>\n",
       "    <tr>\n",
       "      <th>4</th>\n",
       "      <td>5</td>\n",
       "      <td>1576.0</td>\n",
       "      <td>1602.0</td>\n",
       "    </tr>\n",
       "  </tbody>\n",
       "</table>\n",
       "</div>"
      ],
      "text/plain": [
       "   key  first_temp  last_temp\n",
       "0    1      1571.0     1613.0\n",
       "1    2      1581.0     1602.0\n",
       "2    3      1596.0     1599.0\n",
       "3    4      1601.0     1625.0\n",
       "4    5      1576.0     1602.0"
      ]
     },
     "execution_count": 54,
     "metadata": {},
     "output_type": "execute_result"
    }
   ],
   "source": [
    "temp_pivot = data_temp.pivot_table(index='key',\n",
    "                                   values='temp',\n",
    "                                   aggfunc=('first', 'last')).reset_index()\n",
    "temp_pivot.columns = ['key', 'first_temp', 'last_temp']\n",
    "temp_pivot.head()"
   ]
  },
  {
   "cell_type": "markdown",
   "id": "f54ef993",
   "metadata": {},
   "source": [
    "Мы получили сводную таблицу с данными о начальной и конечной температуре стали каждого ключа. Посмотрим на характерные значения полученных признаков."
   ]
  },
  {
   "cell_type": "code",
   "execution_count": 55,
   "id": "4c6121ff",
   "metadata": {},
   "outputs": [
    {
     "data": {
      "text/html": [
       "<div>\n",
       "<style scoped>\n",
       "    .dataframe tbody tr th:only-of-type {\n",
       "        vertical-align: middle;\n",
       "    }\n",
       "\n",
       "    .dataframe tbody tr th {\n",
       "        vertical-align: top;\n",
       "    }\n",
       "\n",
       "    .dataframe thead th {\n",
       "        text-align: right;\n",
       "    }\n",
       "</style>\n",
       "<table border=\"1\" class=\"dataframe\">\n",
       "  <thead>\n",
       "    <tr style=\"text-align: right;\">\n",
       "      <th></th>\n",
       "      <th>key</th>\n",
       "      <th>first_temp</th>\n",
       "      <th>last_temp</th>\n",
       "    </tr>\n",
       "  </thead>\n",
       "  <tbody>\n",
       "    <tr>\n",
       "      <th>count</th>\n",
       "      <td>3216.000000</td>\n",
       "      <td>3216.000000</td>\n",
       "      <td>3216.000000</td>\n",
       "    </tr>\n",
       "    <tr>\n",
       "      <th>mean</th>\n",
       "      <td>1622.199316</td>\n",
       "      <td>1588.592040</td>\n",
       "      <td>1228.744714</td>\n",
       "    </tr>\n",
       "    <tr>\n",
       "      <th>std</th>\n",
       "      <td>935.088523</td>\n",
       "      <td>29.137454</td>\n",
       "      <td>671.403549</td>\n",
       "    </tr>\n",
       "    <tr>\n",
       "      <th>min</th>\n",
       "      <td>1.000000</td>\n",
       "      <td>1191.000000</td>\n",
       "      <td>0.000000</td>\n",
       "    </tr>\n",
       "    <tr>\n",
       "      <th>25%</th>\n",
       "      <td>815.750000</td>\n",
       "      <td>1572.000000</td>\n",
       "      <td>1574.000000</td>\n",
       "    </tr>\n",
       "    <tr>\n",
       "      <th>50%</th>\n",
       "      <td>1622.500000</td>\n",
       "      <td>1588.000000</td>\n",
       "      <td>1590.000000</td>\n",
       "    </tr>\n",
       "    <tr>\n",
       "      <th>75%</th>\n",
       "      <td>2431.250000</td>\n",
       "      <td>1606.000000</td>\n",
       "      <td>1597.000000</td>\n",
       "    </tr>\n",
       "    <tr>\n",
       "      <th>max</th>\n",
       "      <td>3241.000000</td>\n",
       "      <td>1684.000000</td>\n",
       "      <td>1700.000000</td>\n",
       "    </tr>\n",
       "  </tbody>\n",
       "</table>\n",
       "</div>"
      ],
      "text/plain": [
       "               key   first_temp    last_temp\n",
       "count  3216.000000  3216.000000  3216.000000\n",
       "mean   1622.199316  1588.592040  1228.744714\n",
       "std     935.088523    29.137454   671.403549\n",
       "min       1.000000  1191.000000     0.000000\n",
       "25%     815.750000  1572.000000  1574.000000\n",
       "50%    1622.500000  1588.000000  1590.000000\n",
       "75%    2431.250000  1606.000000  1597.000000\n",
       "max    3241.000000  1684.000000  1700.000000"
      ]
     },
     "execution_count": 55,
     "metadata": {},
     "output_type": "execute_result"
    }
   ],
   "source": [
    "temp_pivot.describe()"
   ]
  },
  {
   "cell_type": "markdown",
   "id": "a664aab3",
   "metadata": {},
   "source": [
    "Часть пропусков оказалась в конечной температуре: минимальное значение признака равно нулю. Удалим ключи с нулевой конечной температурой:"
   ]
  },
  {
   "cell_type": "code",
   "execution_count": 56,
   "id": "6649de62",
   "metadata": {},
   "outputs": [
    {
     "name": "stdout",
     "output_type": "stream",
     "text": [
      "(3216, 3)\n"
     ]
    },
    {
     "data": {
      "text/plain": [
       "(2477, 3)"
      ]
     },
     "execution_count": 56,
     "metadata": {},
     "output_type": "execute_result"
    }
   ],
   "source": [
    "print(temp_pivot.shape)\n",
    "temp_pivot = temp_pivot[temp_pivot.last_temp != 0]\n",
    "temp_pivot.shape"
   ]
  },
  {
   "cell_type": "markdown",
   "id": "290d35b1",
   "metadata": {},
   "source": [
    "Ключи с нулевой конечной температурой удалены."
   ]
  },
  {
   "cell_type": "markdown",
   "id": "f3789878",
   "metadata": {},
   "source": [
    "По уточнённым данным от заказчика, ключи с начальной температурой ниже 1500 градусов также следует удалить, чтобы повысить точность предсказаний. Для низких температур предполагается сделать отдельную модель. Удаляем:"
   ]
  },
  {
   "cell_type": "code",
   "execution_count": 57,
   "id": "08663be1",
   "metadata": {},
   "outputs": [
    {
     "data": {
      "text/plain": [
       "(2473, 3)"
      ]
     },
     "execution_count": 57,
     "metadata": {},
     "output_type": "execute_result"
    }
   ],
   "source": [
    "temp_pivot = temp_pivot[temp_pivot.first_temp >= 1500]\n",
    "temp_pivot.shape"
   ]
  },
  {
   "cell_type": "markdown",
   "id": "d70c1f9b",
   "metadata": {},
   "source": [
    "Ключи с начальной температурой ниже 1500 градусов удалены."
   ]
  },
  {
   "cell_type": "markdown",
   "id": "66bb8147",
   "metadata": {},
   "source": [
    "### 2.3 Работа с данными об объёме подачи сыпучих и проволочных материалов"
   ]
  },
  {
   "cell_type": "markdown",
   "id": "41b3044b",
   "metadata": {},
   "source": [
    "В данных много пропусков, т.к. в разные ключи добавляют разные сыпучие и проволочные материалы. Пропуски показывают, что данный сыпучий или проволочный материал в ключ не добавляли. Значит, их можно заменить на нули.\n",
    "\n",
    "Также среди сыпучих материалов есть материал `bulk_8`, а среди проволочных - `wire_5`, которые были добавлен только по одному разу. Такие признаки будут неинформатвны, лучше их удалить."
   ]
  },
  {
   "cell_type": "code",
   "execution_count": 58,
   "id": "c9b8cd83",
   "metadata": {},
   "outputs": [
    {
     "name": "stdout",
     "output_type": "stream",
     "text": [
      "(3129, 16)\n"
     ]
    },
    {
     "data": {
      "text/plain": [
       "(3129, 15)"
      ]
     },
     "execution_count": 58,
     "metadata": {},
     "output_type": "execute_result"
    }
   ],
   "source": [
    "# удаление сыпучего материала bulk_8\n",
    "print(data_bulk.shape)\n",
    "data_bulk = data_bulk.drop(columns=['bulk_8'])\n",
    "data_bulk.shape"
   ]
  },
  {
   "cell_type": "code",
   "execution_count": 59,
   "id": "19cdfe46",
   "metadata": {},
   "outputs": [
    {
     "name": "stdout",
     "output_type": "stream",
     "text": [
      "(3081, 10)\n"
     ]
    },
    {
     "data": {
      "text/plain": [
       "(3081, 9)"
      ]
     },
     "execution_count": 59,
     "metadata": {},
     "output_type": "execute_result"
    }
   ],
   "source": [
    "# удаление проволочного материала wire_5\n",
    "print(data_wire.shape)\n",
    "data_wire = data_wire.drop(columns=['wire_5'])\n",
    "data_wire.shape"
   ]
  },
  {
   "cell_type": "markdown",
   "id": "a87fcfe7",
   "metadata": {},
   "source": [
    "Признаки удалены. Теперь заменим все пропуски на нули."
   ]
  },
  {
   "cell_type": "code",
   "execution_count": 60,
   "id": "3b186078",
   "metadata": {},
   "outputs": [
    {
     "name": "stdout",
     "output_type": "stream",
     "text": [
      "key           0\n",
      "bulk_1     2877\n",
      "bulk_2     3107\n",
      "bulk_3     1831\n",
      "bulk_4     2115\n",
      "bulk_5     3052\n",
      "bulk_6     2553\n",
      "bulk_7     3104\n",
      "bulk_9     3110\n",
      "bulk_10    2953\n",
      "bulk_11    2952\n",
      "bulk_12     679\n",
      "bulk_13    3111\n",
      "bulk_14     323\n",
      "bulk_15     881\n",
      "dtype: int64\n"
     ]
    },
    {
     "data": {
      "text/plain": [
       "key        0\n",
       "bulk_1     0\n",
       "bulk_2     0\n",
       "bulk_3     0\n",
       "bulk_4     0\n",
       "bulk_5     0\n",
       "bulk_6     0\n",
       "bulk_7     0\n",
       "bulk_9     0\n",
       "bulk_10    0\n",
       "bulk_11    0\n",
       "bulk_12    0\n",
       "bulk_13    0\n",
       "bulk_14    0\n",
       "bulk_15    0\n",
       "dtype: int64"
      ]
     },
     "execution_count": 60,
     "metadata": {},
     "output_type": "execute_result"
    }
   ],
   "source": [
    "# замена пропусков на нули в данных о сыпучих материалах\n",
    "print(data_bulk.isna().sum())\n",
    "data_bulk = data_bulk.fillna(0)\n",
    "data_bulk.isna().sum()"
   ]
  },
  {
   "cell_type": "code",
   "execution_count": 61,
   "id": "730dd521",
   "metadata": {},
   "outputs": [
    {
     "name": "stdout",
     "output_type": "stream",
     "text": [
      "key          0\n",
      "wire_1      26\n",
      "wire_2    2002\n",
      "wire_3    3018\n",
      "wire_4    3067\n",
      "wire_6    3008\n",
      "wire_7    3070\n",
      "wire_8    3062\n",
      "wire_9    3052\n",
      "dtype: int64\n"
     ]
    },
    {
     "data": {
      "text/plain": [
       "key       0\n",
       "wire_1    0\n",
       "wire_2    0\n",
       "wire_3    0\n",
       "wire_4    0\n",
       "wire_6    0\n",
       "wire_7    0\n",
       "wire_8    0\n",
       "wire_9    0\n",
       "dtype: int64"
      ]
     },
     "execution_count": 61,
     "metadata": {},
     "output_type": "execute_result"
    }
   ],
   "source": [
    "# замена пропусков на нули в данных о проволочных материалах\n",
    "print(data_wire.isna().sum())\n",
    "data_wire = data_wire.fillna(0)\n",
    "data_wire.isna().sum()"
   ]
  },
  {
   "cell_type": "markdown",
   "id": "61ef07c7",
   "metadata": {},
   "source": [
    "Пропуски заменены на нули."
   ]
  },
  {
   "cell_type": "markdown",
   "id": "92b9b1a8",
   "metadata": {},
   "source": [
    "### 2.4 Создание сводной таблицы"
   ]
  },
  {
   "cell_type": "markdown",
   "id": "a13bfde0",
   "metadata": {},
   "source": [
    "Объединим в сводную таблицу по ключам данные о длительности нагрева и отношении мощностей, о начальной и конечной температурах, об объёмах подаваемых газа, сыпучего и проволочного материалов.\n",
    "\n",
    "Объединять будем так, чтобы в сводную таблицу попали только те ключи, данные о которых есть во всех объединяемых таблицах."
   ]
  },
  {
   "cell_type": "code",
   "execution_count": 62,
   "id": "c51673ce",
   "metadata": {},
   "outputs": [
    {
     "data": {
      "text/html": [
       "<div>\n",
       "<style scoped>\n",
       "    .dataframe tbody tr th:only-of-type {\n",
       "        vertical-align: middle;\n",
       "    }\n",
       "\n",
       "    .dataframe tbody tr th {\n",
       "        vertical-align: top;\n",
       "    }\n",
       "\n",
       "    .dataframe thead th {\n",
       "        text-align: right;\n",
       "    }\n",
       "</style>\n",
       "<table border=\"1\" class=\"dataframe\">\n",
       "  <thead>\n",
       "    <tr style=\"text-align: right;\">\n",
       "      <th></th>\n",
       "      <th>key</th>\n",
       "      <th>heat_dur_sum</th>\n",
       "      <th>power_ratio_median</th>\n",
       "      <th>first_temp</th>\n",
       "      <th>last_temp</th>\n",
       "      <th>gas_1</th>\n",
       "      <th>bulk_1</th>\n",
       "      <th>bulk_2</th>\n",
       "      <th>bulk_3</th>\n",
       "      <th>bulk_4</th>\n",
       "      <th>bulk_5</th>\n",
       "      <th>bulk_6</th>\n",
       "      <th>bulk_7</th>\n",
       "      <th>bulk_9</th>\n",
       "      <th>bulk_10</th>\n",
       "      <th>bulk_11</th>\n",
       "      <th>bulk_12</th>\n",
       "      <th>bulk_13</th>\n",
       "      <th>bulk_14</th>\n",
       "      <th>bulk_15</th>\n",
       "      <th>wire_1</th>\n",
       "      <th>wire_2</th>\n",
       "      <th>wire_3</th>\n",
       "      <th>wire_4</th>\n",
       "      <th>wire_6</th>\n",
       "      <th>wire_7</th>\n",
       "      <th>wire_8</th>\n",
       "      <th>wire_9</th>\n",
       "    </tr>\n",
       "  </thead>\n",
       "  <tbody>\n",
       "    <tr>\n",
       "      <th>0</th>\n",
       "      <td>1</td>\n",
       "      <td>1098</td>\n",
       "      <td>1.548395</td>\n",
       "      <td>1571.0</td>\n",
       "      <td>1613.0</td>\n",
       "      <td>29.749986</td>\n",
       "      <td>0.0</td>\n",
       "      <td>0.0</td>\n",
       "      <td>0.0</td>\n",
       "      <td>43.0</td>\n",
       "      <td>0.0</td>\n",
       "      <td>0.0</td>\n",
       "      <td>0.0</td>\n",
       "      <td>0.0</td>\n",
       "      <td>0.0</td>\n",
       "      <td>0.0</td>\n",
       "      <td>206.0</td>\n",
       "      <td>0.0</td>\n",
       "      <td>150.0</td>\n",
       "      <td>154.0</td>\n",
       "      <td>60.059998</td>\n",
       "      <td>0.000000</td>\n",
       "      <td>0.0</td>\n",
       "      <td>0.0</td>\n",
       "      <td>0.0</td>\n",
       "      <td>0.0</td>\n",
       "      <td>0.0</td>\n",
       "      <td>0.0</td>\n",
       "    </tr>\n",
       "    <tr>\n",
       "      <th>1</th>\n",
       "      <td>2</td>\n",
       "      <td>811</td>\n",
       "      <td>1.574566</td>\n",
       "      <td>1581.0</td>\n",
       "      <td>1602.0</td>\n",
       "      <td>12.555561</td>\n",
       "      <td>0.0</td>\n",
       "      <td>0.0</td>\n",
       "      <td>0.0</td>\n",
       "      <td>73.0</td>\n",
       "      <td>0.0</td>\n",
       "      <td>0.0</td>\n",
       "      <td>0.0</td>\n",
       "      <td>0.0</td>\n",
       "      <td>0.0</td>\n",
       "      <td>0.0</td>\n",
       "      <td>206.0</td>\n",
       "      <td>0.0</td>\n",
       "      <td>149.0</td>\n",
       "      <td>154.0</td>\n",
       "      <td>96.052315</td>\n",
       "      <td>0.000000</td>\n",
       "      <td>0.0</td>\n",
       "      <td>0.0</td>\n",
       "      <td>0.0</td>\n",
       "      <td>0.0</td>\n",
       "      <td>0.0</td>\n",
       "      <td>0.0</td>\n",
       "    </tr>\n",
       "    <tr>\n",
       "      <th>2</th>\n",
       "      <td>3</td>\n",
       "      <td>655</td>\n",
       "      <td>1.581626</td>\n",
       "      <td>1596.0</td>\n",
       "      <td>1599.0</td>\n",
       "      <td>28.554793</td>\n",
       "      <td>0.0</td>\n",
       "      <td>0.0</td>\n",
       "      <td>0.0</td>\n",
       "      <td>34.0</td>\n",
       "      <td>0.0</td>\n",
       "      <td>0.0</td>\n",
       "      <td>0.0</td>\n",
       "      <td>0.0</td>\n",
       "      <td>0.0</td>\n",
       "      <td>0.0</td>\n",
       "      <td>205.0</td>\n",
       "      <td>0.0</td>\n",
       "      <td>152.0</td>\n",
       "      <td>153.0</td>\n",
       "      <td>91.160157</td>\n",
       "      <td>0.000000</td>\n",
       "      <td>0.0</td>\n",
       "      <td>0.0</td>\n",
       "      <td>0.0</td>\n",
       "      <td>0.0</td>\n",
       "      <td>0.0</td>\n",
       "      <td>0.0</td>\n",
       "    </tr>\n",
       "    <tr>\n",
       "      <th>3</th>\n",
       "      <td>4</td>\n",
       "      <td>741</td>\n",
       "      <td>1.601656</td>\n",
       "      <td>1601.0</td>\n",
       "      <td>1625.0</td>\n",
       "      <td>18.841219</td>\n",
       "      <td>0.0</td>\n",
       "      <td>0.0</td>\n",
       "      <td>0.0</td>\n",
       "      <td>81.0</td>\n",
       "      <td>0.0</td>\n",
       "      <td>0.0</td>\n",
       "      <td>0.0</td>\n",
       "      <td>0.0</td>\n",
       "      <td>0.0</td>\n",
       "      <td>0.0</td>\n",
       "      <td>207.0</td>\n",
       "      <td>0.0</td>\n",
       "      <td>153.0</td>\n",
       "      <td>154.0</td>\n",
       "      <td>89.063515</td>\n",
       "      <td>0.000000</td>\n",
       "      <td>0.0</td>\n",
       "      <td>0.0</td>\n",
       "      <td>0.0</td>\n",
       "      <td>0.0</td>\n",
       "      <td>0.0</td>\n",
       "      <td>0.0</td>\n",
       "    </tr>\n",
       "    <tr>\n",
       "      <th>4</th>\n",
       "      <td>5</td>\n",
       "      <td>869</td>\n",
       "      <td>1.499092</td>\n",
       "      <td>1576.0</td>\n",
       "      <td>1602.0</td>\n",
       "      <td>5.413692</td>\n",
       "      <td>0.0</td>\n",
       "      <td>0.0</td>\n",
       "      <td>0.0</td>\n",
       "      <td>78.0</td>\n",
       "      <td>0.0</td>\n",
       "      <td>0.0</td>\n",
       "      <td>0.0</td>\n",
       "      <td>0.0</td>\n",
       "      <td>0.0</td>\n",
       "      <td>0.0</td>\n",
       "      <td>203.0</td>\n",
       "      <td>0.0</td>\n",
       "      <td>151.0</td>\n",
       "      <td>152.0</td>\n",
       "      <td>89.238236</td>\n",
       "      <td>9.114560</td>\n",
       "      <td>0.0</td>\n",
       "      <td>0.0</td>\n",
       "      <td>0.0</td>\n",
       "      <td>0.0</td>\n",
       "      <td>0.0</td>\n",
       "      <td>0.0</td>\n",
       "    </tr>\n",
       "    <tr>\n",
       "      <th>5</th>\n",
       "      <td>6</td>\n",
       "      <td>952</td>\n",
       "      <td>1.530188</td>\n",
       "      <td>1543.0</td>\n",
       "      <td>1596.0</td>\n",
       "      <td>11.273392</td>\n",
       "      <td>0.0</td>\n",
       "      <td>0.0</td>\n",
       "      <td>0.0</td>\n",
       "      <td>117.0</td>\n",
       "      <td>0.0</td>\n",
       "      <td>0.0</td>\n",
       "      <td>0.0</td>\n",
       "      <td>0.0</td>\n",
       "      <td>0.0</td>\n",
       "      <td>0.0</td>\n",
       "      <td>204.0</td>\n",
       "      <td>0.0</td>\n",
       "      <td>201.0</td>\n",
       "      <td>154.0</td>\n",
       "      <td>99.109917</td>\n",
       "      <td>9.114560</td>\n",
       "      <td>0.0</td>\n",
       "      <td>0.0</td>\n",
       "      <td>0.0</td>\n",
       "      <td>0.0</td>\n",
       "      <td>0.0</td>\n",
       "      <td>0.0</td>\n",
       "    </tr>\n",
       "    <tr>\n",
       "      <th>6</th>\n",
       "      <td>7</td>\n",
       "      <td>673</td>\n",
       "      <td>1.632877</td>\n",
       "      <td>1586.0</td>\n",
       "      <td>1599.0</td>\n",
       "      <td>9.836267</td>\n",
       "      <td>0.0</td>\n",
       "      <td>0.0</td>\n",
       "      <td>0.0</td>\n",
       "      <td>117.0</td>\n",
       "      <td>0.0</td>\n",
       "      <td>0.0</td>\n",
       "      <td>0.0</td>\n",
       "      <td>0.0</td>\n",
       "      <td>0.0</td>\n",
       "      <td>0.0</td>\n",
       "      <td>204.0</td>\n",
       "      <td>0.0</td>\n",
       "      <td>152.0</td>\n",
       "      <td>154.0</td>\n",
       "      <td>98.061600</td>\n",
       "      <td>0.000000</td>\n",
       "      <td>0.0</td>\n",
       "      <td>0.0</td>\n",
       "      <td>0.0</td>\n",
       "      <td>0.0</td>\n",
       "      <td>0.0</td>\n",
       "      <td>0.0</td>\n",
       "    </tr>\n",
       "    <tr>\n",
       "      <th>7</th>\n",
       "      <td>8</td>\n",
       "      <td>913</td>\n",
       "      <td>1.559012</td>\n",
       "      <td>1577.0</td>\n",
       "      <td>1598.0</td>\n",
       "      <td>15.171553</td>\n",
       "      <td>0.0</td>\n",
       "      <td>0.0</td>\n",
       "      <td>0.0</td>\n",
       "      <td>99.0</td>\n",
       "      <td>0.0</td>\n",
       "      <td>0.0</td>\n",
       "      <td>0.0</td>\n",
       "      <td>0.0</td>\n",
       "      <td>0.0</td>\n",
       "      <td>0.0</td>\n",
       "      <td>410.0</td>\n",
       "      <td>0.0</td>\n",
       "      <td>252.0</td>\n",
       "      <td>153.0</td>\n",
       "      <td>155.282394</td>\n",
       "      <td>0.000000</td>\n",
       "      <td>0.0</td>\n",
       "      <td>0.0</td>\n",
       "      <td>0.0</td>\n",
       "      <td>0.0</td>\n",
       "      <td>0.0</td>\n",
       "      <td>0.0</td>\n",
       "    </tr>\n",
       "    <tr>\n",
       "      <th>8</th>\n",
       "      <td>9</td>\n",
       "      <td>625</td>\n",
       "      <td>1.457549</td>\n",
       "      <td>1587.0</td>\n",
       "      <td>1592.0</td>\n",
       "      <td>8.216623</td>\n",
       "      <td>0.0</td>\n",
       "      <td>0.0</td>\n",
       "      <td>0.0</td>\n",
       "      <td>117.0</td>\n",
       "      <td>0.0</td>\n",
       "      <td>0.0</td>\n",
       "      <td>0.0</td>\n",
       "      <td>0.0</td>\n",
       "      <td>0.0</td>\n",
       "      <td>0.0</td>\n",
       "      <td>107.0</td>\n",
       "      <td>0.0</td>\n",
       "      <td>99.0</td>\n",
       "      <td>203.0</td>\n",
       "      <td>113.393279</td>\n",
       "      <td>9.143681</td>\n",
       "      <td>0.0</td>\n",
       "      <td>0.0</td>\n",
       "      <td>0.0</td>\n",
       "      <td>0.0</td>\n",
       "      <td>0.0</td>\n",
       "      <td>0.0</td>\n",
       "    </tr>\n",
       "    <tr>\n",
       "      <th>9</th>\n",
       "      <td>10</td>\n",
       "      <td>825</td>\n",
       "      <td>1.244260</td>\n",
       "      <td>1574.0</td>\n",
       "      <td>1593.0</td>\n",
       "      <td>6.529891</td>\n",
       "      <td>0.0</td>\n",
       "      <td>0.0</td>\n",
       "      <td>0.0</td>\n",
       "      <td>0.0</td>\n",
       "      <td>0.0</td>\n",
       "      <td>0.0</td>\n",
       "      <td>0.0</td>\n",
       "      <td>0.0</td>\n",
       "      <td>0.0</td>\n",
       "      <td>0.0</td>\n",
       "      <td>203.0</td>\n",
       "      <td>0.0</td>\n",
       "      <td>102.0</td>\n",
       "      <td>204.0</td>\n",
       "      <td>81.244796</td>\n",
       "      <td>12.376000</td>\n",
       "      <td>0.0</td>\n",
       "      <td>0.0</td>\n",
       "      <td>0.0</td>\n",
       "      <td>0.0</td>\n",
       "      <td>0.0</td>\n",
       "      <td>0.0</td>\n",
       "    </tr>\n",
       "  </tbody>\n",
       "</table>\n",
       "</div>"
      ],
      "text/plain": [
       "   key  heat_dur_sum  power_ratio_median  first_temp  last_temp      gas_1  \\\n",
       "0    1          1098            1.548395      1571.0     1613.0  29.749986   \n",
       "1    2           811            1.574566      1581.0     1602.0  12.555561   \n",
       "2    3           655            1.581626      1596.0     1599.0  28.554793   \n",
       "3    4           741            1.601656      1601.0     1625.0  18.841219   \n",
       "4    5           869            1.499092      1576.0     1602.0   5.413692   \n",
       "5    6           952            1.530188      1543.0     1596.0  11.273392   \n",
       "6    7           673            1.632877      1586.0     1599.0   9.836267   \n",
       "7    8           913            1.559012      1577.0     1598.0  15.171553   \n",
       "8    9           625            1.457549      1587.0     1592.0   8.216623   \n",
       "9   10           825            1.244260      1574.0     1593.0   6.529891   \n",
       "\n",
       "   bulk_1  bulk_2  bulk_3  bulk_4  bulk_5  bulk_6  bulk_7  bulk_9  bulk_10  \\\n",
       "0     0.0     0.0     0.0    43.0     0.0     0.0     0.0     0.0      0.0   \n",
       "1     0.0     0.0     0.0    73.0     0.0     0.0     0.0     0.0      0.0   \n",
       "2     0.0     0.0     0.0    34.0     0.0     0.0     0.0     0.0      0.0   \n",
       "3     0.0     0.0     0.0    81.0     0.0     0.0     0.0     0.0      0.0   \n",
       "4     0.0     0.0     0.0    78.0     0.0     0.0     0.0     0.0      0.0   \n",
       "5     0.0     0.0     0.0   117.0     0.0     0.0     0.0     0.0      0.0   \n",
       "6     0.0     0.0     0.0   117.0     0.0     0.0     0.0     0.0      0.0   \n",
       "7     0.0     0.0     0.0    99.0     0.0     0.0     0.0     0.0      0.0   \n",
       "8     0.0     0.0     0.0   117.0     0.0     0.0     0.0     0.0      0.0   \n",
       "9     0.0     0.0     0.0     0.0     0.0     0.0     0.0     0.0      0.0   \n",
       "\n",
       "   bulk_11  bulk_12  bulk_13  bulk_14  bulk_15      wire_1     wire_2  wire_3  \\\n",
       "0      0.0    206.0      0.0    150.0    154.0   60.059998   0.000000     0.0   \n",
       "1      0.0    206.0      0.0    149.0    154.0   96.052315   0.000000     0.0   \n",
       "2      0.0    205.0      0.0    152.0    153.0   91.160157   0.000000     0.0   \n",
       "3      0.0    207.0      0.0    153.0    154.0   89.063515   0.000000     0.0   \n",
       "4      0.0    203.0      0.0    151.0    152.0   89.238236   9.114560     0.0   \n",
       "5      0.0    204.0      0.0    201.0    154.0   99.109917   9.114560     0.0   \n",
       "6      0.0    204.0      0.0    152.0    154.0   98.061600   0.000000     0.0   \n",
       "7      0.0    410.0      0.0    252.0    153.0  155.282394   0.000000     0.0   \n",
       "8      0.0    107.0      0.0     99.0    203.0  113.393279   9.143681     0.0   \n",
       "9      0.0    203.0      0.0    102.0    204.0   81.244796  12.376000     0.0   \n",
       "\n",
       "   wire_4  wire_6  wire_7  wire_8  wire_9  \n",
       "0     0.0     0.0     0.0     0.0     0.0  \n",
       "1     0.0     0.0     0.0     0.0     0.0  \n",
       "2     0.0     0.0     0.0     0.0     0.0  \n",
       "3     0.0     0.0     0.0     0.0     0.0  \n",
       "4     0.0     0.0     0.0     0.0     0.0  \n",
       "5     0.0     0.0     0.0     0.0     0.0  \n",
       "6     0.0     0.0     0.0     0.0     0.0  \n",
       "7     0.0     0.0     0.0     0.0     0.0  \n",
       "8     0.0     0.0     0.0     0.0     0.0  \n",
       "9     0.0     0.0     0.0     0.0     0.0  "
      ]
     },
     "metadata": {},
     "output_type": "display_data"
    },
    {
     "data": {
      "text/plain": [
       "(2324, 28)"
      ]
     },
     "execution_count": 62,
     "metadata": {},
     "output_type": "execute_result"
    }
   ],
   "source": [
    "df = arc_pivot.merge(temp_pivot, on='key')\n",
    "df = df.merge(data_gas, on='key')\n",
    "df = df.merge(data_bulk, on='key')\n",
    "df = df.merge(data_wire, on='key')\n",
    "display(df.head(10))\n",
    "df.shape"
   ]
  },
  {
   "cell_type": "markdown",
   "id": "4968b97c",
   "metadata": {},
   "source": [
    "Мы получили сводную таблицу, каждое из 2324 наблюдений которой содержит информацию об уникальном ключе.\n",
    "\n",
    "В таблице 28 признаков, один из которых - конечная температура - является целевым.\n",
    "\n",
    "Ещё один признак - номер партии - для обучения не нужен, удалим его позже."
   ]
  },
  {
   "cell_type": "markdown",
   "id": "93ca0385",
   "metadata": {},
   "source": [
    "Посмотрим на корреляцию полученных признаков."
   ]
  },
  {
   "cell_type": "code",
   "execution_count": 63,
   "id": "9c0c9c7e",
   "metadata": {},
   "outputs": [
    {
     "data": {
      "text/html": [
       "<style  type=\"text/css\" >\n",
       "#T_20cf6_row0_col0,#T_20cf6_row1_col1,#T_20cf6_row2_col2,#T_20cf6_row3_col3,#T_20cf6_row4_col4,#T_20cf6_row5_col5,#T_20cf6_row6_col6,#T_20cf6_row7_col7,#T_20cf6_row8_col8,#T_20cf6_row9_col9,#T_20cf6_row10_col10,#T_20cf6_row11_col11,#T_20cf6_row12_col12,#T_20cf6_row13_col13,#T_20cf6_row14_col14,#T_20cf6_row15_col15,#T_20cf6_row16_col16,#T_20cf6_row17_col17,#T_20cf6_row18_col18,#T_20cf6_row19_col19,#T_20cf6_row20_col20,#T_20cf6_row21_col21,#T_20cf6_row22_col22,#T_20cf6_row23_col23,#T_20cf6_row24_col24,#T_20cf6_row25_col25,#T_20cf6_row26_col26,#T_20cf6_row27_col27{\n",
       "            background-color:  #00441b;\n",
       "            color:  #f1f1f1;\n",
       "        }#T_20cf6_row0_col1,#T_20cf6_row1_col21,#T_20cf6_row8_col11,#T_20cf6_row9_col1,#T_20cf6_row20_col8,#T_20cf6_row21_col27,#T_20cf6_row23_col9,#T_20cf6_row25_col9,#T_20cf6_row26_col3{\n",
       "            background-color:  #c6e8bf;\n",
       "            color:  #000000;\n",
       "        }#T_20cf6_row0_col2,#T_20cf6_row0_col5,#T_20cf6_row1_col3,#T_20cf6_row2_col0,#T_20cf6_row2_col6,#T_20cf6_row3_col1,#T_20cf6_row3_col18,#T_20cf6_row4_col23,#T_20cf6_row4_col25,#T_20cf6_row8_col9,#T_20cf6_row9_col8,#T_20cf6_row9_col11,#T_20cf6_row9_col15,#T_20cf6_row9_col21,#T_20cf6_row9_col27,#T_20cf6_row11_col20,#T_20cf6_row16_col10,#T_20cf6_row16_col22,#T_20cf6_row18_col17,#T_20cf6_row19_col13,#T_20cf6_row19_col22,#T_20cf6_row19_col26,#T_20cf6_row20_col7,#T_20cf6_row20_col12,#T_20cf6_row20_col15,#T_20cf6_row20_col24,#T_20cf6_row21_col4,#T_20cf6_row21_col14,#T_20cf6_row22_col16,#T_20cf6_row22_col19{\n",
       "            background-color:  #f7fcf5;\n",
       "            color:  #000000;\n",
       "        }#T_20cf6_row0_col3,#T_20cf6_row3_col7,#T_20cf6_row6_col5,#T_20cf6_row18_col4,#T_20cf6_row26_col21,#T_20cf6_row27_col1{\n",
       "            background-color:  #c2e7bb;\n",
       "            color:  #000000;\n",
       "        }#T_20cf6_row0_col4,#T_20cf6_row9_col0,#T_20cf6_row10_col15,#T_20cf6_row12_col16,#T_20cf6_row15_col2,#T_20cf6_row27_col15{\n",
       "            background-color:  #eaf7e6;\n",
       "            color:  #000000;\n",
       "        }#T_20cf6_row0_col6,#T_20cf6_row4_col6,#T_20cf6_row7_col16,#T_20cf6_row8_col14,#T_20cf6_row9_col14{\n",
       "            background-color:  #f5fbf2;\n",
       "            color:  #000000;\n",
       "        }#T_20cf6_row0_col7,#T_20cf6_row0_col15,#T_20cf6_row1_col22,#T_20cf6_row3_col8,#T_20cf6_row13_col7,#T_20cf6_row16_col0,#T_20cf6_row17_col7,#T_20cf6_row22_col5,#T_20cf6_row26_col7,#T_20cf6_row27_col7{\n",
       "            background-color:  #e2f4dd;\n",
       "            color:  #000000;\n",
       "        }#T_20cf6_row0_col8,#T_20cf6_row10_col8,#T_20cf6_row13_col9,#T_20cf6_row24_col6{\n",
       "            background-color:  #cdecc7;\n",
       "            color:  #000000;\n",
       "        }#T_20cf6_row0_col9,#T_20cf6_row5_col24,#T_20cf6_row12_col21,#T_20cf6_row13_col20,#T_20cf6_row17_col21,#T_20cf6_row22_col25,#T_20cf6_row27_col20{\n",
       "            background-color:  #d1edcb;\n",
       "            color:  #000000;\n",
       "        }#T_20cf6_row0_col10,#T_20cf6_row1_col13,#T_20cf6_row1_col26,#T_20cf6_row2_col7,#T_20cf6_row3_col0,#T_20cf6_row3_col11,#T_20cf6_row4_col5,#T_20cf6_row8_col5,#T_20cf6_row8_col12,#T_20cf6_row8_col13,#T_20cf6_row8_col15,#T_20cf6_row8_col19,#T_20cf6_row9_col10,#T_20cf6_row10_col18,#T_20cf6_row11_col24,#T_20cf6_row13_col15,#T_20cf6_row13_col22,#T_20cf6_row14_col24,#T_20cf6_row15_col20,#T_20cf6_row17_col0,#T_20cf6_row17_col15,#T_20cf6_row17_col22,#T_20cf6_row18_col22,#T_20cf6_row20_col0,#T_20cf6_row20_col6,#T_20cf6_row20_col26,#T_20cf6_row23_col15,#T_20cf6_row26_col15,#T_20cf6_row26_col22,#T_20cf6_row27_col6,#T_20cf6_row27_col22{\n",
       "            background-color:  #e9f7e5;\n",
       "            color:  #000000;\n",
       "        }#T_20cf6_row0_col11,#T_20cf6_row1_col2,#T_20cf6_row1_col9,#T_20cf6_row2_col3,#T_20cf6_row3_col23,#T_20cf6_row6_col21,#T_20cf6_row21_col3,#T_20cf6_row26_col20{\n",
       "            background-color:  #d2edcc;\n",
       "            color:  #000000;\n",
       "        }#T_20cf6_row0_col12,#T_20cf6_row10_col22,#T_20cf6_row14_col0,#T_20cf6_row27_col18{\n",
       "            background-color:  #dbf1d5;\n",
       "            color:  #000000;\n",
       "        }#T_20cf6_row0_col13,#T_20cf6_row0_col26,#T_20cf6_row3_col19,#T_20cf6_row4_col21,#T_20cf6_row7_col27,#T_20cf6_row11_col10,#T_20cf6_row12_col27,#T_20cf6_row13_col27,#T_20cf6_row17_col27,#T_20cf6_row23_col18,#T_20cf6_row23_col27,#T_20cf6_row26_col27{\n",
       "            background-color:  #f0f9ed;\n",
       "            color:  #000000;\n",
       "        }#T_20cf6_row0_col14,#T_20cf6_row1_col24,#T_20cf6_row4_col14,#T_20cf6_row5_col10,#T_20cf6_row9_col25,#T_20cf6_row14_col19,#T_20cf6_row20_col14,#T_20cf6_row21_col0,#T_20cf6_row27_col4{\n",
       "            background-color:  #dff3da;\n",
       "            color:  #000000;\n",
       "        }#T_20cf6_row0_col16,#T_20cf6_row2_col13,#T_20cf6_row2_col26,#T_20cf6_row3_col21,#T_20cf6_row3_col24,#T_20cf6_row9_col2,#T_20cf6_row14_col2,#T_20cf6_row14_col7,#T_20cf6_row14_col16,#T_20cf6_row14_col21,#T_20cf6_row22_col2,#T_20cf6_row22_col4,#T_20cf6_row27_col0,#T_20cf6_row27_col23{\n",
       "            background-color:  #e4f5df;\n",
       "            color:  #000000;\n",
       "        }#T_20cf6_row0_col17,#T_20cf6_row3_col13,#T_20cf6_row3_col26,#T_20cf6_row3_col27,#T_20cf6_row4_col11,#T_20cf6_row8_col17,#T_20cf6_row9_col5,#T_20cf6_row11_col26,#T_20cf6_row13_col16,#T_20cf6_row18_col12,#T_20cf6_row20_col10,#T_20cf6_row21_col10,#T_20cf6_row25_col4,#T_20cf6_row26_col16,#T_20cf6_row27_col5,#T_20cf6_row27_col10{\n",
       "            background-color:  #eff9ec;\n",
       "            color:  #000000;\n",
       "        }#T_20cf6_row0_col18,#T_20cf6_row4_col17,#T_20cf6_row6_col17,#T_20cf6_row8_col10,#T_20cf6_row8_col27,#T_20cf6_row10_col17,#T_20cf6_row11_col13,#T_20cf6_row13_col10,#T_20cf6_row15_col17,#T_20cf6_row15_col19,#T_20cf6_row16_col7,#T_20cf6_row17_col10,#T_20cf6_row19_col23,#T_20cf6_row20_col25,#T_20cf6_row21_col24,#T_20cf6_row22_col17,#T_20cf6_row26_col10{\n",
       "            background-color:  #eff9eb;\n",
       "            color:  #000000;\n",
       "        }#T_20cf6_row0_col19,#T_20cf6_row4_col22,#T_20cf6_row6_col26,#T_20cf6_row6_col27,#T_20cf6_row7_col2,#T_20cf6_row7_col17,#T_20cf6_row11_col22,#T_20cf6_row12_col17,#T_20cf6_row13_col17,#T_20cf6_row14_col15,#T_20cf6_row16_col23,#T_20cf6_row19_col15,#T_20cf6_row23_col17,#T_20cf6_row24_col17,#T_20cf6_row26_col17,#T_20cf6_row27_col17{\n",
       "            background-color:  #eef8ea;\n",
       "            color:  #000000;\n",
       "        }#T_20cf6_row0_col20,#T_20cf6_row0_col23,#T_20cf6_row1_col6,#T_20cf6_row7_col21,#T_20cf6_row9_col7,#T_20cf6_row10_col11,#T_20cf6_row12_col11,#T_20cf6_row23_col5,#T_20cf6_row23_col11,#T_20cf6_row27_col9{\n",
       "            background-color:  #d8f0d2;\n",
       "            color:  #000000;\n",
       "        }#T_20cf6_row0_col21,#T_20cf6_row2_col9,#T_20cf6_row6_col24,#T_20cf6_row8_col2{\n",
       "            background-color:  #c9eac2;\n",
       "            color:  #000000;\n",
       "        }#T_20cf6_row0_col22,#T_20cf6_row1_col0,#T_20cf6_row1_col14,#T_20cf6_row2_col12,#T_20cf6_row2_col15,#T_20cf6_row2_col25,#T_20cf6_row3_col17,#T_20cf6_row5_col14,#T_20cf6_row8_col26,#T_20cf6_row9_col13,#T_20cf6_row9_col26,#T_20cf6_row10_col2,#T_20cf6_row11_col6,#T_20cf6_row12_col4,#T_20cf6_row12_col18,#T_20cf6_row14_col22,#T_20cf6_row15_col22,#T_20cf6_row16_col25,#T_20cf6_row17_col5,#T_20cf6_row17_col18,#T_20cf6_row19_col5,#T_20cf6_row19_col6,#T_20cf6_row19_col17,#T_20cf6_row19_col24,#T_20cf6_row19_col25,#T_20cf6_row22_col0,#T_20cf6_row22_col15,#T_20cf6_row23_col2,#T_20cf6_row24_col20,#T_20cf6_row25_col13,#T_20cf6_row25_col14{\n",
       "            background-color:  #ebf7e7;\n",
       "            color:  #000000;\n",
       "        }#T_20cf6_row0_col24,#T_20cf6_row2_col24,#T_20cf6_row6_col4,#T_20cf6_row7_col0,#T_20cf6_row7_col15,#T_20cf6_row8_col0,#T_20cf6_row13_col24,#T_20cf6_row17_col24,#T_20cf6_row20_col13,#T_20cf6_row20_col17,#T_20cf6_row20_col18,#T_20cf6_row21_col23,#T_20cf6_row21_col25,#T_20cf6_row22_col6,#T_20cf6_row24_col0,#T_20cf6_row24_col2,#T_20cf6_row24_col18,#T_20cf6_row26_col24{\n",
       "            background-color:  #e8f6e3;\n",
       "            color:  #000000;\n",
       "        }#T_20cf6_row0_col25,#T_20cf6_row13_col5,#T_20cf6_row17_col16,#T_20cf6_row20_col5,#T_20cf6_row26_col5{\n",
       "            background-color:  #def2d9;\n",
       "            color:  #000000;\n",
       "        }#T_20cf6_row0_col27,#T_20cf6_row1_col10,#T_20cf6_row3_col5,#T_20cf6_row4_col7,#T_20cf6_row5_col0,#T_20cf6_row7_col13,#T_20cf6_row7_col14,#T_20cf6_row7_col26,#T_20cf6_row8_col6,#T_20cf6_row9_col18,#T_20cf6_row10_col13,#T_20cf6_row10_col26,#T_20cf6_row12_col13,#T_20cf6_row12_col14,#T_20cf6_row12_col20,#T_20cf6_row12_col26,#T_20cf6_row13_col0,#T_20cf6_row13_col14,#T_20cf6_row15_col4,#T_20cf6_row15_col5,#T_20cf6_row16_col24,#T_20cf6_row17_col6,#T_20cf6_row17_col13,#T_20cf6_row17_col14,#T_20cf6_row17_col26,#T_20cf6_row20_col27,#T_20cf6_row21_col6,#T_20cf6_row22_col13,#T_20cf6_row22_col26,#T_20cf6_row23_col13,#T_20cf6_row23_col14,#T_20cf6_row23_col20,#T_20cf6_row23_col26,#T_20cf6_row24_col13,#T_20cf6_row24_col14,#T_20cf6_row24_col19,#T_20cf6_row24_col26,#T_20cf6_row25_col2,#T_20cf6_row25_col26,#T_20cf6_row26_col0,#T_20cf6_row26_col14,#T_20cf6_row27_col13,#T_20cf6_row27_col26{\n",
       "            background-color:  #ecf8e8;\n",
       "            color:  #000000;\n",
       "        }#T_20cf6_row1_col4{\n",
       "            background-color:  #98d594;\n",
       "            color:  #000000;\n",
       "        }#T_20cf6_row1_col5,#T_20cf6_row3_col4{\n",
       "            background-color:  #91d28e;\n",
       "            color:  #000000;\n",
       "        }#T_20cf6_row1_col7,#T_20cf6_row1_col15,#T_20cf6_row7_col11,#T_20cf6_row10_col20,#T_20cf6_row13_col11,#T_20cf6_row18_col15,#T_20cf6_row26_col11{\n",
       "            background-color:  #d9f0d3;\n",
       "            color:  #000000;\n",
       "        }#T_20cf6_row1_col8,#T_20cf6_row2_col20,#T_20cf6_row5_col12,#T_20cf6_row18_col5,#T_20cf6_row25_col1{\n",
       "            background-color:  #b8e3b2;\n",
       "            color:  #000000;\n",
       "        }#T_20cf6_row1_col11,#T_20cf6_row5_col7,#T_20cf6_row6_col18,#T_20cf6_row16_col20{\n",
       "            background-color:  #afdfa8;\n",
       "            color:  #000000;\n",
       "        }#T_20cf6_row1_col12,#T_20cf6_row3_col12,#T_20cf6_row4_col8,#T_20cf6_row5_col22,#T_20cf6_row6_col20,#T_20cf6_row9_col16,#T_20cf6_row10_col21,#T_20cf6_row12_col8,#T_20cf6_row16_col2{\n",
       "            background-color:  #d3eecd;\n",
       "            color:  #000000;\n",
       "        }#T_20cf6_row1_col16,#T_20cf6_row24_col12{\n",
       "            background-color:  #6abf71;\n",
       "            color:  #000000;\n",
       "        }#T_20cf6_row1_col17,#T_20cf6_row5_col25,#T_20cf6_row5_col26,#T_20cf6_row25_col11,#T_20cf6_row26_col18,#T_20cf6_row27_col11{\n",
       "            background-color:  #d6efd0;\n",
       "            color:  #000000;\n",
       "        }#T_20cf6_row1_col18{\n",
       "            background-color:  #62bb6d;\n",
       "            color:  #000000;\n",
       "        }#T_20cf6_row1_col19,#T_20cf6_row17_col1{\n",
       "            background-color:  #a3da9d;\n",
       "            color:  #000000;\n",
       "        }#T_20cf6_row1_col20,#T_20cf6_row13_col8,#T_20cf6_row17_col11,#T_20cf6_row18_col8{\n",
       "            background-color:  #cbeac4;\n",
       "            color:  #000000;\n",
       "        }#T_20cf6_row1_col23,#T_20cf6_row11_col3,#T_20cf6_row13_col18,#T_20cf6_row21_col18,#T_20cf6_row23_col21,#T_20cf6_row24_col11{\n",
       "            background-color:  #d7efd1;\n",
       "            color:  #000000;\n",
       "        }#T_20cf6_row1_col25,#T_20cf6_row10_col4,#T_20cf6_row15_col7,#T_20cf6_row18_col3,#T_20cf6_row18_col20,#T_20cf6_row21_col13,#T_20cf6_row21_col26,#T_20cf6_row22_col18,#T_20cf6_row24_col5,#T_20cf6_row25_col0{\n",
       "            background-color:  #e0f3db;\n",
       "            color:  #000000;\n",
       "        }#T_20cf6_row1_col27,#T_20cf6_row2_col10,#T_20cf6_row4_col10,#T_20cf6_row6_col0,#T_20cf6_row10_col16,#T_20cf6_row10_col19,#T_20cf6_row10_col27,#T_20cf6_row11_col27,#T_20cf6_row14_col10,#T_20cf6_row19_col12,#T_20cf6_row22_col27,#T_20cf6_row23_col4,#T_20cf6_row24_col27{\n",
       "            background-color:  #f1faee;\n",
       "            color:  #000000;\n",
       "        }#T_20cf6_row2_col1{\n",
       "            background-color:  #a9dca3;\n",
       "            color:  #000000;\n",
       "        }#T_20cf6_row2_col4,#T_20cf6_row20_col1,#T_20cf6_row21_col1,#T_20cf6_row23_col1{\n",
       "            background-color:  #b2e0ac;\n",
       "            color:  #000000;\n",
       "        }#T_20cf6_row2_col5,#T_20cf6_row2_col22,#T_20cf6_row3_col14,#T_20cf6_row6_col22,#T_20cf6_row9_col6,#T_20cf6_row11_col2,#T_20cf6_row15_col23{\n",
       "            background-color:  #e5f5e0;\n",
       "            color:  #000000;\n",
       "        }#T_20cf6_row2_col8,#T_20cf6_row4_col19,#T_20cf6_row8_col1,#T_20cf6_row12_col3,#T_20cf6_row18_col11,#T_20cf6_row18_col19{\n",
       "            background-color:  #abdda5;\n",
       "            color:  #000000;\n",
       "        }#T_20cf6_row2_col11,#T_20cf6_row2_col21,#T_20cf6_row20_col19,#T_20cf6_row25_col8{\n",
       "            background-color:  #d0edca;\n",
       "            color:  #000000;\n",
       "        }#T_20cf6_row2_col14,#T_20cf6_row2_col23,#T_20cf6_row8_col22,#T_20cf6_row11_col17,#T_20cf6_row11_col25,#T_20cf6_row14_col12,#T_20cf6_row16_col11,#T_20cf6_row16_col12,#T_20cf6_row17_col2,#T_20cf6_row21_col7,#T_20cf6_row27_col2{\n",
       "            background-color:  #e7f6e3;\n",
       "            color:  #000000;\n",
       "        }#T_20cf6_row2_col16,#T_20cf6_row6_col11,#T_20cf6_row8_col3,#T_20cf6_row9_col19,#T_20cf6_row15_col3,#T_20cf6_row22_col9,#T_20cf6_row23_col8,#T_20cf6_row25_col21,#T_20cf6_row25_col22{\n",
       "            background-color:  #d4eece;\n",
       "            color:  #000000;\n",
       "        }#T_20cf6_row2_col17,#T_20cf6_row5_col27,#T_20cf6_row6_col13,#T_20cf6_row10_col14,#T_20cf6_row13_col6,#T_20cf6_row14_col6,#T_20cf6_row14_col13,#T_20cf6_row14_col26,#T_20cf6_row18_col24,#T_20cf6_row18_col25,#T_20cf6_row21_col17,#T_20cf6_row22_col14,#T_20cf6_row24_col16,#T_20cf6_row25_col17,#T_20cf6_row25_col19,#T_20cf6_row26_col6,#T_20cf6_row27_col16{\n",
       "            background-color:  #edf8ea;\n",
       "            color:  #000000;\n",
       "        }#T_20cf6_row2_col18,#T_20cf6_row11_col15,#T_20cf6_row22_col23{\n",
       "            background-color:  #bde5b6;\n",
       "            color:  #000000;\n",
       "        }#T_20cf6_row2_col19,#T_20cf6_row25_col10{\n",
       "            background-color:  #ccebc6;\n",
       "            color:  #000000;\n",
       "        }#T_20cf6_row2_col27,#T_20cf6_row7_col20,#T_20cf6_row14_col17,#T_20cf6_row15_col6,#T_20cf6_row15_col10,#T_20cf6_row15_col14,#T_20cf6_row18_col14,#T_20cf6_row19_col7,#T_20cf6_row25_col27{\n",
       "            background-color:  #f0f9ec;\n",
       "            color:  #000000;\n",
       "        }#T_20cf6_row3_col2,#T_20cf6_row12_col19,#T_20cf6_row18_col7,#T_20cf6_row23_col19,#T_20cf6_row26_col19{\n",
       "            background-color:  #f4fbf1;\n",
       "            color:  #000000;\n",
       "        }#T_20cf6_row3_col6,#T_20cf6_row8_col18,#T_20cf6_row14_col8,#T_20cf6_row14_col9,#T_20cf6_row17_col4,#T_20cf6_row21_col15,#T_20cf6_row22_col11,#T_20cf6_row26_col4{\n",
       "            background-color:  #dcf2d7;\n",
       "            color:  #000000;\n",
       "        }#T_20cf6_row3_col9,#T_20cf6_row15_col11{\n",
       "            background-color:  #a7dba0;\n",
       "            color:  #000000;\n",
       "        }#T_20cf6_row3_col10,#T_20cf6_row5_col15,#T_20cf6_row5_col19,#T_20cf6_row8_col4,#T_20cf6_row10_col0,#T_20cf6_row10_col6,#T_20cf6_row15_col0,#T_20cf6_row19_col14,#T_20cf6_row20_col22,#T_20cf6_row21_col5{\n",
       "            background-color:  #e1f3dc;\n",
       "            color:  #000000;\n",
       "        }#T_20cf6_row3_col15,#T_20cf6_row4_col15,#T_20cf6_row7_col19,#T_20cf6_row11_col14,#T_20cf6_row11_col16,#T_20cf6_row11_col19,#T_20cf6_row18_col10,#T_20cf6_row19_col10{\n",
       "            background-color:  #f6fcf4;\n",
       "            color:  #000000;\n",
       "        }#T_20cf6_row3_col16,#T_20cf6_row4_col24,#T_20cf6_row15_col27{\n",
       "            background-color:  #f2faef;\n",
       "            color:  #000000;\n",
       "        }#T_20cf6_row3_col20,#T_20cf6_row7_col10{\n",
       "            background-color:  #97d492;\n",
       "            color:  #000000;\n",
       "        }#T_20cf6_row3_col22,#T_20cf6_row6_col19,#T_20cf6_row7_col4,#T_20cf6_row8_col7,#T_20cf6_row8_col23,#T_20cf6_row8_col25,#T_20cf6_row9_col24,#T_20cf6_row11_col12,#T_20cf6_row12_col15,#T_20cf6_row24_col4,#T_20cf6_row25_col15,#T_20cf6_row25_col18,#T_20cf6_row27_col24{\n",
       "            background-color:  #e8f6e4;\n",
       "            color:  #000000;\n",
       "        }#T_20cf6_row3_col25,#T_20cf6_row9_col12,#T_20cf6_row9_col23,#T_20cf6_row24_col21,#T_20cf6_row25_col6{\n",
       "            background-color:  #dbf1d6;\n",
       "            color:  #000000;\n",
       "        }#T_20cf6_row4_col0,#T_20cf6_row4_col27,#T_20cf6_row6_col2,#T_20cf6_row23_col16{\n",
       "            background-color:  #f3faf0;\n",
       "            color:  #000000;\n",
       "        }#T_20cf6_row4_col1{\n",
       "            background-color:  #7cc87c;\n",
       "            color:  #000000;\n",
       "        }#T_20cf6_row4_col2,#T_20cf6_row10_col25,#T_20cf6_row24_col22{\n",
       "            background-color:  #c1e6ba;\n",
       "            color:  #000000;\n",
       "        }#T_20cf6_row4_col3{\n",
       "            background-color:  #76c578;\n",
       "            color:  #000000;\n",
       "        }#T_20cf6_row4_col9,#T_20cf6_row11_col21{\n",
       "            background-color:  #a2d99c;\n",
       "            color:  #000000;\n",
       "        }#T_20cf6_row4_col12,#T_20cf6_row7_col18,#T_20cf6_row11_col9,#T_20cf6_row14_col5,#T_20cf6_row14_col27,#T_20cf6_row16_col13,#T_20cf6_row16_col26,#T_20cf6_row18_col23{\n",
       "            background-color:  #f2faf0;\n",
       "            color:  #000000;\n",
       "        }#T_20cf6_row4_col13,#T_20cf6_row4_col26,#T_20cf6_row6_col14,#T_20cf6_row6_col15,#T_20cf6_row9_col17,#T_20cf6_row9_col22,#T_20cf6_row12_col2,#T_20cf6_row15_col13,#T_20cf6_row15_col16,#T_20cf6_row15_col26,#T_20cf6_row16_col15,#T_20cf6_row18_col27,#T_20cf6_row19_col0,#T_20cf6_row25_col16,#T_20cf6_row27_col14,#T_20cf6_row27_col19{\n",
       "            background-color:  #edf8e9;\n",
       "            color:  #000000;\n",
       "        }#T_20cf6_row4_col16{\n",
       "            background-color:  #aadda4;\n",
       "            color:  #000000;\n",
       "        }#T_20cf6_row4_col18,#T_20cf6_row7_col5,#T_20cf6_row10_col9,#T_20cf6_row12_col22,#T_20cf6_row16_col5,#T_20cf6_row18_col2{\n",
       "            background-color:  #c8e9c1;\n",
       "            color:  #000000;\n",
       "        }#T_20cf6_row4_col20,#T_20cf6_row12_col25{\n",
       "            background-color:  #87cd86;\n",
       "            color:  #000000;\n",
       "        }#T_20cf6_row5_col1{\n",
       "            background-color:  #5ab769;\n",
       "            color:  #000000;\n",
       "        }#T_20cf6_row5_col2,#T_20cf6_row5_col13,#T_20cf6_row6_col25,#T_20cf6_row7_col8,#T_20cf6_row21_col22{\n",
       "            background-color:  #d5efcf;\n",
       "            color:  #000000;\n",
       "        }#T_20cf6_row5_col3,#T_20cf6_row5_col6,#T_20cf6_row5_col16,#T_20cf6_row11_col18,#T_20cf6_row12_col6,#T_20cf6_row14_col3,#T_20cf6_row21_col8,#T_20cf6_row22_col1{\n",
       "            background-color:  #b7e2b1;\n",
       "            color:  #000000;\n",
       "        }#T_20cf6_row5_col4,#T_20cf6_row6_col8,#T_20cf6_row8_col20,#T_20cf6_row14_col4,#T_20cf6_row15_col8,#T_20cf6_row16_col3,#T_20cf6_row17_col20,#T_20cf6_row22_col20,#T_20cf6_row23_col6,#T_20cf6_row24_col9{\n",
       "            background-color:  #ceecc8;\n",
       "            color:  #000000;\n",
       "        }#T_20cf6_row5_col8,#T_20cf6_row14_col1,#T_20cf6_row22_col3,#T_20cf6_row22_col24{\n",
       "            background-color:  #c0e6b9;\n",
       "            color:  #000000;\n",
       "        }#T_20cf6_row5_col9,#T_20cf6_row14_col20,#T_20cf6_row16_col8,#T_20cf6_row18_col21{\n",
       "            background-color:  #caeac3;\n",
       "            color:  #000000;\n",
       "        }#T_20cf6_row5_col11,#T_20cf6_row23_col10,#T_20cf6_row25_col3{\n",
       "            background-color:  #b4e1ad;\n",
       "            color:  #000000;\n",
       "        }#T_20cf6_row5_col17,#T_20cf6_row11_col23,#T_20cf6_row14_col18,#T_20cf6_row14_col25,#T_20cf6_row15_col25,#T_20cf6_row19_col11,#T_20cf6_row21_col2,#T_20cf6_row24_col15,#T_20cf6_row25_col5{\n",
       "            background-color:  #e7f6e2;\n",
       "            color:  #000000;\n",
       "        }#T_20cf6_row5_col18,#T_20cf6_row7_col3,#T_20cf6_row25_col24,#T_20cf6_row27_col21{\n",
       "            background-color:  #9fd899;\n",
       "            color:  #000000;\n",
       "        }#T_20cf6_row5_col20,#T_20cf6_row8_col21,#T_20cf6_row10_col1,#T_20cf6_row13_col1,#T_20cf6_row19_col20,#T_20cf6_row22_col21{\n",
       "            background-color:  #bce4b5;\n",
       "            color:  #000000;\n",
       "        }#T_20cf6_row5_col21,#T_20cf6_row7_col6,#T_20cf6_row10_col24{\n",
       "            background-color:  #bae3b3;\n",
       "            color:  #000000;\n",
       "        }#T_20cf6_row5_col23,#T_20cf6_row6_col23,#T_20cf6_row12_col9,#T_20cf6_row13_col21,#T_20cf6_row22_col12{\n",
       "            background-color:  #c3e7bc;\n",
       "            color:  #000000;\n",
       "        }#T_20cf6_row6_col1{\n",
       "            background-color:  #a8dca2;\n",
       "            color:  #000000;\n",
       "        }#T_20cf6_row6_col3,#T_20cf6_row6_col12,#T_20cf6_row10_col3,#T_20cf6_row15_col1,#T_20cf6_row22_col7,#T_20cf6_row23_col3{\n",
       "            background-color:  #aedea7;\n",
       "            color:  #000000;\n",
       "        }#T_20cf6_row6_col7,#T_20cf6_row12_col1,#T_20cf6_row12_col10{\n",
       "            background-color:  #acdea6;\n",
       "            color:  #000000;\n",
       "        }#T_20cf6_row6_col9,#T_20cf6_row7_col9,#T_20cf6_row15_col21,#T_20cf6_row20_col16,#T_20cf6_row23_col22,#T_20cf6_row24_col10{\n",
       "            background-color:  #c4e8bd;\n",
       "            color:  #000000;\n",
       "        }#T_20cf6_row6_col10,#T_20cf6_row8_col16,#T_20cf6_row10_col5,#T_20cf6_row13_col12,#T_20cf6_row14_col11,#T_20cf6_row14_col23,#T_20cf6_row15_col24,#T_20cf6_row17_col12,#T_20cf6_row17_col19,#T_20cf6_row18_col13,#T_20cf6_row18_col26,#T_20cf6_row21_col12,#T_20cf6_row26_col12{\n",
       "            background-color:  #e5f5e1;\n",
       "            color:  #000000;\n",
       "        }#T_20cf6_row6_col16,#T_20cf6_row9_col3,#T_20cf6_row11_col1{\n",
       "            background-color:  #99d595;\n",
       "            color:  #000000;\n",
       "        }#T_20cf6_row7_col1,#T_20cf6_row7_col22,#T_20cf6_row19_col9,#T_20cf6_row24_col1{\n",
       "            background-color:  #b6e2af;\n",
       "            color:  #000000;\n",
       "        }#T_20cf6_row7_col12{\n",
       "            background-color:  #2a924a;\n",
       "            color:  #000000;\n",
       "        }#T_20cf6_row7_col23{\n",
       "            background-color:  #258d47;\n",
       "            color:  #000000;\n",
       "        }#T_20cf6_row7_col24{\n",
       "            background-color:  #48ae60;\n",
       "            color:  #000000;\n",
       "        }#T_20cf6_row7_col25{\n",
       "            background-color:  #73c476;\n",
       "            color:  #000000;\n",
       "        }#T_20cf6_row8_col24,#T_20cf6_row11_col0,#T_20cf6_row11_col7,#T_20cf6_row13_col25,#T_20cf6_row15_col12,#T_20cf6_row16_col14,#T_20cf6_row16_col17,#T_20cf6_row17_col25,#T_20cf6_row26_col25,#T_20cf6_row27_col12,#T_20cf6_row27_col25{\n",
       "            background-color:  #e6f5e1;\n",
       "            color:  #000000;\n",
       "        }#T_20cf6_row9_col4{\n",
       "            background-color:  #b0dfaa;\n",
       "            color:  #000000;\n",
       "        }#T_20cf6_row9_col20{\n",
       "            background-color:  #8dd08a;\n",
       "            color:  #000000;\n",
       "        }#T_20cf6_row10_col7,#T_20cf6_row25_col12{\n",
       "            background-color:  #86cc85;\n",
       "            color:  #000000;\n",
       "        }#T_20cf6_row10_col12,#T_20cf6_row19_col18{\n",
       "            background-color:  #a0d99b;\n",
       "            color:  #000000;\n",
       "        }#T_20cf6_row10_col23,#T_20cf6_row21_col11{\n",
       "            background-color:  #a4da9e;\n",
       "            color:  #000000;\n",
       "        }#T_20cf6_row11_col4,#T_20cf6_row13_col19,#T_20cf6_row19_col27,#T_20cf6_row21_col9,#T_20cf6_row21_col16,#T_20cf6_row21_col19{\n",
       "            background-color:  #f4fbf2;\n",
       "            color:  #000000;\n",
       "        }#T_20cf6_row11_col5{\n",
       "            background-color:  #daf0d4;\n",
       "            color:  #000000;\n",
       "        }#T_20cf6_row11_col8,#T_20cf6_row18_col6,#T_20cf6_row27_col3{\n",
       "            background-color:  #bee5b8;\n",
       "            color:  #000000;\n",
       "        }#T_20cf6_row12_col0,#T_20cf6_row13_col2,#T_20cf6_row13_col4,#T_20cf6_row18_col9,#T_20cf6_row20_col21,#T_20cf6_row23_col0,#T_20cf6_row26_col2{\n",
       "            background-color:  #ddf2d8;\n",
       "            color:  #000000;\n",
       "        }#T_20cf6_row12_col5,#T_20cf6_row17_col9,#T_20cf6_row19_col2,#T_20cf6_row19_col3,#T_20cf6_row20_col2,#T_20cf6_row22_col8,#T_20cf6_row24_col8,#T_20cf6_row26_col8,#T_20cf6_row26_col9,#T_20cf6_row27_col8{\n",
       "            background-color:  #cbebc5;\n",
       "            color:  #000000;\n",
       "        }#T_20cf6_row12_col7{\n",
       "            background-color:  #29914a;\n",
       "            color:  #000000;\n",
       "        }#T_20cf6_row12_col23{\n",
       "            background-color:  #1c8540;\n",
       "            color:  #000000;\n",
       "        }#T_20cf6_row12_col24{\n",
       "            background-color:  #6dc072;\n",
       "            color:  #000000;\n",
       "        }#T_20cf6_row13_col3{\n",
       "            background-color:  #c7e9c0;\n",
       "            color:  #000000;\n",
       "        }#T_20cf6_row13_col23,#T_20cf6_row15_col9,#T_20cf6_row16_col21,#T_20cf6_row17_col23,#T_20cf6_row19_col21,#T_20cf6_row21_col20,#T_20cf6_row22_col10,#T_20cf6_row25_col20,#T_20cf6_row26_col23{\n",
       "            background-color:  #e3f4de;\n",
       "            color:  #000000;\n",
       "        }#T_20cf6_row13_col26,#T_20cf6_row26_col13{\n",
       "            background-color:  #004a1e;\n",
       "            color:  #f1f1f1;\n",
       "        }#T_20cf6_row15_col18,#T_20cf6_row17_col8,#T_20cf6_row19_col8{\n",
       "            background-color:  #cfecc9;\n",
       "            color:  #000000;\n",
       "        }#T_20cf6_row16_col1{\n",
       "            background-color:  #45ad5f;\n",
       "            color:  #000000;\n",
       "        }#T_20cf6_row16_col4,#T_20cf6_row19_col4{\n",
       "            background-color:  #9bd696;\n",
       "            color:  #000000;\n",
       "        }#T_20cf6_row16_col6{\n",
       "            background-color:  #9ed798;\n",
       "            color:  #000000;\n",
       "        }#T_20cf6_row16_col9{\n",
       "            background-color:  #b5e1ae;\n",
       "            color:  #000000;\n",
       "        }#T_20cf6_row16_col18{\n",
       "            background-color:  #5bb86a;\n",
       "            color:  #000000;\n",
       "        }#T_20cf6_row16_col19,#T_20cf6_row19_col16{\n",
       "            background-color:  #3aa357;\n",
       "            color:  #000000;\n",
       "        }#T_20cf6_row16_col27,#T_20cf6_row18_col0,#T_20cf6_row20_col11,#T_20cf6_row20_col23{\n",
       "            background-color:  #f5fbf3;\n",
       "            color:  #000000;\n",
       "        }#T_20cf6_row17_col3,#T_20cf6_row24_col3,#T_20cf6_row26_col1{\n",
       "            background-color:  #bbe4b4;\n",
       "            color:  #000000;\n",
       "        }#T_20cf6_row18_col1{\n",
       "            background-color:  #46ae60;\n",
       "            color:  #000000;\n",
       "        }#T_20cf6_row18_col16{\n",
       "            background-color:  #65bd6f;\n",
       "            color:  #000000;\n",
       "        }#T_20cf6_row19_col1{\n",
       "            background-color:  #78c679;\n",
       "            color:  #000000;\n",
       "        }#T_20cf6_row20_col3{\n",
       "            background-color:  #80ca80;\n",
       "            color:  #000000;\n",
       "        }#T_20cf6_row20_col4{\n",
       "            background-color:  #8bcf89;\n",
       "            color:  #000000;\n",
       "        }#T_20cf6_row20_col9{\n",
       "            background-color:  #83cb82;\n",
       "            color:  #000000;\n",
       "        }#T_20cf6_row23_col7{\n",
       "            background-color:  #248c46;\n",
       "            color:  #000000;\n",
       "        }#T_20cf6_row23_col12{\n",
       "            background-color:  #1d8640;\n",
       "            color:  #000000;\n",
       "        }#T_20cf6_row23_col24{\n",
       "            background-color:  #70c274;\n",
       "            color:  #000000;\n",
       "        }#T_20cf6_row23_col25{\n",
       "            background-color:  #3ba458;\n",
       "            color:  #000000;\n",
       "        }#T_20cf6_row24_col7{\n",
       "            background-color:  #42ab5d;\n",
       "            color:  #000000;\n",
       "        }#T_20cf6_row24_col23{\n",
       "            background-color:  #6bc072;\n",
       "            color:  #000000;\n",
       "        }#T_20cf6_row24_col25{\n",
       "            background-color:  #9cd797;\n",
       "            color:  #000000;\n",
       "        }#T_20cf6_row25_col7{\n",
       "            background-color:  #6ec173;\n",
       "            color:  #000000;\n",
       "        }#T_20cf6_row25_col23{\n",
       "            background-color:  #39a257;\n",
       "            color:  #000000;\n",
       "        }</style><table id=\"T_20cf6_\" ><thead>    <tr>        <th class=\"blank level0\" ></th>        <th class=\"col_heading level0 col0\" >key</th>        <th class=\"col_heading level0 col1\" >heat_dur_sum</th>        <th class=\"col_heading level0 col2\" >power_ratio_median</th>        <th class=\"col_heading level0 col3\" >first_temp</th>        <th class=\"col_heading level0 col4\" >last_temp</th>        <th class=\"col_heading level0 col5\" >gas_1</th>        <th class=\"col_heading level0 col6\" >bulk_1</th>        <th class=\"col_heading level0 col7\" >bulk_2</th>        <th class=\"col_heading level0 col8\" >bulk_3</th>        <th class=\"col_heading level0 col9\" >bulk_4</th>        <th class=\"col_heading level0 col10\" >bulk_5</th>        <th class=\"col_heading level0 col11\" >bulk_6</th>        <th class=\"col_heading level0 col12\" >bulk_7</th>        <th class=\"col_heading level0 col13\" >bulk_9</th>        <th class=\"col_heading level0 col14\" >bulk_10</th>        <th class=\"col_heading level0 col15\" >bulk_11</th>        <th class=\"col_heading level0 col16\" >bulk_12</th>        <th class=\"col_heading level0 col17\" >bulk_13</th>        <th class=\"col_heading level0 col18\" >bulk_14</th>        <th class=\"col_heading level0 col19\" >bulk_15</th>        <th class=\"col_heading level0 col20\" >wire_1</th>        <th class=\"col_heading level0 col21\" >wire_2</th>        <th class=\"col_heading level0 col22\" >wire_3</th>        <th class=\"col_heading level0 col23\" >wire_4</th>        <th class=\"col_heading level0 col24\" >wire_6</th>        <th class=\"col_heading level0 col25\" >wire_7</th>        <th class=\"col_heading level0 col26\" >wire_8</th>        <th class=\"col_heading level0 col27\" >wire_9</th>    </tr></thead><tbody>\n",
       "                <tr>\n",
       "                        <th id=\"T_20cf6_level0_row0\" class=\"row_heading level0 row0\" >key</th>\n",
       "                        <td id=\"T_20cf6_row0_col0\" class=\"data row0 col0\" >1.00</td>\n",
       "                        <td id=\"T_20cf6_row0_col1\" class=\"data row0 col1\" >-0.03</td>\n",
       "                        <td id=\"T_20cf6_row0_col2\" class=\"data row0 col2\" >-0.13</td>\n",
       "                        <td id=\"T_20cf6_row0_col3\" class=\"data row0 col3\" >-0.02</td>\n",
       "                        <td id=\"T_20cf6_row0_col4\" class=\"data row0 col4\" >-0.10</td>\n",
       "                        <td id=\"T_20cf6_row0_col5\" class=\"data row0 col5\" >-0.04</td>\n",
       "                        <td id=\"T_20cf6_row0_col6\" class=\"data row0 col6\" >-0.08</td>\n",
       "                        <td id=\"T_20cf6_row0_col7\" class=\"data row0 col7\" >-0.01</td>\n",
       "                        <td id=\"T_20cf6_row0_col8\" class=\"data row0 col8\" >-0.01</td>\n",
       "                        <td id=\"T_20cf6_row0_col9\" class=\"data row0 col9\" >-0.03</td>\n",
       "                        <td id=\"T_20cf6_row0_col10\" class=\"data row0 col10\" >0.04</td>\n",
       "                        <td id=\"T_20cf6_row0_col11\" class=\"data row0 col11\" >0.01</td>\n",
       "                        <td id=\"T_20cf6_row0_col12\" class=\"data row0 col12\" >0.05</td>\n",
       "                        <td id=\"T_20cf6_row0_col13\" class=\"data row0 col13\" >-0.04</td>\n",
       "                        <td id=\"T_20cf6_row0_col14\" class=\"data row0 col14\" >0.06</td>\n",
       "                        <td id=\"T_20cf6_row0_col15\" class=\"data row0 col15\" >0.04</td>\n",
       "                        <td id=\"T_20cf6_row0_col16\" class=\"data row0 col16\" >0.03</td>\n",
       "                        <td id=\"T_20cf6_row0_col17\" class=\"data row0 col17\" >-0.02</td>\n",
       "                        <td id=\"T_20cf6_row0_col18\" class=\"data row0 col18\" >-0.11</td>\n",
       "                        <td id=\"T_20cf6_row0_col19\" class=\"data row0 col19\" >-0.04</td>\n",
       "                        <td id=\"T_20cf6_row0_col20\" class=\"data row0 col20\" >-0.01</td>\n",
       "                        <td id=\"T_20cf6_row0_col21\" class=\"data row0 col21\" >0.04</td>\n",
       "                        <td id=\"T_20cf6_row0_col22\" class=\"data row0 col22\" >-0.03</td>\n",
       "                        <td id=\"T_20cf6_row0_col23\" class=\"data row0 col23\" >0.05</td>\n",
       "                        <td id=\"T_20cf6_row0_col24\" class=\"data row0 col24\" >-0.01</td>\n",
       "                        <td id=\"T_20cf6_row0_col25\" class=\"data row0 col25\" >0.04</td>\n",
       "                        <td id=\"T_20cf6_row0_col26\" class=\"data row0 col26\" >-0.04</td>\n",
       "                        <td id=\"T_20cf6_row0_col27\" class=\"data row0 col27\" >0.02</td>\n",
       "            </tr>\n",
       "            <tr>\n",
       "                        <th id=\"T_20cf6_level0_row1\" class=\"row_heading level0 row1\" >heat_dur_sum</th>\n",
       "                        <td id=\"T_20cf6_row1_col0\" class=\"data row1 col0\" >-0.03</td>\n",
       "                        <td id=\"T_20cf6_row1_col1\" class=\"data row1 col1\" >1.00</td>\n",
       "                        <td id=\"T_20cf6_row1_col2\" class=\"data row1 col2\" >0.10</td>\n",
       "                        <td id=\"T_20cf6_row1_col3\" class=\"data row1 col3\" >-0.38</td>\n",
       "                        <td id=\"T_20cf6_row1_col4\" class=\"data row1 col4\" >0.28</td>\n",
       "                        <td id=\"T_20cf6_row1_col5\" class=\"data row1 col5\" >0.40</td>\n",
       "                        <td id=\"T_20cf6_row1_col6\" class=\"data row1 col6\" >0.10</td>\n",
       "                        <td id=\"T_20cf6_row1_col7\" class=\"data row1 col7\" >0.04</td>\n",
       "                        <td id=\"T_20cf6_row1_col8\" class=\"data row1 col8\" >0.09</td>\n",
       "                        <td id=\"T_20cf6_row1_col9\" class=\"data row1 col9\" >-0.03</td>\n",
       "                        <td id=\"T_20cf6_row1_col10\" class=\"data row1 col10\" >0.01</td>\n",
       "                        <td id=\"T_20cf6_row1_col11\" class=\"data row1 col11\" >0.16</td>\n",
       "                        <td id=\"T_20cf6_row1_col12\" class=\"data row1 col12\" >0.08</td>\n",
       "                        <td id=\"T_20cf6_row1_col13\" class=\"data row1 col13\" >0.01</td>\n",
       "                        <td id=\"T_20cf6_row1_col14\" class=\"data row1 col14\" >-0.01</td>\n",
       "                        <td id=\"T_20cf6_row1_col15\" class=\"data row1 col15\" >0.08</td>\n",
       "                        <td id=\"T_20cf6_row1_col16\" class=\"data row1 col16\" >0.47</td>\n",
       "                        <td id=\"T_20cf6_row1_col17\" class=\"data row1 col17\" >0.13</td>\n",
       "                        <td id=\"T_20cf6_row1_col18\" class=\"data row1 col18\" >0.46</td>\n",
       "                        <td id=\"T_20cf6_row1_col19\" class=\"data row1 col19\" >0.29</td>\n",
       "                        <td id=\"T_20cf6_row1_col20\" class=\"data row1 col20\" >0.06</td>\n",
       "                        <td id=\"T_20cf6_row1_col21\" class=\"data row1 col21\" >0.05</td>\n",
       "                        <td id=\"T_20cf6_row1_col22\" class=\"data row1 col22\" >0.03</td>\n",
       "                        <td id=\"T_20cf6_row1_col23\" class=\"data row1 col23\" >0.05</td>\n",
       "                        <td id=\"T_20cf6_row1_col24\" class=\"data row1 col24\" >0.04</td>\n",
       "                        <td id=\"T_20cf6_row1_col25\" class=\"data row1 col25\" >0.03</td>\n",
       "                        <td id=\"T_20cf6_row1_col26\" class=\"data row1 col26\" >0.02</td>\n",
       "                        <td id=\"T_20cf6_row1_col27\" class=\"data row1 col27\" >-0.01</td>\n",
       "            </tr>\n",
       "            <tr>\n",
       "                        <th id=\"T_20cf6_level0_row2\" class=\"row_heading level0 row2\" >power_ratio_median</th>\n",
       "                        <td id=\"T_20cf6_row2_col0\" class=\"data row2 col0\" >-0.13</td>\n",
       "                        <td id=\"T_20cf6_row2_col1\" class=\"data row2 col1\" >0.10</td>\n",
       "                        <td id=\"T_20cf6_row2_col2\" class=\"data row2 col2\" >1.00</td>\n",
       "                        <td id=\"T_20cf6_row2_col3\" class=\"data row2 col3\" >-0.10</td>\n",
       "                        <td id=\"T_20cf6_row2_col4\" class=\"data row2 col4\" >0.18</td>\n",
       "                        <td id=\"T_20cf6_row2_col5\" class=\"data row2 col5\" >0.09</td>\n",
       "                        <td id=\"T_20cf6_row2_col6\" class=\"data row2 col6\" >-0.10</td>\n",
       "                        <td id=\"T_20cf6_row2_col7\" class=\"data row2 col7\" >-0.05</td>\n",
       "                        <td id=\"T_20cf6_row2_col8\" class=\"data row2 col8\" >0.15</td>\n",
       "                        <td id=\"T_20cf6_row2_col9\" class=\"data row2 col9\" >0.02</td>\n",
       "                        <td id=\"T_20cf6_row2_col10\" class=\"data row2 col10\" >-0.03</td>\n",
       "                        <td id=\"T_20cf6_row2_col11\" class=\"data row2 col11\" >0.02</td>\n",
       "                        <td id=\"T_20cf6_row2_col12\" class=\"data row2 col12\" >-0.04</td>\n",
       "                        <td id=\"T_20cf6_row2_col13\" class=\"data row2 col13\" >0.05</td>\n",
       "                        <td id=\"T_20cf6_row2_col14\" class=\"data row2 col14\" >0.02</td>\n",
       "                        <td id=\"T_20cf6_row2_col15\" class=\"data row2 col15\" >-0.02</td>\n",
       "                        <td id=\"T_20cf6_row2_col16\" class=\"data row2 col16\" >0.10</td>\n",
       "                        <td id=\"T_20cf6_row2_col17\" class=\"data row2 col17\" >-0.00</td>\n",
       "                        <td id=\"T_20cf6_row2_col18\" class=\"data row2 col18\" >0.15</td>\n",
       "                        <td id=\"T_20cf6_row2_col19\" class=\"data row2 col19\" >0.14</td>\n",
       "                        <td id=\"T_20cf6_row2_col20\" class=\"data row2 col20\" >0.13</td>\n",
       "                        <td id=\"T_20cf6_row2_col21\" class=\"data row2 col21\" >0.00</td>\n",
       "                        <td id=\"T_20cf6_row2_col22\" class=\"data row2 col22\" >0.02</td>\n",
       "                        <td id=\"T_20cf6_row2_col23\" class=\"data row2 col23\" >-0.03</td>\n",
       "                        <td id=\"T_20cf6_row2_col24\" class=\"data row2 col24\" >-0.01</td>\n",
       "                        <td id=\"T_20cf6_row2_col25\" class=\"data row2 col25\" >-0.04</td>\n",
       "                        <td id=\"T_20cf6_row2_col26\" class=\"data row2 col26\" >0.05</td>\n",
       "                        <td id=\"T_20cf6_row2_col27\" class=\"data row2 col27\" >-0.00</td>\n",
       "            </tr>\n",
       "            <tr>\n",
       "                        <th id=\"T_20cf6_level0_row3\" class=\"row_heading level0 row3\" >first_temp</th>\n",
       "                        <td id=\"T_20cf6_row3_col0\" class=\"data row3 col0\" >-0.02</td>\n",
       "                        <td id=\"T_20cf6_row3_col1\" class=\"data row3 col1\" >-0.38</td>\n",
       "                        <td id=\"T_20cf6_row3_col2\" class=\"data row3 col2\" >-0.10</td>\n",
       "                        <td id=\"T_20cf6_row3_col3\" class=\"data row3 col3\" >1.00</td>\n",
       "                        <td id=\"T_20cf6_row3_col4\" class=\"data row3 col4\" >0.30</td>\n",
       "                        <td id=\"T_20cf6_row3_col5\" class=\"data row3 col5\" >0.04</td>\n",
       "                        <td id=\"T_20cf6_row3_col6\" class=\"data row3 col6\" >0.08</td>\n",
       "                        <td id=\"T_20cf6_row3_col7\" class=\"data row3 col7\" >0.14</td>\n",
       "                        <td id=\"T_20cf6_row3_col8\" class=\"data row3 col8\" >-0.11</td>\n",
       "                        <td id=\"T_20cf6_row3_col9\" class=\"data row3 col9\" >0.17</td>\n",
       "                        <td id=\"T_20cf6_row3_col10\" class=\"data row3 col10\" >0.08</td>\n",
       "                        <td id=\"T_20cf6_row3_col11\" class=\"data row3 col11\" >-0.13</td>\n",
       "                        <td id=\"T_20cf6_row3_col12\" class=\"data row3 col12\" >0.09</td>\n",
       "                        <td id=\"T_20cf6_row3_col13\" class=\"data row3 col13\" >-0.03</td>\n",
       "                        <td id=\"T_20cf6_row3_col14\" class=\"data row3 col14\" >0.04</td>\n",
       "                        <td id=\"T_20cf6_row3_col15\" class=\"data row3 col15\" >-0.11</td>\n",
       "                        <td id=\"T_20cf6_row3_col16\" class=\"data row3 col16\" >-0.08</td>\n",
       "                        <td id=\"T_20cf6_row3_col17\" class=\"data row3 col17\" >0.02</td>\n",
       "                        <td id=\"T_20cf6_row3_col18\" class=\"data row3 col18\" >-0.18</td>\n",
       "                        <td id=\"T_20cf6_row3_col19\" class=\"data row3 col19\" >-0.06</td>\n",
       "                        <td id=\"T_20cf6_row3_col20\" class=\"data row3 col20\" >0.26</td>\n",
       "                        <td id=\"T_20cf6_row3_col21\" class=\"data row3 col21\" >-0.10</td>\n",
       "                        <td id=\"T_20cf6_row3_col22\" class=\"data row3 col22\" >-0.00</td>\n",
       "                        <td id=\"T_20cf6_row3_col23\" class=\"data row3 col23\" >0.08</td>\n",
       "                        <td id=\"T_20cf6_row3_col24\" class=\"data row3 col24\" >0.02</td>\n",
       "                        <td id=\"T_20cf6_row3_col25\" class=\"data row3 col25\" >0.05</td>\n",
       "                        <td id=\"T_20cf6_row3_col26\" class=\"data row3 col26\" >-0.03</td>\n",
       "                        <td id=\"T_20cf6_row3_col27\" class=\"data row3 col27\" >0.00</td>\n",
       "            </tr>\n",
       "            <tr>\n",
       "                        <th id=\"T_20cf6_level0_row4\" class=\"row_heading level0 row4\" >last_temp</th>\n",
       "                        <td id=\"T_20cf6_row4_col0\" class=\"data row4 col0\" >-0.10</td>\n",
       "                        <td id=\"T_20cf6_row4_col1\" class=\"data row4 col1\" >0.28</td>\n",
       "                        <td id=\"T_20cf6_row4_col2\" class=\"data row4 col2\" >0.18</td>\n",
       "                        <td id=\"T_20cf6_row4_col3\" class=\"data row4 col3\" >0.30</td>\n",
       "                        <td id=\"T_20cf6_row4_col4\" class=\"data row4 col4\" >1.00</td>\n",
       "                        <td id=\"T_20cf6_row4_col5\" class=\"data row4 col5\" >0.06</td>\n",
       "                        <td id=\"T_20cf6_row4_col6\" class=\"data row4 col6\" >-0.08</td>\n",
       "                        <td id=\"T_20cf6_row4_col7\" class=\"data row4 col7\" >-0.08</td>\n",
       "                        <td id=\"T_20cf6_row4_col8\" class=\"data row4 col8\" >-0.04</td>\n",
       "                        <td id=\"T_20cf6_row4_col9\" class=\"data row4 col9\" >0.19</td>\n",
       "                        <td id=\"T_20cf6_row4_col10\" class=\"data row4 col10\" >-0.03</td>\n",
       "                        <td id=\"T_20cf6_row4_col11\" class=\"data row4 col11\" >-0.18</td>\n",
       "                        <td id=\"T_20cf6_row4_col12\" class=\"data row4 col12\" >-0.11</td>\n",
       "                        <td id=\"T_20cf6_row4_col13\" class=\"data row4 col13\" >-0.02</td>\n",
       "                        <td id=\"T_20cf6_row4_col14\" class=\"data row4 col14\" >0.06</td>\n",
       "                        <td id=\"T_20cf6_row4_col15\" class=\"data row4 col15\" >-0.11</td>\n",
       "                        <td id=\"T_20cf6_row4_col16\" class=\"data row4 col16\" >0.27</td>\n",
       "                        <td id=\"T_20cf6_row4_col17\" class=\"data row4 col17\" >-0.01</td>\n",
       "                        <td id=\"T_20cf6_row4_col18\" class=\"data row4 col18\" >0.11</td>\n",
       "                        <td id=\"T_20cf6_row4_col19\" class=\"data row4 col19\" >0.27</td>\n",
       "                        <td id=\"T_20cf6_row4_col20\" class=\"data row4 col20\" >0.32</td>\n",
       "                        <td id=\"T_20cf6_row4_col21\" class=\"data row4 col21\" >-0.21</td>\n",
       "                        <td id=\"T_20cf6_row4_col22\" class=\"data row4 col22\" >-0.05</td>\n",
       "                        <td id=\"T_20cf6_row4_col23\" class=\"data row4 col23\" >-0.16</td>\n",
       "                        <td id=\"T_20cf6_row4_col24\" class=\"data row4 col24\" >-0.08</td>\n",
       "                        <td id=\"T_20cf6_row4_col25\" class=\"data row4 col25\" >-0.14</td>\n",
       "                        <td id=\"T_20cf6_row4_col26\" class=\"data row4 col26\" >-0.01</td>\n",
       "                        <td id=\"T_20cf6_row4_col27\" class=\"data row4 col27\" >-0.03</td>\n",
       "            </tr>\n",
       "            <tr>\n",
       "                        <th id=\"T_20cf6_level0_row5\" class=\"row_heading level0 row5\" >gas_1</th>\n",
       "                        <td id=\"T_20cf6_row5_col0\" class=\"data row5 col0\" >-0.04</td>\n",
       "                        <td id=\"T_20cf6_row5_col1\" class=\"data row5 col1\" >0.40</td>\n",
       "                        <td id=\"T_20cf6_row5_col2\" class=\"data row5 col2\" >0.09</td>\n",
       "                        <td id=\"T_20cf6_row5_col3\" class=\"data row5 col3\" >0.04</td>\n",
       "                        <td id=\"T_20cf6_row5_col4\" class=\"data row5 col4\" >0.06</td>\n",
       "                        <td id=\"T_20cf6_row5_col5\" class=\"data row5 col5\" >1.00</td>\n",
       "                        <td id=\"T_20cf6_row5_col6\" class=\"data row5 col6\" >0.23</td>\n",
       "                        <td id=\"T_20cf6_row5_col7\" class=\"data row5 col7\" >0.22</td>\n",
       "                        <td id=\"T_20cf6_row5_col8\" class=\"data row5 col8\" >0.06</td>\n",
       "                        <td id=\"T_20cf6_row5_col9\" class=\"data row5 col9\" >0.02</td>\n",
       "                        <td id=\"T_20cf6_row5_col10\" class=\"data row5 col10\" >0.09</td>\n",
       "                        <td id=\"T_20cf6_row5_col11\" class=\"data row5 col11\" >0.14</td>\n",
       "                        <td id=\"T_20cf6_row5_col12\" class=\"data row5 col12\" >0.20</td>\n",
       "                        <td id=\"T_20cf6_row5_col13\" class=\"data row5 col13\" >0.12</td>\n",
       "                        <td id=\"T_20cf6_row5_col14\" class=\"data row5 col14\" >-0.01</td>\n",
       "                        <td id=\"T_20cf6_row5_col15\" class=\"data row5 col15\" >0.04</td>\n",
       "                        <td id=\"T_20cf6_row5_col16\" class=\"data row5 col16\" >0.22</td>\n",
       "                        <td id=\"T_20cf6_row5_col17\" class=\"data row5 col17\" >0.05</td>\n",
       "                        <td id=\"T_20cf6_row5_col18\" class=\"data row5 col18\" >0.27</td>\n",
       "                        <td id=\"T_20cf6_row5_col19\" class=\"data row5 col19\" >0.04</td>\n",
       "                        <td id=\"T_20cf6_row5_col20\" class=\"data row5 col20\" >0.12</td>\n",
       "                        <td id=\"T_20cf6_row5_col21\" class=\"data row5 col21\" >0.10</td>\n",
       "                        <td id=\"T_20cf6_row5_col22\" class=\"data row5 col22\" >0.10</td>\n",
       "                        <td id=\"T_20cf6_row5_col23\" class=\"data row5 col23\" >0.15</td>\n",
       "                        <td id=\"T_20cf6_row5_col24\" class=\"data row5 col24\" >0.11</td>\n",
       "                        <td id=\"T_20cf6_row5_col25\" class=\"data row5 col25\" >0.08</td>\n",
       "                        <td id=\"T_20cf6_row5_col26\" class=\"data row5 col26\" >0.12</td>\n",
       "                        <td id=\"T_20cf6_row5_col27\" class=\"data row5 col27\" >0.01</td>\n",
       "            </tr>\n",
       "            <tr>\n",
       "                        <th id=\"T_20cf6_level0_row6\" class=\"row_heading level0 row6\" >bulk_1</th>\n",
       "                        <td id=\"T_20cf6_row6_col0\" class=\"data row6 col0\" >-0.08</td>\n",
       "                        <td id=\"T_20cf6_row6_col1\" class=\"data row6 col1\" >0.10</td>\n",
       "                        <td id=\"T_20cf6_row6_col2\" class=\"data row6 col2\" >-0.10</td>\n",
       "                        <td id=\"T_20cf6_row6_col3\" class=\"data row6 col3\" >0.08</td>\n",
       "                        <td id=\"T_20cf6_row6_col4\" class=\"data row6 col4\" >-0.08</td>\n",
       "                        <td id=\"T_20cf6_row6_col5\" class=\"data row6 col5\" >0.23</td>\n",
       "                        <td id=\"T_20cf6_row6_col6\" class=\"data row6 col6\" >1.00</td>\n",
       "                        <td id=\"T_20cf6_row6_col7\" class=\"data row6 col7\" >0.22</td>\n",
       "                        <td id=\"T_20cf6_row6_col8\" class=\"data row6 col8\" >-0.01</td>\n",
       "                        <td id=\"T_20cf6_row6_col9\" class=\"data row6 col9\" >0.04</td>\n",
       "                        <td id=\"T_20cf6_row6_col10\" class=\"data row6 col10\" >0.06</td>\n",
       "                        <td id=\"T_20cf6_row6_col11\" class=\"data row6 col11\" >-0.00</td>\n",
       "                        <td id=\"T_20cf6_row6_col12\" class=\"data row6 col12\" >0.24</td>\n",
       "                        <td id=\"T_20cf6_row6_col13\" class=\"data row6 col13\" >-0.02</td>\n",
       "                        <td id=\"T_20cf6_row6_col14\" class=\"data row6 col14\" >-0.02</td>\n",
       "                        <td id=\"T_20cf6_row6_col15\" class=\"data row6 col15\" >-0.04</td>\n",
       "                        <td id=\"T_20cf6_row6_col16\" class=\"data row6 col16\" >0.33</td>\n",
       "                        <td id=\"T_20cf6_row6_col17\" class=\"data row6 col17\" >-0.01</td>\n",
       "                        <td id=\"T_20cf6_row6_col18\" class=\"data row6 col18\" >0.21</td>\n",
       "                        <td id=\"T_20cf6_row6_col19\" class=\"data row6 col19\" >-0.00</td>\n",
       "                        <td id=\"T_20cf6_row6_col20\" class=\"data row6 col20\" >0.01</td>\n",
       "                        <td id=\"T_20cf6_row6_col21\" class=\"data row6 col21\" >-0.01</td>\n",
       "                        <td id=\"T_20cf6_row6_col22\" class=\"data row6 col22\" >0.02</td>\n",
       "                        <td id=\"T_20cf6_row6_col23\" class=\"data row6 col23\" >0.15</td>\n",
       "                        <td id=\"T_20cf6_row6_col24\" class=\"data row6 col24\" >0.15</td>\n",
       "                        <td id=\"T_20cf6_row6_col25\" class=\"data row6 col25\" >0.08</td>\n",
       "                        <td id=\"T_20cf6_row6_col26\" class=\"data row6 col26\" >-0.02</td>\n",
       "                        <td id=\"T_20cf6_row6_col27\" class=\"data row6 col27\" >0.01</td>\n",
       "            </tr>\n",
       "            <tr>\n",
       "                        <th id=\"T_20cf6_level0_row7\" class=\"row_heading level0 row7\" >bulk_2</th>\n",
       "                        <td id=\"T_20cf6_row7_col0\" class=\"data row7 col0\" >-0.01</td>\n",
       "                        <td id=\"T_20cf6_row7_col1\" class=\"data row7 col1\" >0.04</td>\n",
       "                        <td id=\"T_20cf6_row7_col2\" class=\"data row7 col2\" >-0.05</td>\n",
       "                        <td id=\"T_20cf6_row7_col3\" class=\"data row7 col3\" >0.14</td>\n",
       "                        <td id=\"T_20cf6_row7_col4\" class=\"data row7 col4\" >-0.08</td>\n",
       "                        <td id=\"T_20cf6_row7_col5\" class=\"data row7 col5\" >0.22</td>\n",
       "                        <td id=\"T_20cf6_row7_col6\" class=\"data row7 col6\" >0.22</td>\n",
       "                        <td id=\"T_20cf6_row7_col7\" class=\"data row7 col7\" >1.00</td>\n",
       "                        <td id=\"T_20cf6_row7_col8\" class=\"data row7 col8\" >-0.05</td>\n",
       "                        <td id=\"T_20cf6_row7_col9\" class=\"data row7 col9\" >0.04</td>\n",
       "                        <td id=\"T_20cf6_row7_col10\" class=\"data row7 col10\" >0.36</td>\n",
       "                        <td id=\"T_20cf6_row7_col11\" class=\"data row7 col11\" >-0.03</td>\n",
       "                        <td id=\"T_20cf6_row7_col12\" class=\"data row7 col12\" >0.68</td>\n",
       "                        <td id=\"T_20cf6_row7_col13\" class=\"data row7 col13\" >-0.01</td>\n",
       "                        <td id=\"T_20cf6_row7_col14\" class=\"data row7 col14\" >-0.02</td>\n",
       "                        <td id=\"T_20cf6_row7_col15\" class=\"data row7 col15\" >0.00</td>\n",
       "                        <td id=\"T_20cf6_row7_col16\" class=\"data row7 col16\" >-0.10</td>\n",
       "                        <td id=\"T_20cf6_row7_col17\" class=\"data row7 col17\" >-0.01</td>\n",
       "                        <td id=\"T_20cf6_row7_col18\" class=\"data row7 col18\" >-0.14</td>\n",
       "                        <td id=\"T_20cf6_row7_col19\" class=\"data row7 col19\" >-0.11</td>\n",
       "                        <td id=\"T_20cf6_row7_col20\" class=\"data row7 col20\" >-0.17</td>\n",
       "                        <td id=\"T_20cf6_row7_col21\" class=\"data row7 col21\" >-0.04</td>\n",
       "                        <td id=\"T_20cf6_row7_col22\" class=\"data row7 col22\" >0.22</td>\n",
       "                        <td id=\"T_20cf6_row7_col23\" class=\"data row7 col23\" >0.70</td>\n",
       "                        <td id=\"T_20cf6_row7_col24\" class=\"data row7 col24\" >0.56</td>\n",
       "                        <td id=\"T_20cf6_row7_col25\" class=\"data row7 col25\" >0.43</td>\n",
       "                        <td id=\"T_20cf6_row7_col26\" class=\"data row7 col26\" >-0.01</td>\n",
       "                        <td id=\"T_20cf6_row7_col27\" class=\"data row7 col27\" >-0.01</td>\n",
       "            </tr>\n",
       "            <tr>\n",
       "                        <th id=\"T_20cf6_level0_row8\" class=\"row_heading level0 row8\" >bulk_3</th>\n",
       "                        <td id=\"T_20cf6_row8_col0\" class=\"data row8 col0\" >-0.01</td>\n",
       "                        <td id=\"T_20cf6_row8_col1\" class=\"data row8 col1\" >0.09</td>\n",
       "                        <td id=\"T_20cf6_row8_col2\" class=\"data row8 col2\" >0.15</td>\n",
       "                        <td id=\"T_20cf6_row8_col3\" class=\"data row8 col3\" >-0.11</td>\n",
       "                        <td id=\"T_20cf6_row8_col4\" class=\"data row8 col4\" >-0.04</td>\n",
       "                        <td id=\"T_20cf6_row8_col5\" class=\"data row8 col5\" >0.06</td>\n",
       "                        <td id=\"T_20cf6_row8_col6\" class=\"data row8 col6\" >-0.01</td>\n",
       "                        <td id=\"T_20cf6_row8_col7\" class=\"data row8 col7\" >-0.05</td>\n",
       "                        <td id=\"T_20cf6_row8_col8\" class=\"data row8 col8\" >1.00</td>\n",
       "                        <td id=\"T_20cf6_row8_col9\" class=\"data row8 col9\" >-0.30</td>\n",
       "                        <td id=\"T_20cf6_row8_col10\" class=\"data row8 col10\" >-0.01</td>\n",
       "                        <td id=\"T_20cf6_row8_col11\" class=\"data row8 col11\" >0.07</td>\n",
       "                        <td id=\"T_20cf6_row8_col12\" class=\"data row8 col12\" >-0.03</td>\n",
       "                        <td id=\"T_20cf6_row8_col13\" class=\"data row8 col13\" >0.01</td>\n",
       "                        <td id=\"T_20cf6_row8_col14\" class=\"data row8 col14\" >-0.09</td>\n",
       "                        <td id=\"T_20cf6_row8_col15\" class=\"data row8 col15\" >-0.01</td>\n",
       "                        <td id=\"T_20cf6_row8_col16\" class=\"data row8 col16\" >0.02</td>\n",
       "                        <td id=\"T_20cf6_row8_col17\" class=\"data row8 col17\" >-0.01</td>\n",
       "                        <td id=\"T_20cf6_row8_col18\" class=\"data row8 col18\" >0.01</td>\n",
       "                        <td id=\"T_20cf6_row8_col19\" class=\"data row8 col19\" >-0.01</td>\n",
       "                        <td id=\"T_20cf6_row8_col20\" class=\"data row8 col20\" >0.04</td>\n",
       "                        <td id=\"T_20cf6_row8_col21\" class=\"data row8 col21\" >0.09</td>\n",
       "                        <td id=\"T_20cf6_row8_col22\" class=\"data row8 col22\" >0.01</td>\n",
       "                        <td id=\"T_20cf6_row8_col23\" class=\"data row8 col23\" >-0.04</td>\n",
       "                        <td id=\"T_20cf6_row8_col24\" class=\"data row8 col24\" >0.01</td>\n",
       "                        <td id=\"T_20cf6_row8_col25\" class=\"data row8 col25\" >-0.02</td>\n",
       "                        <td id=\"T_20cf6_row8_col26\" class=\"data row8 col26\" >0.00</td>\n",
       "                        <td id=\"T_20cf6_row8_col27\" class=\"data row8 col27\" >0.00</td>\n",
       "            </tr>\n",
       "            <tr>\n",
       "                        <th id=\"T_20cf6_level0_row9\" class=\"row_heading level0 row9\" >bulk_4</th>\n",
       "                        <td id=\"T_20cf6_row9_col0\" class=\"data row9 col0\" >-0.03</td>\n",
       "                        <td id=\"T_20cf6_row9_col1\" class=\"data row9 col1\" >-0.03</td>\n",
       "                        <td id=\"T_20cf6_row9_col2\" class=\"data row9 col2\" >0.02</td>\n",
       "                        <td id=\"T_20cf6_row9_col3\" class=\"data row9 col3\" >0.17</td>\n",
       "                        <td id=\"T_20cf6_row9_col4\" class=\"data row9 col4\" >0.19</td>\n",
       "                        <td id=\"T_20cf6_row9_col5\" class=\"data row9 col5\" >0.02</td>\n",
       "                        <td id=\"T_20cf6_row9_col6\" class=\"data row9 col6\" >0.04</td>\n",
       "                        <td id=\"T_20cf6_row9_col7\" class=\"data row9 col7\" >0.04</td>\n",
       "                        <td id=\"T_20cf6_row9_col8\" class=\"data row9 col8\" >-0.30</td>\n",
       "                        <td id=\"T_20cf6_row9_col9\" class=\"data row9 col9\" >1.00</td>\n",
       "                        <td id=\"T_20cf6_row9_col10\" class=\"data row9 col10\" >0.03</td>\n",
       "                        <td id=\"T_20cf6_row9_col11\" class=\"data row9 col11\" >-0.25</td>\n",
       "                        <td id=\"T_20cf6_row9_col12\" class=\"data row9 col12\" >0.05</td>\n",
       "                        <td id=\"T_20cf6_row9_col13\" class=\"data row9 col13\" >-0.00</td>\n",
       "                        <td id=\"T_20cf6_row9_col14\" class=\"data row9 col14\" >-0.08</td>\n",
       "                        <td id=\"T_20cf6_row9_col15\" class=\"data row9 col15\" >-0.12</td>\n",
       "                        <td id=\"T_20cf6_row9_col16\" class=\"data row9 col16\" >0.11</td>\n",
       "                        <td id=\"T_20cf6_row9_col17\" class=\"data row9 col17\" >0.00</td>\n",
       "                        <td id=\"T_20cf6_row9_col18\" class=\"data row9 col18\" >-0.09</td>\n",
       "                        <td id=\"T_20cf6_row9_col19\" class=\"data row9 col19\" >0.10</td>\n",
       "                        <td id=\"T_20cf6_row9_col20\" class=\"data row9 col20\" >0.30</td>\n",
       "                        <td id=\"T_20cf6_row9_col21\" class=\"data row9 col21\" >-0.27</td>\n",
       "                        <td id=\"T_20cf6_row9_col22\" class=\"data row9 col22\" >-0.04</td>\n",
       "                        <td id=\"T_20cf6_row9_col23\" class=\"data row9 col23\" >0.03</td>\n",
       "                        <td id=\"T_20cf6_row9_col24\" class=\"data row9 col24\" >-0.01</td>\n",
       "                        <td id=\"T_20cf6_row9_col25\" class=\"data row9 col25\" >0.03</td>\n",
       "                        <td id=\"T_20cf6_row9_col26\" class=\"data row9 col26\" >0.01</td>\n",
       "                        <td id=\"T_20cf6_row9_col27\" class=\"data row9 col27\" >-0.06</td>\n",
       "            </tr>\n",
       "            <tr>\n",
       "                        <th id=\"T_20cf6_level0_row10\" class=\"row_heading level0 row10\" >bulk_5</th>\n",
       "                        <td id=\"T_20cf6_row10_col0\" class=\"data row10 col0\" >0.04</td>\n",
       "                        <td id=\"T_20cf6_row10_col1\" class=\"data row10 col1\" >0.01</td>\n",
       "                        <td id=\"T_20cf6_row10_col2\" class=\"data row10 col2\" >-0.03</td>\n",
       "                        <td id=\"T_20cf6_row10_col3\" class=\"data row10 col3\" >0.08</td>\n",
       "                        <td id=\"T_20cf6_row10_col4\" class=\"data row10 col4\" >-0.03</td>\n",
       "                        <td id=\"T_20cf6_row10_col5\" class=\"data row10 col5\" >0.09</td>\n",
       "                        <td id=\"T_20cf6_row10_col6\" class=\"data row10 col6\" >0.06</td>\n",
       "                        <td id=\"T_20cf6_row10_col7\" class=\"data row10 col7\" >0.36</td>\n",
       "                        <td id=\"T_20cf6_row10_col8\" class=\"data row10 col8\" >-0.01</td>\n",
       "                        <td id=\"T_20cf6_row10_col9\" class=\"data row10 col9\" >0.03</td>\n",
       "                        <td id=\"T_20cf6_row10_col10\" class=\"data row10 col10\" >1.00</td>\n",
       "                        <td id=\"T_20cf6_row10_col11\" class=\"data row10 col11\" >-0.02</td>\n",
       "                        <td id=\"T_20cf6_row10_col12\" class=\"data row10 col12\" >0.29</td>\n",
       "                        <td id=\"T_20cf6_row10_col13\" class=\"data row10 col13\" >-0.01</td>\n",
       "                        <td id=\"T_20cf6_row10_col14\" class=\"data row10 col14\" >-0.03</td>\n",
       "                        <td id=\"T_20cf6_row10_col15\" class=\"data row10 col15\" >-0.02</td>\n",
       "                        <td id=\"T_20cf6_row10_col16\" class=\"data row10 col16\" >-0.07</td>\n",
       "                        <td id=\"T_20cf6_row10_col17\" class=\"data row10 col17\" >-0.01</td>\n",
       "                        <td id=\"T_20cf6_row10_col18\" class=\"data row10 col18\" >-0.07</td>\n",
       "                        <td id=\"T_20cf6_row10_col19\" class=\"data row10 col19\" >-0.07</td>\n",
       "                        <td id=\"T_20cf6_row10_col20\" class=\"data row10 col20\" >-0.01</td>\n",
       "                        <td id=\"T_20cf6_row10_col21\" class=\"data row10 col21\" >-0.01</td>\n",
       "                        <td id=\"T_20cf6_row10_col22\" class=\"data row10 col22\" >0.07</td>\n",
       "                        <td id=\"T_20cf6_row10_col23\" class=\"data row10 col23\" >0.26</td>\n",
       "                        <td id=\"T_20cf6_row10_col24\" class=\"data row10 col24\" >0.20</td>\n",
       "                        <td id=\"T_20cf6_row10_col25\" class=\"data row10 col25\" >0.17</td>\n",
       "                        <td id=\"T_20cf6_row10_col26\" class=\"data row10 col26\" >-0.01</td>\n",
       "                        <td id=\"T_20cf6_row10_col27\" class=\"data row10 col27\" >-0.01</td>\n",
       "            </tr>\n",
       "            <tr>\n",
       "                        <th id=\"T_20cf6_level0_row11\" class=\"row_heading level0 row11\" >bulk_6</th>\n",
       "                        <td id=\"T_20cf6_row11_col0\" class=\"data row11 col0\" >0.01</td>\n",
       "                        <td id=\"T_20cf6_row11_col1\" class=\"data row11 col1\" >0.16</td>\n",
       "                        <td id=\"T_20cf6_row11_col2\" class=\"data row11 col2\" >0.02</td>\n",
       "                        <td id=\"T_20cf6_row11_col3\" class=\"data row11 col3\" >-0.13</td>\n",
       "                        <td id=\"T_20cf6_row11_col4\" class=\"data row11 col4\" >-0.18</td>\n",
       "                        <td id=\"T_20cf6_row11_col5\" class=\"data row11 col5\" >0.14</td>\n",
       "                        <td id=\"T_20cf6_row11_col6\" class=\"data row11 col6\" >-0.00</td>\n",
       "                        <td id=\"T_20cf6_row11_col7\" class=\"data row11 col7\" >-0.03</td>\n",
       "                        <td id=\"T_20cf6_row11_col8\" class=\"data row11 col8\" >0.07</td>\n",
       "                        <td id=\"T_20cf6_row11_col9\" class=\"data row11 col9\" >-0.25</td>\n",
       "                        <td id=\"T_20cf6_row11_col10\" class=\"data row11 col10\" >-0.02</td>\n",
       "                        <td id=\"T_20cf6_row11_col11\" class=\"data row11 col11\" >1.00</td>\n",
       "                        <td id=\"T_20cf6_row11_col12\" class=\"data row11 col12\" >-0.03</td>\n",
       "                        <td id=\"T_20cf6_row11_col13\" class=\"data row11 col13\" >-0.03</td>\n",
       "                        <td id=\"T_20cf6_row11_col14\" class=\"data row11 col14\" >-0.10</td>\n",
       "                        <td id=\"T_20cf6_row11_col15\" class=\"data row11 col15\" >0.20</td>\n",
       "                        <td id=\"T_20cf6_row11_col16\" class=\"data row11 col16\" >-0.11</td>\n",
       "                        <td id=\"T_20cf6_row11_col17\" class=\"data row11 col17\" >0.04</td>\n",
       "                        <td id=\"T_20cf6_row11_col18\" class=\"data row11 col18\" >0.18</td>\n",
       "                        <td id=\"T_20cf6_row11_col19\" class=\"data row11 col19\" >-0.11</td>\n",
       "                        <td id=\"T_20cf6_row11_col20\" class=\"data row11 col20\" >-0.24</td>\n",
       "                        <td id=\"T_20cf6_row11_col21\" class=\"data row11 col21\" >0.21</td>\n",
       "                        <td id=\"T_20cf6_row11_col22\" class=\"data row11 col22\" >-0.05</td>\n",
       "                        <td id=\"T_20cf6_row11_col23\" class=\"data row11 col23\" >-0.03</td>\n",
       "                        <td id=\"T_20cf6_row11_col24\" class=\"data row11 col24\" >-0.02</td>\n",
       "                        <td id=\"T_20cf6_row11_col25\" class=\"data row11 col25\" >-0.01</td>\n",
       "                        <td id=\"T_20cf6_row11_col26\" class=\"data row11 col26\" >-0.03</td>\n",
       "                        <td id=\"T_20cf6_row11_col27\" class=\"data row11 col27\" >-0.01</td>\n",
       "            </tr>\n",
       "            <tr>\n",
       "                        <th id=\"T_20cf6_level0_row12\" class=\"row_heading level0 row12\" >bulk_7</th>\n",
       "                        <td id=\"T_20cf6_row12_col0\" class=\"data row12 col0\" >0.05</td>\n",
       "                        <td id=\"T_20cf6_row12_col1\" class=\"data row12 col1\" >0.08</td>\n",
       "                        <td id=\"T_20cf6_row12_col2\" class=\"data row12 col2\" >-0.04</td>\n",
       "                        <td id=\"T_20cf6_row12_col3\" class=\"data row12 col3\" >0.09</td>\n",
       "                        <td id=\"T_20cf6_row12_col4\" class=\"data row12 col4\" >-0.11</td>\n",
       "                        <td id=\"T_20cf6_row12_col5\" class=\"data row12 col5\" >0.20</td>\n",
       "                        <td id=\"T_20cf6_row12_col6\" class=\"data row12 col6\" >0.24</td>\n",
       "                        <td id=\"T_20cf6_row12_col7\" class=\"data row12 col7\" >0.68</td>\n",
       "                        <td id=\"T_20cf6_row12_col8\" class=\"data row12 col8\" >-0.03</td>\n",
       "                        <td id=\"T_20cf6_row12_col9\" class=\"data row12 col9\" >0.05</td>\n",
       "                        <td id=\"T_20cf6_row12_col10\" class=\"data row12 col10\" >0.29</td>\n",
       "                        <td id=\"T_20cf6_row12_col11\" class=\"data row12 col11\" >-0.03</td>\n",
       "                        <td id=\"T_20cf6_row12_col12\" class=\"data row12 col12\" >1.00</td>\n",
       "                        <td id=\"T_20cf6_row12_col13\" class=\"data row12 col13\" >-0.00</td>\n",
       "                        <td id=\"T_20cf6_row12_col14\" class=\"data row12 col14\" >-0.02</td>\n",
       "                        <td id=\"T_20cf6_row12_col15\" class=\"data row12 col15\" >-0.00</td>\n",
       "                        <td id=\"T_20cf6_row12_col16\" class=\"data row12 col16\" >-0.02</td>\n",
       "                        <td id=\"T_20cf6_row12_col17\" class=\"data row12 col17\" >-0.00</td>\n",
       "                        <td id=\"T_20cf6_row12_col18\" class=\"data row12 col18\" >-0.08</td>\n",
       "                        <td id=\"T_20cf6_row12_col19\" class=\"data row12 col19\" >-0.09</td>\n",
       "                        <td id=\"T_20cf6_row12_col20\" class=\"data row12 col20\" >-0.14</td>\n",
       "                        <td id=\"T_20cf6_row12_col21\" class=\"data row12 col21\" >-0.00</td>\n",
       "                        <td id=\"T_20cf6_row12_col22\" class=\"data row12 col22\" >0.16</td>\n",
       "                        <td id=\"T_20cf6_row12_col23\" class=\"data row12 col23\" >0.74</td>\n",
       "                        <td id=\"T_20cf6_row12_col24\" class=\"data row12 col24\" >0.46</td>\n",
       "                        <td id=\"T_20cf6_row12_col25\" class=\"data row12 col25\" >0.37</td>\n",
       "                        <td id=\"T_20cf6_row12_col26\" class=\"data row12 col26\" >-0.00</td>\n",
       "                        <td id=\"T_20cf6_row12_col27\" class=\"data row12 col27\" >-0.01</td>\n",
       "            </tr>\n",
       "            <tr>\n",
       "                        <th id=\"T_20cf6_level0_row13\" class=\"row_heading level0 row13\" >bulk_9</th>\n",
       "                        <td id=\"T_20cf6_row13_col0\" class=\"data row13 col0\" >-0.04</td>\n",
       "                        <td id=\"T_20cf6_row13_col1\" class=\"data row13 col1\" >0.01</td>\n",
       "                        <td id=\"T_20cf6_row13_col2\" class=\"data row13 col2\" >0.05</td>\n",
       "                        <td id=\"T_20cf6_row13_col3\" class=\"data row13 col3\" >-0.03</td>\n",
       "                        <td id=\"T_20cf6_row13_col4\" class=\"data row13 col4\" >-0.02</td>\n",
       "                        <td id=\"T_20cf6_row13_col5\" class=\"data row13 col5\" >0.12</td>\n",
       "                        <td id=\"T_20cf6_row13_col6\" class=\"data row13 col6\" >-0.02</td>\n",
       "                        <td id=\"T_20cf6_row13_col7\" class=\"data row13 col7\" >-0.01</td>\n",
       "                        <td id=\"T_20cf6_row13_col8\" class=\"data row13 col8\" >0.01</td>\n",
       "                        <td id=\"T_20cf6_row13_col9\" class=\"data row13 col9\" >-0.00</td>\n",
       "                        <td id=\"T_20cf6_row13_col10\" class=\"data row13 col10\" >-0.01</td>\n",
       "                        <td id=\"T_20cf6_row13_col11\" class=\"data row13 col11\" >-0.03</td>\n",
       "                        <td id=\"T_20cf6_row13_col12\" class=\"data row13 col12\" >-0.00</td>\n",
       "                        <td id=\"T_20cf6_row13_col13\" class=\"data row13 col13\" >1.00</td>\n",
       "                        <td id=\"T_20cf6_row13_col14\" class=\"data row13 col14\" >-0.02</td>\n",
       "                        <td id=\"T_20cf6_row13_col15\" class=\"data row13 col15\" >-0.01</td>\n",
       "                        <td id=\"T_20cf6_row13_col16\" class=\"data row13 col16\" >-0.06</td>\n",
       "                        <td id=\"T_20cf6_row13_col17\" class=\"data row13 col17\" >-0.01</td>\n",
       "                        <td id=\"T_20cf6_row13_col18\" class=\"data row13 col18\" >0.04</td>\n",
       "                        <td id=\"T_20cf6_row13_col19\" class=\"data row13 col19\" >-0.09</td>\n",
       "                        <td id=\"T_20cf6_row13_col20\" class=\"data row13 col20\" >0.02</td>\n",
       "                        <td id=\"T_20cf6_row13_col21\" class=\"data row13 col21\" >0.07</td>\n",
       "                        <td id=\"T_20cf6_row13_col22\" class=\"data row13 col22\" >-0.01</td>\n",
       "                        <td id=\"T_20cf6_row13_col23\" class=\"data row13 col23\" >-0.00</td>\n",
       "                        <td id=\"T_20cf6_row13_col24\" class=\"data row13 col24\" >-0.01</td>\n",
       "                        <td id=\"T_20cf6_row13_col25\" class=\"data row13 col25\" >-0.00</td>\n",
       "                        <td id=\"T_20cf6_row13_col26\" class=\"data row13 col26\" >0.97</td>\n",
       "                        <td id=\"T_20cf6_row13_col27\" class=\"data row13 col27\" >-0.01</td>\n",
       "            </tr>\n",
       "            <tr>\n",
       "                        <th id=\"T_20cf6_level0_row14\" class=\"row_heading level0 row14\" >bulk_10</th>\n",
       "                        <td id=\"T_20cf6_row14_col0\" class=\"data row14 col0\" >0.06</td>\n",
       "                        <td id=\"T_20cf6_row14_col1\" class=\"data row14 col1\" >-0.01</td>\n",
       "                        <td id=\"T_20cf6_row14_col2\" class=\"data row14 col2\" >0.02</td>\n",
       "                        <td id=\"T_20cf6_row14_col3\" class=\"data row14 col3\" >0.04</td>\n",
       "                        <td id=\"T_20cf6_row14_col4\" class=\"data row14 col4\" >0.06</td>\n",
       "                        <td id=\"T_20cf6_row14_col5\" class=\"data row14 col5\" >-0.01</td>\n",
       "                        <td id=\"T_20cf6_row14_col6\" class=\"data row14 col6\" >-0.02</td>\n",
       "                        <td id=\"T_20cf6_row14_col7\" class=\"data row14 col7\" >-0.02</td>\n",
       "                        <td id=\"T_20cf6_row14_col8\" class=\"data row14 col8\" >-0.09</td>\n",
       "                        <td id=\"T_20cf6_row14_col9\" class=\"data row14 col9\" >-0.08</td>\n",
       "                        <td id=\"T_20cf6_row14_col10\" class=\"data row14 col10\" >-0.03</td>\n",
       "                        <td id=\"T_20cf6_row14_col11\" class=\"data row14 col11\" >-0.10</td>\n",
       "                        <td id=\"T_20cf6_row14_col12\" class=\"data row14 col12\" >-0.02</td>\n",
       "                        <td id=\"T_20cf6_row14_col13\" class=\"data row14 col13\" >-0.02</td>\n",
       "                        <td id=\"T_20cf6_row14_col14\" class=\"data row14 col14\" >1.00</td>\n",
       "                        <td id=\"T_20cf6_row14_col15\" class=\"data row14 col15\" >-0.05</td>\n",
       "                        <td id=\"T_20cf6_row14_col16\" class=\"data row14 col16\" >0.03</td>\n",
       "                        <td id=\"T_20cf6_row14_col17\" class=\"data row14 col17\" >-0.02</td>\n",
       "                        <td id=\"T_20cf6_row14_col18\" class=\"data row14 col18\" >-0.05</td>\n",
       "                        <td id=\"T_20cf6_row14_col19\" class=\"data row14 col19\" >0.05</td>\n",
       "                        <td id=\"T_20cf6_row14_col20\" class=\"data row14 col20\" >0.06</td>\n",
       "                        <td id=\"T_20cf6_row14_col21\" class=\"data row14 col21\" >-0.10</td>\n",
       "                        <td id=\"T_20cf6_row14_col22\" class=\"data row14 col22\" >-0.03</td>\n",
       "                        <td id=\"T_20cf6_row14_col23\" class=\"data row14 col23\" >-0.02</td>\n",
       "                        <td id=\"T_20cf6_row14_col24\" class=\"data row14 col24\" >-0.02</td>\n",
       "                        <td id=\"T_20cf6_row14_col25\" class=\"data row14 col25\" >-0.01</td>\n",
       "                        <td id=\"T_20cf6_row14_col26\" class=\"data row14 col26\" >-0.02</td>\n",
       "                        <td id=\"T_20cf6_row14_col27\" class=\"data row14 col27\" >-0.02</td>\n",
       "            </tr>\n",
       "            <tr>\n",
       "                        <th id=\"T_20cf6_level0_row15\" class=\"row_heading level0 row15\" >bulk_11</th>\n",
       "                        <td id=\"T_20cf6_row15_col0\" class=\"data row15 col0\" >0.04</td>\n",
       "                        <td id=\"T_20cf6_row15_col1\" class=\"data row15 col1\" >0.08</td>\n",
       "                        <td id=\"T_20cf6_row15_col2\" class=\"data row15 col2\" >-0.02</td>\n",
       "                        <td id=\"T_20cf6_row15_col3\" class=\"data row15 col3\" >-0.11</td>\n",
       "                        <td id=\"T_20cf6_row15_col4\" class=\"data row15 col4\" >-0.11</td>\n",
       "                        <td id=\"T_20cf6_row15_col5\" class=\"data row15 col5\" >0.04</td>\n",
       "                        <td id=\"T_20cf6_row15_col6\" class=\"data row15 col6\" >-0.04</td>\n",
       "                        <td id=\"T_20cf6_row15_col7\" class=\"data row15 col7\" >0.00</td>\n",
       "                        <td id=\"T_20cf6_row15_col8\" class=\"data row15 col8\" >-0.01</td>\n",
       "                        <td id=\"T_20cf6_row15_col9\" class=\"data row15 col9\" >-0.12</td>\n",
       "                        <td id=\"T_20cf6_row15_col10\" class=\"data row15 col10\" >-0.02</td>\n",
       "                        <td id=\"T_20cf6_row15_col11\" class=\"data row15 col11\" >0.20</td>\n",
       "                        <td id=\"T_20cf6_row15_col12\" class=\"data row15 col12\" >-0.00</td>\n",
       "                        <td id=\"T_20cf6_row15_col13\" class=\"data row15 col13\" >-0.01</td>\n",
       "                        <td id=\"T_20cf6_row15_col14\" class=\"data row15 col14\" >-0.05</td>\n",
       "                        <td id=\"T_20cf6_row15_col15\" class=\"data row15 col15\" >1.00</td>\n",
       "                        <td id=\"T_20cf6_row15_col16\" class=\"data row15 col16\" >-0.04</td>\n",
       "                        <td id=\"T_20cf6_row15_col17\" class=\"data row15 col17\" >-0.01</td>\n",
       "                        <td id=\"T_20cf6_row15_col18\" class=\"data row15 col18\" >0.08</td>\n",
       "                        <td id=\"T_20cf6_row15_col19\" class=\"data row15 col19\" >-0.05</td>\n",
       "                        <td id=\"T_20cf6_row15_col20\" class=\"data row15 col20\" >-0.12</td>\n",
       "                        <td id=\"T_20cf6_row15_col21\" class=\"data row15 col21\" >0.06</td>\n",
       "                        <td id=\"T_20cf6_row15_col22\" class=\"data row15 col22\" >-0.02</td>\n",
       "                        <td id=\"T_20cf6_row15_col23\" class=\"data row15 col23\" >-0.01</td>\n",
       "                        <td id=\"T_20cf6_row15_col24\" class=\"data row15 col24\" >0.01</td>\n",
       "                        <td id=\"T_20cf6_row15_col25\" class=\"data row15 col25\" >-0.01</td>\n",
       "                        <td id=\"T_20cf6_row15_col26\" class=\"data row15 col26\" >-0.01</td>\n",
       "                        <td id=\"T_20cf6_row15_col27\" class=\"data row15 col27\" >-0.02</td>\n",
       "            </tr>\n",
       "            <tr>\n",
       "                        <th id=\"T_20cf6_level0_row16\" class=\"row_heading level0 row16\" >bulk_12</th>\n",
       "                        <td id=\"T_20cf6_row16_col0\" class=\"data row16 col0\" >0.03</td>\n",
       "                        <td id=\"T_20cf6_row16_col1\" class=\"data row16 col1\" >0.47</td>\n",
       "                        <td id=\"T_20cf6_row16_col2\" class=\"data row16 col2\" >0.10</td>\n",
       "                        <td id=\"T_20cf6_row16_col3\" class=\"data row16 col3\" >-0.08</td>\n",
       "                        <td id=\"T_20cf6_row16_col4\" class=\"data row16 col4\" >0.27</td>\n",
       "                        <td id=\"T_20cf6_row16_col5\" class=\"data row16 col5\" >0.22</td>\n",
       "                        <td id=\"T_20cf6_row16_col6\" class=\"data row16 col6\" >0.33</td>\n",
       "                        <td id=\"T_20cf6_row16_col7\" class=\"data row16 col7\" >-0.10</td>\n",
       "                        <td id=\"T_20cf6_row16_col8\" class=\"data row16 col8\" >0.02</td>\n",
       "                        <td id=\"T_20cf6_row16_col9\" class=\"data row16 col9\" >0.11</td>\n",
       "                        <td id=\"T_20cf6_row16_col10\" class=\"data row16 col10\" >-0.07</td>\n",
       "                        <td id=\"T_20cf6_row16_col11\" class=\"data row16 col11\" >-0.11</td>\n",
       "                        <td id=\"T_20cf6_row16_col12\" class=\"data row16 col12\" >-0.02</td>\n",
       "                        <td id=\"T_20cf6_row16_col13\" class=\"data row16 col13\" >-0.06</td>\n",
       "                        <td id=\"T_20cf6_row16_col14\" class=\"data row16 col14\" >0.03</td>\n",
       "                        <td id=\"T_20cf6_row16_col15\" class=\"data row16 col15\" >-0.04</td>\n",
       "                        <td id=\"T_20cf6_row16_col16\" class=\"data row16 col16\" >1.00</td>\n",
       "                        <td id=\"T_20cf6_row16_col17\" class=\"data row16 col17\" >0.05</td>\n",
       "                        <td id=\"T_20cf6_row16_col18\" class=\"data row16 col18\" >0.48</td>\n",
       "                        <td id=\"T_20cf6_row16_col19\" class=\"data row16 col19\" >0.61</td>\n",
       "                        <td id=\"T_20cf6_row16_col20\" class=\"data row16 col20\" >0.17</td>\n",
       "                        <td id=\"T_20cf6_row16_col21\" class=\"data row16 col21\" >-0.10</td>\n",
       "                        <td id=\"T_20cf6_row16_col22\" class=\"data row16 col22\" >-0.12</td>\n",
       "                        <td id=\"T_20cf6_row16_col23\" class=\"data row16 col23\" >-0.09</td>\n",
       "                        <td id=\"T_20cf6_row16_col24\" class=\"data row16 col24\" >-0.04</td>\n",
       "                        <td id=\"T_20cf6_row16_col25\" class=\"data row16 col25\" >-0.04</td>\n",
       "                        <td id=\"T_20cf6_row16_col26\" class=\"data row16 col26\" >-0.06</td>\n",
       "                        <td id=\"T_20cf6_row16_col27\" class=\"data row16 col27\" >-0.04</td>\n",
       "            </tr>\n",
       "            <tr>\n",
       "                        <th id=\"T_20cf6_level0_row17\" class=\"row_heading level0 row17\" >bulk_13</th>\n",
       "                        <td id=\"T_20cf6_row17_col0\" class=\"data row17 col0\" >-0.02</td>\n",
       "                        <td id=\"T_20cf6_row17_col1\" class=\"data row17 col1\" >0.13</td>\n",
       "                        <td id=\"T_20cf6_row17_col2\" class=\"data row17 col2\" >-0.00</td>\n",
       "                        <td id=\"T_20cf6_row17_col3\" class=\"data row17 col3\" >0.02</td>\n",
       "                        <td id=\"T_20cf6_row17_col4\" class=\"data row17 col4\" >-0.01</td>\n",
       "                        <td id=\"T_20cf6_row17_col5\" class=\"data row17 col5\" >0.05</td>\n",
       "                        <td id=\"T_20cf6_row17_col6\" class=\"data row17 col6\" >-0.01</td>\n",
       "                        <td id=\"T_20cf6_row17_col7\" class=\"data row17 col7\" >-0.01</td>\n",
       "                        <td id=\"T_20cf6_row17_col8\" class=\"data row17 col8\" >-0.01</td>\n",
       "                        <td id=\"T_20cf6_row17_col9\" class=\"data row17 col9\" >0.00</td>\n",
       "                        <td id=\"T_20cf6_row17_col10\" class=\"data row17 col10\" >-0.01</td>\n",
       "                        <td id=\"T_20cf6_row17_col11\" class=\"data row17 col11\" >0.04</td>\n",
       "                        <td id=\"T_20cf6_row17_col12\" class=\"data row17 col12\" >-0.00</td>\n",
       "                        <td id=\"T_20cf6_row17_col13\" class=\"data row17 col13\" >-0.01</td>\n",
       "                        <td id=\"T_20cf6_row17_col14\" class=\"data row17 col14\" >-0.02</td>\n",
       "                        <td id=\"T_20cf6_row17_col15\" class=\"data row17 col15\" >-0.01</td>\n",
       "                        <td id=\"T_20cf6_row17_col16\" class=\"data row17 col16\" >0.05</td>\n",
       "                        <td id=\"T_20cf6_row17_col17\" class=\"data row17 col17\" >1.00</td>\n",
       "                        <td id=\"T_20cf6_row17_col18\" class=\"data row17 col18\" >-0.08</td>\n",
       "                        <td id=\"T_20cf6_row17_col19\" class=\"data row17 col19\" >0.02</td>\n",
       "                        <td id=\"T_20cf6_row17_col20\" class=\"data row17 col20\" >0.04</td>\n",
       "                        <td id=\"T_20cf6_row17_col21\" class=\"data row17 col21\" >-0.00</td>\n",
       "                        <td id=\"T_20cf6_row17_col22\" class=\"data row17 col22\" >-0.01</td>\n",
       "                        <td id=\"T_20cf6_row17_col23\" class=\"data row17 col23\" >-0.00</td>\n",
       "                        <td id=\"T_20cf6_row17_col24\" class=\"data row17 col24\" >-0.01</td>\n",
       "                        <td id=\"T_20cf6_row17_col25\" class=\"data row17 col25\" >-0.00</td>\n",
       "                        <td id=\"T_20cf6_row17_col26\" class=\"data row17 col26\" >-0.01</td>\n",
       "                        <td id=\"T_20cf6_row17_col27\" class=\"data row17 col27\" >-0.01</td>\n",
       "            </tr>\n",
       "            <tr>\n",
       "                        <th id=\"T_20cf6_level0_row18\" class=\"row_heading level0 row18\" >bulk_14</th>\n",
       "                        <td id=\"T_20cf6_row18_col0\" class=\"data row18 col0\" >-0.11</td>\n",
       "                        <td id=\"T_20cf6_row18_col1\" class=\"data row18 col1\" >0.46</td>\n",
       "                        <td id=\"T_20cf6_row18_col2\" class=\"data row18 col2\" >0.15</td>\n",
       "                        <td id=\"T_20cf6_row18_col3\" class=\"data row18 col3\" >-0.18</td>\n",
       "                        <td id=\"T_20cf6_row18_col4\" class=\"data row18 col4\" >0.11</td>\n",
       "                        <td id=\"T_20cf6_row18_col5\" class=\"data row18 col5\" >0.27</td>\n",
       "                        <td id=\"T_20cf6_row18_col6\" class=\"data row18 col6\" >0.21</td>\n",
       "                        <td id=\"T_20cf6_row18_col7\" class=\"data row18 col7\" >-0.14</td>\n",
       "                        <td id=\"T_20cf6_row18_col8\" class=\"data row18 col8\" >0.01</td>\n",
       "                        <td id=\"T_20cf6_row18_col9\" class=\"data row18 col9\" >-0.09</td>\n",
       "                        <td id=\"T_20cf6_row18_col10\" class=\"data row18 col10\" >-0.07</td>\n",
       "                        <td id=\"T_20cf6_row18_col11\" class=\"data row18 col11\" >0.18</td>\n",
       "                        <td id=\"T_20cf6_row18_col12\" class=\"data row18 col12\" >-0.08</td>\n",
       "                        <td id=\"T_20cf6_row18_col13\" class=\"data row18 col13\" >0.04</td>\n",
       "                        <td id=\"T_20cf6_row18_col14\" class=\"data row18 col14\" >-0.05</td>\n",
       "                        <td id=\"T_20cf6_row18_col15\" class=\"data row18 col15\" >0.08</td>\n",
       "                        <td id=\"T_20cf6_row18_col16\" class=\"data row18 col16\" >0.48</td>\n",
       "                        <td id=\"T_20cf6_row18_col17\" class=\"data row18 col17\" >-0.08</td>\n",
       "                        <td id=\"T_20cf6_row18_col18\" class=\"data row18 col18\" >1.00</td>\n",
       "                        <td id=\"T_20cf6_row18_col19\" class=\"data row18 col19\" >0.26</td>\n",
       "                        <td id=\"T_20cf6_row18_col20\" class=\"data row18 col20\" >-0.05</td>\n",
       "                        <td id=\"T_20cf6_row18_col21\" class=\"data row18 col21\" >0.04</td>\n",
       "                        <td id=\"T_20cf6_row18_col22\" class=\"data row18 col22\" >-0.01</td>\n",
       "                        <td id=\"T_20cf6_row18_col23\" class=\"data row18 col23\" >-0.12</td>\n",
       "                        <td id=\"T_20cf6_row18_col24\" class=\"data row18 col24\" >-0.05</td>\n",
       "                        <td id=\"T_20cf6_row18_col25\" class=\"data row18 col25\" >-0.06</td>\n",
       "                        <td id=\"T_20cf6_row18_col26\" class=\"data row18 col26\" >0.04</td>\n",
       "                        <td id=\"T_20cf6_row18_col27\" class=\"data row18 col27\" >0.02</td>\n",
       "            </tr>\n",
       "            <tr>\n",
       "                        <th id=\"T_20cf6_level0_row19\" class=\"row_heading level0 row19\" >bulk_15</th>\n",
       "                        <td id=\"T_20cf6_row19_col0\" class=\"data row19 col0\" >-0.04</td>\n",
       "                        <td id=\"T_20cf6_row19_col1\" class=\"data row19 col1\" >0.29</td>\n",
       "                        <td id=\"T_20cf6_row19_col2\" class=\"data row19 col2\" >0.14</td>\n",
       "                        <td id=\"T_20cf6_row19_col3\" class=\"data row19 col3\" >-0.06</td>\n",
       "                        <td id=\"T_20cf6_row19_col4\" class=\"data row19 col4\" >0.27</td>\n",
       "                        <td id=\"T_20cf6_row19_col5\" class=\"data row19 col5\" >0.04</td>\n",
       "                        <td id=\"T_20cf6_row19_col6\" class=\"data row19 col6\" >-0.00</td>\n",
       "                        <td id=\"T_20cf6_row19_col7\" class=\"data row19 col7\" >-0.11</td>\n",
       "                        <td id=\"T_20cf6_row19_col8\" class=\"data row19 col8\" >-0.01</td>\n",
       "                        <td id=\"T_20cf6_row19_col9\" class=\"data row19 col9\" >0.10</td>\n",
       "                        <td id=\"T_20cf6_row19_col10\" class=\"data row19 col10\" >-0.07</td>\n",
       "                        <td id=\"T_20cf6_row19_col11\" class=\"data row19 col11\" >-0.11</td>\n",
       "                        <td id=\"T_20cf6_row19_col12\" class=\"data row19 col12\" >-0.09</td>\n",
       "                        <td id=\"T_20cf6_row19_col13\" class=\"data row19 col13\" >-0.09</td>\n",
       "                        <td id=\"T_20cf6_row19_col14\" class=\"data row19 col14\" >0.05</td>\n",
       "                        <td id=\"T_20cf6_row19_col15\" class=\"data row19 col15\" >-0.05</td>\n",
       "                        <td id=\"T_20cf6_row19_col16\" class=\"data row19 col16\" >0.61</td>\n",
       "                        <td id=\"T_20cf6_row19_col17\" class=\"data row19 col17\" >0.02</td>\n",
       "                        <td id=\"T_20cf6_row19_col18\" class=\"data row19 col18\" >0.26</td>\n",
       "                        <td id=\"T_20cf6_row19_col19\" class=\"data row19 col19\" >1.00</td>\n",
       "                        <td id=\"T_20cf6_row19_col20\" class=\"data row19 col20\" >0.12</td>\n",
       "                        <td id=\"T_20cf6_row19_col21\" class=\"data row19 col21\" >-0.10</td>\n",
       "                        <td id=\"T_20cf6_row19_col22\" class=\"data row19 col22\" >-0.12</td>\n",
       "                        <td id=\"T_20cf6_row19_col23\" class=\"data row19 col23\" >-0.09</td>\n",
       "                        <td id=\"T_20cf6_row19_col24\" class=\"data row19 col24\" >-0.03</td>\n",
       "                        <td id=\"T_20cf6_row19_col25\" class=\"data row19 col25\" >-0.04</td>\n",
       "                        <td id=\"T_20cf6_row19_col26\" class=\"data row19 col26\" >-0.09</td>\n",
       "                        <td id=\"T_20cf6_row19_col27\" class=\"data row19 col27\" >-0.04</td>\n",
       "            </tr>\n",
       "            <tr>\n",
       "                        <th id=\"T_20cf6_level0_row20\" class=\"row_heading level0 row20\" >wire_1</th>\n",
       "                        <td id=\"T_20cf6_row20_col0\" class=\"data row20 col0\" >-0.01</td>\n",
       "                        <td id=\"T_20cf6_row20_col1\" class=\"data row20 col1\" >0.06</td>\n",
       "                        <td id=\"T_20cf6_row20_col2\" class=\"data row20 col2\" >0.13</td>\n",
       "                        <td id=\"T_20cf6_row20_col3\" class=\"data row20 col3\" >0.26</td>\n",
       "                        <td id=\"T_20cf6_row20_col4\" class=\"data row20 col4\" >0.32</td>\n",
       "                        <td id=\"T_20cf6_row20_col5\" class=\"data row20 col5\" >0.12</td>\n",
       "                        <td id=\"T_20cf6_row20_col6\" class=\"data row20 col6\" >0.01</td>\n",
       "                        <td id=\"T_20cf6_row20_col7\" class=\"data row20 col7\" >-0.17</td>\n",
       "                        <td id=\"T_20cf6_row20_col8\" class=\"data row20 col8\" >0.04</td>\n",
       "                        <td id=\"T_20cf6_row20_col9\" class=\"data row20 col9\" >0.30</td>\n",
       "                        <td id=\"T_20cf6_row20_col10\" class=\"data row20 col10\" >-0.01</td>\n",
       "                        <td id=\"T_20cf6_row20_col11\" class=\"data row20 col11\" >-0.24</td>\n",
       "                        <td id=\"T_20cf6_row20_col12\" class=\"data row20 col12\" >-0.14</td>\n",
       "                        <td id=\"T_20cf6_row20_col13\" class=\"data row20 col13\" >0.02</td>\n",
       "                        <td id=\"T_20cf6_row20_col14\" class=\"data row20 col14\" >0.06</td>\n",
       "                        <td id=\"T_20cf6_row20_col15\" class=\"data row20 col15\" >-0.12</td>\n",
       "                        <td id=\"T_20cf6_row20_col16\" class=\"data row20 col16\" >0.17</td>\n",
       "                        <td id=\"T_20cf6_row20_col17\" class=\"data row20 col17\" >0.04</td>\n",
       "                        <td id=\"T_20cf6_row20_col18\" class=\"data row20 col18\" >-0.05</td>\n",
       "                        <td id=\"T_20cf6_row20_col19\" class=\"data row20 col19\" >0.12</td>\n",
       "                        <td id=\"T_20cf6_row20_col20\" class=\"data row20 col20\" >1.00</td>\n",
       "                        <td id=\"T_20cf6_row20_col21\" class=\"data row20 col21\" >-0.07</td>\n",
       "                        <td id=\"T_20cf6_row20_col22\" class=\"data row20 col22\" >0.04</td>\n",
       "                        <td id=\"T_20cf6_row20_col23\" class=\"data row20 col23\" >-0.14</td>\n",
       "                        <td id=\"T_20cf6_row20_col24\" class=\"data row20 col24\" >-0.13</td>\n",
       "                        <td id=\"T_20cf6_row20_col25\" class=\"data row20 col25\" >-0.07</td>\n",
       "                        <td id=\"T_20cf6_row20_col26\" class=\"data row20 col26\" >0.02</td>\n",
       "                        <td id=\"T_20cf6_row20_col27\" class=\"data row20 col27\" >0.02</td>\n",
       "            </tr>\n",
       "            <tr>\n",
       "                        <th id=\"T_20cf6_level0_row21\" class=\"row_heading level0 row21\" >wire_2</th>\n",
       "                        <td id=\"T_20cf6_row21_col0\" class=\"data row21 col0\" >0.04</td>\n",
       "                        <td id=\"T_20cf6_row21_col1\" class=\"data row21 col1\" >0.05</td>\n",
       "                        <td id=\"T_20cf6_row21_col2\" class=\"data row21 col2\" >0.00</td>\n",
       "                        <td id=\"T_20cf6_row21_col3\" class=\"data row21 col3\" >-0.10</td>\n",
       "                        <td id=\"T_20cf6_row21_col4\" class=\"data row21 col4\" >-0.21</td>\n",
       "                        <td id=\"T_20cf6_row21_col5\" class=\"data row21 col5\" >0.10</td>\n",
       "                        <td id=\"T_20cf6_row21_col6\" class=\"data row21 col6\" >-0.01</td>\n",
       "                        <td id=\"T_20cf6_row21_col7\" class=\"data row21 col7\" >-0.04</td>\n",
       "                        <td id=\"T_20cf6_row21_col8\" class=\"data row21 col8\" >0.09</td>\n",
       "                        <td id=\"T_20cf6_row21_col9\" class=\"data row21 col9\" >-0.27</td>\n",
       "                        <td id=\"T_20cf6_row21_col10\" class=\"data row21 col10\" >-0.01</td>\n",
       "                        <td id=\"T_20cf6_row21_col11\" class=\"data row21 col11\" >0.21</td>\n",
       "                        <td id=\"T_20cf6_row21_col12\" class=\"data row21 col12\" >-0.00</td>\n",
       "                        <td id=\"T_20cf6_row21_col13\" class=\"data row21 col13\" >0.07</td>\n",
       "                        <td id=\"T_20cf6_row21_col14\" class=\"data row21 col14\" >-0.10</td>\n",
       "                        <td id=\"T_20cf6_row21_col15\" class=\"data row21 col15\" >0.06</td>\n",
       "                        <td id=\"T_20cf6_row21_col16\" class=\"data row21 col16\" >-0.10</td>\n",
       "                        <td id=\"T_20cf6_row21_col17\" class=\"data row21 col17\" >-0.00</td>\n",
       "                        <td id=\"T_20cf6_row21_col18\" class=\"data row21 col18\" >0.04</td>\n",
       "                        <td id=\"T_20cf6_row21_col19\" class=\"data row21 col19\" >-0.10</td>\n",
       "                        <td id=\"T_20cf6_row21_col20\" class=\"data row21 col20\" >-0.07</td>\n",
       "                        <td id=\"T_20cf6_row21_col21\" class=\"data row21 col21\" >1.00</td>\n",
       "                        <td id=\"T_20cf6_row21_col22\" class=\"data row21 col22\" >0.09</td>\n",
       "                        <td id=\"T_20cf6_row21_col23\" class=\"data row21 col23\" >-0.03</td>\n",
       "                        <td id=\"T_20cf6_row21_col24\" class=\"data row21 col24\" >-0.06</td>\n",
       "                        <td id=\"T_20cf6_row21_col25\" class=\"data row21 col25\" >-0.02</td>\n",
       "                        <td id=\"T_20cf6_row21_col26\" class=\"data row21 col26\" >0.07</td>\n",
       "                        <td id=\"T_20cf6_row21_col27\" class=\"data row21 col27\" >0.21</td>\n",
       "            </tr>\n",
       "            <tr>\n",
       "                        <th id=\"T_20cf6_level0_row22\" class=\"row_heading level0 row22\" >wire_3</th>\n",
       "                        <td id=\"T_20cf6_row22_col0\" class=\"data row22 col0\" >-0.03</td>\n",
       "                        <td id=\"T_20cf6_row22_col1\" class=\"data row22 col1\" >0.03</td>\n",
       "                        <td id=\"T_20cf6_row22_col2\" class=\"data row22 col2\" >0.02</td>\n",
       "                        <td id=\"T_20cf6_row22_col3\" class=\"data row22 col3\" >-0.00</td>\n",
       "                        <td id=\"T_20cf6_row22_col4\" class=\"data row22 col4\" >-0.05</td>\n",
       "                        <td id=\"T_20cf6_row22_col5\" class=\"data row22 col5\" >0.10</td>\n",
       "                        <td id=\"T_20cf6_row22_col6\" class=\"data row22 col6\" >0.02</td>\n",
       "                        <td id=\"T_20cf6_row22_col7\" class=\"data row22 col7\" >0.22</td>\n",
       "                        <td id=\"T_20cf6_row22_col8\" class=\"data row22 col8\" >0.01</td>\n",
       "                        <td id=\"T_20cf6_row22_col9\" class=\"data row22 col9\" >-0.04</td>\n",
       "                        <td id=\"T_20cf6_row22_col10\" class=\"data row22 col10\" >0.07</td>\n",
       "                        <td id=\"T_20cf6_row22_col11\" class=\"data row22 col11\" >-0.05</td>\n",
       "                        <td id=\"T_20cf6_row22_col12\" class=\"data row22 col12\" >0.16</td>\n",
       "                        <td id=\"T_20cf6_row22_col13\" class=\"data row22 col13\" >-0.01</td>\n",
       "                        <td id=\"T_20cf6_row22_col14\" class=\"data row22 col14\" >-0.03</td>\n",
       "                        <td id=\"T_20cf6_row22_col15\" class=\"data row22 col15\" >-0.02</td>\n",
       "                        <td id=\"T_20cf6_row22_col16\" class=\"data row22 col16\" >-0.12</td>\n",
       "                        <td id=\"T_20cf6_row22_col17\" class=\"data row22 col17\" >-0.01</td>\n",
       "                        <td id=\"T_20cf6_row22_col18\" class=\"data row22 col18\" >-0.01</td>\n",
       "                        <td id=\"T_20cf6_row22_col19\" class=\"data row22 col19\" >-0.12</td>\n",
       "                        <td id=\"T_20cf6_row22_col20\" class=\"data row22 col20\" >0.04</td>\n",
       "                        <td id=\"T_20cf6_row22_col21\" class=\"data row22 col21\" >0.09</td>\n",
       "                        <td id=\"T_20cf6_row22_col22\" class=\"data row22 col22\" >1.00</td>\n",
       "                        <td id=\"T_20cf6_row22_col23\" class=\"data row22 col23\" >0.17</td>\n",
       "                        <td id=\"T_20cf6_row22_col24\" class=\"data row22 col24\" >0.18</td>\n",
       "                        <td id=\"T_20cf6_row22_col25\" class=\"data row22 col25\" >0.10</td>\n",
       "                        <td id=\"T_20cf6_row22_col26\" class=\"data row22 col26\" >-0.01</td>\n",
       "                        <td id=\"T_20cf6_row22_col27\" class=\"data row22 col27\" >-0.01</td>\n",
       "            </tr>\n",
       "            <tr>\n",
       "                        <th id=\"T_20cf6_level0_row23\" class=\"row_heading level0 row23\" >wire_4</th>\n",
       "                        <td id=\"T_20cf6_row23_col0\" class=\"data row23 col0\" >0.05</td>\n",
       "                        <td id=\"T_20cf6_row23_col1\" class=\"data row23 col1\" >0.05</td>\n",
       "                        <td id=\"T_20cf6_row23_col2\" class=\"data row23 col2\" >-0.03</td>\n",
       "                        <td id=\"T_20cf6_row23_col3\" class=\"data row23 col3\" >0.08</td>\n",
       "                        <td id=\"T_20cf6_row23_col4\" class=\"data row23 col4\" >-0.16</td>\n",
       "                        <td id=\"T_20cf6_row23_col5\" class=\"data row23 col5\" >0.15</td>\n",
       "                        <td id=\"T_20cf6_row23_col6\" class=\"data row23 col6\" >0.15</td>\n",
       "                        <td id=\"T_20cf6_row23_col7\" class=\"data row23 col7\" >0.70</td>\n",
       "                        <td id=\"T_20cf6_row23_col8\" class=\"data row23 col8\" >-0.04</td>\n",
       "                        <td id=\"T_20cf6_row23_col9\" class=\"data row23 col9\" >0.03</td>\n",
       "                        <td id=\"T_20cf6_row23_col10\" class=\"data row23 col10\" >0.26</td>\n",
       "                        <td id=\"T_20cf6_row23_col11\" class=\"data row23 col11\" >-0.03</td>\n",
       "                        <td id=\"T_20cf6_row23_col12\" class=\"data row23 col12\" >0.74</td>\n",
       "                        <td id=\"T_20cf6_row23_col13\" class=\"data row23 col13\" >-0.00</td>\n",
       "                        <td id=\"T_20cf6_row23_col14\" class=\"data row23 col14\" >-0.02</td>\n",
       "                        <td id=\"T_20cf6_row23_col15\" class=\"data row23 col15\" >-0.01</td>\n",
       "                        <td id=\"T_20cf6_row23_col16\" class=\"data row23 col16\" >-0.09</td>\n",
       "                        <td id=\"T_20cf6_row23_col17\" class=\"data row23 col17\" >-0.00</td>\n",
       "                        <td id=\"T_20cf6_row23_col18\" class=\"data row23 col18\" >-0.12</td>\n",
       "                        <td id=\"T_20cf6_row23_col19\" class=\"data row23 col19\" >-0.09</td>\n",
       "                        <td id=\"T_20cf6_row23_col20\" class=\"data row23 col20\" >-0.14</td>\n",
       "                        <td id=\"T_20cf6_row23_col21\" class=\"data row23 col21\" >-0.03</td>\n",
       "                        <td id=\"T_20cf6_row23_col22\" class=\"data row23 col22\" >0.17</td>\n",
       "                        <td id=\"T_20cf6_row23_col23\" class=\"data row23 col23\" >1.00</td>\n",
       "                        <td id=\"T_20cf6_row23_col24\" class=\"data row23 col24\" >0.45</td>\n",
       "                        <td id=\"T_20cf6_row23_col25\" class=\"data row23 col25\" >0.60</td>\n",
       "                        <td id=\"T_20cf6_row23_col26\" class=\"data row23 col26\" >-0.00</td>\n",
       "                        <td id=\"T_20cf6_row23_col27\" class=\"data row23 col27\" >-0.01</td>\n",
       "            </tr>\n",
       "            <tr>\n",
       "                        <th id=\"T_20cf6_level0_row24\" class=\"row_heading level0 row24\" >wire_6</th>\n",
       "                        <td id=\"T_20cf6_row24_col0\" class=\"data row24 col0\" >-0.01</td>\n",
       "                        <td id=\"T_20cf6_row24_col1\" class=\"data row24 col1\" >0.04</td>\n",
       "                        <td id=\"T_20cf6_row24_col2\" class=\"data row24 col2\" >-0.01</td>\n",
       "                        <td id=\"T_20cf6_row24_col3\" class=\"data row24 col3\" >0.02</td>\n",
       "                        <td id=\"T_20cf6_row24_col4\" class=\"data row24 col4\" >-0.08</td>\n",
       "                        <td id=\"T_20cf6_row24_col5\" class=\"data row24 col5\" >0.11</td>\n",
       "                        <td id=\"T_20cf6_row24_col6\" class=\"data row24 col6\" >0.15</td>\n",
       "                        <td id=\"T_20cf6_row24_col7\" class=\"data row24 col7\" >0.56</td>\n",
       "                        <td id=\"T_20cf6_row24_col8\" class=\"data row24 col8\" >0.01</td>\n",
       "                        <td id=\"T_20cf6_row24_col9\" class=\"data row24 col9\" >-0.01</td>\n",
       "                        <td id=\"T_20cf6_row24_col10\" class=\"data row24 col10\" >0.20</td>\n",
       "                        <td id=\"T_20cf6_row24_col11\" class=\"data row24 col11\" >-0.02</td>\n",
       "                        <td id=\"T_20cf6_row24_col12\" class=\"data row24 col12\" >0.46</td>\n",
       "                        <td id=\"T_20cf6_row24_col13\" class=\"data row24 col13\" >-0.01</td>\n",
       "                        <td id=\"T_20cf6_row24_col14\" class=\"data row24 col14\" >-0.02</td>\n",
       "                        <td id=\"T_20cf6_row24_col15\" class=\"data row24 col15\" >0.01</td>\n",
       "                        <td id=\"T_20cf6_row24_col16\" class=\"data row24 col16\" >-0.04</td>\n",
       "                        <td id=\"T_20cf6_row24_col17\" class=\"data row24 col17\" >-0.01</td>\n",
       "                        <td id=\"T_20cf6_row24_col18\" class=\"data row24 col18\" >-0.05</td>\n",
       "                        <td id=\"T_20cf6_row24_col19\" class=\"data row24 col19\" >-0.03</td>\n",
       "                        <td id=\"T_20cf6_row24_col20\" class=\"data row24 col20\" >-0.13</td>\n",
       "                        <td id=\"T_20cf6_row24_col21\" class=\"data row24 col21\" >-0.06</td>\n",
       "                        <td id=\"T_20cf6_row24_col22\" class=\"data row24 col22\" >0.18</td>\n",
       "                        <td id=\"T_20cf6_row24_col23\" class=\"data row24 col23\" >0.45</td>\n",
       "                        <td id=\"T_20cf6_row24_col24\" class=\"data row24 col24\" >1.00</td>\n",
       "                        <td id=\"T_20cf6_row24_col25\" class=\"data row24 col25\" >0.30</td>\n",
       "                        <td id=\"T_20cf6_row24_col26\" class=\"data row24 col26\" >-0.01</td>\n",
       "                        <td id=\"T_20cf6_row24_col27\" class=\"data row24 col27\" >-0.01</td>\n",
       "            </tr>\n",
       "            <tr>\n",
       "                        <th id=\"T_20cf6_level0_row25\" class=\"row_heading level0 row25\" >wire_7</th>\n",
       "                        <td id=\"T_20cf6_row25_col0\" class=\"data row25 col0\" >0.04</td>\n",
       "                        <td id=\"T_20cf6_row25_col1\" class=\"data row25 col1\" >0.03</td>\n",
       "                        <td id=\"T_20cf6_row25_col2\" class=\"data row25 col2\" >-0.04</td>\n",
       "                        <td id=\"T_20cf6_row25_col3\" class=\"data row25 col3\" >0.05</td>\n",
       "                        <td id=\"T_20cf6_row25_col4\" class=\"data row25 col4\" >-0.14</td>\n",
       "                        <td id=\"T_20cf6_row25_col5\" class=\"data row25 col5\" >0.08</td>\n",
       "                        <td id=\"T_20cf6_row25_col6\" class=\"data row25 col6\" >0.08</td>\n",
       "                        <td id=\"T_20cf6_row25_col7\" class=\"data row25 col7\" >0.43</td>\n",
       "                        <td id=\"T_20cf6_row25_col8\" class=\"data row25 col8\" >-0.02</td>\n",
       "                        <td id=\"T_20cf6_row25_col9\" class=\"data row25 col9\" >0.03</td>\n",
       "                        <td id=\"T_20cf6_row25_col10\" class=\"data row25 col10\" >0.17</td>\n",
       "                        <td id=\"T_20cf6_row25_col11\" class=\"data row25 col11\" >-0.01</td>\n",
       "                        <td id=\"T_20cf6_row25_col12\" class=\"data row25 col12\" >0.37</td>\n",
       "                        <td id=\"T_20cf6_row25_col13\" class=\"data row25 col13\" >-0.00</td>\n",
       "                        <td id=\"T_20cf6_row25_col14\" class=\"data row25 col14\" >-0.01</td>\n",
       "                        <td id=\"T_20cf6_row25_col15\" class=\"data row25 col15\" >-0.01</td>\n",
       "                        <td id=\"T_20cf6_row25_col16\" class=\"data row25 col16\" >-0.04</td>\n",
       "                        <td id=\"T_20cf6_row25_col17\" class=\"data row25 col17\" >-0.00</td>\n",
       "                        <td id=\"T_20cf6_row25_col18\" class=\"data row25 col18\" >-0.06</td>\n",
       "                        <td id=\"T_20cf6_row25_col19\" class=\"data row25 col19\" >-0.04</td>\n",
       "                        <td id=\"T_20cf6_row25_col20\" class=\"data row25 col20\" >-0.07</td>\n",
       "                        <td id=\"T_20cf6_row25_col21\" class=\"data row25 col21\" >-0.02</td>\n",
       "                        <td id=\"T_20cf6_row25_col22\" class=\"data row25 col22\" >0.10</td>\n",
       "                        <td id=\"T_20cf6_row25_col23\" class=\"data row25 col23\" >0.60</td>\n",
       "                        <td id=\"T_20cf6_row25_col24\" class=\"data row25 col24\" >0.30</td>\n",
       "                        <td id=\"T_20cf6_row25_col25\" class=\"data row25 col25\" >1.00</td>\n",
       "                        <td id=\"T_20cf6_row25_col26\" class=\"data row25 col26\" >-0.00</td>\n",
       "                        <td id=\"T_20cf6_row25_col27\" class=\"data row25 col27\" >-0.00</td>\n",
       "            </tr>\n",
       "            <tr>\n",
       "                        <th id=\"T_20cf6_level0_row26\" class=\"row_heading level0 row26\" >wire_8</th>\n",
       "                        <td id=\"T_20cf6_row26_col0\" class=\"data row26 col0\" >-0.04</td>\n",
       "                        <td id=\"T_20cf6_row26_col1\" class=\"data row26 col1\" >0.02</td>\n",
       "                        <td id=\"T_20cf6_row26_col2\" class=\"data row26 col2\" >0.05</td>\n",
       "                        <td id=\"T_20cf6_row26_col3\" class=\"data row26 col3\" >-0.03</td>\n",
       "                        <td id=\"T_20cf6_row26_col4\" class=\"data row26 col4\" >-0.01</td>\n",
       "                        <td id=\"T_20cf6_row26_col5\" class=\"data row26 col5\" >0.12</td>\n",
       "                        <td id=\"T_20cf6_row26_col6\" class=\"data row26 col6\" >-0.02</td>\n",
       "                        <td id=\"T_20cf6_row26_col7\" class=\"data row26 col7\" >-0.01</td>\n",
       "                        <td id=\"T_20cf6_row26_col8\" class=\"data row26 col8\" >0.00</td>\n",
       "                        <td id=\"T_20cf6_row26_col9\" class=\"data row26 col9\" >0.01</td>\n",
       "                        <td id=\"T_20cf6_row26_col10\" class=\"data row26 col10\" >-0.01</td>\n",
       "                        <td id=\"T_20cf6_row26_col11\" class=\"data row26 col11\" >-0.03</td>\n",
       "                        <td id=\"T_20cf6_row26_col12\" class=\"data row26 col12\" >-0.00</td>\n",
       "                        <td id=\"T_20cf6_row26_col13\" class=\"data row26 col13\" >0.97</td>\n",
       "                        <td id=\"T_20cf6_row26_col14\" class=\"data row26 col14\" >-0.02</td>\n",
       "                        <td id=\"T_20cf6_row26_col15\" class=\"data row26 col15\" >-0.01</td>\n",
       "                        <td id=\"T_20cf6_row26_col16\" class=\"data row26 col16\" >-0.06</td>\n",
       "                        <td id=\"T_20cf6_row26_col17\" class=\"data row26 col17\" >-0.01</td>\n",
       "                        <td id=\"T_20cf6_row26_col18\" class=\"data row26 col18\" >0.04</td>\n",
       "                        <td id=\"T_20cf6_row26_col19\" class=\"data row26 col19\" >-0.09</td>\n",
       "                        <td id=\"T_20cf6_row26_col20\" class=\"data row26 col20\" >0.02</td>\n",
       "                        <td id=\"T_20cf6_row26_col21\" class=\"data row26 col21\" >0.07</td>\n",
       "                        <td id=\"T_20cf6_row26_col22\" class=\"data row26 col22\" >-0.01</td>\n",
       "                        <td id=\"T_20cf6_row26_col23\" class=\"data row26 col23\" >-0.00</td>\n",
       "                        <td id=\"T_20cf6_row26_col24\" class=\"data row26 col24\" >-0.01</td>\n",
       "                        <td id=\"T_20cf6_row26_col25\" class=\"data row26 col25\" >-0.00</td>\n",
       "                        <td id=\"T_20cf6_row26_col26\" class=\"data row26 col26\" >1.00</td>\n",
       "                        <td id=\"T_20cf6_row26_col27\" class=\"data row26 col27\" >-0.01</td>\n",
       "            </tr>\n",
       "            <tr>\n",
       "                        <th id=\"T_20cf6_level0_row27\" class=\"row_heading level0 row27\" >wire_9</th>\n",
       "                        <td id=\"T_20cf6_row27_col0\" class=\"data row27 col0\" >0.02</td>\n",
       "                        <td id=\"T_20cf6_row27_col1\" class=\"data row27 col1\" >-0.01</td>\n",
       "                        <td id=\"T_20cf6_row27_col2\" class=\"data row27 col2\" >-0.00</td>\n",
       "                        <td id=\"T_20cf6_row27_col3\" class=\"data row27 col3\" >0.00</td>\n",
       "                        <td id=\"T_20cf6_row27_col4\" class=\"data row27 col4\" >-0.03</td>\n",
       "                        <td id=\"T_20cf6_row27_col5\" class=\"data row27 col5\" >0.01</td>\n",
       "                        <td id=\"T_20cf6_row27_col6\" class=\"data row27 col6\" >0.01</td>\n",
       "                        <td id=\"T_20cf6_row27_col7\" class=\"data row27 col7\" >-0.01</td>\n",
       "                        <td id=\"T_20cf6_row27_col8\" class=\"data row27 col8\" >0.00</td>\n",
       "                        <td id=\"T_20cf6_row27_col9\" class=\"data row27 col9\" >-0.06</td>\n",
       "                        <td id=\"T_20cf6_row27_col10\" class=\"data row27 col10\" >-0.01</td>\n",
       "                        <td id=\"T_20cf6_row27_col11\" class=\"data row27 col11\" >-0.01</td>\n",
       "                        <td id=\"T_20cf6_row27_col12\" class=\"data row27 col12\" >-0.01</td>\n",
       "                        <td id=\"T_20cf6_row27_col13\" class=\"data row27 col13\" >-0.01</td>\n",
       "                        <td id=\"T_20cf6_row27_col14\" class=\"data row27 col14\" >-0.02</td>\n",
       "                        <td id=\"T_20cf6_row27_col15\" class=\"data row27 col15\" >-0.02</td>\n",
       "                        <td id=\"T_20cf6_row27_col16\" class=\"data row27 col16\" >-0.04</td>\n",
       "                        <td id=\"T_20cf6_row27_col17\" class=\"data row27 col17\" >-0.01</td>\n",
       "                        <td id=\"T_20cf6_row27_col18\" class=\"data row27 col18\" >0.02</td>\n",
       "                        <td id=\"T_20cf6_row27_col19\" class=\"data row27 col19\" >-0.04</td>\n",
       "                        <td id=\"T_20cf6_row27_col20\" class=\"data row27 col20\" >0.02</td>\n",
       "                        <td id=\"T_20cf6_row27_col21\" class=\"data row27 col21\" >0.21</td>\n",
       "                        <td id=\"T_20cf6_row27_col22\" class=\"data row27 col22\" >-0.01</td>\n",
       "                        <td id=\"T_20cf6_row27_col23\" class=\"data row27 col23\" >-0.01</td>\n",
       "                        <td id=\"T_20cf6_row27_col24\" class=\"data row27 col24\" >-0.01</td>\n",
       "                        <td id=\"T_20cf6_row27_col25\" class=\"data row27 col25\" >-0.00</td>\n",
       "                        <td id=\"T_20cf6_row27_col26\" class=\"data row27 col26\" >-0.01</td>\n",
       "                        <td id=\"T_20cf6_row27_col27\" class=\"data row27 col27\" >1.00</td>\n",
       "            </tr>\n",
       "    </tbody></table>"
      ],
      "text/plain": [
       "<pandas.io.formats.style.Styler at 0xf3ae898>"
      ]
     },
     "execution_count": 63,
     "metadata": {},
     "output_type": "execute_result"
    }
   ],
   "source": [
    "corr_df = df.corr()\n",
    "corr_df.style.background_gradient(cmap='Greens').set_precision(2)"
   ]
  },
  {
   "cell_type": "markdown",
   "id": "c7b78af2",
   "metadata": {},
   "source": [
    "Мы получили несколько признаков с сильной корреляцией:\n",
    "- `bulk_9` и `wire_8`: 0,97;\n",
    "- `bulk_7` и `wire_4`: 0,74;\n",
    "- `bulk_2` и `wire_4`: 0,7.\n",
    "\n",
    "У всех этих признаков много нулевых значений. Удалим из каждой пары по одному признаку, а заодно, и номер партии."
   ]
  },
  {
   "cell_type": "code",
   "execution_count": 64,
   "id": "cd45e641",
   "metadata": {},
   "outputs": [
    {
     "data": {
      "text/plain": [
       "(2324, 25)"
      ]
     },
     "execution_count": 64,
     "metadata": {},
     "output_type": "execute_result"
    }
   ],
   "source": [
    "df = df.drop(['key', 'bulk_9', 'wire_4'], axis=1)\n",
    "df.shape"
   ]
  },
  {
   "cell_type": "markdown",
   "id": "b02e3a4e",
   "metadata": {},
   "source": [
    "Признаки удалены."
   ]
  },
  {
   "cell_type": "markdown",
   "id": "c428bd9e",
   "metadata": {},
   "source": [
    "### 2.5 Вывод"
   ]
  },
  {
   "cell_type": "markdown",
   "id": "7a9e41c9",
   "metadata": {},
   "source": [
    "Произведена предобработка данных.\n",
    "\n",
    "1. Рассчитаны и сгруппированы по ключам суммарное время нагрева и медианное отношение активной и реактивной мощностей.\n",
    "2. Для каждого ключа определены начальная и конечная температуры.\n",
    "3. Ключи с нулевой конечной температурой и начальной ниже 1500 градусов удалены.\n",
    "4. Удалены сыпучий и проволочный материалы, добавлявшиеся по одному разу; для остальных материалов пропуски заменены на нули.\n",
    "5. Собраны в сводную таблицу по ключам данные о длительности нагрева и отношении мощностей, о начальной и конечной температурах, об объёмах подаваемых газа, сыпучего и проволочного материалов.\n",
    "6. Из сводной таблицы удалены признаки с высокой корреляцией, а также номер партии.\n",
    "7. Сводная таблица содержит 2324 наблюдения, соответствующие уникальным ключам, и 25 признаков."
   ]
  },
  {
   "cell_type": "markdown",
   "id": "4c244948",
   "metadata": {},
   "source": [
    "## 3 Обучение и выбор лучшей модели"
   ]
  },
  {
   "cell_type": "markdown",
   "id": "03c698b5",
   "metadata": {},
   "source": [
    "Подберём лучшие гиперпараметры и обучим линейную регрессиию, дерево решений, случайный лес, модель градиентного бустинга. Для проверки адекватности моделей обучим также константную модель.\n",
    "\n",
    "Метрика качества - <i>MAE</i>, значение должно быть не выше 6,8. "
   ]
  },
  {
   "cell_type": "markdown",
   "id": "223949ed",
   "metadata": {},
   "source": [
    "### 3.1 Подготовка к обучению"
   ]
  },
  {
   "cell_type": "markdown",
   "id": "c47e59d7",
   "metadata": {},
   "source": [
    "Разделим данные на обучающую и тестовую выборки в соотношении 75:25."
   ]
  },
  {
   "cell_type": "code",
   "execution_count": 65,
   "id": "58393ca9",
   "metadata": {},
   "outputs": [
    {
     "name": "stdout",
     "output_type": "stream",
     "text": [
      "Размер признаков обучающей выборки: (1743, 24)\n",
      "Размер целевого признака обучающей выборки: (1743,)\n",
      "Размер признаков тестовой выборки: (581, 24)\n",
      "Размер целевого признака тестовой выборки: (581,)\n"
     ]
    }
   ],
   "source": [
    "X_train, X_test, y_train, y_test = train_test_split(\n",
    "    df.drop(['last_temp'], axis=1),\n",
    "    df['last_temp'], test_size=0.25, random_state=rs)\n",
    "\n",
    "print(f'Размер признаков обучающей выборки: {X_train.shape}')\n",
    "print(f'Размер целевого признака обучающей выборки: {y_train.shape}')\n",
    "print(f'Размер признаков тестовой выборки: {X_test.shape}')\n",
    "print(f'Размер целевого признака тестовой выборки: {y_test.shape}')"
   ]
  },
  {
   "cell_type": "markdown",
   "id": "22f06c0d",
   "metadata": {},
   "source": [
    "Данные разделены корректно."
   ]
  },
  {
   "cell_type": "markdown",
   "id": "da6a8b6b",
   "metadata": {},
   "source": [
    "Для обучения моделей и подбора гиперпараметров напишем собственную функцию с использованием <i>Pipeline</i> и <i>GridSearch</i>."
   ]
  },
  {
   "cell_type": "code",
   "execution_count": 66,
   "id": "c884b014",
   "metadata": {},
   "outputs": [],
   "source": [
    "# создание функции для подбора параметров лучшей модели\n",
    "def pipeline(model, X, y, params):\n",
    "  '''\n",
    "  функция для подбора лучших гиперпараметров и обучения модели:\n",
    "  на вход принимает модель с параметрами, признаки и целевой признак,\n",
    "  возвращает значение MAE на обучающей выборке, лучшую модель и\n",
    "  выводит на экран значение MAE и подобранные гиперпараметры\n",
    "  '''\n",
    "  pipe = Pipeline([('model', model)])\n",
    "  param = params\n",
    "\n",
    "  grid = GridSearchCV(pipe, param,\n",
    "                      scoring='neg_mean_absolute_error',\n",
    "                      cv=5)\n",
    "  \n",
    "  grid.fit(X, y)\n",
    "\n",
    "  print('Лучшее значение MAE:', grid.best_score_)\n",
    "  print('Лучшие параметры', grid.best_params_)\n",
    "  \n",
    "  return grid.best_score_, grid"
   ]
  },
  {
   "cell_type": "markdown",
   "id": "9d3c2b49",
   "metadata": {},
   "source": [
    "### 3.2 Линейная регрессия"
   ]
  },
  {
   "cell_type": "markdown",
   "id": "a4c2ea8c",
   "metadata": {},
   "source": [
    "Обучим линейную регрессию с использованием <i>pipeline</i> и кросс-валидации. Внутри <i>pipeline</i> произведём масштабирование признаков, чтобы алгоритм не выделял на основе порядка и разброса одни признаки как более важные, другие - как менее важные."
   ]
  },
  {
   "cell_type": "code",
   "execution_count": 67,
   "id": "b78f13cf",
   "metadata": {},
   "outputs": [
    {
     "name": "stdout",
     "output_type": "stream",
     "text": [
      "MAE = 6.669536913278253\n"
     ]
    }
   ],
   "source": [
    "# создание объекта pipeline\n",
    "pipe_lr = Pipeline([\n",
    "    ('ss', StandardScaler()),\n",
    "    ('linreg', LinearRegression())\n",
    "])\n",
    "# получение оценок кросс-валидацией\n",
    "scores = cross_val_score(pipe_lr, X_train, y_train, scoring = 'neg_mean_absolute_error', cv=5)\n",
    "print('MAE =', abs(scores.mean()))"
   ]
  },
  {
   "cell_type": "markdown",
   "id": "7964b9c1",
   "metadata": {},
   "source": [
    "Получили неплохое значение метрики. Посмотрим, как справятся с задачей остальные модели."
   ]
  },
  {
   "cell_type": "markdown",
   "id": "377e40ff",
   "metadata": {},
   "source": [
    "### 3.3 Дерево решений"
   ]
  },
  {
   "cell_type": "code",
   "execution_count": 68,
   "id": "268375fb",
   "metadata": {},
   "outputs": [
    {
     "name": "stdout",
     "output_type": "stream",
     "text": [
      "Лучшее значение MAE: -7.199360797033611\n",
      "Лучшие параметры {'model__max_depth': 5, 'model__min_samples_leaf': 5}\n",
      "Wall time: 2.23 s\n"
     ]
    }
   ],
   "source": [
    "%%time\n",
    "# инициализация модели дерева решений \n",
    "model_dt = DecisionTreeRegressor(random_state=rs)\n",
    "\n",
    "# установка диапазонов гиперпараметров\n",
    "param_dt = {'model__max_depth': range(2, 15),\n",
    "            'model__min_samples_leaf': [2, 5]}\n",
    "\n",
    "# получение лучших значений метрики, гиперпараметров и лучшей модели\n",
    "score_dt, best_model_dt = pipeline(model_dt, X_train, y_train, param_dt)"
   ]
  },
  {
   "cell_type": "markdown",
   "id": "ee5e6196",
   "metadata": {},
   "source": [
    "Значение метрики хуже, чем у линейной регрессии."
   ]
  },
  {
   "cell_type": "markdown",
   "id": "0d83656c",
   "metadata": {},
   "source": [
    "### 3.4 Случайный лес"
   ]
  },
  {
   "cell_type": "code",
   "execution_count": 69,
   "id": "c8a761eb",
   "metadata": {},
   "outputs": [
    {
     "name": "stdout",
     "output_type": "stream",
     "text": [
      "Лучшее значение MAE: -6.191586251255837\n",
      "Лучшие параметры {'model__max_depth': 9, 'model__n_estimators': 12}\n",
      "Wall time: 18.4 s\n"
     ]
    }
   ],
   "source": [
    "%%time\n",
    "# инициализация модели случайного леса\n",
    "model_rf = RandomForestRegressor(random_state=rs)\n",
    "\n",
    "# установка диапазонов гиперпараметров\n",
    "param_rf = {'model__n_estimators': range(10, 15),\n",
    "            'model__max_depth': range(2, 11)}\n",
    "\n",
    "# получение лучших значений метрики, гиперпараметров и лучшей модели\n",
    "score_rf, best_model_rf = pipeline(model_rf, X_train, y_train, param_rf)"
   ]
  },
  {
   "cell_type": "markdown",
   "id": "d9721d42",
   "metadata": {},
   "source": [
    "Значение метрики лучше, чем у линейной регрессии и дерева решений."
   ]
  },
  {
   "cell_type": "markdown",
   "id": "032d940f",
   "metadata": {},
   "source": [
    "### 3.5 <i>CatBoostRegressor</i>"
   ]
  },
  {
   "cell_type": "code",
   "execution_count": 70,
   "id": "dab8a6a8",
   "metadata": {},
   "outputs": [
    {
     "name": "stdout",
     "output_type": "stream",
     "text": [
      "Лучшее значение MAE: -5.993749049429274\n",
      "Лучшие параметры {'model__depth': 6, 'model__learning_rate': 0.1}\n",
      "Wall time: 30.2 s\n"
     ]
    }
   ],
   "source": [
    "%%time\n",
    "# инициализация модели CatBoostRegressor\n",
    "model_cbr = CatBoostRegressor(iterations=150, random_state=rs, verbose=False)\n",
    "\n",
    "# установка диапазонов гиперпараметров\n",
    "param_cbr = {'model__depth': range(2, 7),\n",
    "             'model__learning_rate': [0.05, 0.1, 0.15]}\n",
    "\n",
    "# получение лучших значений метрики, гиперпараметров и лучшей модели\n",
    "score_cbr, best_model_cbr = pipeline(model_cbr, X_train, y_train, param_cbr)"
   ]
  },
  {
   "cell_type": "markdown",
   "id": "c1829080",
   "metadata": {},
   "source": [
    "Модель градиентного бустинга получила наилучшую метрику: <i>MAE</i> = 5,99."
   ]
  },
  {
   "cell_type": "markdown",
   "id": "e09fbde0",
   "metadata": {},
   "source": [
    "### 3.6 Константная модель"
   ]
  },
  {
   "cell_type": "code",
   "execution_count": 71,
   "id": "5bfe6e92",
   "metadata": {},
   "outputs": [
    {
     "name": "stdout",
     "output_type": "stream",
     "text": [
      "Лучшее значение MAE: -8.030685373645555\n",
      "Лучшие параметры {'model__strategy': 'median'}\n",
      "Wall time: 42 ms\n"
     ]
    }
   ],
   "source": [
    "%%time\n",
    "# инициализация константной модели\n",
    "model_dummy = DummyRegressor(quantile=1.0)\n",
    "\n",
    "# установка диапазонов гиперпараметров\n",
    "param_dummy = {'model__strategy': ['mean', 'median', 'quantile']}\n",
    "\n",
    "# получение лучших значений метрики, гиперпараметров и лучшей модели\n",
    "score_dummy, best_model_dummy = pipeline(model_dummy, X_train, y_train, param_dummy)"
   ]
  },
  {
   "cell_type": "markdown",
   "id": "af93c822",
   "metadata": {},
   "source": [
    "Значение метрики константной модели хуже, чем у всех рассмотренных моделей, значит, они адекватны."
   ]
  },
  {
   "cell_type": "markdown",
   "id": "8ce1bcc4",
   "metadata": {},
   "source": [
    "### 3.7 Вывод"
   ]
  },
  {
   "cell_type": "markdown",
   "id": "54c9eb8b",
   "metadata": {},
   "source": [
    "Данные разделены на обучающую и тестовую выборки в соотношении 75:25.\n",
    "\n",
    "Метрика качества - <i>MAE</i>, значение должно быть не выше 6,8.\n",
    "\n",
    "Обучены линейная регрессиия, дерево решений, случайный лес, модель градиентного бустинга, константная модель.\n",
    "\n",
    "Лучшее значение метрики - 5,99 - показала модель <i>CatBoostRegressor</i> при 150 итерациях, с глубиной деревьев, равной 6, и скоростью обучения 0,1.\n",
    "\n",
    "Затем следует случайный лес - 6,19, линейная регрессия - 6,67  и дерево решений - 7,2.\n",
    "\n",
    "Константная модель показала худшее значение метрики - 8,03, значит, обученные модели адекватны."
   ]
  },
  {
   "cell_type": "markdown",
   "id": "5823f30b",
   "metadata": {},
   "source": [
    "## 4 Проверка качества модели на тестовой выборке"
   ]
  },
  {
   "cell_type": "markdown",
   "id": "6da3930f",
   "metadata": {},
   "source": [
    "Получим предсказания модели <i>CatBoostRegressor</i> на тестовой выборке и рассчитаем <i>MAE</i>."
   ]
  },
  {
   "cell_type": "code",
   "execution_count": 72,
   "id": "ff18d276",
   "metadata": {},
   "outputs": [
    {
     "data": {
      "text/plain": [
       "6.2796664763882255"
      ]
     },
     "execution_count": 72,
     "metadata": {},
     "output_type": "execute_result"
    }
   ],
   "source": [
    "# получение предсказаний лучшей модели и расчёт mae\n",
    "predict_cbr = best_model_cbr.predict(X_test)\n",
    "mae_cbr = mean_absolute_error(y_test, predict_cbr)\n",
    "mae_cbr"
   ]
  },
  {
   "cell_type": "markdown",
   "id": "c7db2532",
   "metadata": {},
   "source": [
    "Значение метрики на тестовой выборке несколько хуже, чем на обучающей - 6,28."
   ]
  },
  {
   "cell_type": "markdown",
   "id": "4bebdbf6",
   "metadata": {},
   "source": [
    "### 4.1 Вывод"
   ]
  },
  {
   "cell_type": "markdown",
   "id": "728227cb",
   "metadata": {},
   "source": [
    "На тестовой выборке лучшей моделью - <i>CatBoostRegressor</i> - получено <i>MAE</i> = 6,28."
   ]
  },
  {
   "cell_type": "markdown",
   "id": "fffbbdfc",
   "metadata": {},
   "source": [
    "## 5 Общий вывод"
   ]
  },
  {
   "cell_type": "markdown",
   "id": "5591ea2e",
   "metadata": {},
   "source": [
    "1. Для анализа представлены 7 таблиц с данными, описывающими технологический процесс обработки стали.\n",
    "- данные об электродах содержат информацию о прогреве партий стали (ключей) дугой на разных итерациях;\n",
    "- данные об объёме и времени подачи сыпучих материалов содержат информацию о процессе добавления 15 сыпучих легирующих материалов в ключи;\n",
    "- данные о продувке сплава газом содержат информацию об объёме газа, поданного в ключи;\n",
    "- результаты измерения температуры содержат информацию о температуре ключей на разных итерациях;\n",
    "- данные об объёме и времени подачи проволочных материалов содержат информацию о процессе добавления 9 проволочных легирующих материалов в ключи.\n",
    "2. Произведён анализ данных.\n",
    "-  Не все ключи присутствуют во всех таблицах.\n",
    "- Во всех таблицах названия признаков приведены к змеиному регистру. Тип признаков, содержащих время, приведён к типу даты и времени. Тип остальных признаков соответствует по смыслу содержимому.\n",
    "- В таблицах содержится информация за временной интервал с 11 утра 3 мая по 4 утра 1 сентября 2019 года.\n",
    "- В данных об электродах обнаружено одно отрицательное значение реактивной мощности. Ключ, содержащий это значение, удалён.\n",
    "- Распределение температуры близко к нормальному и практически все значения температуры лежат в диапазоне от 1500 до 1700 градусов. При этом значения ниже 1500 градусов единичны, сильно разбросаны и далеко выходят за границы доверительного интервала. Принято решение удалить ключи с начальной температурой ниже 1500 градусов, чтобы повысить точность предсказаний. Для низких температур предполагается сделать отдельную модель.\n",
    "- Других явных ошибок в данных нет.\n",
    "- Есть пропуски в темпаратурах ключей, начиная с 2500.\n",
    "- В данных об объёме и времени подачи сыпучих и проволочных материалов много пропусков из-за того, что в разные ключи добавляют разные материалы.\n",
    "3. Произведена предобработка данных.\n",
    "- Рассчитаны и сгруппированы по ключам суммарное время нагрева и медианное отношение активной и реактивной мощностей.\n",
    "- Для каждого ключа определены начальная и конечная температуры.\n",
    "- Ключи с нулевой конечной температурой и начальной ниже 1500 градусов удалены.\n",
    "- Удалены сыпучий и проволочный материалы, добавлявшиеся по одному разу; для остальных материалов пропуски заменены на нули.\n",
    "- Собраны в сводную таблицу по ключам данные о длительности нагрева и отношении мощностей, о начальной и конечной температурах, об объёмах подаваемых газа, сыпучего и проволочного материалов.\n",
    "- В сводную таблицу вошли только те ключи, информация о которых содержится во всех 7 исходных таблицах.\n",
    "- Из сводной таблицы удалены признаки с высокой корреляцией, а также номер партии.\n",
    "- Сводная таблица содержит 2324 наблюдения, соответствующие уникальным ключам, и 25 признаков.\n",
    "4. Произведено обучение моделей.\n",
    "- Данные разделены на обучающую и тестовую выборки в соотношении 75:25.\n",
    "- Метрика качества - <i>MAE</i>, значение должно быть не выше 6,8.\n",
    "- Обучены линейная регрессиия, дерево решений, случайный лес, модель градиентного бустинга, константная модель.\n",
    "- Лучшее значение метрики - 5,99 - показала модель <i>CatBoostRegressor</i>.\n",
    "- Затем следует случайный лес - 6,19, линейная регрессия - 6,67  и дерево решений - 7,2.\n",
    "- Константная модель показала худшее значение метрики - 8,03, значит, обученные модели адекватны.\n",
    "5. Произведена проверка качества выбранной модели на тестовой выборке.\n",
    "- На тестовой выборке лучшей моделью - <i>CatBoostRegressor</i> - получено <i>MAE</i> = 6,28.\n",
    "- Гиперпараметры лучшей модели: 150 итераций, глубина деревьев - 6, скорость обучения - 0,1."
   ]
  }
 ],
 "metadata": {
  "ExecuteTimeLog": [
   {
    "duration": 2033,
    "start_time": "2022-08-02T17:35:05.423Z"
   },
   {
    "duration": 346,
    "start_time": "2022-08-02T17:35:08.890Z"
   },
   {
    "duration": 30,
    "start_time": "2022-08-02T17:35:11.952Z"
   },
   {
    "duration": 6,
    "start_time": "2022-08-02T17:35:18.224Z"
   },
   {
    "duration": 1455,
    "start_time": "2022-08-02T17:36:43.423Z"
   },
   {
    "duration": 148,
    "start_time": "2022-08-02T17:36:44.881Z"
   },
   {
    "duration": 13,
    "start_time": "2022-08-02T17:36:45.030Z"
   },
   {
    "duration": 8,
    "start_time": "2022-08-02T17:36:45.045Z"
   },
   {
    "duration": 24,
    "start_time": "2022-08-02T17:36:45.055Z"
   },
   {
    "duration": 26,
    "start_time": "2022-08-02T17:36:45.109Z"
   },
   {
    "duration": 16,
    "start_time": "2022-08-02T17:36:45.137Z"
   },
   {
    "duration": 8,
    "start_time": "2022-08-02T17:36:45.156Z"
   },
   {
    "duration": 6,
    "start_time": "2022-08-02T17:36:45.166Z"
   },
   {
    "duration": 187,
    "start_time": "2022-08-02T17:36:45.174Z"
   },
   {
    "duration": 14,
    "start_time": "2022-08-02T17:36:45.363Z"
   },
   {
    "duration": 8,
    "start_time": "2022-08-02T17:36:45.379Z"
   },
   {
    "duration": 69,
    "start_time": "2022-08-02T17:36:45.389Z"
   },
   {
    "duration": 166,
    "start_time": "2022-08-02T17:36:45.461Z"
   },
   {
    "duration": 11,
    "start_time": "2022-08-02T17:36:45.629Z"
   },
   {
    "duration": 33,
    "start_time": "2022-08-02T17:36:45.642Z"
   },
   {
    "duration": 7,
    "start_time": "2022-08-02T17:36:45.676Z"
   },
   {
    "duration": 28,
    "start_time": "2022-08-02T17:36:45.684Z"
   },
   {
    "duration": 155,
    "start_time": "2022-08-02T17:36:45.714Z"
   },
   {
    "duration": 9,
    "start_time": "2022-08-02T17:36:45.871Z"
   },
   {
    "duration": 10,
    "start_time": "2022-08-02T17:36:45.883Z"
   },
   {
    "duration": 19,
    "start_time": "2022-08-02T17:36:45.895Z"
   },
   {
    "duration": 280,
    "start_time": "2022-08-02T17:36:45.920Z"
   },
   {
    "duration": 12,
    "start_time": "2022-08-02T17:36:46.202Z"
   },
   {
    "duration": 15,
    "start_time": "2022-08-02T17:36:46.215Z"
   },
   {
    "duration": 23,
    "start_time": "2022-08-02T17:36:46.232Z"
   },
   {
    "duration": 7,
    "start_time": "2022-08-02T17:36:46.257Z"
   },
   {
    "duration": 26,
    "start_time": "2022-08-02T17:36:46.266Z"
   },
   {
    "duration": 291,
    "start_time": "2022-08-02T17:36:46.294Z"
   },
   {
    "duration": 138,
    "start_time": "2022-08-02T17:36:46.587Z"
   },
   {
    "duration": 10,
    "start_time": "2022-08-02T17:36:46.726Z"
   },
   {
    "duration": 195,
    "start_time": "2022-08-02T17:36:46.738Z"
   },
   {
    "duration": 10,
    "start_time": "2022-08-02T17:36:46.934Z"
   },
   {
    "duration": 5,
    "start_time": "2022-08-02T17:36:46.945Z"
   },
   {
    "duration": 33,
    "start_time": "2022-08-02T17:36:46.952Z"
   },
   {
    "duration": 187,
    "start_time": "2022-08-02T17:36:46.987Z"
   },
   {
    "duration": 11,
    "start_time": "2022-08-02T17:36:47.175Z"
   },
   {
    "duration": 30,
    "start_time": "2022-08-02T17:36:47.187Z"
   },
   {
    "duration": 9,
    "start_time": "2022-08-02T17:36:47.219Z"
   },
   {
    "duration": 7,
    "start_time": "2022-08-02T17:36:47.230Z"
   },
   {
    "duration": 1678,
    "start_time": "2022-08-03T13:34:32.963Z"
   },
   {
    "duration": 175,
    "start_time": "2022-08-03T13:34:34.643Z"
   },
   {
    "duration": 17,
    "start_time": "2022-08-03T13:34:34.825Z"
   },
   {
    "duration": 8,
    "start_time": "2022-08-03T13:34:34.844Z"
   },
   {
    "duration": 31,
    "start_time": "2022-08-03T13:34:34.853Z"
   },
   {
    "duration": 21,
    "start_time": "2022-08-03T13:34:34.886Z"
   },
   {
    "duration": 8,
    "start_time": "2022-08-03T13:34:34.912Z"
   },
   {
    "duration": 38,
    "start_time": "2022-08-03T13:34:34.927Z"
   },
   {
    "duration": 8,
    "start_time": "2022-08-03T13:34:34.967Z"
   },
   {
    "duration": 5,
    "start_time": "2022-08-03T13:34:34.978Z"
   },
   {
    "duration": 152,
    "start_time": "2022-08-03T13:34:34.985Z"
   },
   {
    "duration": 10,
    "start_time": "2022-08-03T13:34:35.139Z"
   },
   {
    "duration": 61,
    "start_time": "2022-08-03T13:34:35.151Z"
   },
   {
    "duration": 81,
    "start_time": "2022-08-03T13:34:35.214Z"
   },
   {
    "duration": 138,
    "start_time": "2022-08-03T13:34:35.297Z"
   },
   {
    "duration": 13,
    "start_time": "2022-08-03T13:34:35.440Z"
   },
   {
    "duration": 39,
    "start_time": "2022-08-03T13:34:35.455Z"
   },
   {
    "duration": 8,
    "start_time": "2022-08-03T13:34:35.496Z"
   },
   {
    "duration": 37,
    "start_time": "2022-08-03T13:34:35.511Z"
   },
   {
    "duration": 133,
    "start_time": "2022-08-03T13:34:35.550Z"
   },
   {
    "duration": 12,
    "start_time": "2022-08-03T13:34:35.685Z"
   },
   {
    "duration": 59,
    "start_time": "2022-08-03T13:34:35.699Z"
   },
   {
    "duration": 42,
    "start_time": "2022-08-03T13:34:35.759Z"
   },
   {
    "duration": 42,
    "start_time": "2022-08-03T13:34:35.803Z"
   },
   {
    "duration": 140,
    "start_time": "2022-08-03T13:34:35.847Z"
   },
   {
    "duration": 16,
    "start_time": "2022-08-03T13:34:35.989Z"
   },
   {
    "duration": 55,
    "start_time": "2022-08-03T13:34:36.008Z"
   },
   {
    "duration": 12,
    "start_time": "2022-08-03T13:34:36.067Z"
   },
   {
    "duration": 17,
    "start_time": "2022-08-03T13:34:36.081Z"
   },
   {
    "duration": 27,
    "start_time": "2022-08-03T13:34:36.100Z"
   },
   {
    "duration": 310,
    "start_time": "2022-08-03T13:34:36.130Z"
   },
   {
    "duration": 154,
    "start_time": "2022-08-03T13:34:36.442Z"
   },
   {
    "duration": 16,
    "start_time": "2022-08-03T13:34:36.598Z"
   },
   {
    "duration": 138,
    "start_time": "2022-08-03T13:34:36.616Z"
   },
   {
    "duration": 13,
    "start_time": "2022-08-03T13:34:36.755Z"
   },
   {
    "duration": 8,
    "start_time": "2022-08-03T13:34:36.769Z"
   },
   {
    "duration": 49,
    "start_time": "2022-08-03T13:34:36.779Z"
   },
   {
    "duration": 132,
    "start_time": "2022-08-03T13:34:36.829Z"
   },
   {
    "duration": 11,
    "start_time": "2022-08-03T13:34:36.963Z"
   },
   {
    "duration": 24,
    "start_time": "2022-08-03T13:34:36.976Z"
   },
   {
    "duration": 7,
    "start_time": "2022-08-03T13:34:37.002Z"
   },
   {
    "duration": 40,
    "start_time": "2022-08-03T13:34:37.011Z"
   },
   {
    "duration": 13,
    "start_time": "2022-08-03T13:34:37.053Z"
   },
   {
    "duration": 68,
    "start_time": "2022-08-03T13:34:37.068Z"
   },
   {
    "duration": 15,
    "start_time": "2022-08-03T13:34:37.138Z"
   },
   {
    "duration": 13,
    "start_time": "2022-08-03T13:34:37.155Z"
   },
   {
    "duration": 13,
    "start_time": "2022-08-03T13:34:37.170Z"
   },
   {
    "duration": 61,
    "start_time": "2022-08-03T13:34:37.184Z"
   },
   {
    "duration": 8,
    "start_time": "2022-08-03T13:34:37.247Z"
   },
   {
    "duration": 21,
    "start_time": "2022-08-03T13:34:37.256Z"
   },
   {
    "duration": 9,
    "start_time": "2022-08-03T13:34:37.279Z"
   },
   {
    "duration": 27,
    "start_time": "2022-08-03T13:34:37.309Z"
   },
   {
    "duration": 31,
    "start_time": "2022-08-03T13:34:37.344Z"
   },
   {
    "duration": 20,
    "start_time": "2022-08-03T13:34:37.377Z"
   },
   {
    "duration": 38,
    "start_time": "2022-08-03T13:34:37.399Z"
   },
   {
    "duration": 20,
    "start_time": "2022-08-03T13:34:37.439Z"
   },
   {
    "duration": 14,
    "start_time": "2022-08-03T13:34:37.461Z"
   },
   {
    "duration": 16,
    "start_time": "2022-08-03T13:34:37.477Z"
   },
   {
    "duration": 25,
    "start_time": "2022-08-03T13:34:37.495Z"
   },
   {
    "duration": 44,
    "start_time": "2022-08-03T13:34:37.522Z"
   },
   {
    "duration": 88,
    "start_time": "2022-08-03T13:34:37.568Z"
   },
   {
    "duration": 169,
    "start_time": "2022-08-03T13:34:37.658Z"
   },
   {
    "duration": 6,
    "start_time": "2022-08-03T13:34:37.829Z"
   },
   {
    "duration": 9,
    "start_time": "2022-08-03T13:36:33.185Z"
   }
  ],
  "kernelspec": {
   "display_name": "Python 3 (ipykernel)",
   "language": "python",
   "name": "python3"
  },
  "language_info": {
   "codemirror_mode": {
    "name": "ipython",
    "version": 3
   },
   "file_extension": ".py",
   "mimetype": "text/x-python",
   "name": "python",
   "nbconvert_exporter": "python",
   "pygments_lexer": "ipython3",
   "version": "3.7.3"
  },
  "toc": {
   "base_numbering": 1,
   "nav_menu": {},
   "number_sections": true,
   "sideBar": true,
   "skip_h1_title": true,
   "title_cell": "Table of Contents",
   "title_sidebar": "Contents",
   "toc_cell": true,
   "toc_position": {
    "height": "787px",
    "left": "103px",
    "top": "291.133px",
    "width": "384px"
   },
   "toc_section_display": true,
   "toc_window_display": true
  }
 },
 "nbformat": 4,
 "nbformat_minor": 5
}
