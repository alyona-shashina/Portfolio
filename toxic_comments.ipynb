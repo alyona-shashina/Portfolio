{
  "cells": [
    {
      "cell_type": "markdown",
      "metadata": {
        "id": "alHNSFzyDy2h"
      },
      "source": [
        "# Классификация токсичных правок"
      ]
    },
    {
      "cell_type": "markdown",
      "metadata": {
        "id": "ziA6eYZFDy2k"
      },
      "source": [
        "Заказчик (интернет-магазин) запускает новый сервис: теперь пользователи могут редактировать и дополнять описания товаров. То есть клиенты предлагают свои правки и комментируют изменения других. Магазину нужен инструмент, который будет искать токсичные комментарии и отправлять их на модерацию. \n",
        "\n",
        "Имеется набор данных с разметкой о токсичности правок. Необходимо обучить модель классифицировать комментарии на позитивные и негативные.\n",
        "\n",
        "Условие: метрика качества *F1* должна быть не меньше 0,75. \n",
        "\n",
        "**План работы:**\n",
        "\n",
        "1. Загрузить и подготовить данные.\n",
        "2. Обучить разные модели с помощью <i>TF-IDF</i> и <i>BERT</i>. \n",
        "3. Выбрать лучшую модель на тестовой выборке.\n",
        "\n",
        "**Описание данных**\n",
        "\n",
        "Данные находятся в файле `toxic_comments.csv`. Столбец *text* в нём содержит текст комментария, а *toxic* — целевой признак."
      ]
    },
    {
      "cell_type": "markdown",
      "metadata": {
        "id": "jQIHCIzwDy2p"
      },
      "source": [
        "## 1 Подготовка данных"
      ]
    },
    {
      "cell_type": "markdown",
      "metadata": {
        "id": "7lf2yyrLLq2L"
      },
      "source": [
        "Импортируем необходимые библиотеки, откроем файл с данными и изучим общую информацию о них."
      ]
    },
    {
      "cell_type": "code",
      "execution_count": 1,
      "metadata": {
        "id": "gDnhPj6JFUBq"
      },
      "outputs": [],
      "source": [
        "# импорт библиотек\n",
        "import nltk\n",
        "import numpy as np\n",
        "import pandas as pd\n",
        "import spacy\n",
        "import torch\n",
        "import transformers\n",
        "\n",
        "# импорт структур, модулей и функций\n",
        "from lightgbm import LGBMClassifier\n",
        "from nltk.corpus import stopwords as nltk_stopwords\n",
        "from pytorch_pretrained_bert import BertTokenizer, BertModel\n",
        "from sklearn.dummy import DummyClassifier\n",
        "from sklearn.ensemble import RandomForestClassifier\n",
        "from sklearn.feature_extraction.text import TfidfVectorizer, TfidfTransformer\n",
        "from sklearn.linear_model import LogisticRegression\n",
        "from sklearn.metrics import f1_score\n",
        "from sklearn.model_selection import train_test_split, GridSearchCV\n",
        "from sklearn.pipeline import Pipeline\n",
        "from sklearn.tree import DecisionTreeClassifier\n",
        "from tqdm import notebook\n",
        "from warnings import simplefilter\n",
        "from sklearn.exceptions import ConvergenceWarning\n",
        "simplefilter(\"ignore\", category=ConvergenceWarning)\n",
        "import re\n",
        "import time"
      ]
    },
    {
      "cell_type": "code",
      "execution_count": 2,
      "metadata": {
        "id": "PB3xzH7oekvF"
      },
      "outputs": [],
      "source": [
        "# константа, фиксирующая случайность\n",
        "rs = 12345"
      ]
    },
    {
      "cell_type": "code",
      "execution_count": 3,
      "metadata": {
        "colab": {
          "base_uri": "https://localhost:8080/",
          "height": 206
        },
        "id": "rIQHRdOMH6Qx",
        "outputId": "b6cab25b-b488-41c9-ef8b-408caa0c3cc4"
      },
      "outputs": [
        {
          "output_type": "execute_result",
          "data": {
            "text/plain": [
              "                                                text  toxic\n",
              "0  Explanation\\nWhy the edits made under my usern...      0\n",
              "1  D'aww! He matches this background colour I'm s...      0\n",
              "2  Hey man, I'm really not trying to edit war. It...      0\n",
              "3  \"\\nMore\\nI can't make any real suggestions on ...      0\n",
              "4  You, sir, are my hero. Any chance you remember...      0"
            ],
            "text/html": [
              "\n",
              "  <div id=\"df-147ac163-cc6d-429e-8728-a04cecaa93ec\">\n",
              "    <div class=\"colab-df-container\">\n",
              "      <div>\n",
              "<style scoped>\n",
              "    .dataframe tbody tr th:only-of-type {\n",
              "        vertical-align: middle;\n",
              "    }\n",
              "\n",
              "    .dataframe tbody tr th {\n",
              "        vertical-align: top;\n",
              "    }\n",
              "\n",
              "    .dataframe thead th {\n",
              "        text-align: right;\n",
              "    }\n",
              "</style>\n",
              "<table border=\"1\" class=\"dataframe\">\n",
              "  <thead>\n",
              "    <tr style=\"text-align: right;\">\n",
              "      <th></th>\n",
              "      <th>text</th>\n",
              "      <th>toxic</th>\n",
              "    </tr>\n",
              "  </thead>\n",
              "  <tbody>\n",
              "    <tr>\n",
              "      <th>0</th>\n",
              "      <td>Explanation\\nWhy the edits made under my usern...</td>\n",
              "      <td>0</td>\n",
              "    </tr>\n",
              "    <tr>\n",
              "      <th>1</th>\n",
              "      <td>D'aww! He matches this background colour I'm s...</td>\n",
              "      <td>0</td>\n",
              "    </tr>\n",
              "    <tr>\n",
              "      <th>2</th>\n",
              "      <td>Hey man, I'm really not trying to edit war. It...</td>\n",
              "      <td>0</td>\n",
              "    </tr>\n",
              "    <tr>\n",
              "      <th>3</th>\n",
              "      <td>\"\\nMore\\nI can't make any real suggestions on ...</td>\n",
              "      <td>0</td>\n",
              "    </tr>\n",
              "    <tr>\n",
              "      <th>4</th>\n",
              "      <td>You, sir, are my hero. Any chance you remember...</td>\n",
              "      <td>0</td>\n",
              "    </tr>\n",
              "  </tbody>\n",
              "</table>\n",
              "</div>\n",
              "      <button class=\"colab-df-convert\" onclick=\"convertToInteractive('df-147ac163-cc6d-429e-8728-a04cecaa93ec')\"\n",
              "              title=\"Convert this dataframe to an interactive table.\"\n",
              "              style=\"display:none;\">\n",
              "        \n",
              "  <svg xmlns=\"http://www.w3.org/2000/svg\" height=\"24px\"viewBox=\"0 0 24 24\"\n",
              "       width=\"24px\">\n",
              "    <path d=\"M0 0h24v24H0V0z\" fill=\"none\"/>\n",
              "    <path d=\"M18.56 5.44l.94 2.06.94-2.06 2.06-.94-2.06-.94-.94-2.06-.94 2.06-2.06.94zm-11 1L8.5 8.5l.94-2.06 2.06-.94-2.06-.94L8.5 2.5l-.94 2.06-2.06.94zm10 10l.94 2.06.94-2.06 2.06-.94-2.06-.94-.94-2.06-.94 2.06-2.06.94z\"/><path d=\"M17.41 7.96l-1.37-1.37c-.4-.4-.92-.59-1.43-.59-.52 0-1.04.2-1.43.59L10.3 9.45l-7.72 7.72c-.78.78-.78 2.05 0 2.83L4 21.41c.39.39.9.59 1.41.59.51 0 1.02-.2 1.41-.59l7.78-7.78 2.81-2.81c.8-.78.8-2.07 0-2.86zM5.41 20L4 18.59l7.72-7.72 1.47 1.35L5.41 20z\"/>\n",
              "  </svg>\n",
              "      </button>\n",
              "      \n",
              "  <style>\n",
              "    .colab-df-container {\n",
              "      display:flex;\n",
              "      flex-wrap:wrap;\n",
              "      gap: 12px;\n",
              "    }\n",
              "\n",
              "    .colab-df-convert {\n",
              "      background-color: #E8F0FE;\n",
              "      border: none;\n",
              "      border-radius: 50%;\n",
              "      cursor: pointer;\n",
              "      display: none;\n",
              "      fill: #1967D2;\n",
              "      height: 32px;\n",
              "      padding: 0 0 0 0;\n",
              "      width: 32px;\n",
              "    }\n",
              "\n",
              "    .colab-df-convert:hover {\n",
              "      background-color: #E2EBFA;\n",
              "      box-shadow: 0px 1px 2px rgba(60, 64, 67, 0.3), 0px 1px 3px 1px rgba(60, 64, 67, 0.15);\n",
              "      fill: #174EA6;\n",
              "    }\n",
              "\n",
              "    [theme=dark] .colab-df-convert {\n",
              "      background-color: #3B4455;\n",
              "      fill: #D2E3FC;\n",
              "    }\n",
              "\n",
              "    [theme=dark] .colab-df-convert:hover {\n",
              "      background-color: #434B5C;\n",
              "      box-shadow: 0px 1px 3px 1px rgba(0, 0, 0, 0.15);\n",
              "      filter: drop-shadow(0px 1px 2px rgba(0, 0, 0, 0.3));\n",
              "      fill: #FFFFFF;\n",
              "    }\n",
              "  </style>\n",
              "\n",
              "      <script>\n",
              "        const buttonEl =\n",
              "          document.querySelector('#df-147ac163-cc6d-429e-8728-a04cecaa93ec button.colab-df-convert');\n",
              "        buttonEl.style.display =\n",
              "          google.colab.kernel.accessAllowed ? 'block' : 'none';\n",
              "\n",
              "        async function convertToInteractive(key) {\n",
              "          const element = document.querySelector('#df-147ac163-cc6d-429e-8728-a04cecaa93ec');\n",
              "          const dataTable =\n",
              "            await google.colab.kernel.invokeFunction('convertToInteractive',\n",
              "                                                     [key], {});\n",
              "          if (!dataTable) return;\n",
              "\n",
              "          const docLinkHtml = 'Like what you see? Visit the ' +\n",
              "            '<a target=\"_blank\" href=https://colab.research.google.com/notebooks/data_table.ipynb>data table notebook</a>'\n",
              "            + ' to learn more about interactive tables.';\n",
              "          element.innerHTML = '';\n",
              "          dataTable['output_type'] = 'display_data';\n",
              "          await google.colab.output.renderOutput(dataTable, element);\n",
              "          const docLink = document.createElement('div');\n",
              "          docLink.innerHTML = docLinkHtml;\n",
              "          element.appendChild(docLink);\n",
              "        }\n",
              "      </script>\n",
              "    </div>\n",
              "  </div>\n",
              "  "
            ]
          },
          "metadata": {},
          "execution_count": 3
        }
      ],
      "source": [
        "# чтение файла с данными и сохранение в таблицу df\n",
        "df = pd.read_csv('/content/drive/MyDrive/Colab Notebooks/datasets/toxic_comments.csv')\n",
        "    \n",
        "# просмотр первых пяти строк полученной таблицы\n",
        "df.head()"
      ]
    },
    {
      "cell_type": "code",
      "execution_count": 4,
      "metadata": {
        "colab": {
          "base_uri": "https://localhost:8080/"
        },
        "id": "b0q0fnqOhl9h",
        "outputId": "538bb546-b270-4adc-e4e0-a5d9b3554f15"
      },
      "outputs": [
        {
          "output_type": "execute_result",
          "data": {
            "text/plain": [
              "(159571, 2)"
            ]
          },
          "metadata": {},
          "execution_count": 4
        }
      ],
      "source": [
        "# просмотр размера таблицы\n",
        "df.shape"
      ]
    },
    {
      "cell_type": "code",
      "execution_count": 5,
      "metadata": {
        "colab": {
          "base_uri": "https://localhost:8080/"
        },
        "id": "qFF4a57cQW2D",
        "outputId": "b549aa2d-c935-4cee-c5d1-2ea8de2310d2"
      },
      "outputs": [
        {
          "output_type": "execute_result",
          "data": {
            "text/plain": [
              "text     0\n",
              "toxic    0\n",
              "dtype: int64"
            ]
          },
          "metadata": {},
          "execution_count": 5
        }
      ],
      "source": [
        "# просмотр количества пропусков\n",
        "df.isna().sum()"
      ]
    },
    {
      "cell_type": "code",
      "execution_count": 6,
      "metadata": {
        "colab": {
          "base_uri": "https://localhost:8080/"
        },
        "id": "DsUmS6LA0Dcg",
        "outputId": "c2d549b2-1e86-481e-dcaf-eb5c3122e340"
      },
      "outputs": [
        {
          "output_type": "execute_result",
          "data": {
            "text/plain": [
              "0"
            ]
          },
          "metadata": {},
          "execution_count": 6
        }
      ],
      "source": [
        "# просмотр количества дубликатов\n",
        "df.duplicated().sum()"
      ]
    },
    {
      "cell_type": "markdown",
      "metadata": {
        "id": "7BjM_0cUZCHP"
      },
      "source": [
        "В данных 159571 правка с разметкой о токсичности, пропусков и дубликатов в столбцах нет.\n",
        "\n",
        "Посмотрим, как соотносятся между собой положительные и отрицательные классы."
      ]
    },
    {
      "cell_type": "code",
      "execution_count": 7,
      "metadata": {
        "colab": {
          "base_uri": "https://localhost:8080/"
        },
        "id": "XlBIHOR8PMo6",
        "outputId": "d2a5d142-acd3-4da7-918f-f01d8d9726d6"
      },
      "outputs": [
        {
          "output_type": "execute_result",
          "data": {
            "text/plain": [
              "toxic\n",
              "0    143346\n",
              "1     16225\n",
              "dtype: int64"
            ]
          },
          "metadata": {},
          "execution_count": 7
        }
      ],
      "source": [
        "# определение размера сгруппированных значений\n",
        "# целевого признака в исходных данных\n",
        "count_class = df.groupby('toxic').size()\n",
        "count_class"
      ]
    },
    {
      "cell_type": "markdown",
      "metadata": {
        "id": "XSCTUUB-djVm"
      },
      "source": [
        "Данные несбалансированы: положительного класса почти в 9 раз меньше, чем отрицательного. Учтём это при обучении моделей с помощью балансировки классов."
      ]
    },
    {
      "cell_type": "markdown",
      "metadata": {
        "id": "KG2Ss8ltfQ7N"
      },
      "source": [
        "Подготовим правки для обучения моделей. Произведём:\n",
        "- лемматизацию;\n",
        "- очистку текста от лишних символов и пробелов, оставив только латиницу и одиночные пробелы."
      ]
    },
    {
      "cell_type": "code",
      "execution_count": 8,
      "metadata": {
        "id": "9j_UU3GMLDFU",
        "colab": {
          "base_uri": "https://localhost:8080/"
        },
        "outputId": "c7f2c4d8-9868-4053-878c-2dd9b598bc5c"
      },
      "outputs": [
        {
          "output_type": "stream",
          "name": "stderr",
          "text": [
            "/usr/local/lib/python3.7/dist-packages/spacy/language.py:1899: UserWarning: [W123] Argument disable with value ['parser', 'ner'] is used instead of ['senter'] as specified in the config. Be aware that this might affect other components in your pipeline.\n",
            "  config_value=config[\"nlp\"][key],\n"
          ]
        }
      ],
      "source": [
        "# загрузка английского токенайзера\n",
        "nlp = spacy.load(\"en_core_web_sm\", disable=['parser', 'ner'])\n",
        "\n",
        "# создание собственной функции для подготовки текста\n",
        "def clearing_text(text):\n",
        "  '''\n",
        "  функция очистки текста: принимает на вход текст,\n",
        "  возвращает текст, лемматизированный и очищенный\n",
        "  от лишних символов и пробелов\n",
        "  '''\n",
        "  text = text.lower()\n",
        "  doc = nlp(text)\n",
        "  lemm_text = \" \".join([token.lemma_ for token in doc])\n",
        "  cleared_text = re.sub(r'[^a-zA-Z]', ' ', lemm_text)\n",
        "\n",
        "  return \" \".join(cleared_text.split())"
      ]
    },
    {
      "cell_type": "code",
      "execution_count": 9,
      "metadata": {
        "colab": {
          "base_uri": "https://localhost:8080/",
          "height": 242
        },
        "id": "PIw4b57VVfmO",
        "outputId": "a58ac749-90c2-4b3a-c664-1b370f4c3d4f"
      },
      "outputs": [
        {
          "output_type": "display_data",
          "data": {
            "text/plain": [
              "                                                text  toxic  \\\n",
              "0  Explanation\\nWhy the edits made under my usern...      0   \n",
              "1  D'aww! He matches this background colour I'm s...      0   \n",
              "2  Hey man, I'm really not trying to edit war. It...      0   \n",
              "3  \"\\nMore\\nI can't make any real suggestions on ...      0   \n",
              "4  You, sir, are my hero. Any chance you remember...      0   \n",
              "\n",
              "                                           text_lemm  \n",
              "0  explanation why the edit make under my usernam...  \n",
              "1  d aww he match this background colour I be see...  \n",
              "2  hey man I be really not try to edit war it be ...  \n",
              "3  more I can not make any real suggestion on imp...  \n",
              "4  you sir be my hero any chance you remember wha...  "
            ],
            "text/html": [
              "\n",
              "  <div id=\"df-93b8c78f-9764-4b17-b506-39bf2673260f\">\n",
              "    <div class=\"colab-df-container\">\n",
              "      <div>\n",
              "<style scoped>\n",
              "    .dataframe tbody tr th:only-of-type {\n",
              "        vertical-align: middle;\n",
              "    }\n",
              "\n",
              "    .dataframe tbody tr th {\n",
              "        vertical-align: top;\n",
              "    }\n",
              "\n",
              "    .dataframe thead th {\n",
              "        text-align: right;\n",
              "    }\n",
              "</style>\n",
              "<table border=\"1\" class=\"dataframe\">\n",
              "  <thead>\n",
              "    <tr style=\"text-align: right;\">\n",
              "      <th></th>\n",
              "      <th>text</th>\n",
              "      <th>toxic</th>\n",
              "      <th>text_lemm</th>\n",
              "    </tr>\n",
              "  </thead>\n",
              "  <tbody>\n",
              "    <tr>\n",
              "      <th>0</th>\n",
              "      <td>Explanation\\nWhy the edits made under my usern...</td>\n",
              "      <td>0</td>\n",
              "      <td>explanation why the edit make under my usernam...</td>\n",
              "    </tr>\n",
              "    <tr>\n",
              "      <th>1</th>\n",
              "      <td>D'aww! He matches this background colour I'm s...</td>\n",
              "      <td>0</td>\n",
              "      <td>d aww he match this background colour I be see...</td>\n",
              "    </tr>\n",
              "    <tr>\n",
              "      <th>2</th>\n",
              "      <td>Hey man, I'm really not trying to edit war. It...</td>\n",
              "      <td>0</td>\n",
              "      <td>hey man I be really not try to edit war it be ...</td>\n",
              "    </tr>\n",
              "    <tr>\n",
              "      <th>3</th>\n",
              "      <td>\"\\nMore\\nI can't make any real suggestions on ...</td>\n",
              "      <td>0</td>\n",
              "      <td>more I can not make any real suggestion on imp...</td>\n",
              "    </tr>\n",
              "    <tr>\n",
              "      <th>4</th>\n",
              "      <td>You, sir, are my hero. Any chance you remember...</td>\n",
              "      <td>0</td>\n",
              "      <td>you sir be my hero any chance you remember wha...</td>\n",
              "    </tr>\n",
              "  </tbody>\n",
              "</table>\n",
              "</div>\n",
              "      <button class=\"colab-df-convert\" onclick=\"convertToInteractive('df-93b8c78f-9764-4b17-b506-39bf2673260f')\"\n",
              "              title=\"Convert this dataframe to an interactive table.\"\n",
              "              style=\"display:none;\">\n",
              "        \n",
              "  <svg xmlns=\"http://www.w3.org/2000/svg\" height=\"24px\"viewBox=\"0 0 24 24\"\n",
              "       width=\"24px\">\n",
              "    <path d=\"M0 0h24v24H0V0z\" fill=\"none\"/>\n",
              "    <path d=\"M18.56 5.44l.94 2.06.94-2.06 2.06-.94-2.06-.94-.94-2.06-.94 2.06-2.06.94zm-11 1L8.5 8.5l.94-2.06 2.06-.94-2.06-.94L8.5 2.5l-.94 2.06-2.06.94zm10 10l.94 2.06.94-2.06 2.06-.94-2.06-.94-.94-2.06-.94 2.06-2.06.94z\"/><path d=\"M17.41 7.96l-1.37-1.37c-.4-.4-.92-.59-1.43-.59-.52 0-1.04.2-1.43.59L10.3 9.45l-7.72 7.72c-.78.78-.78 2.05 0 2.83L4 21.41c.39.39.9.59 1.41.59.51 0 1.02-.2 1.41-.59l7.78-7.78 2.81-2.81c.8-.78.8-2.07 0-2.86zM5.41 20L4 18.59l7.72-7.72 1.47 1.35L5.41 20z\"/>\n",
              "  </svg>\n",
              "      </button>\n",
              "      \n",
              "  <style>\n",
              "    .colab-df-container {\n",
              "      display:flex;\n",
              "      flex-wrap:wrap;\n",
              "      gap: 12px;\n",
              "    }\n",
              "\n",
              "    .colab-df-convert {\n",
              "      background-color: #E8F0FE;\n",
              "      border: none;\n",
              "      border-radius: 50%;\n",
              "      cursor: pointer;\n",
              "      display: none;\n",
              "      fill: #1967D2;\n",
              "      height: 32px;\n",
              "      padding: 0 0 0 0;\n",
              "      width: 32px;\n",
              "    }\n",
              "\n",
              "    .colab-df-convert:hover {\n",
              "      background-color: #E2EBFA;\n",
              "      box-shadow: 0px 1px 2px rgba(60, 64, 67, 0.3), 0px 1px 3px 1px rgba(60, 64, 67, 0.15);\n",
              "      fill: #174EA6;\n",
              "    }\n",
              "\n",
              "    [theme=dark] .colab-df-convert {\n",
              "      background-color: #3B4455;\n",
              "      fill: #D2E3FC;\n",
              "    }\n",
              "\n",
              "    [theme=dark] .colab-df-convert:hover {\n",
              "      background-color: #434B5C;\n",
              "      box-shadow: 0px 1px 3px 1px rgba(0, 0, 0, 0.15);\n",
              "      filter: drop-shadow(0px 1px 2px rgba(0, 0, 0, 0.3));\n",
              "      fill: #FFFFFF;\n",
              "    }\n",
              "  </style>\n",
              "\n",
              "      <script>\n",
              "        const buttonEl =\n",
              "          document.querySelector('#df-93b8c78f-9764-4b17-b506-39bf2673260f button.colab-df-convert');\n",
              "        buttonEl.style.display =\n",
              "          google.colab.kernel.accessAllowed ? 'block' : 'none';\n",
              "\n",
              "        async function convertToInteractive(key) {\n",
              "          const element = document.querySelector('#df-93b8c78f-9764-4b17-b506-39bf2673260f');\n",
              "          const dataTable =\n",
              "            await google.colab.kernel.invokeFunction('convertToInteractive',\n",
              "                                                     [key], {});\n",
              "          if (!dataTable) return;\n",
              "\n",
              "          const docLinkHtml = 'Like what you see? Visit the ' +\n",
              "            '<a target=\"_blank\" href=https://colab.research.google.com/notebooks/data_table.ipynb>data table notebook</a>'\n",
              "            + ' to learn more about interactive tables.';\n",
              "          element.innerHTML = '';\n",
              "          dataTable['output_type'] = 'display_data';\n",
              "          await google.colab.output.renderOutput(dataTable, element);\n",
              "          const docLink = document.createElement('div');\n",
              "          docLink.innerHTML = docLinkHtml;\n",
              "          element.appendChild(docLink);\n",
              "        }\n",
              "      </script>\n",
              "    </div>\n",
              "  </div>\n",
              "  "
            ]
          },
          "metadata": {}
        },
        {
          "output_type": "stream",
          "name": "stdout",
          "text": [
            "CPU times: user 23min 41s, sys: 9.37 s, total: 23min 50s\n",
            "Wall time: 23min 49s\n"
          ]
        }
      ],
      "source": [
        "%%time\n",
        "# создание нового столбца с подготовленным текстом\n",
        "df['text_lemm'] = df['text'].apply(clearing_text)\n",
        "display(df.head())"
      ]
    },
    {
      "cell_type": "markdown",
      "metadata": {
        "id": "qhQ0ICD7vbBQ"
      },
      "source": [
        "### 1.1 Подготовка признаков для *TF-IDF*"
      ]
    },
    {
      "cell_type": "markdown",
      "metadata": {
        "id": "DvBwTuw6SPfI"
      },
      "source": [
        "Выделим новый столбец в признак, а метки о токсичности - в целевой признак. После чего произведём разбивку переменных на обучающую и тестовую выборки в соотношении 4:1. Добавим стратификацию по целевому признаку, потому что классы не сбалансированы."
      ]
    },
    {
      "cell_type": "code",
      "execution_count": 10,
      "metadata": {
        "id": "X-DK1kfReoF6"
      },
      "outputs": [],
      "source": [
        "# создание признаков и целевого признака\n",
        "X = df['text_lemm']\n",
        "y = df['toxic']"
      ]
    },
    {
      "cell_type": "code",
      "execution_count": 11,
      "metadata": {
        "colab": {
          "base_uri": "https://localhost:8080/",
          "height": 90
        },
        "id": "QXwmrUya7z1L",
        "outputId": "4fd1ab9c-3495-4350-b9d8-596448dca9b5"
      },
      "outputs": [
        {
          "output_type": "display_data",
          "data": {
            "text/plain": [
              "'Размер признаков обучающей выборки: (127656,)'"
            ],
            "application/vnd.google.colaboratory.intrinsic+json": {
              "type": "string"
            }
          },
          "metadata": {}
        },
        {
          "output_type": "display_data",
          "data": {
            "text/plain": [
              "'Размер целевого признака обучающей выборки: (127656,)'"
            ],
            "application/vnd.google.colaboratory.intrinsic+json": {
              "type": "string"
            }
          },
          "metadata": {}
        },
        {
          "output_type": "display_data",
          "data": {
            "text/plain": [
              "'Размер признаков тестовой выборки: (31915,)'"
            ],
            "application/vnd.google.colaboratory.intrinsic+json": {
              "type": "string"
            }
          },
          "metadata": {}
        },
        {
          "output_type": "display_data",
          "data": {
            "text/plain": [
              "'Размер целевого признака тестовой выборки: (31915,)'"
            ],
            "application/vnd.google.colaboratory.intrinsic+json": {
              "type": "string"
            }
          },
          "metadata": {}
        }
      ],
      "source": [
        "# разбивка данных на обучающую и тестовую выборки\n",
        "X_train, X_test, y_train, y_test = train_test_split(X, y,\n",
        "                                                    test_size=0.2,\n",
        "                                                    random_state=rs,\n",
        "                                                    stratify=y)\n",
        "\n",
        "display(f'Размер признаков обучающей выборки: {X_train.shape}')\n",
        "display(f'Размер целевого признака обучающей выборки: {y_train.shape}')\n",
        "display(f'Размер признаков тестовой выборки: {X_test.shape}')\n",
        "display(f'Размер целевого признака тестовой выборки: {y_test.shape}')"
      ]
    },
    {
      "cell_type": "markdown",
      "metadata": {
        "id": "te0pA0fDvsnj"
      },
      "source": [
        "### 1.2 Подготовка признаков для *BERT*"
      ]
    },
    {
      "cell_type": "markdown",
      "metadata": {
        "id": "SuNdLOrwyGZG"
      },
      "source": [
        "Создадим копию таблицы и сохраним в ней 5000 правок для работы *BERT*."
      ]
    },
    {
      "cell_type": "code",
      "execution_count": 12,
      "metadata": {
        "colab": {
          "base_uri": "https://localhost:8080/"
        },
        "id": "d2tfUaiExYJC",
        "outputId": "a4d8fc9b-ae30-459b-c02c-3e3b221b0123"
      },
      "outputs": [
        {
          "output_type": "stream",
          "name": "stdout",
          "text": [
            "<class 'pandas.core.frame.DataFrame'>\n",
            "RangeIndex: 5000 entries, 0 to 4999\n",
            "Data columns (total 3 columns):\n",
            " #   Column     Non-Null Count  Dtype \n",
            "---  ------     --------------  ----- \n",
            " 0   text       5000 non-null   object\n",
            " 1   toxic      5000 non-null   int64 \n",
            " 2   text_lemm  5000 non-null   object\n",
            "dtypes: int64(1), object(2)\n",
            "memory usage: 117.3+ KB\n"
          ]
        }
      ],
      "source": [
        "df_bert = df.copy(deep=True)\n",
        "df_bert = df_bert.sample(5000).reset_index(drop=True) \n",
        "df_bert.info()"
      ]
    },
    {
      "cell_type": "code",
      "execution_count": 13,
      "metadata": {
        "colab": {
          "base_uri": "https://localhost:8080/"
        },
        "id": "oaoJAiubDmu4",
        "outputId": "87169011-7c8f-40ac-ac10-110b5a305f53"
      },
      "outputs": [
        {
          "output_type": "execute_result",
          "data": {
            "text/plain": [
              "toxic\n",
              "0    4501\n",
              "1     499\n",
              "dtype: int64"
            ]
          },
          "metadata": {},
          "execution_count": 13
        }
      ],
      "source": [
        "# проверка дисбаланса классов в выборке для bert\n",
        "count_class = df_bert.groupby('toxic').size()\n",
        "count_class"
      ]
    },
    {
      "cell_type": "markdown",
      "metadata": {
        "id": "_gip-_vVoL-G"
      },
      "source": [
        "Дисбаланс классов практически такой же, как в исходных данных."
      ]
    },
    {
      "cell_type": "markdown",
      "metadata": {
        "id": "Qwz7E7BvoL-H"
      },
      "source": [
        "Инициализуем предобученную модель *BERT* и токенизатор, токенизизируем тексты, добавим маркеры начала и конца предложения и преобразуем тексты в эмбеддинги."
      ]
    },
    {
      "cell_type": "code",
      "execution_count": 14,
      "metadata": {
        "id": "qXMBVDt312bA"
      },
      "outputs": [],
      "source": [
        "device = torch.device(\"cuda:0\") if torch.cuda.is_available() else torch.device(\"cpu\")"
      ]
    },
    {
      "cell_type": "code",
      "execution_count": 15,
      "metadata": {
        "colab": {
          "base_uri": "https://localhost:8080/"
        },
        "id": "RpImPocJ15bo",
        "outputId": "93365c81-bd1e-4c84-d0db-deadfe03bdc9"
      },
      "outputs": [
        {
          "output_type": "stream",
          "name": "stderr",
          "text": [
            "Some weights of the model checkpoint at distilbert-base-uncased were not used when initializing DistilBertModel: ['vocab_transform.bias', 'vocab_layer_norm.bias', 'vocab_layer_norm.weight', 'vocab_transform.weight', 'vocab_projector.weight', 'vocab_projector.bias']\n",
            "- This IS expected if you are initializing DistilBertModel from the checkpoint of a model trained on another task or with another architecture (e.g. initializing a BertForSequenceClassification model from a BertForPreTraining model).\n",
            "- This IS NOT expected if you are initializing DistilBertModel from the checkpoint of a model that you expect to be exactly identical (initializing a BertForSequenceClassification model from a BertForSequenceClassification model).\n"
          ]
        }
      ],
      "source": [
        "# инициализация предобученной модели bert и токенизатора\n",
        "model_class, tokenizer_class, pretrained_weights = (transformers.DistilBertModel,\n",
        "                                                    transformers.DistilBertTokenizer,\n",
        "                                                    'distilbert-base-uncased')\n",
        "tokenizer = tokenizer_class.from_pretrained(pretrained_weights)\n",
        "model = model_class.from_pretrained(pretrained_weights)"
      ]
    },
    {
      "cell_type": "code",
      "execution_count": 16,
      "metadata": {
        "colab": {
          "base_uri": "https://localhost:8080/",
          "height": 35
        },
        "id": "tCky_-nM5Ano",
        "outputId": "8e40bfaa-b4d2-46f5-945a-f8fb94ee0e3f"
      },
      "outputs": [
        {
          "output_type": "display_data",
          "data": {
            "text/plain": [
              "(5000, 512)"
            ]
          },
          "metadata": {}
        }
      ],
      "source": [
        "# токенизация текста\n",
        "tokenized = df_bert['text_lemm'].apply(\n",
        "    lambda x: tokenizer.encode(x, truncation=True, max_length=512,\n",
        "                               add_special_tokens=True))\n",
        "\n",
        "max_len = 0\n",
        "for i in tokenized.values:\n",
        "    if len(i) > max_len:\n",
        "        max_len = len(i)\n",
        "\n",
        "# применение padding к векторам\n",
        "padded = np.array([i + [0]*(max_len - len(i)) for i in tokenized.values])\n",
        "\n",
        "# создание маски для важных токенов \n",
        "attention_mask = np.where(padded != 0, 1, 0)\n",
        "\n",
        "display(attention_mask.shape)"
      ]
    },
    {
      "cell_type": "code",
      "execution_count": 17,
      "metadata": {
        "colab": {
          "base_uri": "https://localhost:8080/",
          "height": 85,
          "referenced_widgets": [
            "ee40158984ea42e494289b0240531922",
            "cd46bde6e5ae4f5fabed78cddef63766",
            "511a13be971b4ef09ab4ddf8e845ace4",
            "b2c2ede3ed374496a7faef0b8e5b8b43",
            "f78345cfb6b442fda893927b6cfb9115",
            "31422d5541984e5fb79ca64c594f5534",
            "63aa7491cbbf457ca0b15e8b7cc05060",
            "2e7003eb213a4bfebeb5fc6c38b55431",
            "98d79e0e0e574336b86214e0c03ac40d",
            "3a53b66cd8344e65a23248254c26ef7f",
            "78fb7b7613b54d82a13c03a3accc166e"
          ]
        },
        "id": "BCMiLGU3yYsZ",
        "outputId": "d43500be-2e8e-4309-d5f4-80b23a3db821"
      },
      "outputs": [
        {
          "output_type": "display_data",
          "data": {
            "text/plain": [
              "  0%|          | 0/100 [00:00<?, ?it/s]"
            ],
            "application/vnd.jupyter.widget-view+json": {
              "version_major": 2,
              "version_minor": 0,
              "model_id": "ee40158984ea42e494289b0240531922"
            }
          },
          "metadata": {}
        },
        {
          "output_type": "stream",
          "name": "stdout",
          "text": [
            "CPU times: user 1min 32s, sys: 929 ms, total: 1min 33s\n",
            "Wall time: 1min 33s\n"
          ]
        }
      ],
      "source": [
        "%%time\n",
        "# преобразование текста в embeddings\n",
        "batch_size = 50\n",
        "embeddings = []\n",
        "for i in notebook.tqdm(range(padded.shape[0] // batch_size)):\n",
        "  batch = torch.LongTensor(padded[batch_size*i:batch_size*(i+1)]).cuda()\n",
        "  attention_mask_batch = torch.LongTensor(attention_mask[batch_size*i:batch_size*(i+1)]).cuda()\n",
        " \n",
        "  with torch.no_grad():\n",
        "    model.cuda()\n",
        "    batch_embeddings = model(batch, attention_mask=attention_mask_batch)\n",
        " \n",
        "  embeddings.append(batch_embeddings[0][:,0,:].cpu().numpy())"
      ]
    },
    {
      "cell_type": "markdown",
      "metadata": {
        "id": "HCJfLMUaoL-J"
      },
      "source": [
        "Тексты преобразованы в эмбеддинги. Теперь создадим из них признак, целевой признак и  разделим новые переменные на обучающую и тестовую выборки в соотношении 4:1. Добавим стратификацию по целевому признаку, потому что классы не сбалансированы."
      ]
    },
    {
      "cell_type": "code",
      "execution_count": 18,
      "metadata": {
        "id": "P-79lC4C5oAy"
      },
      "outputs": [],
      "source": [
        "# создание признаков и целевого признака\n",
        "Xb = np.concatenate(embeddings)\n",
        "yb = df_bert['toxic']"
      ]
    },
    {
      "cell_type": "code",
      "execution_count": 19,
      "metadata": {
        "colab": {
          "base_uri": "https://localhost:8080/",
          "height": 90
        },
        "id": "AbX7IlJ-60T_",
        "outputId": "b37a749c-f76f-428b-a922-8a7fabbe5ed2"
      },
      "outputs": [
        {
          "output_type": "display_data",
          "data": {
            "text/plain": [
              "'Размер признаков обучающей выборки: (4000, 768)'"
            ],
            "application/vnd.google.colaboratory.intrinsic+json": {
              "type": "string"
            }
          },
          "metadata": {}
        },
        {
          "output_type": "display_data",
          "data": {
            "text/plain": [
              "'Размер целевого признака обучающей выборки: (4000,)'"
            ],
            "application/vnd.google.colaboratory.intrinsic+json": {
              "type": "string"
            }
          },
          "metadata": {}
        },
        {
          "output_type": "display_data",
          "data": {
            "text/plain": [
              "'Размер признаков тестовой выборки: (1000, 768)'"
            ],
            "application/vnd.google.colaboratory.intrinsic+json": {
              "type": "string"
            }
          },
          "metadata": {}
        },
        {
          "output_type": "display_data",
          "data": {
            "text/plain": [
              "'Размер целевого признака тестовой выборки: (1000,)'"
            ],
            "application/vnd.google.colaboratory.intrinsic+json": {
              "type": "string"
            }
          },
          "metadata": {}
        }
      ],
      "source": [
        "# разбивка данных на обучающую и тестовую выборки\n",
        "Xb_train, Xb_test, yb_train, yb_test = train_test_split(Xb, yb,\n",
        "                                                    test_size=0.2,\n",
        "                                                    random_state=rs,\n",
        "                                                    stratify=yb)\n",
        "\n",
        "display(f'Размер признаков обучающей выборки: {Xb_train.shape}')\n",
        "display(f'Размер целевого признака обучающей выборки: {yb_train.shape}')\n",
        "display(f'Размер признаков тестовой выборки: {Xb_test.shape}')\n",
        "display(f'Размер целевого признака тестовой выборки: {yb_test.shape}')"
      ]
    },
    {
      "cell_type": "markdown",
      "metadata": {
        "id": "UrVwVA_qFI9S"
      },
      "source": [
        "### 1.3 Вывод\n",
        "В данных 159571 правка с разметкой о токсичности.\n",
        "\n",
        "Данные несбалансированы: положительного класса почти в 9 раз меньше, чем отрицательного. Учтём это при обучении моделей с помощью балансировки классов.\n",
        "\n",
        "Произведена подготовка правок для обучения моделей:\n",
        "- лемматизация;\n",
        "- очистка текста от лишних символов и пробелов, оставлены только латиница и одиночные пробелы;\n",
        "- для модели *BERT* создана выборка из исходных данных длиной в 500 правок, на оснвое которой созданы эмбединги.\n",
        "\n",
        "Созданы новые переменные:\n",
        "- лемматизированный и очищенный текст - признак для обучения c *TF-IDF*;\n",
        "- эмбеддинги - признак для обучения с *BERT*;\n",
        "- метки о токсичности - целевой признак.\n",
        "\n",
        "Произведена разбивка переменных на обучающую и тестовую выборки в соотношении 4:1. Добавлена стратификация по целевому признаку, потому что классы не сбалансированы."
      ]
    },
    {
      "cell_type": "markdown",
      "metadata": {
        "id": "yQEi1lCODy2s"
      },
      "source": [
        "## Обучение c *TF-IDF*"
      ]
    },
    {
      "cell_type": "markdown",
      "metadata": {
        "id": "BHfdQIqFhoJw"
      },
      "source": [
        "Подберём лучшие гиперпараметры и обучим логистическую регрессиию, дерево решений, случайный лес, модель градиентного бустинга *LightGBMClassifier*. Для проверки адекватности моделей обучим также константную модель.\n",
        "\n",
        "Для подбора лучших гиперпараметров используем *GridSearch*.\n",
        "\n",
        "Используем *TF-IDF* внутри *pipeline* для того, чтобы векторизатор не обучался на валидации внутри кросс-валидации.\n",
        "\n",
        "Для обучения и подбора напишем собственную функцию."
      ]
    },
    {
      "cell_type": "code",
      "execution_count": 20,
      "metadata": {
        "id": "rTuWaHR7NiKl"
      },
      "outputs": [],
      "source": [
        "# определение списка стоп-слов\n",
        "stopwords = set(nltk_stopwords.words('english'))"
      ]
    },
    {
      "cell_type": "code",
      "execution_count": 21,
      "metadata": {
        "id": "Puw_knf2rsip"
      },
      "outputs": [],
      "source": [
        "# создание функции для подбора параметров лучшей модели\n",
        "def pipeline(model, X, y, params):\n",
        "  '''\n",
        "  функция для подбора лучших гиперпараметров и обучения модели:\n",
        "  на вход принимает модель с параметрами, признаки и целевой признак;\n",
        "  возвращает значение F1, обученную модель и выводит на экран\n",
        "  значения F1 и подобранные гиперпараметры\n",
        "  '''\n",
        "  pipe = Pipeline([('vect', TfidfVectorizer(stop_words=stopwords)),\n",
        "                   ('tfidf', TfidfTransformer()),\n",
        "                   ('model', model)])\n",
        "  param = params\n",
        "\n",
        "  grid = GridSearchCV(pipe, param,\n",
        "                      scoring='f1',\n",
        "                      cv=3)\n",
        "  \n",
        "  grid.fit(X, y)\n",
        "\n",
        "  display('Лучшее значение F1:', grid.best_score_)\n",
        "  display('Лучшие параметры', grid.best_params_)\n",
        "  \n",
        "  return grid.best_score_, grid"
      ]
    },
    {
      "cell_type": "markdown",
      "metadata": {
        "id": "HHFhKVoQA0qi"
      },
      "source": [
        "### 2.1 Логистическая регрессия"
      ]
    },
    {
      "cell_type": "code",
      "execution_count": 22,
      "metadata": {
        "colab": {
          "base_uri": "https://localhost:8080/",
          "height": 125
        },
        "id": "MQaK_FzesCCN",
        "outputId": "36271b28-7b44-4df2-bf0c-01c37f9b44ee"
      },
      "outputs": [
        {
          "output_type": "display_data",
          "data": {
            "text/plain": [
              "'Лучшее значение F1:'"
            ],
            "application/vnd.google.colaboratory.intrinsic+json": {
              "type": "string"
            }
          },
          "metadata": {}
        },
        {
          "output_type": "display_data",
          "data": {
            "text/plain": [
              "0.7575374066932222"
            ]
          },
          "metadata": {}
        },
        {
          "output_type": "display_data",
          "data": {
            "text/plain": [
              "'Лучшие параметры'"
            ],
            "application/vnd.google.colaboratory.intrinsic+json": {
              "type": "string"
            }
          },
          "metadata": {}
        },
        {
          "output_type": "display_data",
          "data": {
            "text/plain": [
              "{'model__C': 1.0, 'model__max_iter': 100, 'model__solver': 'sag'}"
            ]
          },
          "metadata": {}
        },
        {
          "output_type": "stream",
          "name": "stdout",
          "text": [
            "CPU times: user 3min 38s, sys: 26.3 s, total: 4min 4s\n",
            "Wall time: 3min 35s\n"
          ]
        }
      ],
      "source": [
        "%%time\n",
        "# инициализация модели логистической регрессии\n",
        "model_lr = LogisticRegression(class_weight='balanced', random_state=rs)\n",
        "\n",
        "# установка диапазонов гиперпараметров\n",
        "param_lr = {'model__C': [0.5, 1.0],\n",
        "            'model__max_iter': [100, 150],\n",
        "            'model__solver': ['lbfgs', 'sag']}\n",
        "\n",
        "f1_train_lr, grid_lr = pipeline(model_lr, X_train, y_train, param_lr)"
      ]
    },
    {
      "cell_type": "markdown",
      "metadata": {
        "id": "3jKE6cNWZxw6"
      },
      "source": [
        "На обучающей выборке получено *F1* = 0,757. Значение удовлетворяет условию (не меньше 0,75)."
      ]
    },
    {
      "cell_type": "markdown",
      "metadata": {
        "id": "E5L9DzTvBfgT"
      },
      "source": [
        "### 2.2 Дерево решений"
      ]
    },
    {
      "cell_type": "code",
      "execution_count": 23,
      "metadata": {
        "colab": {
          "base_uri": "https://localhost:8080/",
          "height": 125
        },
        "id": "v7Uptgmz4gMp",
        "outputId": "93fac0db-7088-4ff2-aeab-7c7a8b496e28"
      },
      "outputs": [
        {
          "output_type": "display_data",
          "data": {
            "text/plain": [
              "'Лучшее значение F1:'"
            ],
            "application/vnd.google.colaboratory.intrinsic+json": {
              "type": "string"
            }
          },
          "metadata": {}
        },
        {
          "output_type": "display_data",
          "data": {
            "text/plain": [
              "0.6585147615140836"
            ]
          },
          "metadata": {}
        },
        {
          "output_type": "display_data",
          "data": {
            "text/plain": [
              "'Лучшие параметры'"
            ],
            "application/vnd.google.colaboratory.intrinsic+json": {
              "type": "string"
            }
          },
          "metadata": {}
        },
        {
          "output_type": "display_data",
          "data": {
            "text/plain": [
              "{'model__max_depth': 40, 'model__min_samples_leaf': 2}"
            ]
          },
          "metadata": {}
        },
        {
          "output_type": "stream",
          "name": "stdout",
          "text": [
            "CPU times: user 5min 54s, sys: 825 ms, total: 5min 55s\n",
            "Wall time: 5min 53s\n"
          ]
        }
      ],
      "source": [
        "%%time\n",
        "# инициализация модели дерева решений \n",
        "model_dt = DecisionTreeClassifier(class_weight='balanced', random_state=rs)\n",
        "\n",
        "# установка диапазонов гиперпараметров\n",
        "param_dt = {'model__max_depth': [35, 40],\n",
        "            'model__min_samples_leaf': [2, 5]}\n",
        "\n",
        "f1_train_dt, grid_dt = pipeline(model_dt, X_train, y_train, param_dt)"
      ]
    },
    {
      "cell_type": "markdown",
      "metadata": {
        "id": "WQxHMttMakPh"
      },
      "source": [
        "На обучающей выборке получено *F1* = 0,659. Значение не удовлетворяет условию (не меньше 0,75)."
      ]
    },
    {
      "cell_type": "markdown",
      "metadata": {
        "id": "KNEAPp5EOgk-"
      },
      "source": [
        "### 2.3 Случайный лес"
      ]
    },
    {
      "cell_type": "code",
      "execution_count": 24,
      "metadata": {
        "colab": {
          "base_uri": "https://localhost:8080/",
          "height": 125
        },
        "id": "OsM4CEnqsklk",
        "outputId": "a4405f9e-a7bb-4234-cff9-771590b877c8"
      },
      "outputs": [
        {
          "output_type": "display_data",
          "data": {
            "text/plain": [
              "'Лучшее значение F1:'"
            ],
            "application/vnd.google.colaboratory.intrinsic+json": {
              "type": "string"
            }
          },
          "metadata": {}
        },
        {
          "output_type": "display_data",
          "data": {
            "text/plain": [
              "0.5125696635349778"
            ]
          },
          "metadata": {}
        },
        {
          "output_type": "display_data",
          "data": {
            "text/plain": [
              "'Лучшие параметры'"
            ],
            "application/vnd.google.colaboratory.intrinsic+json": {
              "type": "string"
            }
          },
          "metadata": {}
        },
        {
          "output_type": "display_data",
          "data": {
            "text/plain": [
              "{'model__max_depth': 60, 'model__n_estimators': 200}"
            ]
          },
          "metadata": {}
        },
        {
          "output_type": "stream",
          "name": "stdout",
          "text": [
            "CPU times: user 12min 3s, sys: 1.6 s, total: 12min 4s\n",
            "Wall time: 12min\n"
          ]
        }
      ],
      "source": [
        "%%time\n",
        "# инициализация модели случайного леса\n",
        "model_rf = RandomForestClassifier(class_weight='balanced', random_state=rs)\n",
        "\n",
        "# установка диапазонов гиперпараметров\n",
        "param_rf = {'model__n_estimators': [200],\n",
        "            'model__max_depth': [50, 60]}\n",
        "\n",
        "f1_train_rf, grid_rf = pipeline(model_rf, X_train, y_train, param_rf)"
      ]
    },
    {
      "cell_type": "markdown",
      "metadata": {
        "id": "W_ocyGXZH5b6"
      },
      "source": [
        "На обучающей выборке получено *F1* = 0,513. Значение не удовлетворяет условию (не меньше 0,75). Данная модель может показать немного лучший результат: так, при 400 деревьях и максимальной глубине, равной, 80, *F1* = 0,54. Но значение всё равно далеко от 0,75, и код выполняется очень долго."
      ]
    },
    {
      "cell_type": "markdown",
      "metadata": {
        "id": "fFVG8OwfB_k_"
      },
      "source": [
        "### 2.4 *LightGBMClassifier*"
      ]
    },
    {
      "cell_type": "code",
      "execution_count": 25,
      "metadata": {
        "colab": {
          "base_uri": "https://localhost:8080/",
          "height": 125
        },
        "id": "1W3c1KcMpa7s",
        "outputId": "41cd023e-27a5-4f73-f91c-5a406c47b0b5"
      },
      "outputs": [
        {
          "output_type": "display_data",
          "data": {
            "text/plain": [
              "'Лучшее значение F1:'"
            ],
            "application/vnd.google.colaboratory.intrinsic+json": {
              "type": "string"
            }
          },
          "metadata": {}
        },
        {
          "output_type": "display_data",
          "data": {
            "text/plain": [
              "0.7664336937410704"
            ]
          },
          "metadata": {}
        },
        {
          "output_type": "display_data",
          "data": {
            "text/plain": [
              "'Лучшие параметры'"
            ],
            "application/vnd.google.colaboratory.intrinsic+json": {
              "type": "string"
            }
          },
          "metadata": {}
        },
        {
          "output_type": "display_data",
          "data": {
            "text/plain": [
              "{'model__max_depth': 20, 'model__n_estimators': 600}"
            ]
          },
          "metadata": {}
        },
        {
          "output_type": "stream",
          "name": "stdout",
          "text": [
            "CPU times: user 33min 47s, sys: 4.61 s, total: 33min 52s\n",
            "Wall time: 33min 41s\n"
          ]
        }
      ],
      "source": [
        "%%time\n",
        "# инициализация модели\n",
        "model_lgbm = LGBMClassifier(class_weight='balanced', random_state=rs)\n",
        "\n",
        "# установка диапазонов гиперпараметров\n",
        "param_lgbm = {'model__max_depth': [20],\n",
        "              'model__n_estimators': [600, 700]}\n",
        "\n",
        "f1_train_lgbm, grid_lgbm = pipeline(model_lgbm, X_train, y_train, param_lgbm)"
      ]
    },
    {
      "cell_type": "markdown",
      "metadata": {
        "id": "vxcViGAJvuli"
      },
      "source": [
        "На обучающей выборке получено *F1* = 0,766. Значение удовлетворяет условию (не меньше 0,75)."
      ]
    },
    {
      "cell_type": "markdown",
      "metadata": {
        "id": "muF__sci5kpL"
      },
      "source": [
        "### 2.5 Константная модель"
      ]
    },
    {
      "cell_type": "code",
      "execution_count": 26,
      "metadata": {
        "colab": {
          "base_uri": "https://localhost:8080/",
          "height": 125
        },
        "id": "bgP_X7jq73WV",
        "outputId": "5f2aa8ca-f7a6-4cb3-fef2-06b3dd8bad51"
      },
      "outputs": [
        {
          "output_type": "display_data",
          "data": {
            "text/plain": [
              "'Лучшее значение F1:'"
            ],
            "application/vnd.google.colaboratory.intrinsic+json": {
              "type": "string"
            }
          },
          "metadata": {}
        },
        {
          "output_type": "display_data",
          "data": {
            "text/plain": [
              "0.18459000522044622"
            ]
          },
          "metadata": {}
        },
        {
          "output_type": "display_data",
          "data": {
            "text/plain": [
              "'Лучшие параметры'"
            ],
            "application/vnd.google.colaboratory.intrinsic+json": {
              "type": "string"
            }
          },
          "metadata": {}
        },
        {
          "output_type": "display_data",
          "data": {
            "text/plain": [
              "{'model__strategy': 'constant'}"
            ]
          },
          "metadata": {}
        },
        {
          "output_type": "stream",
          "name": "stdout",
          "text": [
            "CPU times: user 40.7 s, sys: 248 ms, total: 40.9 s\n",
            "Wall time: 40.8 s\n"
          ]
        }
      ],
      "source": [
        "%%time\n",
        "# инициализация константной модели\n",
        "model_dc = DummyClassifier(constant = 1)\n",
        "\n",
        "# установка диапазонов гиперпараметров\n",
        "param_dc = {'model__strategy': ['most_frequent', 'constant']}\n",
        "\n",
        "f1_train_dc, grid_dc = pipeline(model_dc, X_train, y_train, param_dc)"
      ]
    },
    {
      "cell_type": "markdown",
      "metadata": {
        "id": "LCmAS6vqwEu2"
      },
      "source": [
        "На обучающей выборке получено *F1* = 0,185 при стратегии предсказания любой правки токсичной. Значение много меньше полученных рассмотренными моделями, значит, всё рассмотренные модели адекватны."
      ]
    },
    {
      "cell_type": "markdown",
      "metadata": {
        "id": "X784cF2xfrhS"
      },
      "source": [
        "### 2.6 Сравнение моделей и проверка качества лучшей модели\n",
        "Из рассмотренных моделей требуемое значение *F1* на обучающей выборке получено логистической регрессией и *LightGBMClassifier*. При этом лучшая метрика у последней.\n",
        "\n",
        "Константная модель показывает метрику много меньше полученных рассмотренными моделями, значит, они адекватны.\n",
        "\n",
        "Полученные на обучающей выборке значения *F1* приведены в таблице."
      ]
    },
    {
      "cell_type": "code",
      "execution_count": 27,
      "metadata": {
        "colab": {
          "base_uri": "https://localhost:8080/",
          "height": 206
        },
        "id": "lrKjCtmUh5TI",
        "outputId": "67c8f181-8df7-43ee-88df-0da3ed48f833"
      },
      "outputs": [
        {
          "output_type": "display_data",
          "data": {
            "text/plain": [
              "               Модель  F1, обучающая выборка\n",
              "0  LogisticRegression               0.757537\n",
              "1        DecisionTree               0.658515\n",
              "2        RandomForest               0.512570\n",
              "3            LightGBM               0.766434\n",
              "4               Dummy               0.184590"
            ],
            "text/html": [
              "\n",
              "  <div id=\"df-ffe2a35a-5068-4433-913e-332a2e2f4e0f\">\n",
              "    <div class=\"colab-df-container\">\n",
              "      <div>\n",
              "<style scoped>\n",
              "    .dataframe tbody tr th:only-of-type {\n",
              "        vertical-align: middle;\n",
              "    }\n",
              "\n",
              "    .dataframe tbody tr th {\n",
              "        vertical-align: top;\n",
              "    }\n",
              "\n",
              "    .dataframe thead th {\n",
              "        text-align: right;\n",
              "    }\n",
              "</style>\n",
              "<table border=\"1\" class=\"dataframe\">\n",
              "  <thead>\n",
              "    <tr style=\"text-align: right;\">\n",
              "      <th></th>\n",
              "      <th>Модель</th>\n",
              "      <th>F1, обучающая выборка</th>\n",
              "    </tr>\n",
              "  </thead>\n",
              "  <tbody>\n",
              "    <tr>\n",
              "      <th>0</th>\n",
              "      <td>LogisticRegression</td>\n",
              "      <td>0.757537</td>\n",
              "    </tr>\n",
              "    <tr>\n",
              "      <th>1</th>\n",
              "      <td>DecisionTree</td>\n",
              "      <td>0.658515</td>\n",
              "    </tr>\n",
              "    <tr>\n",
              "      <th>2</th>\n",
              "      <td>RandomForest</td>\n",
              "      <td>0.512570</td>\n",
              "    </tr>\n",
              "    <tr>\n",
              "      <th>3</th>\n",
              "      <td>LightGBM</td>\n",
              "      <td>0.766434</td>\n",
              "    </tr>\n",
              "    <tr>\n",
              "      <th>4</th>\n",
              "      <td>Dummy</td>\n",
              "      <td>0.184590</td>\n",
              "    </tr>\n",
              "  </tbody>\n",
              "</table>\n",
              "</div>\n",
              "      <button class=\"colab-df-convert\" onclick=\"convertToInteractive('df-ffe2a35a-5068-4433-913e-332a2e2f4e0f')\"\n",
              "              title=\"Convert this dataframe to an interactive table.\"\n",
              "              style=\"display:none;\">\n",
              "        \n",
              "  <svg xmlns=\"http://www.w3.org/2000/svg\" height=\"24px\"viewBox=\"0 0 24 24\"\n",
              "       width=\"24px\">\n",
              "    <path d=\"M0 0h24v24H0V0z\" fill=\"none\"/>\n",
              "    <path d=\"M18.56 5.44l.94 2.06.94-2.06 2.06-.94-2.06-.94-.94-2.06-.94 2.06-2.06.94zm-11 1L8.5 8.5l.94-2.06 2.06-.94-2.06-.94L8.5 2.5l-.94 2.06-2.06.94zm10 10l.94 2.06.94-2.06 2.06-.94-2.06-.94-.94-2.06-.94 2.06-2.06.94z\"/><path d=\"M17.41 7.96l-1.37-1.37c-.4-.4-.92-.59-1.43-.59-.52 0-1.04.2-1.43.59L10.3 9.45l-7.72 7.72c-.78.78-.78 2.05 0 2.83L4 21.41c.39.39.9.59 1.41.59.51 0 1.02-.2 1.41-.59l7.78-7.78 2.81-2.81c.8-.78.8-2.07 0-2.86zM5.41 20L4 18.59l7.72-7.72 1.47 1.35L5.41 20z\"/>\n",
              "  </svg>\n",
              "      </button>\n",
              "      \n",
              "  <style>\n",
              "    .colab-df-container {\n",
              "      display:flex;\n",
              "      flex-wrap:wrap;\n",
              "      gap: 12px;\n",
              "    }\n",
              "\n",
              "    .colab-df-convert {\n",
              "      background-color: #E8F0FE;\n",
              "      border: none;\n",
              "      border-radius: 50%;\n",
              "      cursor: pointer;\n",
              "      display: none;\n",
              "      fill: #1967D2;\n",
              "      height: 32px;\n",
              "      padding: 0 0 0 0;\n",
              "      width: 32px;\n",
              "    }\n",
              "\n",
              "    .colab-df-convert:hover {\n",
              "      background-color: #E2EBFA;\n",
              "      box-shadow: 0px 1px 2px rgba(60, 64, 67, 0.3), 0px 1px 3px 1px rgba(60, 64, 67, 0.15);\n",
              "      fill: #174EA6;\n",
              "    }\n",
              "\n",
              "    [theme=dark] .colab-df-convert {\n",
              "      background-color: #3B4455;\n",
              "      fill: #D2E3FC;\n",
              "    }\n",
              "\n",
              "    [theme=dark] .colab-df-convert:hover {\n",
              "      background-color: #434B5C;\n",
              "      box-shadow: 0px 1px 3px 1px rgba(0, 0, 0, 0.15);\n",
              "      filter: drop-shadow(0px 1px 2px rgba(0, 0, 0, 0.3));\n",
              "      fill: #FFFFFF;\n",
              "    }\n",
              "  </style>\n",
              "\n",
              "      <script>\n",
              "        const buttonEl =\n",
              "          document.querySelector('#df-ffe2a35a-5068-4433-913e-332a2e2f4e0f button.colab-df-convert');\n",
              "        buttonEl.style.display =\n",
              "          google.colab.kernel.accessAllowed ? 'block' : 'none';\n",
              "\n",
              "        async function convertToInteractive(key) {\n",
              "          const element = document.querySelector('#df-ffe2a35a-5068-4433-913e-332a2e2f4e0f');\n",
              "          const dataTable =\n",
              "            await google.colab.kernel.invokeFunction('convertToInteractive',\n",
              "                                                     [key], {});\n",
              "          if (!dataTable) return;\n",
              "\n",
              "          const docLinkHtml = 'Like what you see? Visit the ' +\n",
              "            '<a target=\"_blank\" href=https://colab.research.google.com/notebooks/data_table.ipynb>data table notebook</a>'\n",
              "            + ' to learn more about interactive tables.';\n",
              "          element.innerHTML = '';\n",
              "          dataTable['output_type'] = 'display_data';\n",
              "          await google.colab.output.renderOutput(dataTable, element);\n",
              "          const docLink = document.createElement('div');\n",
              "          docLink.innerHTML = docLinkHtml;\n",
              "          element.appendChild(docLink);\n",
              "        }\n",
              "      </script>\n",
              "    </div>\n",
              "  </div>\n",
              "  "
            ]
          },
          "metadata": {}
        }
      ],
      "source": [
        "# создание таблицы с метриками для рассмотренных моделей\n",
        "result = pd.DataFrame(data=[['LogisticRegression', f1_train_lr],\n",
        "                            ['DecisionTree', f1_train_dt],\n",
        "                            ['RandomForest', f1_train_rf],\n",
        "                            ['LightGBM', f1_train_lgbm],\n",
        "                            ['Dummy', f1_train_dc]],\n",
        "                      columns=['Модель', 'F1, обучающая выборка'])\n",
        "display(result)"
      ]
    },
    {
      "cell_type": "markdown",
      "metadata": {
        "id": "Q4sDJT1wekv2"
      },
      "source": [
        "Проверим качество лучшей модели - *LightGBMClassifier*: получим предсказания и значение *F1* на тестовой выборке."
      ]
    },
    {
      "cell_type": "code",
      "execution_count": 28,
      "metadata": {
        "colab": {
          "base_uri": "https://localhost:8080/",
          "height": 53
        },
        "id": "qdMmtadxrlSs",
        "outputId": "304b8d9d-984e-40b5-cb27-372dac226045"
      },
      "outputs": [
        {
          "output_type": "display_data",
          "data": {
            "text/plain": [
              "'F1 на тестовой выборке:'"
            ],
            "application/vnd.google.colaboratory.intrinsic+json": {
              "type": "string"
            }
          },
          "metadata": {}
        },
        {
          "output_type": "display_data",
          "data": {
            "text/plain": [
              "0.7769387162358409"
            ]
          },
          "metadata": {}
        }
      ],
      "source": [
        "# получение предсказаний лучшей модели и расчёт f1\n",
        "predict_test_lgbm = grid_lgbm.predict(X_test)\n",
        "f1_test_lgbm = f1_score(y_test, predict_test_lgbm)\n",
        "\n",
        "display('F1 на тестовой выборке:', f1_test_lgbm)"
      ]
    },
    {
      "cell_type": "markdown",
      "metadata": {
        "id": "zSxCy-ukekv3"
      },
      "source": [
        "### 2.7 Вывод\n",
        "Подобраны лучшие гиперпараметры и обучены логистическая регрессиия, дерево решений, случайный лес, модель градиентного бустинга *LightGBMClassifier*.\n",
        "\n",
        "При использовании *TF-IDF* из рассмотренных моделей требуемое значение *F1* (не меньше 0,75) на обучающей выборке получено логистической регрессией и *LightGBMClassifier*. При этом лучшая метрика у последней.\n",
        "\n",
        "Константная модель даёт наихудшую метрику, значит, обученные модели адекватны.\n",
        "\n",
        "На тестовой выборке *LightGBMClassifier* получено значение F1 = 0,777, что также удовлетворяет условию."
      ]
    },
    {
      "cell_type": "markdown",
      "metadata": {
        "id": "hY_OodDj81vd"
      },
      "source": [
        "## 3 Обучение с *BERT*"
      ]
    },
    {
      "cell_type": "markdown",
      "metadata": {
        "id": "1nXIkPua8-cv"
      },
      "source": [
        "Подберём лучшие гиперпараметры и обучим логистическую регрессиию, дерево решений, случайный лес, модель градиентного бустинга *LightGBMClassifier*. Для проверки адекватности моделей обучим также константную модель.\n",
        "\n",
        "Для подбора лучших гиперпараметров используем *GridSearch*.\n",
        "\n",
        "Для обучения и подбора напишем собственную функцию."
      ]
    },
    {
      "cell_type": "code",
      "execution_count": 29,
      "metadata": {
        "id": "KCH8-i-Fekv5"
      },
      "outputs": [],
      "source": [
        "# создание функции для подбора параметров лучшей модели\n",
        "def pipeline_b(model, X, y, params):\n",
        "  '''\n",
        "  функция для подбора лучших гиперпараметров и обучения модели:\n",
        "  на вход принимает модель с параметрами, возвращает значения\n",
        "  F1 на обучающей и тестовой выборках, лучшую модель\n",
        "  и выводит на экран значения F1 и подобранные гиперпараметры\n",
        "  '''\n",
        "  pipe = Pipeline([('model', model)])\n",
        "  param = params\n",
        "\n",
        "  grid = GridSearchCV(pipe, param,\n",
        "                      scoring='f1',\n",
        "                      cv=3)\n",
        "  \n",
        "  grid.fit(X, y)\n",
        "\n",
        "  display('Лучшее значение F1:', grid.best_score_)\n",
        "  display('Лучшие параметры', grid.best_params_)\n",
        "  \n",
        "  return grid.best_score_, grid"
      ]
    },
    {
      "cell_type": "markdown",
      "metadata": {
        "id": "_7QBr_S4A7Jo"
      },
      "source": [
        "### Логистическая регрессия"
      ]
    },
    {
      "cell_type": "code",
      "execution_count": 30,
      "metadata": {
        "colab": {
          "base_uri": "https://localhost:8080/",
          "height": 125
        },
        "id": "5HpJDeE-N9hb",
        "outputId": "bcec1adc-c103-4363-ffdf-88734e7f0e32"
      },
      "outputs": [
        {
          "output_type": "display_data",
          "data": {
            "text/plain": [
              "'Лучшее значение F1:'"
            ],
            "application/vnd.google.colaboratory.intrinsic+json": {
              "type": "string"
            }
          },
          "metadata": {}
        },
        {
          "output_type": "display_data",
          "data": {
            "text/plain": [
              "0.6674523648932319"
            ]
          },
          "metadata": {}
        },
        {
          "output_type": "display_data",
          "data": {
            "text/plain": [
              "'Лучшие параметры'"
            ],
            "application/vnd.google.colaboratory.intrinsic+json": {
              "type": "string"
            }
          },
          "metadata": {}
        },
        {
          "output_type": "display_data",
          "data": {
            "text/plain": [
              "{'model__C': 1.0, 'model__max_iter': 400, 'model__solver': 'sag'}"
            ]
          },
          "metadata": {}
        },
        {
          "output_type": "stream",
          "name": "stdout",
          "text": [
            "CPU times: user 2min 3s, sys: 5.44 s, total: 2min 9s\n",
            "Wall time: 1min 57s\n"
          ]
        }
      ],
      "source": [
        "%%time\n",
        "# инициализация модели логистической регрессии\n",
        "model_lr_b = LogisticRegression(class_weight='balanced', random_state=rs)\n",
        "\n",
        "# установка диапазонов гиперпараметров\n",
        "param_lr_b = {'model__C': [0.5, 1.0],\n",
        "            'model__max_iter': [400, 500],\n",
        "            'model__solver': ['lbfgs', 'sag']}\n",
        "\n",
        "f1_train_lr_b, grid_lr_b = pipeline_b(model_lr_b, Xb_train, yb_train, param_lr_b)"
      ]
    },
    {
      "cell_type": "markdown",
      "metadata": {
        "id": "2greEZM5I4Vn"
      },
      "source": [
        "На обучающей выборке получено *F1* = 0,667. Значение не удовлетворяет условию (не меньше 0,75)."
      ]
    },
    {
      "cell_type": "markdown",
      "metadata": {
        "id": "kWkgC04mA-Rp"
      },
      "source": [
        "### Дерево решений"
      ]
    },
    {
      "cell_type": "code",
      "execution_count": 31,
      "metadata": {
        "colab": {
          "base_uri": "https://localhost:8080/",
          "height": 125
        },
        "id": "4dO43HBtOlw1",
        "outputId": "290c7f59-4596-4af0-a353-04b8abca2d0e",
        "scrolled": true
      },
      "outputs": [
        {
          "output_type": "display_data",
          "data": {
            "text/plain": [
              "'Лучшее значение F1:'"
            ],
            "application/vnd.google.colaboratory.intrinsic+json": {
              "type": "string"
            }
          },
          "metadata": {}
        },
        {
          "output_type": "display_data",
          "data": {
            "text/plain": [
              "0.49957140074030776"
            ]
          },
          "metadata": {}
        },
        {
          "output_type": "display_data",
          "data": {
            "text/plain": [
              "'Лучшие параметры'"
            ],
            "application/vnd.google.colaboratory.intrinsic+json": {
              "type": "string"
            }
          },
          "metadata": {}
        },
        {
          "output_type": "display_data",
          "data": {
            "text/plain": [
              "{'model__max_depth': 11, 'model__min_samples_leaf': 2}"
            ]
          },
          "metadata": {}
        },
        {
          "output_type": "stream",
          "name": "stdout",
          "text": [
            "CPU times: user 1min 40s, sys: 142 ms, total: 1min 40s\n",
            "Wall time: 1min 40s\n"
          ]
        }
      ],
      "source": [
        "%%time\n",
        "# инициализация модели дерева решений \n",
        "model_dt_b = DecisionTreeClassifier(class_weight='balanced', random_state=rs)\n",
        "\n",
        "# установка диапазонов гиперпараметров\n",
        "param_dt_b = {'model__max_depth': range(10, 20),\n",
        "            'model__min_samples_leaf': [2, 5]}\n",
        "\n",
        "f1_train_dt_b, grid_dt_b = pipeline_b(model_dt_b, Xb_train, yb_train, param_dt_b)"
      ]
    },
    {
      "cell_type": "markdown",
      "metadata": {
        "id": "dsCSUE_LI-MD"
      },
      "source": [
        "На обучающей выборке получено *F1* = 0,5. Значение не удовлетворяет условию (не меньше 0,75)."
      ]
    },
    {
      "cell_type": "markdown",
      "metadata": {
        "id": "lgfpgHA3BAri"
      },
      "source": [
        "### Случайный лес"
      ]
    },
    {
      "cell_type": "code",
      "execution_count": 32,
      "metadata": {
        "colab": {
          "base_uri": "https://localhost:8080/",
          "height": 125
        },
        "id": "3qH1Ffu7Py6_",
        "outputId": "675e4925-96a2-49c7-a247-f5d090bc3e70"
      },
      "outputs": [
        {
          "output_type": "display_data",
          "data": {
            "text/plain": [
              "'Лучшее значение F1:'"
            ],
            "application/vnd.google.colaboratory.intrinsic+json": {
              "type": "string"
            }
          },
          "metadata": {}
        },
        {
          "output_type": "display_data",
          "data": {
            "text/plain": [
              "0.6619736575669907"
            ]
          },
          "metadata": {}
        },
        {
          "output_type": "display_data",
          "data": {
            "text/plain": [
              "'Лучшие параметры'"
            ],
            "application/vnd.google.colaboratory.intrinsic+json": {
              "type": "string"
            }
          },
          "metadata": {}
        },
        {
          "output_type": "display_data",
          "data": {
            "text/plain": [
              "{'model__max_depth': 5, 'model__n_estimators': 45}"
            ]
          },
          "metadata": {}
        },
        {
          "output_type": "stream",
          "name": "stdout",
          "text": [
            "CPU times: user 28.6 s, sys: 72.7 ms, total: 28.6 s\n",
            "Wall time: 28.7 s\n"
          ]
        }
      ],
      "source": [
        "%%time\n",
        "# инициализация модели случайного леса\n",
        "model_rf_b = RandomForestClassifier(class_weight='balanced', random_state=rs)\n",
        "\n",
        "# установка диапазонов гиперпараметров\n",
        "param_rf_b = {'model__n_estimators': range(35, 46, 5),\n",
        "            'model__max_depth': range(3, 6)}\n",
        "\n",
        "f1_train_rf_b, grid_rf_b = pipeline_b(model_rf_b, Xb_train, yb_train, param_rf_b)"
      ]
    },
    {
      "cell_type": "markdown",
      "metadata": {
        "id": "6oz2qpkDJGWB"
      },
      "source": [
        "На обучающей выборке получено *F1* = 0,66. Значение не удовлетворяет условию (не меньше 0,75)."
      ]
    },
    {
      "cell_type": "markdown",
      "metadata": {
        "id": "vml35FxDBFYI"
      },
      "source": [
        "### *LightGBMClassifier*"
      ]
    },
    {
      "cell_type": "code",
      "execution_count": 33,
      "metadata": {
        "colab": {
          "base_uri": "https://localhost:8080/",
          "height": 125
        },
        "id": "7_zOOinwXwcV",
        "outputId": "a4b63a31-0f68-4bf8-97d2-98ae5d8f08d6"
      },
      "outputs": [
        {
          "output_type": "display_data",
          "data": {
            "text/plain": [
              "'Лучшее значение F1:'"
            ],
            "application/vnd.google.colaboratory.intrinsic+json": {
              "type": "string"
            }
          },
          "metadata": {}
        },
        {
          "output_type": "display_data",
          "data": {
            "text/plain": [
              "0.6659859430475678"
            ]
          },
          "metadata": {}
        },
        {
          "output_type": "display_data",
          "data": {
            "text/plain": [
              "'Лучшие параметры'"
            ],
            "application/vnd.google.colaboratory.intrinsic+json": {
              "type": "string"
            }
          },
          "metadata": {}
        },
        {
          "output_type": "display_data",
          "data": {
            "text/plain": [
              "{'model__max_depth': 1, 'model__n_estimators': 1300}"
            ]
          },
          "metadata": {}
        },
        {
          "output_type": "stream",
          "name": "stdout",
          "text": [
            "CPU times: user 3min 56s, sys: 634 ms, total: 3min 56s\n",
            "Wall time: 3min 59s\n"
          ]
        }
      ],
      "source": [
        "%%time\n",
        "# инициализация модели\n",
        "model_lgbm_b = LGBMClassifier(class_weight='balanced', random_state=rs)\n",
        "\n",
        "# установка диапазонов гиперпараметров\n",
        "param_lgbm_b = {'model__max_depth': range(1, 3),\n",
        "              'model__n_estimators': [1300, 1350]}\n",
        "\n",
        "f1_train_lgbm_b, grid_lgbm_b = pipeline_b(model_lgbm_b, Xb_train, yb_train, param_lgbm_b)"
      ]
    },
    {
      "cell_type": "markdown",
      "metadata": {
        "id": "Vyy7xLjVJJSx"
      },
      "source": [
        "На обучающей выборке получено *F1* = 0,666. Значение не удовлетворяет условию (не меньше 0,75)."
      ]
    },
    {
      "cell_type": "markdown",
      "metadata": {
        "id": "dZvdbmX3B1hI"
      },
      "source": [
        "### Константная модель"
      ]
    },
    {
      "cell_type": "code",
      "execution_count": 34,
      "metadata": {
        "colab": {
          "base_uri": "https://localhost:8080/",
          "height": 125
        },
        "id": "kL6Z6yNhBqY2",
        "outputId": "b7dab310-8edd-410f-8e57-7577e50d2fa7"
      },
      "outputs": [
        {
          "output_type": "display_data",
          "data": {
            "text/plain": [
              "'Лучшее значение F1:'"
            ],
            "application/vnd.google.colaboratory.intrinsic+json": {
              "type": "string"
            }
          },
          "metadata": {}
        },
        {
          "output_type": "display_data",
          "data": {
            "text/plain": [
              "0.18140488348642084"
            ]
          },
          "metadata": {}
        },
        {
          "output_type": "display_data",
          "data": {
            "text/plain": [
              "'Лучшие параметры'"
            ],
            "application/vnd.google.colaboratory.intrinsic+json": {
              "type": "string"
            }
          },
          "metadata": {}
        },
        {
          "output_type": "display_data",
          "data": {
            "text/plain": [
              "{'model__strategy': 'constant'}"
            ]
          },
          "metadata": {}
        },
        {
          "output_type": "stream",
          "name": "stdout",
          "text": [
            "CPU times: user 58.6 ms, sys: 3 ms, total: 61.6 ms\n",
            "Wall time: 82.2 ms\n"
          ]
        }
      ],
      "source": [
        "%%time\n",
        "# инициализация фиктивной модели\n",
        "model_dc_b = DummyClassifier(constant = 1)\n",
        "\n",
        "# установка диапазонов гиперпараметров\n",
        "param_dc_b = {'model__strategy': ['most_frequent', 'constant']}\n",
        "\n",
        "f1_train_dc_b, grid_dc_b = pipeline_b(model_dc_b, Xb_train, yb_train, param_dc_b)"
      ]
    },
    {
      "cell_type": "markdown",
      "metadata": {
        "id": "DyFH6PPJJQSv"
      },
      "source": [
        "На обучающей выборке получено *F1* = 0,181 при стратегии предсказания любой правки токсичной. Значение много меньше полученных рассмотренными моделями, значит, всё рассмотренные модели адекватны."
      ]
    },
    {
      "cell_type": "markdown",
      "metadata": {
        "id": "ryxYa1n_HIRb"
      },
      "source": [
        "### Вывод"
      ]
    },
    {
      "cell_type": "markdown",
      "metadata": {
        "id": "j8AJQ_fUJXKE"
      },
      "source": [
        "При использовании *BERT* c небольшой выборкой (5000 объектов) ни одна из рассмотренных моделей не показала требуемое качество. Наибольшее значение *F1* на обучающей выборке у логистической регрессии и *LightBGMClassifier*."
      ]
    },
    {
      "cell_type": "code",
      "execution_count": 35,
      "metadata": {
        "colab": {
          "base_uri": "https://localhost:8080/",
          "height": 206
        },
        "id": "ztqPIHGGHNtg",
        "outputId": "2473b89d-00aa-44d5-b3de-ceffe7b25959"
      },
      "outputs": [
        {
          "output_type": "display_data",
          "data": {
            "text/plain": [
              "               Модель  F1, обучающая выборка\n",
              "0  LogisticRegression               0.667452\n",
              "1        DecisionTree               0.499571\n",
              "2        RandomForest               0.661974\n",
              "3            LightGBM               0.665986\n",
              "4               Dummy               0.181405"
            ],
            "text/html": [
              "\n",
              "  <div id=\"df-9fbadf36-7376-46b9-8685-3c678b7dad39\">\n",
              "    <div class=\"colab-df-container\">\n",
              "      <div>\n",
              "<style scoped>\n",
              "    .dataframe tbody tr th:only-of-type {\n",
              "        vertical-align: middle;\n",
              "    }\n",
              "\n",
              "    .dataframe tbody tr th {\n",
              "        vertical-align: top;\n",
              "    }\n",
              "\n",
              "    .dataframe thead th {\n",
              "        text-align: right;\n",
              "    }\n",
              "</style>\n",
              "<table border=\"1\" class=\"dataframe\">\n",
              "  <thead>\n",
              "    <tr style=\"text-align: right;\">\n",
              "      <th></th>\n",
              "      <th>Модель</th>\n",
              "      <th>F1, обучающая выборка</th>\n",
              "    </tr>\n",
              "  </thead>\n",
              "  <tbody>\n",
              "    <tr>\n",
              "      <th>0</th>\n",
              "      <td>LogisticRegression</td>\n",
              "      <td>0.667452</td>\n",
              "    </tr>\n",
              "    <tr>\n",
              "      <th>1</th>\n",
              "      <td>DecisionTree</td>\n",
              "      <td>0.499571</td>\n",
              "    </tr>\n",
              "    <tr>\n",
              "      <th>2</th>\n",
              "      <td>RandomForest</td>\n",
              "      <td>0.661974</td>\n",
              "    </tr>\n",
              "    <tr>\n",
              "      <th>3</th>\n",
              "      <td>LightGBM</td>\n",
              "      <td>0.665986</td>\n",
              "    </tr>\n",
              "    <tr>\n",
              "      <th>4</th>\n",
              "      <td>Dummy</td>\n",
              "      <td>0.181405</td>\n",
              "    </tr>\n",
              "  </tbody>\n",
              "</table>\n",
              "</div>\n",
              "      <button class=\"colab-df-convert\" onclick=\"convertToInteractive('df-9fbadf36-7376-46b9-8685-3c678b7dad39')\"\n",
              "              title=\"Convert this dataframe to an interactive table.\"\n",
              "              style=\"display:none;\">\n",
              "        \n",
              "  <svg xmlns=\"http://www.w3.org/2000/svg\" height=\"24px\"viewBox=\"0 0 24 24\"\n",
              "       width=\"24px\">\n",
              "    <path d=\"M0 0h24v24H0V0z\" fill=\"none\"/>\n",
              "    <path d=\"M18.56 5.44l.94 2.06.94-2.06 2.06-.94-2.06-.94-.94-2.06-.94 2.06-2.06.94zm-11 1L8.5 8.5l.94-2.06 2.06-.94-2.06-.94L8.5 2.5l-.94 2.06-2.06.94zm10 10l.94 2.06.94-2.06 2.06-.94-2.06-.94-.94-2.06-.94 2.06-2.06.94z\"/><path d=\"M17.41 7.96l-1.37-1.37c-.4-.4-.92-.59-1.43-.59-.52 0-1.04.2-1.43.59L10.3 9.45l-7.72 7.72c-.78.78-.78 2.05 0 2.83L4 21.41c.39.39.9.59 1.41.59.51 0 1.02-.2 1.41-.59l7.78-7.78 2.81-2.81c.8-.78.8-2.07 0-2.86zM5.41 20L4 18.59l7.72-7.72 1.47 1.35L5.41 20z\"/>\n",
              "  </svg>\n",
              "      </button>\n",
              "      \n",
              "  <style>\n",
              "    .colab-df-container {\n",
              "      display:flex;\n",
              "      flex-wrap:wrap;\n",
              "      gap: 12px;\n",
              "    }\n",
              "\n",
              "    .colab-df-convert {\n",
              "      background-color: #E8F0FE;\n",
              "      border: none;\n",
              "      border-radius: 50%;\n",
              "      cursor: pointer;\n",
              "      display: none;\n",
              "      fill: #1967D2;\n",
              "      height: 32px;\n",
              "      padding: 0 0 0 0;\n",
              "      width: 32px;\n",
              "    }\n",
              "\n",
              "    .colab-df-convert:hover {\n",
              "      background-color: #E2EBFA;\n",
              "      box-shadow: 0px 1px 2px rgba(60, 64, 67, 0.3), 0px 1px 3px 1px rgba(60, 64, 67, 0.15);\n",
              "      fill: #174EA6;\n",
              "    }\n",
              "\n",
              "    [theme=dark] .colab-df-convert {\n",
              "      background-color: #3B4455;\n",
              "      fill: #D2E3FC;\n",
              "    }\n",
              "\n",
              "    [theme=dark] .colab-df-convert:hover {\n",
              "      background-color: #434B5C;\n",
              "      box-shadow: 0px 1px 3px 1px rgba(0, 0, 0, 0.15);\n",
              "      filter: drop-shadow(0px 1px 2px rgba(0, 0, 0, 0.3));\n",
              "      fill: #FFFFFF;\n",
              "    }\n",
              "  </style>\n",
              "\n",
              "      <script>\n",
              "        const buttonEl =\n",
              "          document.querySelector('#df-9fbadf36-7376-46b9-8685-3c678b7dad39 button.colab-df-convert');\n",
              "        buttonEl.style.display =\n",
              "          google.colab.kernel.accessAllowed ? 'block' : 'none';\n",
              "\n",
              "        async function convertToInteractive(key) {\n",
              "          const element = document.querySelector('#df-9fbadf36-7376-46b9-8685-3c678b7dad39');\n",
              "          const dataTable =\n",
              "            await google.colab.kernel.invokeFunction('convertToInteractive',\n",
              "                                                     [key], {});\n",
              "          if (!dataTable) return;\n",
              "\n",
              "          const docLinkHtml = 'Like what you see? Visit the ' +\n",
              "            '<a target=\"_blank\" href=https://colab.research.google.com/notebooks/data_table.ipynb>data table notebook</a>'\n",
              "            + ' to learn more about interactive tables.';\n",
              "          element.innerHTML = '';\n",
              "          dataTable['output_type'] = 'display_data';\n",
              "          await google.colab.output.renderOutput(dataTable, element);\n",
              "          const docLink = document.createElement('div');\n",
              "          docLink.innerHTML = docLinkHtml;\n",
              "          element.appendChild(docLink);\n",
              "        }\n",
              "      </script>\n",
              "    </div>\n",
              "  </div>\n",
              "  "
            ]
          },
          "metadata": {}
        }
      ],
      "source": [
        "# создание таблицы с показателями рассмотренных моделей\n",
        "result_b = pd.DataFrame(data=[['LogisticRegression', f1_train_lr_b],\n",
        "                            ['DecisionTree', f1_train_dt_b],\n",
        "                            ['RandomForest', f1_train_rf_b],\n",
        "                            ['LightGBM', f1_train_lgbm_b],\n",
        "                            ['Dummy', f1_train_dc_b]],\n",
        "                      columns=['Модель', 'F1, обучающая выборка'])\n",
        "display(result_b)"
      ]
    },
    {
      "cell_type": "markdown",
      "metadata": {
        "id": "C5KAWJUWDy2u"
      },
      "source": [
        "## Общий вывод\n",
        "1. В данных 159571 правка с разметкой о токсичности.\n",
        "\n",
        "- Данные несбалансированы: положительного класса почти в 9 раз меньше, чем отрицательного. Учтём это при обучении моделей с помощью балансировки классов.\n",
        "\n",
        "2. Произведена подготовка правок для обучения моделей:\n",
        "- лемматизация;\n",
        "- очистка текста от лишних символов и пробелов, оставлены только латиница и одиночные пробелы;\n",
        "- для модели *BERT* создана выборка из исходных данных длиной в 5000 правок, на оснвое которой созданы эмбединги.\n",
        "\n",
        "3. Созданы новые переменные:\n",
        "- лемматизированный и очищенный текст - признак для обучения с *TF-IDF*;\n",
        "- эмбеддинги - признак для обучения с *BERT*;\n",
        "- метки о токсичности - целевой признак.\n",
        "\n",
        "4. Произведена разбивка переменных на обучающую и тестовую выборки в соотношении 4:1. Добавлена стратификация по целевому признаку, потому что классы не сбалансированы.\n",
        "\n",
        "5. Подобраны лучшие гиперпараметры и обучены логистическая регрессиия, дерево решений, случайный лес, модель градиентного бустинга *LightGBMClassifier*.\n",
        "\n",
        "6. Из рассмотренных моделей требуемое значение *F1* (не меньше 0,75) на обучающей выборке получено при использовании *TF-IDF* логистической регрессией и *LightGBMClassifier*. При этом лучшая метрика у последней.\n",
        "\n",
        "- При использовании *BERT* c небольшой выборкой (5000 объектов) ни одна из рассмотренных моделей не показала требуемое качество.\n",
        "\n",
        "- Константная модель показывает метрику много меньше полученных рассмотренными моделями, значит, они адекватны.\n",
        "\n",
        "- На тестовой выборке у *LightGBMClassifier* *F1* = 0,777. Значит, для анализа токсичности правок можно рекомендовать эту модель с 600 деревьями и с глубиной дерева, равной 20."
      ]
    }
  ],
  "metadata": {
    "ExecuteTimeLog": [
      {
        "duration": 60,
        "start_time": "2022-06-03T19:54:02.129Z"
      }
    ],
    "accelerator": "GPU",
    "colab": {
      "collapsed_sections": [],
      "provenance": [],
      "toc_visible": true
    },
    "kernelspec": {
      "display_name": "Python 3 (ipykernel)",
      "language": "python",
      "name": "python3"
    },
    "language_info": {
      "codemirror_mode": {
        "name": "ipython",
        "version": 3
      },
      "file_extension": ".py",
      "mimetype": "text/x-python",
      "name": "python",
      "nbconvert_exporter": "python",
      "pygments_lexer": "ipython3",
      "version": "3.7.3"
    },
    "toc": {
      "base_numbering": 1,
      "nav_menu": {},
      "number_sections": true,
      "sideBar": true,
      "skip_h1_title": true,
      "title_cell": "Содержание",
      "title_sidebar": "Contents",
      "toc_cell": true,
      "toc_position": {
        "height": "calc(100% - 180px)",
        "left": "10px",
        "top": "150px",
        "width": "302.391px"
      },
      "toc_section_display": true,
      "toc_window_display": true
    },
    "varInspector": {
      "cols": {
        "lenName": 16,
        "lenType": 16,
        "lenVar": 40
      },
      "kernels_config": {
        "python": {
          "delete_cmd_postfix": "",
          "delete_cmd_prefix": "del ",
          "library": "var_list.py",
          "varRefreshCmd": "print(var_dic_list())"
        },
        "r": {
          "delete_cmd_postfix": ") ",
          "delete_cmd_prefix": "rm(",
          "library": "var_list.r",
          "varRefreshCmd": "cat(var_dic_list()) "
        }
      },
      "types_to_exclude": [
        "module",
        "function",
        "builtin_function_or_method",
        "instance",
        "_Feature"
      ],
      "window_display": false
    },
    "widgets": {
      "application/vnd.jupyter.widget-state+json": {
        "ee40158984ea42e494289b0240531922": {
          "model_module": "@jupyter-widgets/controls",
          "model_name": "HBoxModel",
          "model_module_version": "1.5.0",
          "state": {
            "_dom_classes": [],
            "_model_module": "@jupyter-widgets/controls",
            "_model_module_version": "1.5.0",
            "_model_name": "HBoxModel",
            "_view_count": null,
            "_view_module": "@jupyter-widgets/controls",
            "_view_module_version": "1.5.0",
            "_view_name": "HBoxView",
            "box_style": "",
            "children": [
              "IPY_MODEL_cd46bde6e5ae4f5fabed78cddef63766",
              "IPY_MODEL_511a13be971b4ef09ab4ddf8e845ace4",
              "IPY_MODEL_b2c2ede3ed374496a7faef0b8e5b8b43"
            ],
            "layout": "IPY_MODEL_f78345cfb6b442fda893927b6cfb9115"
          }
        },
        "cd46bde6e5ae4f5fabed78cddef63766": {
          "model_module": "@jupyter-widgets/controls",
          "model_name": "HTMLModel",
          "model_module_version": "1.5.0",
          "state": {
            "_dom_classes": [],
            "_model_module": "@jupyter-widgets/controls",
            "_model_module_version": "1.5.0",
            "_model_name": "HTMLModel",
            "_view_count": null,
            "_view_module": "@jupyter-widgets/controls",
            "_view_module_version": "1.5.0",
            "_view_name": "HTMLView",
            "description": "",
            "description_tooltip": null,
            "layout": "IPY_MODEL_31422d5541984e5fb79ca64c594f5534",
            "placeholder": "​",
            "style": "IPY_MODEL_63aa7491cbbf457ca0b15e8b7cc05060",
            "value": "100%"
          }
        },
        "511a13be971b4ef09ab4ddf8e845ace4": {
          "model_module": "@jupyter-widgets/controls",
          "model_name": "FloatProgressModel",
          "model_module_version": "1.5.0",
          "state": {
            "_dom_classes": [],
            "_model_module": "@jupyter-widgets/controls",
            "_model_module_version": "1.5.0",
            "_model_name": "FloatProgressModel",
            "_view_count": null,
            "_view_module": "@jupyter-widgets/controls",
            "_view_module_version": "1.5.0",
            "_view_name": "ProgressView",
            "bar_style": "success",
            "description": "",
            "description_tooltip": null,
            "layout": "IPY_MODEL_2e7003eb213a4bfebeb5fc6c38b55431",
            "max": 100,
            "min": 0,
            "orientation": "horizontal",
            "style": "IPY_MODEL_98d79e0e0e574336b86214e0c03ac40d",
            "value": 100
          }
        },
        "b2c2ede3ed374496a7faef0b8e5b8b43": {
          "model_module": "@jupyter-widgets/controls",
          "model_name": "HTMLModel",
          "model_module_version": "1.5.0",
          "state": {
            "_dom_classes": [],
            "_model_module": "@jupyter-widgets/controls",
            "_model_module_version": "1.5.0",
            "_model_name": "HTMLModel",
            "_view_count": null,
            "_view_module": "@jupyter-widgets/controls",
            "_view_module_version": "1.5.0",
            "_view_name": "HTMLView",
            "description": "",
            "description_tooltip": null,
            "layout": "IPY_MODEL_3a53b66cd8344e65a23248254c26ef7f",
            "placeholder": "​",
            "style": "IPY_MODEL_78fb7b7613b54d82a13c03a3accc166e",
            "value": " 100/100 [01:33&lt;00:00,  1.11it/s]"
          }
        },
        "f78345cfb6b442fda893927b6cfb9115": {
          "model_module": "@jupyter-widgets/base",
          "model_name": "LayoutModel",
          "model_module_version": "1.2.0",
          "state": {
            "_model_module": "@jupyter-widgets/base",
            "_model_module_version": "1.2.0",
            "_model_name": "LayoutModel",
            "_view_count": null,
            "_view_module": "@jupyter-widgets/base",
            "_view_module_version": "1.2.0",
            "_view_name": "LayoutView",
            "align_content": null,
            "align_items": null,
            "align_self": null,
            "border": null,
            "bottom": null,
            "display": null,
            "flex": null,
            "flex_flow": null,
            "grid_area": null,
            "grid_auto_columns": null,
            "grid_auto_flow": null,
            "grid_auto_rows": null,
            "grid_column": null,
            "grid_gap": null,
            "grid_row": null,
            "grid_template_areas": null,
            "grid_template_columns": null,
            "grid_template_rows": null,
            "height": null,
            "justify_content": null,
            "justify_items": null,
            "left": null,
            "margin": null,
            "max_height": null,
            "max_width": null,
            "min_height": null,
            "min_width": null,
            "object_fit": null,
            "object_position": null,
            "order": null,
            "overflow": null,
            "overflow_x": null,
            "overflow_y": null,
            "padding": null,
            "right": null,
            "top": null,
            "visibility": null,
            "width": null
          }
        },
        "31422d5541984e5fb79ca64c594f5534": {
          "model_module": "@jupyter-widgets/base",
          "model_name": "LayoutModel",
          "model_module_version": "1.2.0",
          "state": {
            "_model_module": "@jupyter-widgets/base",
            "_model_module_version": "1.2.0",
            "_model_name": "LayoutModel",
            "_view_count": null,
            "_view_module": "@jupyter-widgets/base",
            "_view_module_version": "1.2.0",
            "_view_name": "LayoutView",
            "align_content": null,
            "align_items": null,
            "align_self": null,
            "border": null,
            "bottom": null,
            "display": null,
            "flex": null,
            "flex_flow": null,
            "grid_area": null,
            "grid_auto_columns": null,
            "grid_auto_flow": null,
            "grid_auto_rows": null,
            "grid_column": null,
            "grid_gap": null,
            "grid_row": null,
            "grid_template_areas": null,
            "grid_template_columns": null,
            "grid_template_rows": null,
            "height": null,
            "justify_content": null,
            "justify_items": null,
            "left": null,
            "margin": null,
            "max_height": null,
            "max_width": null,
            "min_height": null,
            "min_width": null,
            "object_fit": null,
            "object_position": null,
            "order": null,
            "overflow": null,
            "overflow_x": null,
            "overflow_y": null,
            "padding": null,
            "right": null,
            "top": null,
            "visibility": null,
            "width": null
          }
        },
        "63aa7491cbbf457ca0b15e8b7cc05060": {
          "model_module": "@jupyter-widgets/controls",
          "model_name": "DescriptionStyleModel",
          "model_module_version": "1.5.0",
          "state": {
            "_model_module": "@jupyter-widgets/controls",
            "_model_module_version": "1.5.0",
            "_model_name": "DescriptionStyleModel",
            "_view_count": null,
            "_view_module": "@jupyter-widgets/base",
            "_view_module_version": "1.2.0",
            "_view_name": "StyleView",
            "description_width": ""
          }
        },
        "2e7003eb213a4bfebeb5fc6c38b55431": {
          "model_module": "@jupyter-widgets/base",
          "model_name": "LayoutModel",
          "model_module_version": "1.2.0",
          "state": {
            "_model_module": "@jupyter-widgets/base",
            "_model_module_version": "1.2.0",
            "_model_name": "LayoutModel",
            "_view_count": null,
            "_view_module": "@jupyter-widgets/base",
            "_view_module_version": "1.2.0",
            "_view_name": "LayoutView",
            "align_content": null,
            "align_items": null,
            "align_self": null,
            "border": null,
            "bottom": null,
            "display": null,
            "flex": null,
            "flex_flow": null,
            "grid_area": null,
            "grid_auto_columns": null,
            "grid_auto_flow": null,
            "grid_auto_rows": null,
            "grid_column": null,
            "grid_gap": null,
            "grid_row": null,
            "grid_template_areas": null,
            "grid_template_columns": null,
            "grid_template_rows": null,
            "height": null,
            "justify_content": null,
            "justify_items": null,
            "left": null,
            "margin": null,
            "max_height": null,
            "max_width": null,
            "min_height": null,
            "min_width": null,
            "object_fit": null,
            "object_position": null,
            "order": null,
            "overflow": null,
            "overflow_x": null,
            "overflow_y": null,
            "padding": null,
            "right": null,
            "top": null,
            "visibility": null,
            "width": null
          }
        },
        "98d79e0e0e574336b86214e0c03ac40d": {
          "model_module": "@jupyter-widgets/controls",
          "model_name": "ProgressStyleModel",
          "model_module_version": "1.5.0",
          "state": {
            "_model_module": "@jupyter-widgets/controls",
            "_model_module_version": "1.5.0",
            "_model_name": "ProgressStyleModel",
            "_view_count": null,
            "_view_module": "@jupyter-widgets/base",
            "_view_module_version": "1.2.0",
            "_view_name": "StyleView",
            "bar_color": null,
            "description_width": ""
          }
        },
        "3a53b66cd8344e65a23248254c26ef7f": {
          "model_module": "@jupyter-widgets/base",
          "model_name": "LayoutModel",
          "model_module_version": "1.2.0",
          "state": {
            "_model_module": "@jupyter-widgets/base",
            "_model_module_version": "1.2.0",
            "_model_name": "LayoutModel",
            "_view_count": null,
            "_view_module": "@jupyter-widgets/base",
            "_view_module_version": "1.2.0",
            "_view_name": "LayoutView",
            "align_content": null,
            "align_items": null,
            "align_self": null,
            "border": null,
            "bottom": null,
            "display": null,
            "flex": null,
            "flex_flow": null,
            "grid_area": null,
            "grid_auto_columns": null,
            "grid_auto_flow": null,
            "grid_auto_rows": null,
            "grid_column": null,
            "grid_gap": null,
            "grid_row": null,
            "grid_template_areas": null,
            "grid_template_columns": null,
            "grid_template_rows": null,
            "height": null,
            "justify_content": null,
            "justify_items": null,
            "left": null,
            "margin": null,
            "max_height": null,
            "max_width": null,
            "min_height": null,
            "min_width": null,
            "object_fit": null,
            "object_position": null,
            "order": null,
            "overflow": null,
            "overflow_x": null,
            "overflow_y": null,
            "padding": null,
            "right": null,
            "top": null,
            "visibility": null,
            "width": null
          }
        },
        "78fb7b7613b54d82a13c03a3accc166e": {
          "model_module": "@jupyter-widgets/controls",
          "model_name": "DescriptionStyleModel",
          "model_module_version": "1.5.0",
          "state": {
            "_model_module": "@jupyter-widgets/controls",
            "_model_module_version": "1.5.0",
            "_model_name": "DescriptionStyleModel",
            "_view_count": null,
            "_view_module": "@jupyter-widgets/base",
            "_view_module_version": "1.2.0",
            "_view_name": "StyleView",
            "description_width": ""
          }
        }
      }
    },
    "gpuClass": "standard"
  },
  "nbformat": 4,
  "nbformat_minor": 0
}